{
 "cells": [
  {
   "cell_type": "code",
   "execution_count": 4,
   "metadata": {},
   "outputs": [],
   "source": [
    "import matplotlib.pyplot as plt\n",
    "import requests\n",
    "import json\n",
    "from scipy import stats\n",
    "import pandas as pd\n",
    "from pprint import pprint\n",
    "import yfinance as yf"
   ]
  },
  {
   "cell_type": "code",
   "execution_count": 8,
   "metadata": {},
   "outputs": [
    {
     "name": "stdout",
     "output_type": "stream",
     "text": [
      "   Ticker                                               Name\n",
      "0    NCSM                        NCS MULTISTAGE HOLDINGS INC\n",
      "1    REPX                      RILEY EXPLORATION PERMIAN INC\n",
      "2    UTME                                          UTIME LTD\n",
      "3    PRVB                                 PROVENTION BIO INC\n",
      "4    CELC                                       CELCUITY INC\n",
      "5     MRM  MEDIROM HEALTHCARE TECHNOLOGIES INC SPON ADS E...\n",
      "6     BTX                   BROOKLYN IMMUNO THERAPEUTICS INC\n",
      "7    CMMB  CHEMOMAB THERAPEUTICS LTD SPON ADS EACH REP 20...\n",
      "8    GOVX                                    GEOVAX LABS INC\n",
      "9    GLSI                         GREENWICH LIFESCIENCES INC\n",
      "10   TENX                             TENAX THERAPEUTICS INC\n",
      "11   FKWL                      FRANKLIN WIRELESS CORPORATION\n",
      "12   NVOS                       NOVO INTEGRATED SCIENCES INC\n",
      "13    CGA                        CHINA GREEN AGRICULTURE INC\n",
      "14   AFMD                                        AFFIMED N V\n",
      "15   AMTI                    APPLIED MOLECULAR TRANSPORT INC\n",
      "16   ICCH                                   ICC HOLDINGS INC\n",
      "17   EYES                  SECOND SIGHT MEDICAL PRODUCTS INC\n",
      "18   BNSO                    BONSO ELECTRONICS INTERNATIONAL\n",
      "19   ITRM                            ITERUM THERAPEUTICS PLC\n",
      "20   VRPX                                  VIRPAX PHARMA INC\n",
      "21    BBQ                                   BBQ HOLDINGS INC\n",
      "['NCSM', 'REPX', 'UTME', 'PRVB', 'CELC', 'MRM', 'BTX', 'CMMB', 'GOVX', 'GLSI', 'TENX', 'FKWL', 'NVOS', 'CGA', 'AFMD', 'AMTI', 'ICCH', 'EYES', 'BNSO', 'ITRM', 'VRPX', 'BBQ']\n"
     ]
    }
   ],
   "source": [
    "url = \"https://www.tradingview.com/markets/stocks-usa/market-movers-most-volatile/\"\n",
    "\n",
    "df = pd.read_html(url)\n",
    "df1 = pd.DataFrame(df[0])\n",
    "ticker_list = list(df1[\"Unnamed: 0\"])\n",
    "\n",
    "ticker_list = ticker_list[0:24]\n",
    "ticker_dict = {}\n",
    "\n",
    "for i in ticker_list:\n",
    "    try:\n",
    "        data_list = i.split(\"  \", 2)\n",
    "        tick = data_list[1]\n",
    "        name = data_list[2]\n",
    "        ticker_dict[tick]= name\n",
    "    except:\n",
    "        pass\n",
    "\n",
    "df2 = pd.DataFrame.from_dict(ticker_dict, orient='index',columns=['Name'])\n",
    "df2.reset_index(inplace=True)\n",
    "df2 = df2.rename(columns = {'index':'Ticker'})\n",
    "print (df2)\n",
    "\n",
    "companies = list(df2[\"Ticker\"])\n",
    "print (companies)"
   ]
  },
  {
   "cell_type": "code",
   "execution_count": 10,
   "metadata": {},
   "outputs": [
    {
     "name": "stdout",
     "output_type": "stream",
     "text": [
      "[*********************100%***********************]  22 of 22 completed\n",
      "                  Open        High         Low       Close  Volume\n",
      "Date                                                              \n",
      "2019-04-10  103.599998  104.599998  100.400002  101.800003    8840\n",
      "2019-04-11  102.000000  106.500000  102.000000  105.199997    2755\n",
      "2019-04-12  107.400002  107.400002  104.000000  105.199997    2300\n",
      "2019-04-15  105.000000  107.440002   99.599998  103.000000    2770\n",
      "2019-04-16  103.199997  104.199997  101.000000  103.199997    4870\n",
      "...                ...         ...         ...         ...     ...\n",
      "2021-04-05   27.150000   27.150000   26.000000   26.040001    1600\n",
      "2021-04-06   25.840000   25.840000   24.260000   24.260000     600\n",
      "2021-04-07   25.010000   25.010000   24.500000   25.000000    7700\n",
      "2021-04-08   25.087000   27.292999   24.690001   24.690001    7100\n",
      "2021-04-09   27.000000   47.970001   27.000000   28.000000  750100\n",
      "\n",
      "[504 rows x 5 columns]\n"
     ]
    }
   ],
   "source": [
    "tickerdf = yf.download(tickers = companies,period = '2y',group_by = 'ticker',auto_adjust = True)\n",
    "\n",
    "print(tickerdf['NCSM'])"
   ]
  }
 ],
 "metadata": {
  "kernelspec": {
   "display_name": "Python [conda env:ComeOnBaby] *",
   "language": "python",
   "name": "conda-env-ComeOnBaby-py"
  },
  "language_info": {
   "codemirror_mode": {
    "name": "ipython",
    "version": 3
   },
   "file_extension": ".py",
   "mimetype": "text/x-python",
   "name": "python",
   "nbconvert_exporter": "python",
   "pygments_lexer": "ipython3",
   "version": "3.6.10"
  }
 },
 "nbformat": 4,
 "nbformat_minor": 4
}
