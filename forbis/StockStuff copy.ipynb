{
 "cells": [
  {
   "cell_type": "code",
   "execution_count": 8,
   "metadata": {},
   "outputs": [],
   "source": [
    "import matplotlib.pyplot as plt\n",
    "import requests\n",
    "import json\n",
    "from scipy import stats\n",
    "import pandas as pd\n",
    "from pprint import pprint\n",
    "import yfinance as yf\n",
    "from get_all_tickers import get_tickers as gt\n",
    "import csv\n",
    "from datetime import date\n",
    "from dateutil.relativedelta import relativedelta"
   ]
  },
  {
   "cell_type": "code",
   "execution_count": 9,
   "metadata": {},
   "outputs": [
    {
     "output_type": "stream",
     "name": "stdout",
     "text": [
      "   Ticker                                               Name\n0    NCSM                        NCS MULTISTAGE HOLDINGS INC\n1    REPX                      RILEY EXPLORATION PERMIAN INC\n2    UTME                                          UTIME LTD\n3    PRVB                                 PROVENTION BIO INC\n4    CELC                                       CELCUITY INC\n5     MRM  MEDIROM HEALTHCARE TECHNOLOGIES INC SPON ADS E...\n6     BTX                   BROOKLYN IMMUNO THERAPEUTICS INC\n7    CMMB  CHEMOMAB THERAPEUTICS LTD SPON ADS EACH REP 20...\n8    GOVX                                    GEOVAX LABS INC\n9    GLSI                         GREENWICH LIFESCIENCES INC\n10   TENX                             TENAX THERAPEUTICS INC\n11   FKWL                      FRANKLIN WIRELESS CORPORATION\n12   NVOS                       NOVO INTEGRATED SCIENCES INC\n13    CGA                        CHINA GREEN AGRICULTURE INC\n14   AFMD                                        AFFIMED N V\n15   AMTI                    APPLIED MOLECULAR TRANSPORT INC\n16   ICCH                                   ICC HOLDINGS INC\n17   EYES                  SECOND SIGHT MEDICAL PRODUCTS INC\n18   BNSO                    BONSO ELECTRONICS INTERNATIONAL\n19   ITRM                            ITERUM THERAPEUTICS PLC\n20   VRPX                                  VIRPAX PHARMA INC\n21    BBQ                                   BBQ HOLDINGS INC\n"
     ]
    }
   ],
   "source": [
    "url = \"https://www.tradingview.com/markets/stocks-usa/market-movers-most-volatile/\"\n",
    "\n",
    "df = pd.read_html(url)\n",
    "df1 = pd.DataFrame(df[0])\n",
    "ticker_list = list(df1[\"Unnamed: 0\"])\n",
    "\n",
    "ticker_list = ticker_list[0:24]\n",
    "ticker_dict = {}\n",
    "\n",
    "for i in ticker_list:\n",
    "    try:\n",
    "        data_list = i.split(\"  \", 2)\n",
    "        tick = data_list[1]\n",
    "        name = data_list[2]\n",
    "        ticker_dict[tick]= name\n",
    "    except:\n",
    "        pass\n",
    "\n",
    "df2 = pd.DataFrame.from_dict(ticker_dict, orient='index',columns=['Name'])\n",
    "df2.reset_index(inplace=True)\n",
    "df2 = df2.rename(columns = {'index':'Ticker'})\n",
    "print (df2)\n",
    "\n",
    "companies = list(df2[\"Ticker\"])"
   ]
  },
  {
   "cell_type": "code",
   "execution_count": 10,
   "metadata": {},
   "outputs": [
    {
     "output_type": "stream",
     "name": "stdout",
     "text": [
      "['NCSM', 'REPX', 'UTME', 'PRVB', 'CELC', 'MRM', 'BTX', 'CMMB', 'GOVX', 'GLSI', 'TENX', 'FKWL', 'NVOS', 'CGA', 'AFMD', 'AMTI', 'ICCH', 'EYES', 'BNSO', 'ITRM', 'VRPX', 'BBQ']\n"
     ]
    }
   ],
   "source": [
    "print(companies)"
   ]
  },
  {
   "cell_type": "code",
   "execution_count": 11,
   "metadata": {},
   "outputs": [
    {
     "output_type": "stream",
     "name": "stdout",
     "text": [
      "[*********************100%***********************]  22 of 22 completed\n"
     ]
    },
    {
     "output_type": "execute_result",
     "data": {
      "text/plain": [
       "             GOVX                                  MRM                         \\\n",
       "             Open  High   Low Close      Volume   Open    High     Low  Close   \n",
       "Date                                                                            \n",
       "1989-06-27    NaN   NaN   NaN   NaN         NaN    NaN     NaN     NaN    NaN   \n",
       "1989-06-28    NaN   NaN   NaN   NaN         NaN    NaN     NaN     NaN    NaN   \n",
       "1989-06-29    NaN   NaN   NaN   NaN         NaN    NaN     NaN     NaN    NaN   \n",
       "1989-06-30    NaN   NaN   NaN   NaN         NaN    NaN     NaN     NaN    NaN   \n",
       "1989-07-03    NaN   NaN   NaN   NaN         NaN    NaN     NaN     NaN    NaN   \n",
       "...           ...   ...   ...   ...         ...    ...     ...     ...    ...   \n",
       "2021-04-05  4.580  4.58  4.29  4.34    483600.0  11.50  11.500  11.085  11.29   \n",
       "2021-04-06  4.300  4.73  4.14  4.32   1244100.0  11.54  11.540  11.050  11.05   \n",
       "2021-04-07  4.250  4.75  4.21  4.58   1053600.0  11.99  11.990  11.250  11.25   \n",
       "2021-04-08  4.580  4.66  4.26  4.44    424900.0  11.94  11.940  11.600  11.60   \n",
       "2021-04-09  4.737  6.19  4.51  4.71  22377400.0  12.00  16.204  10.700  10.85   \n",
       "\n",
       "                      ...  TENX                                 BTX        \\\n",
       "              Volume  ...  Open  High   Low Close      Volume  Open  High   \n",
       "Date                  ...                                                   \n",
       "1989-06-27       NaN  ...   NaN   NaN   NaN   NaN         NaN   NaN   NaN   \n",
       "1989-06-28       NaN  ...   NaN   NaN   NaN   NaN         NaN   NaN   NaN   \n",
       "1989-06-29       NaN  ...   NaN   NaN   NaN   NaN         NaN   NaN   NaN   \n",
       "1989-06-30       NaN  ...   NaN   NaN   NaN   NaN         NaN   NaN   NaN   \n",
       "1989-07-03       NaN  ...   NaN   NaN   NaN   NaN         NaN   NaN   NaN   \n",
       "...              ...  ...   ...   ...   ...   ...         ...   ...   ...   \n",
       "2021-04-05    3100.0  ...  1.88  1.94  1.72  1.75    316800.0  3.92  4.67   \n",
       "2021-04-06    3300.0  ...  1.76  1.86  1.76  1.81    128500.0  8.35  8.53   \n",
       "2021-04-07    2200.0  ...  1.85  1.89  1.76  1.80    130100.0  5.85  5.86   \n",
       "2021-04-08   12700.0  ...  1.79  1.80  1.71  1.78    221100.0  5.58  5.58   \n",
       "2021-04-09  960300.0  ...  2.09  2.47  2.03  2.08  65789200.0  4.86  7.10   \n",
       "\n",
       "                                    \n",
       "             Low Close      Volume  \n",
       "Date                                \n",
       "1989-06-27   NaN   NaN         NaN  \n",
       "1989-06-28   NaN   NaN         NaN  \n",
       "1989-06-29   NaN   NaN         NaN  \n",
       "1989-06-30   NaN   NaN         NaN  \n",
       "1989-07-03   NaN   NaN         NaN  \n",
       "...          ...   ...         ...  \n",
       "2021-04-05  3.85  4.67   8551200.0  \n",
       "2021-04-06  5.80  6.07  44567800.0  \n",
       "2021-04-07  5.05  5.75   2203300.0  \n",
       "2021-04-08  5.01  5.14    766300.0  \n",
       "2021-04-09  4.86  6.43   4681400.0  \n",
       "\n",
       "[8009 rows x 110 columns]"
      ],
      "text/html": "<div>\n<style scoped>\n    .dataframe tbody tr th:only-of-type {\n        vertical-align: middle;\n    }\n\n    .dataframe tbody tr th {\n        vertical-align: top;\n    }\n\n    .dataframe thead tr th {\n        text-align: left;\n    }\n\n    .dataframe thead tr:last-of-type th {\n        text-align: right;\n    }\n</style>\n<table border=\"1\" class=\"dataframe\">\n  <thead>\n    <tr>\n      <th></th>\n      <th colspan=\"5\" halign=\"left\">GOVX</th>\n      <th colspan=\"5\" halign=\"left\">MRM</th>\n      <th>...</th>\n      <th colspan=\"5\" halign=\"left\">TENX</th>\n      <th colspan=\"5\" halign=\"left\">BTX</th>\n    </tr>\n    <tr>\n      <th></th>\n      <th>Open</th>\n      <th>High</th>\n      <th>Low</th>\n      <th>Close</th>\n      <th>Volume</th>\n      <th>Open</th>\n      <th>High</th>\n      <th>Low</th>\n      <th>Close</th>\n      <th>Volume</th>\n      <th>...</th>\n      <th>Open</th>\n      <th>High</th>\n      <th>Low</th>\n      <th>Close</th>\n      <th>Volume</th>\n      <th>Open</th>\n      <th>High</th>\n      <th>Low</th>\n      <th>Close</th>\n      <th>Volume</th>\n    </tr>\n    <tr>\n      <th>Date</th>\n      <th></th>\n      <th></th>\n      <th></th>\n      <th></th>\n      <th></th>\n      <th></th>\n      <th></th>\n      <th></th>\n      <th></th>\n      <th></th>\n      <th></th>\n      <th></th>\n      <th></th>\n      <th></th>\n      <th></th>\n      <th></th>\n      <th></th>\n      <th></th>\n      <th></th>\n      <th></th>\n      <th></th>\n    </tr>\n  </thead>\n  <tbody>\n    <tr>\n      <th>1989-06-27</th>\n      <td>NaN</td>\n      <td>NaN</td>\n      <td>NaN</td>\n      <td>NaN</td>\n      <td>NaN</td>\n      <td>NaN</td>\n      <td>NaN</td>\n      <td>NaN</td>\n      <td>NaN</td>\n      <td>NaN</td>\n      <td>...</td>\n      <td>NaN</td>\n      <td>NaN</td>\n      <td>NaN</td>\n      <td>NaN</td>\n      <td>NaN</td>\n      <td>NaN</td>\n      <td>NaN</td>\n      <td>NaN</td>\n      <td>NaN</td>\n      <td>NaN</td>\n    </tr>\n    <tr>\n      <th>1989-06-28</th>\n      <td>NaN</td>\n      <td>NaN</td>\n      <td>NaN</td>\n      <td>NaN</td>\n      <td>NaN</td>\n      <td>NaN</td>\n      <td>NaN</td>\n      <td>NaN</td>\n      <td>NaN</td>\n      <td>NaN</td>\n      <td>...</td>\n      <td>NaN</td>\n      <td>NaN</td>\n      <td>NaN</td>\n      <td>NaN</td>\n      <td>NaN</td>\n      <td>NaN</td>\n      <td>NaN</td>\n      <td>NaN</td>\n      <td>NaN</td>\n      <td>NaN</td>\n    </tr>\n    <tr>\n      <th>1989-06-29</th>\n      <td>NaN</td>\n      <td>NaN</td>\n      <td>NaN</td>\n      <td>NaN</td>\n      <td>NaN</td>\n      <td>NaN</td>\n      <td>NaN</td>\n      <td>NaN</td>\n      <td>NaN</td>\n      <td>NaN</td>\n      <td>...</td>\n      <td>NaN</td>\n      <td>NaN</td>\n      <td>NaN</td>\n      <td>NaN</td>\n      <td>NaN</td>\n      <td>NaN</td>\n      <td>NaN</td>\n      <td>NaN</td>\n      <td>NaN</td>\n      <td>NaN</td>\n    </tr>\n    <tr>\n      <th>1989-06-30</th>\n      <td>NaN</td>\n      <td>NaN</td>\n      <td>NaN</td>\n      <td>NaN</td>\n      <td>NaN</td>\n      <td>NaN</td>\n      <td>NaN</td>\n      <td>NaN</td>\n      <td>NaN</td>\n      <td>NaN</td>\n      <td>...</td>\n      <td>NaN</td>\n      <td>NaN</td>\n      <td>NaN</td>\n      <td>NaN</td>\n      <td>NaN</td>\n      <td>NaN</td>\n      <td>NaN</td>\n      <td>NaN</td>\n      <td>NaN</td>\n      <td>NaN</td>\n    </tr>\n    <tr>\n      <th>1989-07-03</th>\n      <td>NaN</td>\n      <td>NaN</td>\n      <td>NaN</td>\n      <td>NaN</td>\n      <td>NaN</td>\n      <td>NaN</td>\n      <td>NaN</td>\n      <td>NaN</td>\n      <td>NaN</td>\n      <td>NaN</td>\n      <td>...</td>\n      <td>NaN</td>\n      <td>NaN</td>\n      <td>NaN</td>\n      <td>NaN</td>\n      <td>NaN</td>\n      <td>NaN</td>\n      <td>NaN</td>\n      <td>NaN</td>\n      <td>NaN</td>\n      <td>NaN</td>\n    </tr>\n    <tr>\n      <th>...</th>\n      <td>...</td>\n      <td>...</td>\n      <td>...</td>\n      <td>...</td>\n      <td>...</td>\n      <td>...</td>\n      <td>...</td>\n      <td>...</td>\n      <td>...</td>\n      <td>...</td>\n      <td>...</td>\n      <td>...</td>\n      <td>...</td>\n      <td>...</td>\n      <td>...</td>\n      <td>...</td>\n      <td>...</td>\n      <td>...</td>\n      <td>...</td>\n      <td>...</td>\n      <td>...</td>\n    </tr>\n    <tr>\n      <th>2021-04-05</th>\n      <td>4.580</td>\n      <td>4.58</td>\n      <td>4.29</td>\n      <td>4.34</td>\n      <td>483600.0</td>\n      <td>11.50</td>\n      <td>11.500</td>\n      <td>11.085</td>\n      <td>11.29</td>\n      <td>3100.0</td>\n      <td>...</td>\n      <td>1.88</td>\n      <td>1.94</td>\n      <td>1.72</td>\n      <td>1.75</td>\n      <td>316800.0</td>\n      <td>3.92</td>\n      <td>4.67</td>\n      <td>3.85</td>\n      <td>4.67</td>\n      <td>8551200.0</td>\n    </tr>\n    <tr>\n      <th>2021-04-06</th>\n      <td>4.300</td>\n      <td>4.73</td>\n      <td>4.14</td>\n      <td>4.32</td>\n      <td>1244100.0</td>\n      <td>11.54</td>\n      <td>11.540</td>\n      <td>11.050</td>\n      <td>11.05</td>\n      <td>3300.0</td>\n      <td>...</td>\n      <td>1.76</td>\n      <td>1.86</td>\n      <td>1.76</td>\n      <td>1.81</td>\n      <td>128500.0</td>\n      <td>8.35</td>\n      <td>8.53</td>\n      <td>5.80</td>\n      <td>6.07</td>\n      <td>44567800.0</td>\n    </tr>\n    <tr>\n      <th>2021-04-07</th>\n      <td>4.250</td>\n      <td>4.75</td>\n      <td>4.21</td>\n      <td>4.58</td>\n      <td>1053600.0</td>\n      <td>11.99</td>\n      <td>11.990</td>\n      <td>11.250</td>\n      <td>11.25</td>\n      <td>2200.0</td>\n      <td>...</td>\n      <td>1.85</td>\n      <td>1.89</td>\n      <td>1.76</td>\n      <td>1.80</td>\n      <td>130100.0</td>\n      <td>5.85</td>\n      <td>5.86</td>\n      <td>5.05</td>\n      <td>5.75</td>\n      <td>2203300.0</td>\n    </tr>\n    <tr>\n      <th>2021-04-08</th>\n      <td>4.580</td>\n      <td>4.66</td>\n      <td>4.26</td>\n      <td>4.44</td>\n      <td>424900.0</td>\n      <td>11.94</td>\n      <td>11.940</td>\n      <td>11.600</td>\n      <td>11.60</td>\n      <td>12700.0</td>\n      <td>...</td>\n      <td>1.79</td>\n      <td>1.80</td>\n      <td>1.71</td>\n      <td>1.78</td>\n      <td>221100.0</td>\n      <td>5.58</td>\n      <td>5.58</td>\n      <td>5.01</td>\n      <td>5.14</td>\n      <td>766300.0</td>\n    </tr>\n    <tr>\n      <th>2021-04-09</th>\n      <td>4.737</td>\n      <td>6.19</td>\n      <td>4.51</td>\n      <td>4.71</td>\n      <td>22377400.0</td>\n      <td>12.00</td>\n      <td>16.204</td>\n      <td>10.700</td>\n      <td>10.85</td>\n      <td>960300.0</td>\n      <td>...</td>\n      <td>2.09</td>\n      <td>2.47</td>\n      <td>2.03</td>\n      <td>2.08</td>\n      <td>65789200.0</td>\n      <td>4.86</td>\n      <td>7.10</td>\n      <td>4.86</td>\n      <td>6.43</td>\n      <td>4681400.0</td>\n    </tr>\n  </tbody>\n</table>\n<p>8009 rows × 110 columns</p>\n</div>"
     },
     "metadata": {},
     "execution_count": 11
    }
   ],
   "source": [
    "tickerdf = yf.download(tickers = companies,period = 'max',group_by = 'ticker',auto_adjust = True)\n",
    "tickerdf\n",
    "# vrpx = tickerdf['VRPX'].reset_index(drop=False)\n",
    "# vrpx"
   ]
  },
  {
   "cell_type": "code",
   "execution_count": 12,
   "metadata": {},
   "outputs": [],
   "source": [
    "ticker_file = \"../app/data/tickers.csv\"\n",
    "tickers = pd.read_csv(ticker_file, header=None)\n",
    "tickers\n",
    "tickers = list(tickers[0])\n",
    "# print(tickers)\n",
    "# print(len(tickers))"
   ]
  },
  {
   "cell_type": "code",
   "execution_count": 13,
   "metadata": {},
   "outputs": [
    {
     "output_type": "stream",
     "name": "stdout",
     "text": [
      "{'ticks': ['DDD', 'MMM', 'WBAI', 'WUBA', 'EGHT', 'AHC', 'AOS', 'ATEN', 'AIR', 'AAN', 'ABB', 'ABT', 'ABBV', 'ANF', 'AGD', 'AWP', 'ACP', 'JEQ', 'ASGI', 'AOD', 'ABM', 'AKR', 'ACEL', 'ACN', 'ACCO', 'ATV', 'AYI', 'GOLF', 'ADX', 'PEO', 'ADCT', 'AGRO', 'ADNT', 'ADT', 'ATGE', 'AAP', 'ADSW', 'WMS', 'ASIX', 'AVK', 'ACM', 'AEFC', 'AEB', 'AEG', 'AER', 'AJRD', 'AMG', 'MGR', 'AFL', 'MITT', 'AGCO', 'A', 'AEM', 'ADC', 'AL', 'APD', 'ALG', 'AGI', 'ALK', 'AIN', 'ALB', 'ACI', 'AA', 'ALC', 'ALEX', 'ALX', 'ARE', 'AQN', 'AQNA', 'AQNB', 'BABA', 'Y', 'ATI', 'ALLE', 'ALE', 'ADS', 'AFB', 'AWF', 'AB', 'AIO', 'CBH', 'NCV', 'NCZ', 'ACV', 'NFJ', 'NIE', 'ALSN', 'ALL', 'ALLY', 'PINE', 'ALTG', 'AYX', 'ATUS', 'MO', 'ACH', 'ALUS', 'AMBC', 'ABEV', 'AMC', 'AMCR', 'AEE', 'AMRC', 'AMOV', 'AMX', 'AAT', 'AXL', 'ACC', 'AEO', 'AEP', 'AEL', 'AXP', 'AFG', 'AFGB', 'AFGC', 'AFGD', 'AFGH', 'AMH', 'AIG', 'ARL', 'ARA', 'AWR', 'AMT', 'AVD', 'AWK', 'COLD', 'AMP', 'ABC', 'RYCE', 'AMN', 'AMRX', 'AP', 'APH', 'AXR', 'HKIB', 'AME', 'PLAN', 'DYFN', 'FINS', 'AU', 'BUD', 'NLY', 'AM', 'AR', 'ANTM', 'ANH', 'AON', 'AIV', 'APG', 'ARI', 'APO', 'AFT', 'AIF', 'APLE', 'AIT', 'ATR', 'APTV', 'ARMK', 'ABR', 'ARC', 'MT', 'MTCN', 'ARCH', 'ADM', 'AROC', 'ARNC', 'ARCO', 'ACA', 'RCUS', 'ARD', 'ASC', 'AFC', 'ACRE', 'ARDC', 'ARES', 'AGX', 'ARGD', 'ARGO', 'ANET', 'AI', 'AIC', 'AIW', 'ARLO', 'AHH', 'ARR', 'AFI', 'AWI', 'ARW', 'AJG', 'APAM', 'ASA', 'ABG', 'ASX', 'ASGN', 'AHT', 'ASH', 'ASPN', 'AMK', 'ASB', 'AC', 'AIZ', 'AIZP', 'AGO', 'AZN', 'HOME', 'T', 'TBB', 'TBC', 'ATTO', 'ATH', 'ATKR', 'AT', 'ATCO', 'ATO', 'ACB', 'ATHM', 'ALV', 'AN', 'AZO', 'AVLR', 'AVB', 'AGR', 'AVNS', 'AVTR', 'AVYA', 'AVY', 'AVNT', 'AVA', 'AXTA', 'AXS', 'AX', 'AXO', 'AZUL', 'AZRE', 'AZZ', 'BGS', 'BMRG', 'BW', 'BGH', 'BMI', 'BCSF', 'BKR', 'BBN', 'BLL', 'BANC', 'BBAR', 'BBVA', 'BBD', 'BBDO', 'BCH', 'BLX', 'BSBR', 'BSAC', 'BSMX', 'SAN', 'CIB', 'BXS', 'BAC', 'BOH', 'BMO', 'NTB', 'BNS', 'BKU', 'BCS', 'BBDC', 'MCI', 'MPV', 'BNED', 'B', 'GOLD', 'BHC', 'BAX', 'BTE', 'BBX', 'BCE', 'BZH', 'BDX', 'BDXB', 'BDC', 'BRBR', 'BHE', 'BHLB', 'BERY', 'BBY', 'BEST', 'BGSF', 'BHP', 'BBL', 'BIG', 'BH', 'BILL', 'BHVN', 'BIO', 'BITA', 'BJ', 'BKH', 'BKI', 'BSM', 'BB', 'BGIO', 'BFZ', 'CII', 'BHK', 'HYT', 'BTZ', 'DSU', 'BGR', 'BDJ', 'EGF', 'FRA', 'BFO', 'BGT', 'BOE', 'BME', 'BMEZ', 'BAF', 'BKT', 'BGY', 'BKN', 'BTA', 'BZM', 'MHE', 'BIT', 'MUI', 'MUA', 'BKK', 'BBK', 'BBF', 'BYM', 'BFK', 'BLE', 'BTT', 'MEN', 'MUC', 'MUH', 'MHD', 'MFL', 'MUJ', 'MHN', 'MUE', 'MUS', 'MVT', 'MYC', 'MCA', 'MYD', 'MYF', 'MFT', 'MIY', 'MYJ', 'MYN', 'MPA', 'MQT', 'MYI', 'MQY', 'BNY', 'BQH', 'BSE', 'BFY', 'BCX', 'BST', 'BSTZ', 'BSD', 'BUI', 'BHV', 'BLK', 'BGB', 'BGX', 'BSL', 'BE', 'APRN', 'BXG', 'BXC', 'DCF', 'DHF', 'DMB', 'DSM', 'LEO', 'BA', 'BCC', 'BCEI', 'BOOT', 'BAH', 'BWA', 'BORR', 'SAM', 'BXP', 'BSX', 'BOX', 'BYD', 'BPMP', 'BP', 'BPT', 'BRC', 'BHR', 'BDN', 'BWG', 'LND', 'BAK', 'BRFS', 'MNRL', 'BFAM', 'BEDU', 'BSA', 'BSIG', 'BV', 'EAT', 'BCO', 'BMY', 'BMY~', 'VTOL', 'BTI', 'BRX', 'BRMK', 'BR', 'BKD', 'BAM', 'BBU', 'BIPC', 'BIP', 'RA', 'BEPC', 'BEP', 'BRO', 'BRT', 'BC', 'BKE', 'BVN', 'BBW', 'BG', 'BURL', 'BWXT', 'BY', 'CABO', 'CBT', 'COG', 'CACI', 'WHD', 'CADE', 'CAE', 'CAI', 'CAL', 'CWT', 'CALX', 'ELY', 'CPE', 'CPT', 'CCJ', 'CPB', 'CWH', 'GOOS', 'CM', 'CNI', 'CNQ', 'CP', 'CANG', 'CNNE', 'CAJ', 'CGC', 'CMD', 'COF', 'CSU', 'BXMT', 'CPRI', 'CMO', 'CAH', 'CSL', 'KMX', 'CCL', 'CUK', 'CRS', 'CSV', 'CARR', 'CARS', 'CRI', 'CVNA', 'CSPR', 'CSLT', 'CTLT', 'CTT           ', 'CAT', 'CATO', 'CBZ', 'CBL', 'CBO', 'IGR', 'CBRE', 'CBX', 'PCPL', 'FUN', 'CDR', 'CE', 'CLS', 'CELG~', 'CEL', 'CPAC', 'CX', 'CVE', 'CNC', 'CEN', 'CNP', 'EBR', 'CEPU', 'CCS', 'CTL', 'CDAY', 'CF', 'GIB', 'CHX', 'ECOM          ', 'CHAP', 'CHRA', 'CRL', 'CLDT', 'CMCM', 'CHGG', 'CHE', 'CC', 'CHMI', 'CPK', 'CVX', 'CHWY', 'CHS', 'CIM', 'DL', 'CEA', 'CHN', 'CGA', 'LFC', 'CHL', 'COE', 'SNP', 'ZNH', 'CHA', 'CHU', 'CYD', 'CMG', 'CHH', 'CB', 'CHT', 'CHD', 'CCX', 'CCXX', 'CIEN', 'CI', 'XEC', 'CBB', 'CNK', 'CINR', 'CIR', 'CIT', 'CCAC', 'BLW', 'C', 'CFG', 'CIA', 'CIO', 'CVEO', 'CCC', 'CLH', 'CCO', 'EMO', 'CEM', 'CTR', 'CLW', 'CWEN', 'CLF', 'CLPR', 'CLX', 'CLDR', 'NET', 'CMS', 'CMSA', 'CMSC', 'CMSD', 'CNA', 'CNF', 'CNHI', 'CNO', 'CEO', 'CNXM', 'CNX', 'KOF', 'KO', 'CCEP', 'CDE', 'FOF', 'CNS', 'UTF', 'LDP', 'MIE', 'RQI', 'RNP', 'PSF', 'RFI', 'CFX', 'CFXA', 'CL', 'CCH', 'CXE', 'CIF', 'CXH', 'CMU', 'CLNY', 'CLNC', 'CXP', 'STK', 'CCZ', 'CMA', 'FIX', 'CMC', 'CBU', 'CYH', 'CHCT', 'CIG', 'CBD', 'SBS', 'ELP', 'CCU', 'CODI', 'CMP', 'CRK', 'CAG', 'CXO', 'CCM', 'CNMD', 'COP', 'CCR', 'CEIX', 'ED', 'STZ', 'CSTM', 'TCS', 'CLR', 'VLRS', 'CTRA', 'CTB', 'CPS', 'CTK', 'CPA', 'CLB', 'CXW', 'CLGX', 'CORR', 'CPLG', 'COR', 'CNR', 'GLW', 'CAAP', 'GYC', 'OFC', 'CTVA', 'CZZ', 'CMRE', 'COTY', 'CUZ', 'CVA', 'CPF', 'CR', 'BAP', 'CS', 'CPG', 'CEQP', 'CRH', 'CRT', 'CAPL', 'CCI', 'CCK', 'CRY', 'CTS', 'CUBE', 'CUB', 'CFR', 'CULP', 'CMI', 'CURO', 'CW', 'SRV', 'SZC', 'CWK', 'CUBB', 'CUBI', 'CVI', 'UAN', 'CVS', 'CELP', 'DHI', 'DAN', 'DHR', 'DAC', 'DQ', 'DRI', 'DAR', 'DVA', 'DCP', 'DECK', 'DE', 'DEX', 'DDF', 'DKL', 'DK', 'DELL', 'DLPH', 'DAL', 'DLX', 'DBI', 'DESP', 'DB', 'DVN', 'DHX', 'DHT', 'DEO', 'DSSI', 'DRH', 'DSX', 'DKS', 'DBD', 'DMS', 'DLR', 'DDS', 'DDT', 'DIN', 'DFS', 'DNI', 'DMYT', 'DLB', 'DG', 'D', 'DCUE', 'DRUA', 'DPZ', 'UFS', 'DCI', 'DFIN', 'LPG', 'DSL', 'DBL', 'DLY', 'PLOW', 'DEI', 'DOV', 'DVD', 'DOW', 'RDY', 'DRD', 'DRQ', 'DS', 'DTE', 'DTJ', 'DTP', 'DTQ', 'DTW', 'DTY', 'DCO', 'DSE', 'DNP', 'DTF', 'DUC', 'DPG', 'DUK', 'DUKB', 'DUKH', 'DRE', 'DNB', 'DD', 'DXC', 'DY', 'DLNG', 'DT', 'DX', 'ELF', 'EXP', 'ECC           ', 'ECCB', 'ECCX', 'ECCY', 'EIC', 'ESTE', 'DEA', 'EGP', 'EMN', 'KODK', 'ETN', 'ETV', 'ETW', 'EV', 'EOI', 'EOS', 'EFT', 'EFL', 'EFF', 'EHT', 'ETX           ', 'EOT', 'EVN', 'ETJ', 'EFR', 'EVF', 'EVG', 'EVT', 'ETO', 'ETG', 'ETB', 'EXD', 'ETY', 'EXG', 'ECL', 'EC', 'EPC', 'EIX', 'EW', 'ELAN', 'ELAT', 'ESTC', 'EGO', 'ESI', 'ELVT', 'LLY', 'EFC', 'EARN', 'ERJ', 'EME', 'EEX', 'EBS', 'EMR', 'ESRT', 'EIG', 'EDN', 'ENBL', 'ENB', 'ENBA', 'EHC', 'DAVA', 'EXK', 'ENIA', 'ENIC', 'ENR', 'ET', 'EPAC', 'ERF', 'ENS', 'E', 'ENLC', 'EBF', 'ENVA', 'NPO', 'ETM', 'EAB', 'EAE', 'EAI', 'ETR', 'ELC', 'ELJ', 'ELU', 'EMP', 'ENJ', 'ENO', 'EZT', 'EPD', 'EVC', 'ENV', 'NVST', 'EVA', 'ENZ', 'EOG', 'EPAM', 'EPR', 'EQT', 'EFX', 'EQNR', 'EQH', 'ETRN', 'EQC', 'ELS', 'EQR', 'EQS', 'EROS', 'ESE', 'ESNT', 'EPRT', 'WTRG', 'WTRU', 'ESS', 'EL', 'ETH', 'EURN', 'EEA', 'EB', 'EVR', 'RE', 'EVRG', 'EVRI', 'ES', 'EVTC', 'EVH', 'AQUA', 'XAN', 'EXPR', 'EXTN', 'EXR', 'XOM', 'FNB', 'FN', 'FDS', 'FICO', 'SFUN', 'FPAC', 'FTCH', 'FPI', 'FSLY', 'FBK', 'FFG', 'AGM', 'FRT', 'FSS', 'FMN', 'FHI', 'FDX', 'RACE', 'FOE', 'FCAU', 'FNF', 'FIS', 'FMO', 'FINV', 'FAF', 'FBP', 'FCF', 'TCRW', 'TCRZ', 'FSLF', 'FHN', 'FR', 'AG', 'FRC', 'FFA', 'FMY', 'FDEU', 'FIF', 'FSD', 'FTHY', 'FPF', 'FEI           ', 'FPL', 'FIV', 'FCT', 'FGB', 'FEO', 'FAM', 'FE', 'FIT', 'FPH', 'FVRR', 'FBC', 'DFP', 'PFD', 'PFO', 'FFC', 'FLC', 'FLT', 'FLNG', 'FND', 'FTK', 'FLO', 'FLS', 'FLR', 'FLY', 'FEAC', 'FMC', 'WPF', 'FMX', 'FL', 'F', 'FOR', 'FTS', 'FTV', 'FTAI', 'FVAC', 'FSM', 'FBHS', 'FET', 'FBM', 'FCPT', 'FEDU', 'FNV', 'FC', 'FSB', 'BEN', 'FT', 'FI', 'FCX', 'FMS', 'FDP', 'RESI', 'FRO', 'FSK', 'FSKR', 'FCN', 'FF', 'GCV', 'GAB', 'GGZ', 'GGT', 'GUT', 'GLEO', 'GBL', 'GNT', 'GME', 'GCI', 'GPS', 'GTX', 'IT', 'GLOG', 'GLOP', 'GTES', 'GATX', 'GMTA', 'GCP', 'GNK', 'GNRC', 'GAM', 'GD', 'GE', 'GIS', 'GM', 'GCO', 'GEL', 'GEN           ', 'GNE', 'G', 'GPC', 'GNW', 'GEO', 'GPRK', 'GPJA', 'GGB', 'GTY', 'GFL', 'GFLU', 'GIX', 'GIX~', 'GIK', 'GIL', 'GLT', 'GKOS', 'GSK', 'CO', 'GMRE', 'GNL', 'GLP', 'GPN', 'GSL', 'GSLD', 'GLOB', 'GL', 'GMED', 'GMS', 'GDDY', 'GOL', 'GFI', 'GSBD', 'GS', 'GER', 'GMZ', 'GRC', 'GPX', 'GGG', 'GRAF', 'EAF', 'GHM', 'GHC', 'GRAM', 'GVA', 'GPMT', 'GPK', 'GTN', 'AJX', 'AJXA', 'GWB', 'GDOT', 'GBX', 'GHL', 'GHG', 'GEF', 'GFF', 'GPI', 'GRUB', 'PAC', 'ASR', 'AVAL', 'SUPV', 'TV', 'GSX', 'GTT', 'GSH', 'GES', 'GGM', 'GPM', 'GOF', 'GBAB', 'GWRE', 'HRB', 'FUL', 'HAE', 'HAL', 'HBB', 'HBI', 'HNGR', 'HASI', 'HOG', 'HMY', 'HSC', 'HGH', 'HIG', 'HVT', 'HE', 'HCHC', 'HCA', 'HCI', 'HDB', 'HR', 'HTA', 'PEAK', 'HL', 'HEI', 'HLX', 'HP', 'HLF', 'HRI', 'HCXY', 'HCXZ', 'HTGC', 'HRTG', 'PSV', 'HT', 'HSY', 'HTZ', 'HES', 'HESM', 'HPE', 'HXL', 'HEXO', 'PCF', 'HGLB', 'HFRO', 'HPR', 'HIW', 'HIL', 'HI', 'HRC', 'HTH', 'HGV', 'HLT', 'HNI', 'HMLP', 'HEP', 'HFC', 'HD', 'HMC', 'HON', 'HMN', 'HZN', 'HTFA', 'HRL', 'HST', 'HLI', 'HOV', 'HHC', 'HWM', 'HPQ', 'HSBC', 'HMI', 'HNP', 'HUBB', 'HUBS', 'HBM', 'HUD', 'HPP', 'HUM', 'HCFT', 'HII', 'HUN', 'HUYA', 'H', 'HY', 'IAA', 'IAG', 'IBN', 'ICL', 'IDA', 'IEX', 'IDT', 'INFO', 'ITW', 'IMAX', 'ICD', 'IHC', 'IRT', 'IFN', 'IBA', 'INFY', 'ING', 'IR', 'NGVT', 'INGR', 'IIPR', 'IPHI', 'INSI', 'NSP', 'INSP', 'IBP', 'ITGR', 'ICE', 'IHG', 'IFS', 'IBM', 'IFF', 'IFFT', 'IGT', 'IP', 'INSW', 'IPV', 'IPG', 'IPI', 'IVC', 'VBF', 'VCV', 'VTA', 'IHIT', 'IHTA', 'VLT', 'IVR', 'OIA', 'VMO', 'VKQ', 'VPV', 'IVZ', 'IQI', 'VVR', 'VTN', 'VGM', 'IIM', 'IRET', 'NVTA', 'INVH', 'IO', 'IQV', 'IRM', 'IRS', 'STAR          ', 'ITCB', 'ITUB', 'ITT', 'IVH', 'JPM', 'JAX', 'JILL', 'SJM', 'JBL', 'J', 'JHX', 'JHG', 'JOF', 'JWS', 'JBGS', 'JEF', 'JELD', 'JCAP', 'JT', 'JKS', 'JMP', 'JBT', 'BTO', 'HEQ', 'JHS', 'JHI', 'HPF', 'HPI', 'HPS', 'PDT', 'HTD', 'HTY', 'JNJ', 'JCI', 'JLL', 'JMIA', 'JIH', 'JNPR', 'JP', 'JE', 'LRN', 'KAI', 'KDMN', 'KAMN', 'KSU', 'KAR', 'KMF', 'KYN', 'KB', 'KBH', 'KBR', 'K', 'KMPR', 'KMT', 'KW', 'KEN', 'KDP', 'KEY', 'KEYS', 'KRC', 'KRP', 'KMB', 'KIM', 'KMI', 'KFS', 'KGC', 'KEX', 'KL', 'KRG', 'KKR', 'KIO', 'KREF', 'KNX', 'KNL', 'KNOP', 'KN', 'KSS', 'PHG', 'KTB', 'KOP', 'KEP', 'KF', 'KFY', 'KOS', 'KRA', 'KR', 'KRO', 'KT', 'LB', 'SCX', 'LHX', 'LH', 'LADR', 'LAIX', 'LW', 'LCI', 'LPI', 'LVS', 'LGI', 'LAZ', 'LZB', 'LCII', 'LEAF', 'LEA', 'LEE', 'LGC', 'LMHA', 'LMHB', 'LEG', 'JBK', 'KTH', 'KTN', 'LDOS', 'LEJU', 'LMND', 'LC', 'LEN', 'LII', 'LEVI', 'LXP', 'LPL', 'DFNS', 'USA', 'ASG', 'LBRT', 'LSI', 'LITB', 'LNC', 'LIN', 'LNN', 'LN', 'LINX', 'LAD', 'LAC', 'LYV', 'LOAK', 'LTHM', 'RAMP', 'LYG', 'SCD', 'LMT', 'L', 'LOMA', 'LGVW', 'LPX', 'LOW', 'LXU', 'LTC', 'LUB', 'LL', 'LXFR', 'LDL', 'LYB', 'MTB', 'MDC', 'MHO', 'MAC', 'CLI', 'MFD', 'MGU', 'MIC', 'BMA', 'M', 'MCN', 'MSGE', 'MSGS', 'MMP', 'MGA', 'MX', 'MGY', 'MHLA', 'MHNC', 'MAIN', 'MMD', 'MNK', 'MANU', 'MTW', 'MN', 'MAN', 'MFC', 'MRO', 'MPC', 'MMI', 'MCS', 'MPX', 'HZO', 'MKL', 'VAC', 'MMC', 'MLM', 'MAS', 'DOOR', 'MTZ', 'MA', 'MTDR', 'MTRN', 'MATX', 'MLP', 'MAXR', 'MMS', 'MXL', 'MEC', 'MBI', 'MKC', 'MCD', 'MUX', 'MCK', 'MDU', 'MTL', 'MDLA', 'MPW', 'MED', 'MCC', 'MCV', 'MCX', 'MDLQ', 'MDLX', 'MDLY', 'MD', 'MDT', 'MFAC', 'MRK', 'MCY', 'MDP', 'MTH', 'MTOR', 'MTR', 'MSB', 'MEI', 'MET', 'MCB', 'MTD', 'MXE', 'MXF', 'MFA', 'MFO', 'MCR', 'MGF', 'MIN', 'MMT', 'MFM', 'MFV', 'MTG', 'MGP', 'MGM', 'MFGP', 'MAA', 'AMPY', 'MLR', 'HIE', 'MTX', 'MG', 'MUFG', 'MIXT', 'MFG', 'MBT', 'MODN', 'MOD', 'MC', 'MOGU', 'MHK', 'MOH', 'TAP', 'MNR', 'MR', 'MEG', 'MCO', 'MS', 'CAF', 'MSD', 'EDD', 'IIF', 'MOS', 'MSI', 'MOV', 'MPLX', 'MRC', 'MSA', 'MSM', 'MSCI', 'MSGN', 'MLI', 'MWA', 'MVF', 'MZA', 'MUR', 'MUSA', 'MVO', 'MVC', 'MVCD', 'MYE', 'MYOV', 'NBR', 'NC', 'NTP', 'NTEST', 'NBHC', 'NFG', 'NGG', 'NHI', 'NOV', 'NPK', 'NNN', 'NRUC', 'SID', 'NSA', 'NTCO', 'NGS', 'NGVC', 'NRP', 'NTZ', 'NWG', 'NLS', 'NVGS', 'NNA', 'NM', 'NMM', 'NAV', 'NCR', 'NP', 'NNI', 'NPTN', 'NSCO', 'NVRO', 'HYB', 'NFH', 'GF', 'NWHM', 'IRL', 'NMFC', 'NMFX', 'EDU', 'NEWR', 'NRZ', 'SNR', 'NYCB', 'NYT', 'NJR', 'NEU', 'NEM', 'NR', 'NEXA', 'NREF', 'NXRT', 'NHF', 'NEP', 'NEE', 'NEX', 'NGL', 'NLSN', 'NKE', 'NINE', 'NIO', 'NI', 'NL', 'NOAH', 'NOK', 'NOMD', 'NMR', 'OSB', 'NAT', 'JWN', 'NSC', 'NOA', 'NRT', 'NOC', 'NWN', 'NWE', 'NCLH', 'NVS', 'NVO', 'DNOW', 'NRG', 'NUS', 'NUE', 'NS', 'NSS', 'NTR', 'NVG', 'NUV', 'NUW', 'NEA', 'NAZ', 'NKX', 'NCB', 'NCA', 'NAC', 'JCE', 'JCO', 'JQC', 'JDD', 'DIAX', 'JEMD', 'NEV', 'JFR', 'JRO', 'NKG', 'JGH', 'JHY', 'JHAA', 'JHB', 'NXC', 'NXN', 'NID', 'NMY', 'NMT', 'NUM', 'NMS', 'NOM', 'JLS', 'JMM', 'NHA', 'NZF', 'NMCO', 'NMZ', 'NMI', 'NJV', 'NXJ', 'NRK', 'NYV', 'NNY', 'NAN', 'NUO', 'NPN', 'NQP', 'JPC', 'JPS', 'JPT', 'JPI', 'NAD', 'JRI', 'JRS', 'BXMX', 'SPXX', 'NIM', 'NXP', 'NXQ', 'NXR', 'NSL', 'JSD', 'NBB', 'JTD', 'JTA', 'NPV', 'NIQ', 'NVT', 'NVR', 'CTEST', 'OAC', 'OXY', 'OII', 'OCN', 'OFG', 'OGE', 'OI', 'OIS', 'ODC', 'ORI', 'OLN', 'OHI', 'OMC', 'ONDK', 'OGS', 'OLP', 'OCFT', 'OMF', 'OKE', 'ONE', 'ONTO', 'OOMA', 'OPY', 'ORCL', 'ORAN', 'ORC', 'OEC', 'ORN', 'IX', 'ORA', 'OSK', 'OR', 'SFTW', 'OTIS', 'OUT', 'OSG', 'OVV', 'OMI', 'OC', 'ORCC', 'OXM', 'ROYT', 'PACD', 'PCG', 'PCGU', 'PKG', 'PD', 'PAGS', 'PANW', 'PAM', 'PHX', 'PARR', 'PAR', 'PGRE', 'PKE', 'PK', 'PH', 'PE', 'PSN', 'PRTY', 'PAYC', 'PBF', 'PBFX', 'BTU', 'PSO', 'PEB', 'PBA', 'PEI', 'PFSI', 'PMT', 'PAG', 'PNR', 'PEN', 'PFGC', 'PKI', 'PBT', 'PVL', 'PRT', 'PRGO', 'PRSP', 'PTR', 'PBR', 'PFE', 'GHY', 'ISD', 'PGTI', 'PM', 'PSX', 'PSXP', 'FENG', 'DNK', 'PHR', 'DOC', 'PDM', 'PCQ', 'PCK', 'PZC', 'PCM', 'PTY', 'PCN', 'PCI', 'PDI', 'NRGX', 'PGP', 'PHK', 'PKO', 'PFL', 'PFN', 'PMF', 'PML', 'PMX', 'PNF', 'PNI', 'PYN', 'RCS', 'PING', 'PNW', 'PINS', 'PHD', 'PHT', 'MAV', 'MHI', 'PXD', 'PIPR', 'PBI', 'PIC', 'PJT', 'PAA', 'PAGP', 'PLNT', 'PLT', 'AGS', 'PHI', 'PLYM', 'PNC', 'PNM', 'PII', 'POR', 'PKX', 'POST', 'PSTL', 'PPG', 'PPX', 'PPL', 'PYS', 'PYT', 'PQG', 'PDS', 'APTS', 'PBH', 'PVG', 'PRI', 'PRMW', 'PGZ', 'PRA', 'PG', 'PGR', 'PLD', 'PUMP', 'PRO', 'PROS', 'PBB', 'PBC', 'PBY', 'PB', 'PRLB', 'PFS', 'PJH', 'PRH', 'PRS', 'PRU', 'PUK', 'PSB', 'TLK', 'PEG', 'PSA', 'PHM', 'PSTG', 'PMM', 'PIM', 'PMO', 'PPT', 'NEW', 'PVH', 'PZN', 'QTWO', 'QEP', 'QGEN', 'QTS', 'QUAD', 'KWR', 'NX', 'PWR', 'QD', 'DGX', 'QUOT', 'QVCC', 'QVCD', 'CTAA', 'CTBB', 'CTDD', 'CTV', 'CTY', 'CTZ', 'RRD', 'RMED', 'RDN', 'RFL', 'RL', 'RRC', 'RNGR', 'PACK', 'RJF', 'RYAM', 'RYN', 'RTX', 'RMAX', 'RC', 'RCA', 'RCB', 'RCP', 'RLGY', 'O', 'RLH', 'RWT', 'RBC', 'RM', 'RF', 'RGS', 'RGA', 'RZA', 'RZB', 'RS', 'RELX', 'RNR', 'SOL', 'RENN', 'RPLA', 'RSG', 'REZI', 'RMD', 'RFP', 'QSR', 'RPAI', 'RVI', 'REVG', 'REV', 'RVLV', 'REX', 'REXR', 'RXN', 'RH', 'RNG', 'RIO', 'RBA', 'RAD', 'RFM', 'RMM', 'RMI', 'RIV', 'RSF', 'OPP', 'RLI', 'RLJ', 'RMG', 'RHI', 'ROK', 'RCI', 'ROG', 'ROL', 'ROP', 'RST', 'RY', 'RCL', 'RGT', 'RMT', 'RVT', 'RES', 'RPM', 'RPT', 'RYB', 'R', 'RYI', 'RHP', 'SPGI', 'SBR', 'SB', 'SFE', 'SAFE', 'SAIL', 'CRM', 'SMM', 'SBH', 'SJT', 'SD', 'PER', 'SAND          ', 'SC', 'SAP', 'SAF', 'SAK', 'SAR', 'SSL', 'BFS', 'SCPE', 'SLB', 'SNDR', 'SWM', 'SAIC', 'SALT', 'SBBA', 'STNG', 'SMG', 'KTF', 'KSM', 'SRL', 'SCU', 'SCVX', 'SE', 'SA', 'CKH', 'SMHI', 'SEE', 'SEAS', 'WTTR', 'SEM', 'SLQT', 'SRE', 'SREA', 'ST', 'SXT', 'SQNS', 'SRG', 'SCI', 'SERV', 'NOW', 'SFL', 'SHAK', 'SJR', 'SHLX', 'SHW', 'FOUR', 'SHG', 'SHOP', 'SSTK', 'SBSW', 'SIG', 'SBOW', 'SI', 'SPG', 'SSD', 'SHI', 'SITC', 'SITE', 'SIX', 'TSLX', 'SJW', 'SKM', 'SKX', 'SKY', 'SLG', 'WORK', 'SM', 'SMAR', 'SNN', 'SNAP', 'SNA', 'IPOB', 'IPOC', 'SQM', 'SOGO', 'SOI', 'SWI', 'SAH', 'SON', 'SNE', 'SOS', 'SOR', 'SJI', 'SJIJ', 'SJIU', 'SO', 'SOJA', 'SOJB', 'SOJC', 'SOJD', 'SOLN', 'SCCO', 'LUV', 'SWX', 'SWN', 'SPAQ', 'SPE', 'SPB           ', 'SR', 'SPR', 'SAVE', 'SRC', 'SPOT', 'SRLP', 'SII', 'SPXC', 'FLOW', 'SQ', 'JOE', 'STAG', 'SMP', 'SXI', 'SWK', 'SWT', 'STN', 'SGU', 'SRT', 'STWD', 'STT', 'SPLP', 'SCS', 'SCA', 'SCM', 'SCL', 'STE', 'STL', 'STC', 'SF', 'SFB', 'STM', 'EDF', 'EDI', 'STON', 'SRI', 'STOR', 'GJH', 'GJO', 'GJS', 'SYK', 'MSC', 'RGR', 'SPH', 'SMFG', 'INN', 'SUM', 'SMLP', 'SUI', 'SLF', 'SXC', 'SU', 'STG', 'NOVA', 'SUN', 'SHO', 'SPN', 'SUP', 'SOAC', 'SUZ', 'SWZ', 'SWCH', 'SBE', 'SYF', 'SNX', 'SNV', 'GJP', 'GJR', 'GJT', 'SYY', 'SYX', 'TLRD', 'TWN', 'TSM', 'TAK', 'TAL', 'TALO', 'SKT', 'TPR', 'TRGP', 'TGT', 'TARO', 'TTM', 'TCO', 'TMHC', 'TRP', 'TCP', 'TSI', 'TEL', 'TISI', 'FTI', 'TECK', 'TK', 'TGP', 'TNK', 'TGNA', 'TRC', 'HQH', 'THQ', 'HQL', 'THW', 'TDOC', 'TEO', 'TDY', 'TFX', 'VIV', 'TEF', 'TDA', 'TDE', 'TDI', 'TDJ', 'TDS', 'TU', 'TDF', 'EMF', 'TEI', 'GIM', 'TPX', 'TS', 'TME', 'THC', 'TNC', 'TEN', 'TVC', 'TVE', 'TDC', 'TEX', 'TX', 'TRNO', 'TTI', 'TEVA', 'TPL', 'TGH', 'TXT', 'TFII', 'AES', 'AZEK', 'BK', 'BX', 'CEE', 'SCHW', 'COO', 'GDV', 'GRX', 'GDL', 'THG', 'THGA', 'TRV', 'TMO', 'THR', 'TPRE', 'TRI', 'THO', 'TDW', 'TIF', 'TLYS', 'TSU', 'TKR', 'TMST', 'TWI', 'TJX', 'TOL', 'TR', 'BLD', 'TTC', 'TD', 'SHLL', 'NDP', 'TYG', 'TEAF', 'NTG', 'TTP', 'TPZ', 'TOT', 'TSQ', 'TM', 'TRTX', 'TT', 'TAC', 'TCI', 'TDG', 'RIG', 'TGS', 'TRU', 'TREC', 'TG', 'THS', 'TREX', 'TY', 'TPH', 'TRNE', 'TNET', 'TRN', 'TSE', 'TPVG', 'TPVY', 'GTS', 'TRTN', 'TGI', 'TROX', 'TBI', 'TFC', 'TNP', 'TUFN', 'TUP', 'TKC', 'TPB', 'TRQ', 'TPC', 'TWLO', 'TRWH', 'TWTR', 'TWO', 'TYL', 'TSN', 'USB', 'USPH', 'SLCA', 'USX', 'UBER', 'UI', 'UBS', 'UDR', 'UGI', 'UGP', 'UMH', 'UA', 'UAA', 'UFI', 'UNF', 'UN', 'UL', 'UNP', 'UIS', 'UMC', 'UNFI', 'UPS', 'URI', 'USM', 'UZA', 'UZB', 'UZC', 'X', 'UNH', 'UTL', 'UNVR', 'UVV', 'UHT', 'UHS', 'UVE', 'UTI', 'UNM', 'UNMA', 'UE', 'UBA', 'UBP', 'USFD', 'USAC', 'USNA', 'USDP', 'BIF', 'VFC', 'EGY', 'MTN', 'VAL', 'VALE', 'VLO', 'VHI', 'VMI', 'VVV', 'VAPO', 'VAR', 'VGR', 'VEC', 'VEDL', 'VEEV', 'VEL', 'VNTR', 'VTR', 'VNE', 'VER', 'VRTV', 'VZ', 'VET', 'VRS', 'VCIF', 'VRT', 'VVI', 'VICI', 'VNCE', 'VIPS', 'SPCE', 'VHC', 'VGI', 'ZTR', 'V', 'VSH', 'VPG', 'VIST', 'VSTO', 'VST', 'VVNT', 'VSLR', 'VMW', 'VOC', 'VCRA', 'VNO', 'VJET', 'IAE', 'IHD', 'VOYA', 'IGA', 'IGD', 'IDE', 'IID', 'IRR', 'PPR', 'VMC', 'WTI', 'WPC', 'WRB', 'GRA', 'GWW', 'WNC', 'WDR', 'WD', 'WMT', 'DIS', 'HCC', 'WPG', 'WRE', 'WCN', 'WM', 'WAT', 'WSO', 'WTS', 'W', 'WBS', 'WEC', 'WEI', 'WRI', 'WMK', 'WBT', 'WFC', 'EOD', 'WELL', 'WCC', 'WST', 'WAL', 'WALA', 'WEA', 'TLI', 'EMD', 'GDO', 'EHI', 'HIX', 'HIO', 'HYI', 'SBI', 'IGI', 'PAI', 'MMU', 'WMC', 'DMO', 'MTT', 'MHF', 'MNP', 'GFY', 'WIW', 'WIA', 'WES', 'WU', 'WAB', 'WLK', 'WLKP', 'WBK', 'WRK', 'WHG', 'WEX', 'WY', 'WPM', 'WHR', 'WTM', 'WSR', 'WLL', 'WOW', 'WMB', 'WSM', 'WGO', 'WIT', 'WNS', 'WWW', 'WF', 'WK', 'INT', 'WWE', 'WOR', 'WPP', 'WPX', 'WYND', 'WH', 'XYF', 'XFLT', 'XHR', 'XRX', 'XIN', 'XPO', 'XYL', 'AUY', 'YELP', 'YETI', 'YEXT', 'YRD', 'DAO', 'YPF', 'YUMC', 'YUM', 'ZEN', 'ZBH', 'ZTS', 'ZTO', 'ZUO', 'ZYME', 'GOED', 'XXII', 'FAX', 'IAF', 'AEF', 'FCO', 'ACU', 'ATNM', 'AE', 'ACY', 'UAVS', 'AGE', 'AIRI', 'AXU', 'AAU', 'APT', 'AAMC', 'AMBO', 'DIT', 'AMS', 'USAS', 'AMPE', 'ANVS', 'ARMP', 'AINC', 'AUG', 'AWX', 'ASM', 'BTG', 'BTN', 'BCV', 'BHB', 'BRN', 'BATL', 'BIOX', 'PHGE', 'BGI', 'BKTI', 'BDR', 'BRBS', 'BRG', 'DMF', 'CMCL', 'CEI', 'CANF', 'YCBD', 'CVM', 'CET', 'LEU', 'CHAQ', 'CCF', 'CQP', 'LNG', 'CVR', 'CPHI', 'CKX', 'GLV', 'GLQ', 'GLO', 'COHN', 'CIX', 'LODE', 'CDOR', 'MCF', 'CMT', 'CRMD', 'CRF', 'CLM', 'CVU', 'CIK', 'DHY', 'CRHM', 'CTO', 'CTEK', 'DXR', 'VCF', 'VFL', 'VMM', 'DLA', 'DNN', 'DSS', 'DPW', 'DXF', 'GRF', 'EVM', 'CEV', 'EVV', 'EIM', 'ENX', 'EVY', 'ELMD', 'ELLO', 'ECF', 'EMAN', 'MSN', 'EMX', 'UUUU', 'ENSV', 'ELA', 'EQX', 'ESP', 'EVBN', 'EVI', 'EPM', 'FEN', 'BDL', 'FSI', 'FTF', 'FSP', 'FRD', 'FTSI', 'GAU', 'GGN', 'JOB', 'GMO', 'GSB', 'GSAT', 'GORO', 'GSV', 'AUMN', 'GSS', 'GV', 'GDP', 'GTE', 'GPL', 'SIM', 'AIM', 'HMG', 'HUSA', 'IBIO', 'IBO', 'IMH', 'IMO', 'IOR', 'IGC', 'INDO', 'INFU', 'IHT', 'NSPR', 'ITRG', 'INS', 'THM', 'INTT', 'INUV', 'VKI', 'ISR', 'ISDR', 'ITP', 'KLR', 'KIQ', 'LGL', 'LCTX', 'MAG', 'MHH', 'MTNB', 'MMX', 'IPB', 'MTA', 'MXC', 'MLSS', 'MYO', 'NNVC', 'ATEST', 'NHC', 'NAVB', 'NTIP', 'NBW', 'NHS', 'NML', 'NBH', 'NBO', 'NRO', 'GBR', 'NEN', 'NGD', 'NXE', 'NAK', 'NOG', 'NBY', 'NG', 'NTN', 'NES', 'OBLG', 'OCX', 'OGEN', 'PTN', 'PZG', 'PRK', 'PED', 'PFNX', 'HNW', 'PLAG', 'PLG', 'PLM', 'PW', 'PLX', 'RLGT', 'UTG', 'RHE', 'RCG', 'RVP', 'REI', 'SACC', 'SACH', 'SCCB', 'SNMP', 'SEB', 'SENS', 'SVT', 'SMTS', 'SIF', 'SVM', 'SILV', 'XPL', 'LOV', 'STXS', 'SSY', 'SDPI', 'SYN', 'TKAT', 'TRX', 'TGB', 'TGC', 'GLU', 'GGO', 'TMBR', 'TMP', 'TAT', 'TRXC', 'TMQ', 'TPHS', 'TRT', 'UFAB', 'UAMY', 'UUU', 'URG', 'UEC', 'VGZ', 'VNRX', 'VOLT', 'EAD', 'ERC', 'ERH', 'WRN', 'WYY', 'WTT', 'XTNT', 'ZDGE', 'ZOM']}\n"
     ]
    }
   ],
   "source": [
    "tick_dict = {\"ticks\": tickers}\n",
    "print(tick_dict)"
   ]
  },
  {
   "cell_type": "code",
   "execution_count": 14,
   "metadata": {},
   "outputs": [
    {
     "output_type": "stream",
     "name": "stdout",
     "text": [
      "2016-04-10\n"
     ]
    }
   ],
   "source": [
    "today = date.today()\n",
    "five_years = today - relativedelta(years=+5)\n",
    "print(five_years)\n",
    "# today = today.strftime(\"%Y/%m/%d\")\n",
    "# today.month\n",
    "# today.day\n",
    "# today.year"
   ]
  },
  {
   "cell_type": "code",
   "execution_count": 15,
   "metadata": {
    "tags": []
   },
   "outputs": [
    {
     "output_type": "stream",
     "name": "stdout",
     "text": [
      "[*********************100%***********************]  2762 of 2762 completed\n",
      "\n",
      "109 Failed downloads:\n",
      "- FEI           : No data found, symbol may be delisted\n",
      "- RST: No data found, symbol may be delisted\n",
      "- CTRA: No data found, symbol may be delisted\n",
      "- CCR: No data found, symbol may be delisted\n",
      "- PSV: No data found, symbol may be delisted\n",
      "- GMZ: No data found, symbol may be delisted\n",
      "- GMO: No data found, symbol may be delisted\n",
      "- HTZ: No data found, symbol may be delisted\n",
      "- FBM: No data found, symbol may be delisted\n",
      "- CELG~: No data found, symbol may be delisted\n",
      "- PIC: No data found, symbol may be delisted\n",
      "- ONDK: No data found, symbol may be delisted\n",
      "- TIF: No data found, symbol may be delisted\n",
      "- BMY~: No data found, symbol may be delisted\n",
      "- MVC: No data found, symbol may be delisted\n",
      "- TAT: No data found, symbol may be delisted\n",
      "- CXO: No data found, symbol may be delisted\n",
      "- DLPH: No data found, symbol may be delisted\n",
      "- FVAC: No data found, symbol may be delisted\n",
      "- AUG: No data found, symbol may be delisted\n",
      "- TRNE: No data found, symbol may be delisted\n",
      "- PACD: No data found, symbol may be delisted\n",
      "- AFGH: No data found, symbol may be delisted\n",
      "- TLRD: No data found, symbol may be delisted\n",
      "- CBX: No data found, symbol may be delisted\n",
      "- SCA: No data found for this date range, symbol may be delisted\n",
      "- PFNX: No data found, symbol may be delisted\n",
      "- GTX: No data found, symbol may be delisted\n",
      "- TCO: No data found, symbol may be delisted\n",
      "- PJH: No data found, symbol may be delisted\n",
      "- GEN           : No data found, symbol may be delisted\n",
      "- NMFX: No data found, symbol may be delisted\n",
      "- TRWH: No data found, symbol may be delisted\n",
      "- LGC: No data found, symbol may be delisted\n",
      "- LOAK: No data found, symbol may be delisted\n",
      "- SPN: No data found, symbol may be delisted\n",
      "- DNI: No data found, symbol may be delisted\n",
      "- MCC: No data found, symbol may be delisted\n",
      "- STAR          : No data found, symbol may be delisted\n",
      "- MFO: No data found, symbol may be delisted\n",
      "- SPB           : No data found, symbol may be delisted\n",
      "- CHL: No data found, symbol may be delisted\n",
      "- CTY: No data found, symbol may be delisted\n",
      "- ECOM          : No data found, symbol may be delisted\n",
      "- LN: No data found, symbol may be delisted\n",
      "- FCAU: No data found, symbol may be delisted\n",
      "- MNK: No data found, symbol may be delisted\n",
      "- SAND          : No data found, symbol may be delisted\n",
      "- CTT           : No data found, symbol may be delisted\n",
      "- ARA: No data found, symbol may be delisted\n",
      "- EROS: No data found, symbol may be delisted\n",
      "- RESI: No data found, symbol may be delisted\n",
      "- BITA: No data found, symbol may be delisted\n",
      "- OSB: No data found, symbol may be delisted\n",
      "- PER: No data found, symbol may be delisted\n",
      "- VSLR: No data found, symbol may be delisted\n",
      "- BTE: No data found, symbol may be delisted\n",
      "- CCC: No data found, symbol may be delisted\n",
      "- GIX~: No data found, symbol may be delisted\n",
      "- DTQ: No data found, symbol may be delisted\n",
      "- HCFT: No data found, symbol may be delisted\n",
      "- EAB: No data found, symbol may be delisted\n",
      "- FIT: No data found, symbol may be delisted\n",
      "- PCPL: No data found, symbol may be delisted\n",
      "- HUD: No data found, symbol may be delisted\n",
      "- CHAP: No data found, symbol may be delisted\n",
      "- CCH: No data found, symbol may be delisted\n",
      "- FEAC: No data found, symbol may be delisted\n",
      "- RYCE: No data found, symbol may be delisted\n",
      "- RMG: No data found, symbol may be delisted\n",
      "- SERV: No data found, symbol may be delisted\n",
      "- ROYT: No data found, symbol may be delisted\n",
      "- VAL: No data found, symbol may be delisted\n",
      "- TSU: No data found, symbol may be delisted\n",
      "- EAE: No data found, symbol may be delisted\n",
      "- BBX: No data found, symbol may be delisted\n",
      "- DMYT: No data found, symbol may be delisted\n",
      "- MR: No data found, symbol may be delisted\n",
      "- PRH: No data found, symbol may be delisted\n",
      "- WUBA: No data found, symbol may be delisted\n",
      "- GSB: No data found, symbol may be delisted\n",
      "- ECC           : No data found, symbol may be delisted\n",
      "- PE: No data found, symbol may be delisted\n",
      "- CBL: No data found, symbol may be delisted\n",
      "- GRAM: No data found, symbol may be delisted\n",
      "- TCRW: No data found, symbol may be delisted\n",
      "- ETX           : No data found, symbol may be delisted\n",
      "- BMRG: No data found, symbol may be delisted\n",
      "- JHY: No data found, symbol may be delisted\n",
      "- CNXM: No data found, symbol may be delisted\n",
      "- IPOC: No data found, symbol may be delisted\n",
      "- MCV: No data found, symbol may be delisted\n",
      "- GV: No data found, symbol may be delisted\n",
      "- FSB: No data found, symbol may be delisted\n",
      "- MFAC: No data found, symbol may be delisted\n",
      "- CTL: No data found, symbol may be delisted\n",
      "- THGA: No data found, symbol may be delisted\n",
      "- CCXX: No data found, symbol may be delisted\n",
      "- GSH: No data found, symbol may be delisted\n",
      "- IPOB: No data found, symbol may be delisted\n",
      "- ADSW: No data found, symbol may be delisted\n",
      "- ATEST: No data found for this date range, symbol may be delisted\n",
      "- SHLL: No data found, symbol may be delisted\n",
      "- IRET: No data found, symbol may be delisted\n",
      "- OAC: No data found, symbol may be delisted\n",
      "- WPX: No data found, symbol may be delisted\n",
      "- ELJ: No data found, symbol may be delisted\n",
      "- JCAP: No data found, symbol may be delisted\n",
      "- GRAF: No data found, symbol may be delisted\n"
     ]
    },
    {
     "output_type": "execute_result",
     "data": {
      "text/plain": [
       "             Adj Close                                               \\\n",
       "                     A         AA       AAMC        AAN         AAP   \n",
       "Date                                                                  \n",
       "2016-04-11   37.702133  23.178484  20.120001        NaN  152.112793   \n",
       "2016-04-12   38.027393  22.559755  20.230000        NaN  153.813065   \n",
       "2016-04-13   38.926662  23.297468  19.370001        NaN  157.734604   \n",
       "2016-04-14   39.012753  23.821007  19.860001        NaN  158.176880   \n",
       "2016-04-15   39.137123  23.821007  19.889999        NaN  158.422577   \n",
       "...                ...        ...        ...        ...         ...   \n",
       "2021-04-05  130.000000  31.549999  19.020000  26.570000  183.229996   \n",
       "2021-04-06  131.039993  31.309999  19.389999  26.010000  183.649994   \n",
       "2021-04-07  129.339996  31.520000  18.680000  25.160000  182.619995   \n",
       "2021-04-08  130.690002  31.450001  19.010000  24.940001  180.500000   \n",
       "2021-04-09  131.910004  31.360001  19.299999  24.650000  183.970001   \n",
       "\n",
       "                                                               ...     Volume  \\\n",
       "                  AAT   AAU         AB        ABB        ABBV  ...        ZBH   \n",
       "Date                                                           ...              \n",
       "2016-04-11  33.564930  1.22  15.151378  15.543870   46.850891  ...  1396000.0   \n",
       "2016-04-12  33.582352  1.21  15.062325  15.800397   47.964104  ...  1898800.0   \n",
       "2016-04-13  33.364571  1.16  15.138652  15.856514   47.753872  ...  2541600.0   \n",
       "2016-04-14  33.434265  1.17  15.094130  15.912626   47.931755  ...  1548400.0   \n",
       "2016-04-15  33.582352  1.16  15.062325  15.864529   48.117729  ...  1806300.0   \n",
       "...               ...   ...        ...        ...         ...  ...        ...   \n",
       "2021-04-05  32.500000  0.54  41.380001  31.320000  106.139999  ...   788900.0   \n",
       "2021-04-06  33.020000  0.56  40.750000  31.160000  105.379997  ...   795800.0   \n",
       "2021-04-07  33.029999  0.54  40.580002  31.209999  105.209999  ...   691400.0   \n",
       "2021-04-08  32.939999  0.55  40.680000  31.580000  106.099998  ...   804700.0   \n",
       "2021-04-09  33.150002  0.54  40.290001  32.080002  107.540001  ...  1508400.0   \n",
       "\n",
       "                                                                           \\\n",
       "                ZDGE       ZEN      ZNH          ZOM        ZTO       ZTR   \n",
       "Date                                                                        \n",
       "2016-04-11       NaN  462800.0  54300.0          NaN        NaN   85000.0   \n",
       "2016-04-12       NaN  544900.0  35500.0          NaN        NaN   44500.0   \n",
       "2016-04-13       NaN  533900.0  54500.0          NaN        NaN   44800.0   \n",
       "2016-04-14       NaN  356300.0  14000.0          NaN        NaN   44200.0   \n",
       "2016-04-15       NaN  829500.0  19300.0          NaN        NaN   55500.0   \n",
       "...              ...       ...      ...          ...        ...       ...   \n",
       "2021-04-05  658000.0  551500.0  10900.0   84451900.0  3294000.0  201100.0   \n",
       "2021-04-06  375200.0  849300.0   9300.0  123818000.0  2267600.0  159100.0   \n",
       "2021-04-07  172300.0  686100.0  17800.0   53897500.0  3534400.0  201300.0   \n",
       "2021-04-08  444400.0  941400.0  13300.0   44806700.0  2549300.0  232900.0   \n",
       "2021-04-09  341000.0  542300.0  26200.0   39581500.0  3827900.0  136600.0   \n",
       "\n",
       "                                            \n",
       "                  ZTS        ZUO      ZYME  \n",
       "Date                                        \n",
       "2016-04-11  3962100.0        NaN       NaN  \n",
       "2016-04-12  3634800.0        NaN       NaN  \n",
       "2016-04-13  3295700.0        NaN       NaN  \n",
       "2016-04-14  3065300.0        NaN       NaN  \n",
       "2016-04-15  3189400.0        NaN       NaN  \n",
       "...               ...        ...       ...  \n",
       "2021-04-05  1212600.0  1091300.0  262600.0  \n",
       "2021-04-06  1802500.0  1127400.0  251500.0  \n",
       "2021-04-07  1660500.0   744600.0  239000.0  \n",
       "2021-04-08  3440800.0  2354300.0  110900.0  \n",
       "2021-04-09  1821900.0  1988200.0  243600.0  \n",
       "\n",
       "[1265 rows x 16572 columns]"
      ],
      "text/html": "<div>\n<style scoped>\n    .dataframe tbody tr th:only-of-type {\n        vertical-align: middle;\n    }\n\n    .dataframe tbody tr th {\n        vertical-align: top;\n    }\n\n    .dataframe thead tr th {\n        text-align: left;\n    }\n\n    .dataframe thead tr:last-of-type th {\n        text-align: right;\n    }\n</style>\n<table border=\"1\" class=\"dataframe\">\n  <thead>\n    <tr>\n      <th></th>\n      <th colspan=\"10\" halign=\"left\">Adj Close</th>\n      <th>...</th>\n      <th colspan=\"10\" halign=\"left\">Volume</th>\n    </tr>\n    <tr>\n      <th></th>\n      <th>A</th>\n      <th>AA</th>\n      <th>AAMC</th>\n      <th>AAN</th>\n      <th>AAP</th>\n      <th>AAT</th>\n      <th>AAU</th>\n      <th>AB</th>\n      <th>ABB</th>\n      <th>ABBV</th>\n      <th>...</th>\n      <th>ZBH</th>\n      <th>ZDGE</th>\n      <th>ZEN</th>\n      <th>ZNH</th>\n      <th>ZOM</th>\n      <th>ZTO</th>\n      <th>ZTR</th>\n      <th>ZTS</th>\n      <th>ZUO</th>\n      <th>ZYME</th>\n    </tr>\n    <tr>\n      <th>Date</th>\n      <th></th>\n      <th></th>\n      <th></th>\n      <th></th>\n      <th></th>\n      <th></th>\n      <th></th>\n      <th></th>\n      <th></th>\n      <th></th>\n      <th></th>\n      <th></th>\n      <th></th>\n      <th></th>\n      <th></th>\n      <th></th>\n      <th></th>\n      <th></th>\n      <th></th>\n      <th></th>\n      <th></th>\n    </tr>\n  </thead>\n  <tbody>\n    <tr>\n      <th>2016-04-11</th>\n      <td>37.702133</td>\n      <td>23.178484</td>\n      <td>20.120001</td>\n      <td>NaN</td>\n      <td>152.112793</td>\n      <td>33.564930</td>\n      <td>1.22</td>\n      <td>15.151378</td>\n      <td>15.543870</td>\n      <td>46.850891</td>\n      <td>...</td>\n      <td>1396000.0</td>\n      <td>NaN</td>\n      <td>462800.0</td>\n      <td>54300.0</td>\n      <td>NaN</td>\n      <td>NaN</td>\n      <td>85000.0</td>\n      <td>3962100.0</td>\n      <td>NaN</td>\n      <td>NaN</td>\n    </tr>\n    <tr>\n      <th>2016-04-12</th>\n      <td>38.027393</td>\n      <td>22.559755</td>\n      <td>20.230000</td>\n      <td>NaN</td>\n      <td>153.813065</td>\n      <td>33.582352</td>\n      <td>1.21</td>\n      <td>15.062325</td>\n      <td>15.800397</td>\n      <td>47.964104</td>\n      <td>...</td>\n      <td>1898800.0</td>\n      <td>NaN</td>\n      <td>544900.0</td>\n      <td>35500.0</td>\n      <td>NaN</td>\n      <td>NaN</td>\n      <td>44500.0</td>\n      <td>3634800.0</td>\n      <td>NaN</td>\n      <td>NaN</td>\n    </tr>\n    <tr>\n      <th>2016-04-13</th>\n      <td>38.926662</td>\n      <td>23.297468</td>\n      <td>19.370001</td>\n      <td>NaN</td>\n      <td>157.734604</td>\n      <td>33.364571</td>\n      <td>1.16</td>\n      <td>15.138652</td>\n      <td>15.856514</td>\n      <td>47.753872</td>\n      <td>...</td>\n      <td>2541600.0</td>\n      <td>NaN</td>\n      <td>533900.0</td>\n      <td>54500.0</td>\n      <td>NaN</td>\n      <td>NaN</td>\n      <td>44800.0</td>\n      <td>3295700.0</td>\n      <td>NaN</td>\n      <td>NaN</td>\n    </tr>\n    <tr>\n      <th>2016-04-14</th>\n      <td>39.012753</td>\n      <td>23.821007</td>\n      <td>19.860001</td>\n      <td>NaN</td>\n      <td>158.176880</td>\n      <td>33.434265</td>\n      <td>1.17</td>\n      <td>15.094130</td>\n      <td>15.912626</td>\n      <td>47.931755</td>\n      <td>...</td>\n      <td>1548400.0</td>\n      <td>NaN</td>\n      <td>356300.0</td>\n      <td>14000.0</td>\n      <td>NaN</td>\n      <td>NaN</td>\n      <td>44200.0</td>\n      <td>3065300.0</td>\n      <td>NaN</td>\n      <td>NaN</td>\n    </tr>\n    <tr>\n      <th>2016-04-15</th>\n      <td>39.137123</td>\n      <td>23.821007</td>\n      <td>19.889999</td>\n      <td>NaN</td>\n      <td>158.422577</td>\n      <td>33.582352</td>\n      <td>1.16</td>\n      <td>15.062325</td>\n      <td>15.864529</td>\n      <td>48.117729</td>\n      <td>...</td>\n      <td>1806300.0</td>\n      <td>NaN</td>\n      <td>829500.0</td>\n      <td>19300.0</td>\n      <td>NaN</td>\n      <td>NaN</td>\n      <td>55500.0</td>\n      <td>3189400.0</td>\n      <td>NaN</td>\n      <td>NaN</td>\n    </tr>\n    <tr>\n      <th>...</th>\n      <td>...</td>\n      <td>...</td>\n      <td>...</td>\n      <td>...</td>\n      <td>...</td>\n      <td>...</td>\n      <td>...</td>\n      <td>...</td>\n      <td>...</td>\n      <td>...</td>\n      <td>...</td>\n      <td>...</td>\n      <td>...</td>\n      <td>...</td>\n      <td>...</td>\n      <td>...</td>\n      <td>...</td>\n      <td>...</td>\n      <td>...</td>\n      <td>...</td>\n      <td>...</td>\n    </tr>\n    <tr>\n      <th>2021-04-05</th>\n      <td>130.000000</td>\n      <td>31.549999</td>\n      <td>19.020000</td>\n      <td>26.570000</td>\n      <td>183.229996</td>\n      <td>32.500000</td>\n      <td>0.54</td>\n      <td>41.380001</td>\n      <td>31.320000</td>\n      <td>106.139999</td>\n      <td>...</td>\n      <td>788900.0</td>\n      <td>658000.0</td>\n      <td>551500.0</td>\n      <td>10900.0</td>\n      <td>84451900.0</td>\n      <td>3294000.0</td>\n      <td>201100.0</td>\n      <td>1212600.0</td>\n      <td>1091300.0</td>\n      <td>262600.0</td>\n    </tr>\n    <tr>\n      <th>2021-04-06</th>\n      <td>131.039993</td>\n      <td>31.309999</td>\n      <td>19.389999</td>\n      <td>26.010000</td>\n      <td>183.649994</td>\n      <td>33.020000</td>\n      <td>0.56</td>\n      <td>40.750000</td>\n      <td>31.160000</td>\n      <td>105.379997</td>\n      <td>...</td>\n      <td>795800.0</td>\n      <td>375200.0</td>\n      <td>849300.0</td>\n      <td>9300.0</td>\n      <td>123818000.0</td>\n      <td>2267600.0</td>\n      <td>159100.0</td>\n      <td>1802500.0</td>\n      <td>1127400.0</td>\n      <td>251500.0</td>\n    </tr>\n    <tr>\n      <th>2021-04-07</th>\n      <td>129.339996</td>\n      <td>31.520000</td>\n      <td>18.680000</td>\n      <td>25.160000</td>\n      <td>182.619995</td>\n      <td>33.029999</td>\n      <td>0.54</td>\n      <td>40.580002</td>\n      <td>31.209999</td>\n      <td>105.209999</td>\n      <td>...</td>\n      <td>691400.0</td>\n      <td>172300.0</td>\n      <td>686100.0</td>\n      <td>17800.0</td>\n      <td>53897500.0</td>\n      <td>3534400.0</td>\n      <td>201300.0</td>\n      <td>1660500.0</td>\n      <td>744600.0</td>\n      <td>239000.0</td>\n    </tr>\n    <tr>\n      <th>2021-04-08</th>\n      <td>130.690002</td>\n      <td>31.450001</td>\n      <td>19.010000</td>\n      <td>24.940001</td>\n      <td>180.500000</td>\n      <td>32.939999</td>\n      <td>0.55</td>\n      <td>40.680000</td>\n      <td>31.580000</td>\n      <td>106.099998</td>\n      <td>...</td>\n      <td>804700.0</td>\n      <td>444400.0</td>\n      <td>941400.0</td>\n      <td>13300.0</td>\n      <td>44806700.0</td>\n      <td>2549300.0</td>\n      <td>232900.0</td>\n      <td>3440800.0</td>\n      <td>2354300.0</td>\n      <td>110900.0</td>\n    </tr>\n    <tr>\n      <th>2021-04-09</th>\n      <td>131.910004</td>\n      <td>31.360001</td>\n      <td>19.299999</td>\n      <td>24.650000</td>\n      <td>183.970001</td>\n      <td>33.150002</td>\n      <td>0.54</td>\n      <td>40.290001</td>\n      <td>32.080002</td>\n      <td>107.540001</td>\n      <td>...</td>\n      <td>1508400.0</td>\n      <td>341000.0</td>\n      <td>542300.0</td>\n      <td>26200.0</td>\n      <td>39581500.0</td>\n      <td>3827900.0</td>\n      <td>136600.0</td>\n      <td>1821900.0</td>\n      <td>1988200.0</td>\n      <td>243600.0</td>\n    </tr>\n  </tbody>\n</table>\n<p>1265 rows × 16572 columns</p>\n</div>"
     },
     "metadata": {},
     "execution_count": 15
    }
   ],
   "source": [
    "# grabbing 5 year historical data of all tickers\n",
    "data = yf.download(tickers, start=five_years, end=today)\n",
    "data"
   ]
  },
  {
   "cell_type": "code",
   "execution_count": 30,
   "metadata": {},
   "outputs": [
    {
     "output_type": "stream",
     "name": "stdout",
     "text": [
      "[*********************100%***********************]  1 of 1 completed\n"
     ]
    },
    {
     "output_type": "execute_result",
     "data": {
      "text/plain": [
       "                  Open        High         Low       Close   Adj Close  \\\n",
       "Date                                                                     \n",
       "2016-04-11   27.242500   27.652500   27.207500   27.254999   25.350115   \n",
       "2016-04-12   27.334999   27.625000   27.165001   27.610001   25.680305   \n",
       "2016-04-13   27.700001   28.084999   27.700001   28.010000   26.052345   \n",
       "2016-04-14   27.905001   28.097500   27.832500   28.025000   26.066298   \n",
       "2016-04-15   28.027500   28.075001   27.432501   27.462500   25.543112   \n",
       "...                ...         ...         ...         ...         ...   \n",
       "2021-04-05  123.870003  126.160004  123.070000  125.900002  125.900002   \n",
       "2021-04-06  126.500000  127.129997  125.650002  126.209999  126.209999   \n",
       "2021-04-07  125.830002  127.919998  125.139999  127.900002  127.900002   \n",
       "2021-04-08  128.949997  130.389999  128.520004  130.360001  130.360001   \n",
       "2021-04-09  129.800003  133.039993  129.470001  133.000000  133.000000   \n",
       "\n",
       "               Volume  \n",
       "Date                   \n",
       "2016-04-11  117630000  \n",
       "2016-04-12  108929200  \n",
       "2016-04-13  133029200  \n",
       "2016-04-14  101895600  \n",
       "2016-04-15  187756000  \n",
       "...               ...  \n",
       "2021-04-05   88651200  \n",
       "2021-04-06   80171300  \n",
       "2021-04-07   83466700  \n",
       "2021-04-08   88844600  \n",
       "2021-04-09  106513800  \n",
       "\n",
       "[1259 rows x 6 columns]"
      ],
      "text/html": "<div>\n<style scoped>\n    .dataframe tbody tr th:only-of-type {\n        vertical-align: middle;\n    }\n\n    .dataframe tbody tr th {\n        vertical-align: top;\n    }\n\n    .dataframe thead th {\n        text-align: right;\n    }\n</style>\n<table border=\"1\" class=\"dataframe\">\n  <thead>\n    <tr style=\"text-align: right;\">\n      <th></th>\n      <th>Open</th>\n      <th>High</th>\n      <th>Low</th>\n      <th>Close</th>\n      <th>Adj Close</th>\n      <th>Volume</th>\n    </tr>\n    <tr>\n      <th>Date</th>\n      <th></th>\n      <th></th>\n      <th></th>\n      <th></th>\n      <th></th>\n      <th></th>\n    </tr>\n  </thead>\n  <tbody>\n    <tr>\n      <th>2016-04-11</th>\n      <td>27.242500</td>\n      <td>27.652500</td>\n      <td>27.207500</td>\n      <td>27.254999</td>\n      <td>25.350115</td>\n      <td>117630000</td>\n    </tr>\n    <tr>\n      <th>2016-04-12</th>\n      <td>27.334999</td>\n      <td>27.625000</td>\n      <td>27.165001</td>\n      <td>27.610001</td>\n      <td>25.680305</td>\n      <td>108929200</td>\n    </tr>\n    <tr>\n      <th>2016-04-13</th>\n      <td>27.700001</td>\n      <td>28.084999</td>\n      <td>27.700001</td>\n      <td>28.010000</td>\n      <td>26.052345</td>\n      <td>133029200</td>\n    </tr>\n    <tr>\n      <th>2016-04-14</th>\n      <td>27.905001</td>\n      <td>28.097500</td>\n      <td>27.832500</td>\n      <td>28.025000</td>\n      <td>26.066298</td>\n      <td>101895600</td>\n    </tr>\n    <tr>\n      <th>2016-04-15</th>\n      <td>28.027500</td>\n      <td>28.075001</td>\n      <td>27.432501</td>\n      <td>27.462500</td>\n      <td>25.543112</td>\n      <td>187756000</td>\n    </tr>\n    <tr>\n      <th>...</th>\n      <td>...</td>\n      <td>...</td>\n      <td>...</td>\n      <td>...</td>\n      <td>...</td>\n      <td>...</td>\n    </tr>\n    <tr>\n      <th>2021-04-05</th>\n      <td>123.870003</td>\n      <td>126.160004</td>\n      <td>123.070000</td>\n      <td>125.900002</td>\n      <td>125.900002</td>\n      <td>88651200</td>\n    </tr>\n    <tr>\n      <th>2021-04-06</th>\n      <td>126.500000</td>\n      <td>127.129997</td>\n      <td>125.650002</td>\n      <td>126.209999</td>\n      <td>126.209999</td>\n      <td>80171300</td>\n    </tr>\n    <tr>\n      <th>2021-04-07</th>\n      <td>125.830002</td>\n      <td>127.919998</td>\n      <td>125.139999</td>\n      <td>127.900002</td>\n      <td>127.900002</td>\n      <td>83466700</td>\n    </tr>\n    <tr>\n      <th>2021-04-08</th>\n      <td>128.949997</td>\n      <td>130.389999</td>\n      <td>128.520004</td>\n      <td>130.360001</td>\n      <td>130.360001</td>\n      <td>88844600</td>\n    </tr>\n    <tr>\n      <th>2021-04-09</th>\n      <td>129.800003</td>\n      <td>133.039993</td>\n      <td>129.470001</td>\n      <td>133.000000</td>\n      <td>133.000000</td>\n      <td>106513800</td>\n    </tr>\n  </tbody>\n</table>\n<p>1259 rows × 6 columns</p>\n</div>"
     },
     "metadata": {},
     "execution_count": 30
    }
   ],
   "source": [
    "apple = yf.download(\"AAPL\", start=five_years, end=today)\n",
    "apple\n",
    "\n",
    "# data_df = pd.DataFrame(data=data, index=True)\n",
    "# list(data.columns)"
   ]
  },
  {
   "cell_type": "code",
   "execution_count": 34,
   "metadata": {},
   "outputs": [
    {
     "output_type": "execute_result",
     "data": {
      "text/plain": [
       "           Date        Open        High         Low       Close   Adj Close  \\\n",
       "0    2016-04-11   27.242500   27.652500   27.207500   27.254999   25.350115   \n",
       "1    2016-04-12   27.334999   27.625000   27.165001   27.610001   25.680305   \n",
       "2    2016-04-13   27.700001   28.084999   27.700001   28.010000   26.052345   \n",
       "3    2016-04-14   27.905001   28.097500   27.832500   28.025000   26.066298   \n",
       "4    2016-04-15   28.027500   28.075001   27.432501   27.462500   25.543112   \n",
       "...         ...         ...         ...         ...         ...         ...   \n",
       "1254 2021-04-05  123.870003  126.160004  123.070000  125.900002  125.900002   \n",
       "1255 2021-04-06  126.500000  127.129997  125.650002  126.209999  126.209999   \n",
       "1256 2021-04-07  125.830002  127.919998  125.139999  127.900002  127.900002   \n",
       "1257 2021-04-08  128.949997  130.389999  128.520004  130.360001  130.360001   \n",
       "1258 2021-04-09  129.800003  133.039993  129.470001  133.000000  133.000000   \n",
       "\n",
       "         Volume  \n",
       "0     117630000  \n",
       "1     108929200  \n",
       "2     133029200  \n",
       "3     101895600  \n",
       "4     187756000  \n",
       "...         ...  \n",
       "1254   88651200  \n",
       "1255   80171300  \n",
       "1256   83466700  \n",
       "1257   88844600  \n",
       "1258  106513800  \n",
       "\n",
       "[1259 rows x 7 columns]"
      ],
      "text/html": "<div>\n<style scoped>\n    .dataframe tbody tr th:only-of-type {\n        vertical-align: middle;\n    }\n\n    .dataframe tbody tr th {\n        vertical-align: top;\n    }\n\n    .dataframe thead th {\n        text-align: right;\n    }\n</style>\n<table border=\"1\" class=\"dataframe\">\n  <thead>\n    <tr style=\"text-align: right;\">\n      <th></th>\n      <th>Date</th>\n      <th>Open</th>\n      <th>High</th>\n      <th>Low</th>\n      <th>Close</th>\n      <th>Adj Close</th>\n      <th>Volume</th>\n    </tr>\n  </thead>\n  <tbody>\n    <tr>\n      <th>0</th>\n      <td>2016-04-11</td>\n      <td>27.242500</td>\n      <td>27.652500</td>\n      <td>27.207500</td>\n      <td>27.254999</td>\n      <td>25.350115</td>\n      <td>117630000</td>\n    </tr>\n    <tr>\n      <th>1</th>\n      <td>2016-04-12</td>\n      <td>27.334999</td>\n      <td>27.625000</td>\n      <td>27.165001</td>\n      <td>27.610001</td>\n      <td>25.680305</td>\n      <td>108929200</td>\n    </tr>\n    <tr>\n      <th>2</th>\n      <td>2016-04-13</td>\n      <td>27.700001</td>\n      <td>28.084999</td>\n      <td>27.700001</td>\n      <td>28.010000</td>\n      <td>26.052345</td>\n      <td>133029200</td>\n    </tr>\n    <tr>\n      <th>3</th>\n      <td>2016-04-14</td>\n      <td>27.905001</td>\n      <td>28.097500</td>\n      <td>27.832500</td>\n      <td>28.025000</td>\n      <td>26.066298</td>\n      <td>101895600</td>\n    </tr>\n    <tr>\n      <th>4</th>\n      <td>2016-04-15</td>\n      <td>28.027500</td>\n      <td>28.075001</td>\n      <td>27.432501</td>\n      <td>27.462500</td>\n      <td>25.543112</td>\n      <td>187756000</td>\n    </tr>\n    <tr>\n      <th>...</th>\n      <td>...</td>\n      <td>...</td>\n      <td>...</td>\n      <td>...</td>\n      <td>...</td>\n      <td>...</td>\n      <td>...</td>\n    </tr>\n    <tr>\n      <th>1254</th>\n      <td>2021-04-05</td>\n      <td>123.870003</td>\n      <td>126.160004</td>\n      <td>123.070000</td>\n      <td>125.900002</td>\n      <td>125.900002</td>\n      <td>88651200</td>\n    </tr>\n    <tr>\n      <th>1255</th>\n      <td>2021-04-06</td>\n      <td>126.500000</td>\n      <td>127.129997</td>\n      <td>125.650002</td>\n      <td>126.209999</td>\n      <td>126.209999</td>\n      <td>80171300</td>\n    </tr>\n    <tr>\n      <th>1256</th>\n      <td>2021-04-07</td>\n      <td>125.830002</td>\n      <td>127.919998</td>\n      <td>125.139999</td>\n      <td>127.900002</td>\n      <td>127.900002</td>\n      <td>83466700</td>\n    </tr>\n    <tr>\n      <th>1257</th>\n      <td>2021-04-08</td>\n      <td>128.949997</td>\n      <td>130.389999</td>\n      <td>128.520004</td>\n      <td>130.360001</td>\n      <td>130.360001</td>\n      <td>88844600</td>\n    </tr>\n    <tr>\n      <th>1258</th>\n      <td>2021-04-09</td>\n      <td>129.800003</td>\n      <td>133.039993</td>\n      <td>129.470001</td>\n      <td>133.000000</td>\n      <td>133.000000</td>\n      <td>106513800</td>\n    </tr>\n  </tbody>\n</table>\n<p>1259 rows × 7 columns</p>\n</div>"
     },
     "metadata": {},
     "execution_count": 34
    }
   ],
   "source": [
    "apple_df = pd.DataFrame(apple)\n",
    "apple_df = apple_df.reset_index(drop=False)\n",
    "apple_df"
   ]
  },
  {
   "cell_type": "code",
   "execution_count": null,
   "metadata": {},
   "outputs": [],
   "source": []
  },
  {
   "cell_type": "code",
   "execution_count": 15,
   "metadata": {},
   "outputs": [
    {
     "output_type": "execute_result",
     "data": {
      "text/plain": [
       "{'zip': '95014',\n",
       " 'sector': 'Technology',\n",
       " 'fullTimeEmployees': 147000,\n",
       " 'longBusinessSummary': 'Apple Inc. designs, manufactures, and markets smartphones, personal computers, tablets, wearables, and accessories worldwide. It also sells various related services. The company offers iPhone, a line of smartphones; Mac, a line of personal computers; iPad, a line of multi-purpose tablets; and wearables, home, and accessories comprising AirPods, Apple TV, Apple Watch, Beats products, HomePod, iPod touch, and other Apple-branded and third-party accessories. It also provides AppleCare support services; cloud services store services; and operates various platforms, including the App Store, that allow customers to discover and download applications and digital content, such as books, music, video, games, and podcasts. In addition, the company offers various services, such as Apple Arcade, a game subscription service; Apple Music, which offers users a curated listening experience with on-demand radio stations; Apple News+, a subscription news and magazine service; Apple TV+, which offers exclusive original content; Apple Card, a co-branded credit card; and Apple Pay, a cashless payment service, as well as licenses its intellectual property. The company serves consumers, and small and mid-sized businesses; and the education, enterprise, and government markets. It sells and delivers third-party applications for its products through the App Store. The company also sells its products through its retail and online stores, and direct sales force; and third-party cellular network carriers, wholesalers, retailers, and resellers. Apple Inc. was founded in 1977 and is headquartered in Cupertino, California.',\n",
       " 'city': 'Cupertino',\n",
       " 'phone': '408-996-1010',\n",
       " 'state': 'CA',\n",
       " 'country': 'United States',\n",
       " 'companyOfficers': [],\n",
       " 'website': 'http://www.apple.com',\n",
       " 'maxAge': 1,\n",
       " 'address1': 'One Apple Park Way',\n",
       " 'industry': 'Consumer Electronics',\n",
       " 'previousClose': 130.36,\n",
       " 'regularMarketOpen': 129.8,\n",
       " 'twoHundredDayAverage': 123.75725,\n",
       " 'trailingAnnualDividendYield': 0.006190549,\n",
       " 'payoutRatio': 0.2177,\n",
       " 'volume24Hr': None,\n",
       " 'regularMarketDayHigh': 133,\n",
       " 'navPrice': None,\n",
       " 'averageDailyVolume10Day': 91561257,\n",
       " 'totalAssets': None,\n",
       " 'regularMarketPreviousClose': 130.36,\n",
       " 'fiftyDayAverage': 123.39257,\n",
       " 'trailingAnnualDividendRate': 0.807,\n",
       " 'open': 129.8,\n",
       " 'toCurrency': None,\n",
       " 'averageVolume10days': 91561257,\n",
       " 'expireDate': None,\n",
       " 'yield': None,\n",
       " 'algorithm': None,\n",
       " 'dividendRate': 0.8200000000000001,\n",
       " 'exDividendDate': 1612483200,\n",
       " 'beta': 1.219525,\n",
       " 'circulatingSupply': None,\n",
       " 'startDate': None,\n",
       " 'regularMarketDayLow': 129.47,\n",
       " 'priceHint': 2,\n",
       " 'currency': 'USD',\n",
       " 'trailingPE': 36.07133,\n",
       " 'regularMarketVolume': 101979450,\n",
       " 'lastMarket': None,\n",
       " 'maxSupply': None,\n",
       " 'openInterest': None,\n",
       " 'marketCap': 2232733401088,\n",
       " 'volumeAllCurrencies': None,\n",
       " 'strikePrice': None,\n",
       " 'averageVolume': 106948056,\n",
       " 'priceToSalesTrailing12Months': 7.5908456,\n",
       " 'dayLow': 129.47,\n",
       " 'ask': 132.92,\n",
       " 'ytdReturn': None,\n",
       " 'askSize': 1000,\n",
       " 'volume': 101979450,\n",
       " 'fiftyTwoWeekHigh': 145.09,\n",
       " 'forwardPE': 28.296808,\n",
       " 'fromCurrency': None,\n",
       " 'fiveYearAvgDividendYield': 1.3900000000000001,\n",
       " 'fiftyTwoWeekLow': 66.3575,\n",
       " 'bid': 132.9,\n",
       " 'tradeable': False,\n",
       " 'dividendYield': 0.006200000000000001,\n",
       " 'bidSize': 900,\n",
       " 'dayHigh': 133,\n",
       " 'exchange': 'NMS',\n",
       " 'shortName': 'Apple Inc.',\n",
       " 'longName': 'Apple Inc.',\n",
       " 'exchangeTimezoneName': 'America/New_York',\n",
       " 'exchangeTimezoneShortName': 'EDT',\n",
       " 'isEsgPopulated': False,\n",
       " 'gmtOffSetMilliseconds': '-14400000',\n",
       " 'quoteType': 'EQUITY',\n",
       " 'symbol': 'AAPL',\n",
       " 'messageBoardId': 'finmb_24937',\n",
       " 'market': 'us_market',\n",
       " 'annualHoldingsTurnover': None,\n",
       " 'enterpriseToRevenue': 7.711,\n",
       " 'beta3Year': None,\n",
       " 'profitMargins': 0.21735000000000002,\n",
       " 'enterpriseToEbitda': 26.632,\n",
       " '52WeekChange': 0.94693506,\n",
       " 'morningStarRiskRating': None,\n",
       " 'forwardEps': 4.7,\n",
       " 'revenueQuarterlyGrowth': None,\n",
       " 'sharesOutstanding': 16788100096,\n",
       " 'fundInceptionDate': None,\n",
       " 'annualReportExpenseRatio': None,\n",
       " 'bookValue': 3.936,\n",
       " 'sharesShort': 107011007,\n",
       " 'sharesPercentSharesOut': 0.0064,\n",
       " 'fundFamily': None,\n",
       " 'lastFiscalYearEnd': 1601078400,\n",
       " 'heldPercentInstitutions': 0.59790003,\n",
       " 'netIncomeToCommon': 63929999360,\n",
       " 'trailingEps': 3.6870000000000003,\n",
       " 'lastDividendValue': 0.20500000000000002,\n",
       " 'SandP52WeekChange': 0.49505913,\n",
       " 'priceToBook': 33.78938,\n",
       " 'heldPercentInsiders': 0.00076,\n",
       " 'nextFiscalYearEnd': 1664150400,\n",
       " 'mostRecentQuarter': 1608940800,\n",
       " 'shortRatio': 0.89,\n",
       " 'sharesShortPreviousMonthDate': 1613088000,\n",
       " 'floatShares': 16770636380,\n",
       " 'enterpriseValue': 2267949826048,\n",
       " 'threeYearAverageReturn': None,\n",
       " 'lastSplitDate': 1598832000,\n",
       " 'lastSplitFactor': '4:1',\n",
       " 'legalType': None,\n",
       " 'lastDividendDate': 1612483200,\n",
       " 'morningStarOverallRating': None,\n",
       " 'earningsQuarterlyGrowth': 0.293,\n",
       " 'dateShortInterest': 1615766400,\n",
       " 'pegRatio': 1.8399999999999999,\n",
       " 'lastCapGain': None,\n",
       " 'shortPercentOfFloat': 0.0064,\n",
       " 'sharesShortPriorMonth': 88329668,\n",
       " 'impliedSharesOutstanding': None,\n",
       " 'category': None,\n",
       " 'fiveYearAverageReturn': None,\n",
       " 'regularMarketPrice': 132.995,\n",
       " 'logo_url': 'https://logo.clearbit.com/apple.com'}"
      ]
     },
     "metadata": {},
     "execution_count": 15
    }
   ],
   "source": [
    "# How to get data on each stock\n",
    "apple = yf.Ticker(\"AAPL\")\n",
    "apple.info"
   ]
  },
  {
   "cell_type": "code",
   "execution_count": 26,
   "metadata": {},
   "outputs": [
    {
     "data": {
      "application/vnd.plotly.v1+json": {
       "config": {
        "plotlyServerURL": "https://plot.ly"
       },
       "data": [
        {
         "hovertemplate": "x=%{x}<br>y=%{y}<extra></extra>",
         "legendgroup": "",
         "marker": {
          "color": "#636efa",
          "symbol": "circle"
         },
         "mode": "markers",
         "name": "",
         "orientation": "v",
         "showlegend": false,
         "type": "scatter",
         "x": [
          "2019-04-10T00:00:00",
          "2019-04-11T00:00:00",
          "2019-04-12T00:00:00",
          "2019-04-15T00:00:00",
          "2019-04-16T00:00:00",
          "2019-04-17T00:00:00",
          "2019-04-18T00:00:00",
          "2019-04-22T00:00:00",
          "2019-04-23T00:00:00",
          "2019-04-24T00:00:00",
          "2019-04-25T00:00:00",
          "2019-04-26T00:00:00",
          "2019-04-29T00:00:00",
          "2019-04-30T00:00:00",
          "2019-05-01T00:00:00",
          "2019-05-02T00:00:00",
          "2019-05-03T00:00:00",
          "2019-05-06T00:00:00",
          "2019-05-07T00:00:00",
          "2019-05-08T00:00:00",
          "2019-05-09T00:00:00",
          "2019-05-10T00:00:00",
          "2019-05-13T00:00:00",
          "2019-05-14T00:00:00",
          "2019-05-15T00:00:00",
          "2019-05-16T00:00:00",
          "2019-05-17T00:00:00",
          "2019-05-20T00:00:00",
          "2019-05-21T00:00:00",
          "2019-05-22T00:00:00",
          "2019-05-23T00:00:00",
          "2019-05-24T00:00:00",
          "2019-05-28T00:00:00",
          "2019-05-29T00:00:00",
          "2019-05-30T00:00:00",
          "2019-05-31T00:00:00",
          "2019-06-03T00:00:00",
          "2019-06-04T00:00:00",
          "2019-06-05T00:00:00",
          "2019-06-06T00:00:00",
          "2019-06-07T00:00:00",
          "2019-06-10T00:00:00",
          "2019-06-11T00:00:00",
          "2019-06-12T00:00:00",
          "2019-06-13T00:00:00",
          "2019-06-14T00:00:00",
          "2019-06-17T00:00:00",
          "2019-06-18T00:00:00",
          "2019-06-19T00:00:00",
          "2019-06-20T00:00:00",
          "2019-06-21T00:00:00",
          "2019-06-24T00:00:00",
          "2019-06-25T00:00:00",
          "2019-06-26T00:00:00",
          "2019-06-27T00:00:00",
          "2019-06-28T00:00:00",
          "2019-07-01T00:00:00",
          "2019-07-02T00:00:00",
          "2019-07-03T00:00:00",
          "2019-07-05T00:00:00",
          "2019-07-08T00:00:00",
          "2019-07-09T00:00:00",
          "2019-07-10T00:00:00",
          "2019-07-11T00:00:00",
          "2019-07-12T00:00:00",
          "2019-07-15T00:00:00",
          "2019-07-16T00:00:00",
          "2019-07-17T00:00:00",
          "2019-07-18T00:00:00",
          "2019-07-19T00:00:00",
          "2019-07-22T00:00:00",
          "2019-07-23T00:00:00",
          "2019-07-24T00:00:00",
          "2019-07-25T00:00:00",
          "2019-07-26T00:00:00",
          "2019-07-29T00:00:00",
          "2019-07-30T00:00:00",
          "2019-07-31T00:00:00",
          "2019-08-01T00:00:00",
          "2019-08-02T00:00:00",
          "2019-08-05T00:00:00",
          "2019-08-06T00:00:00",
          "2019-08-07T00:00:00",
          "2019-08-08T00:00:00",
          "2019-08-09T00:00:00",
          "2019-08-12T00:00:00",
          "2019-08-13T00:00:00",
          "2019-08-14T00:00:00",
          "2019-08-15T00:00:00",
          "2019-08-16T00:00:00",
          "2019-08-19T00:00:00",
          "2019-08-20T00:00:00",
          "2019-08-21T00:00:00",
          "2019-08-22T00:00:00",
          "2019-08-23T00:00:00",
          "2019-08-26T00:00:00",
          "2019-08-27T00:00:00",
          "2019-08-28T00:00:00",
          "2019-08-29T00:00:00",
          "2019-08-30T00:00:00",
          "2019-09-03T00:00:00",
          "2019-09-04T00:00:00",
          "2019-09-05T00:00:00",
          "2019-09-06T00:00:00",
          "2019-09-09T00:00:00",
          "2019-09-10T00:00:00",
          "2019-09-11T00:00:00",
          "2019-09-12T00:00:00",
          "2019-09-13T00:00:00",
          "2019-09-16T00:00:00",
          "2019-09-17T00:00:00",
          "2019-09-18T00:00:00",
          "2019-09-19T00:00:00",
          "2019-09-20T00:00:00",
          "2019-09-23T00:00:00",
          "2019-09-24T00:00:00",
          "2019-09-25T00:00:00",
          "2019-09-26T00:00:00",
          "2019-09-27T00:00:00",
          "2019-09-30T00:00:00",
          "2019-10-01T00:00:00",
          "2019-10-02T00:00:00",
          "2019-10-03T00:00:00",
          "2019-10-04T00:00:00",
          "2019-10-07T00:00:00",
          "2019-10-08T00:00:00",
          "2019-10-09T00:00:00",
          "2019-10-10T00:00:00",
          "2019-10-11T00:00:00",
          "2019-10-14T00:00:00",
          "2019-10-15T00:00:00",
          "2019-10-16T00:00:00",
          "2019-10-17T00:00:00",
          "2019-10-18T00:00:00",
          "2019-10-21T00:00:00",
          "2019-10-22T00:00:00",
          "2019-10-23T00:00:00",
          "2019-10-24T00:00:00",
          "2019-10-25T00:00:00",
          "2019-10-28T00:00:00",
          "2019-10-29T00:00:00",
          "2019-10-30T00:00:00",
          "2019-10-31T00:00:00",
          "2019-11-01T00:00:00",
          "2019-11-04T00:00:00",
          "2019-11-05T00:00:00",
          "2019-11-06T00:00:00",
          "2019-11-07T00:00:00",
          "2019-11-08T00:00:00",
          "2019-11-11T00:00:00",
          "2019-11-12T00:00:00",
          "2019-11-13T00:00:00",
          "2019-11-14T00:00:00",
          "2019-11-15T00:00:00",
          "2019-11-18T00:00:00",
          "2019-11-19T00:00:00",
          "2019-11-20T00:00:00",
          "2019-11-21T00:00:00",
          "2019-11-22T00:00:00",
          "2019-11-25T00:00:00",
          "2019-11-26T00:00:00",
          "2019-11-27T00:00:00",
          "2019-11-29T00:00:00",
          "2019-12-02T00:00:00",
          "2019-12-03T00:00:00",
          "2019-12-04T00:00:00",
          "2019-12-05T00:00:00",
          "2019-12-06T00:00:00",
          "2019-12-09T00:00:00",
          "2019-12-10T00:00:00",
          "2019-12-11T00:00:00",
          "2019-12-12T00:00:00",
          "2019-12-13T00:00:00",
          "2019-12-16T00:00:00",
          "2019-12-17T00:00:00",
          "2019-12-18T00:00:00",
          "2019-12-19T00:00:00",
          "2019-12-20T00:00:00",
          "2019-12-23T00:00:00",
          "2019-12-24T00:00:00",
          "2019-12-26T00:00:00",
          "2019-12-27T00:00:00",
          "2019-12-30T00:00:00",
          "2019-12-31T00:00:00",
          "2020-01-02T00:00:00",
          "2020-01-03T00:00:00",
          "2020-01-06T00:00:00",
          "2020-01-07T00:00:00",
          "2020-01-08T00:00:00",
          "2020-01-09T00:00:00",
          "2020-01-10T00:00:00",
          "2020-01-13T00:00:00",
          "2020-01-14T00:00:00",
          "2020-01-15T00:00:00",
          "2020-01-16T00:00:00",
          "2020-01-17T00:00:00",
          "2020-01-21T00:00:00",
          "2020-01-22T00:00:00",
          "2020-01-23T00:00:00",
          "2020-01-24T00:00:00",
          "2020-01-27T00:00:00",
          "2020-01-28T00:00:00",
          "2020-01-29T00:00:00",
          "2020-01-30T00:00:00",
          "2020-01-31T00:00:00",
          "2020-02-03T00:00:00",
          "2020-02-04T00:00:00",
          "2020-02-05T00:00:00",
          "2020-02-06T00:00:00",
          "2020-02-07T00:00:00",
          "2020-02-10T00:00:00",
          "2020-02-11T00:00:00",
          "2020-02-12T00:00:00",
          "2020-02-13T00:00:00",
          "2020-02-14T00:00:00",
          "2020-02-18T00:00:00",
          "2020-02-19T00:00:00",
          "2020-02-20T00:00:00",
          "2020-02-21T00:00:00",
          "2020-02-24T00:00:00",
          "2020-02-25T00:00:00",
          "2020-02-26T00:00:00",
          "2020-02-27T00:00:00",
          "2020-02-28T00:00:00",
          "2020-03-02T00:00:00",
          "2020-03-03T00:00:00",
          "2020-03-04T00:00:00",
          "2020-03-05T00:00:00",
          "2020-03-06T00:00:00",
          "2020-03-09T00:00:00",
          "2020-03-10T00:00:00",
          "2020-03-11T00:00:00",
          "2020-03-12T00:00:00",
          "2020-03-13T00:00:00",
          "2020-03-16T00:00:00",
          "2020-03-17T00:00:00",
          "2020-03-18T00:00:00",
          "2020-03-19T00:00:00",
          "2020-03-20T00:00:00",
          "2020-03-23T00:00:00",
          "2020-03-24T00:00:00",
          "2020-03-25T00:00:00",
          "2020-03-26T00:00:00",
          "2020-03-27T00:00:00",
          "2020-03-30T00:00:00",
          "2020-03-31T00:00:00",
          "2020-04-01T00:00:00",
          "2020-04-02T00:00:00",
          "2020-04-03T00:00:00",
          "2020-04-06T00:00:00",
          "2020-04-07T00:00:00",
          "2020-04-08T00:00:00",
          "2020-04-09T00:00:00",
          "2020-04-13T00:00:00",
          "2020-04-14T00:00:00",
          "2020-04-15T00:00:00",
          "2020-04-16T00:00:00",
          "2020-04-17T00:00:00",
          "2020-04-20T00:00:00",
          "2020-04-21T00:00:00",
          "2020-04-22T00:00:00",
          "2020-04-23T00:00:00",
          "2020-04-24T00:00:00",
          "2020-04-27T00:00:00",
          "2020-04-28T00:00:00",
          "2020-04-29T00:00:00",
          "2020-04-30T00:00:00",
          "2020-05-01T00:00:00",
          "2020-05-04T00:00:00",
          "2020-05-05T00:00:00",
          "2020-05-06T00:00:00",
          "2020-05-07T00:00:00",
          "2020-05-08T00:00:00",
          "2020-05-11T00:00:00",
          "2020-05-12T00:00:00",
          "2020-05-13T00:00:00",
          "2020-05-14T00:00:00",
          "2020-05-15T00:00:00",
          "2020-05-18T00:00:00",
          "2020-05-19T00:00:00",
          "2020-05-20T00:00:00",
          "2020-05-21T00:00:00",
          "2020-05-22T00:00:00",
          "2020-05-26T00:00:00",
          "2020-05-27T00:00:00",
          "2020-05-28T00:00:00",
          "2020-05-29T00:00:00",
          "2020-06-01T00:00:00",
          "2020-06-02T00:00:00",
          "2020-06-03T00:00:00",
          "2020-06-04T00:00:00",
          "2020-06-05T00:00:00",
          "2020-06-08T00:00:00",
          "2020-06-09T00:00:00",
          "2020-06-10T00:00:00",
          "2020-06-11T00:00:00",
          "2020-06-12T00:00:00",
          "2020-06-15T00:00:00",
          "2020-06-16T00:00:00",
          "2020-06-17T00:00:00",
          "2020-06-18T00:00:00",
          "2020-06-19T00:00:00",
          "2020-06-22T00:00:00",
          "2020-06-23T00:00:00",
          "2020-06-24T00:00:00",
          "2020-06-25T00:00:00",
          "2020-06-26T00:00:00",
          "2020-06-29T00:00:00",
          "2020-06-30T00:00:00",
          "2020-07-01T00:00:00",
          "2020-07-02T00:00:00",
          "2020-07-06T00:00:00",
          "2020-07-07T00:00:00",
          "2020-07-08T00:00:00",
          "2020-07-09T00:00:00",
          "2020-07-10T00:00:00",
          "2020-07-13T00:00:00",
          "2020-07-14T00:00:00",
          "2020-07-15T00:00:00",
          "2020-07-16T00:00:00",
          "2020-07-17T00:00:00",
          "2020-07-20T00:00:00",
          "2020-07-21T00:00:00",
          "2020-07-22T00:00:00",
          "2020-07-23T00:00:00",
          "2020-07-24T00:00:00",
          "2020-07-27T00:00:00",
          "2020-07-28T00:00:00",
          "2020-07-29T00:00:00",
          "2020-07-30T00:00:00",
          "2020-07-31T00:00:00",
          "2020-08-03T00:00:00",
          "2020-08-04T00:00:00",
          "2020-08-05T00:00:00",
          "2020-08-06T00:00:00",
          "2020-08-07T00:00:00",
          "2020-08-10T00:00:00",
          "2020-08-11T00:00:00",
          "2020-08-12T00:00:00",
          "2020-08-13T00:00:00",
          "2020-08-14T00:00:00",
          "2020-08-17T00:00:00",
          "2020-08-18T00:00:00",
          "2020-08-19T00:00:00",
          "2020-08-20T00:00:00",
          "2020-08-21T00:00:00",
          "2020-08-24T00:00:00",
          "2020-08-25T00:00:00",
          "2020-08-26T00:00:00",
          "2020-08-27T00:00:00",
          "2020-08-28T00:00:00",
          "2020-08-31T00:00:00",
          "2020-09-01T00:00:00",
          "2020-09-02T00:00:00",
          "2020-09-03T00:00:00",
          "2020-09-04T00:00:00",
          "2020-09-08T00:00:00",
          "2020-09-09T00:00:00",
          "2020-09-10T00:00:00",
          "2020-09-11T00:00:00",
          "2020-09-14T00:00:00",
          "2020-09-15T00:00:00",
          "2020-09-16T00:00:00",
          "2020-09-17T00:00:00",
          "2020-09-18T00:00:00",
          "2020-09-21T00:00:00",
          "2020-09-22T00:00:00",
          "2020-09-23T00:00:00",
          "2020-09-24T00:00:00",
          "2020-09-25T00:00:00",
          "2020-09-28T00:00:00",
          "2020-09-29T00:00:00",
          "2020-09-30T00:00:00",
          "2020-10-01T00:00:00",
          "2020-10-02T00:00:00",
          "2020-10-05T00:00:00",
          "2020-10-06T00:00:00",
          "2020-10-07T00:00:00",
          "2020-10-08T00:00:00",
          "2020-10-09T00:00:00",
          "2020-10-12T00:00:00",
          "2020-10-13T00:00:00",
          "2020-10-14T00:00:00",
          "2020-10-15T00:00:00",
          "2020-10-16T00:00:00",
          "2020-10-19T00:00:00",
          "2020-10-20T00:00:00",
          "2020-10-21T00:00:00",
          "2020-10-22T00:00:00",
          "2020-10-23T00:00:00",
          "2020-10-26T00:00:00",
          "2020-10-27T00:00:00",
          "2020-10-28T00:00:00",
          "2020-10-29T00:00:00",
          "2020-10-30T00:00:00",
          "2020-11-02T00:00:00",
          "2020-11-03T00:00:00",
          "2020-11-04T00:00:00",
          "2020-11-05T00:00:00",
          "2020-11-06T00:00:00",
          "2020-11-09T00:00:00",
          "2020-11-10T00:00:00",
          "2020-11-11T00:00:00",
          "2020-11-12T00:00:00",
          "2020-11-13T00:00:00",
          "2020-11-16T00:00:00",
          "2020-11-17T00:00:00",
          "2020-11-18T00:00:00",
          "2020-11-19T00:00:00",
          "2020-11-20T00:00:00",
          "2020-11-23T00:00:00",
          "2020-11-24T00:00:00",
          "2020-11-25T00:00:00",
          "2020-11-27T00:00:00",
          "2020-11-30T00:00:00",
          "2020-12-01T00:00:00",
          "2020-12-02T00:00:00",
          "2020-12-03T00:00:00",
          "2020-12-04T00:00:00",
          "2020-12-07T00:00:00",
          "2020-12-08T00:00:00",
          "2020-12-09T00:00:00",
          "2020-12-10T00:00:00",
          "2020-12-11T00:00:00",
          "2020-12-14T00:00:00",
          "2020-12-15T00:00:00",
          "2020-12-16T00:00:00",
          "2020-12-17T00:00:00",
          "2020-12-18T00:00:00",
          "2020-12-21T00:00:00",
          "2020-12-22T00:00:00",
          "2020-12-23T00:00:00",
          "2020-12-24T00:00:00",
          "2020-12-28T00:00:00",
          "2020-12-29T00:00:00",
          "2020-12-30T00:00:00",
          "2020-12-31T00:00:00",
          "2021-01-04T00:00:00",
          "2021-01-05T00:00:00",
          "2021-01-06T00:00:00",
          "2021-01-07T00:00:00",
          "2021-01-08T00:00:00",
          "2021-01-11T00:00:00",
          "2021-01-12T00:00:00",
          "2021-01-13T00:00:00",
          "2021-01-14T00:00:00",
          "2021-01-15T00:00:00",
          "2021-01-19T00:00:00",
          "2021-01-20T00:00:00",
          "2021-01-21T00:00:00",
          "2021-01-22T00:00:00",
          "2021-01-25T00:00:00",
          "2021-01-26T00:00:00",
          "2021-01-27T00:00:00",
          "2021-01-28T00:00:00",
          "2021-01-29T00:00:00",
          "2021-02-01T00:00:00",
          "2021-02-02T00:00:00",
          "2021-02-03T00:00:00",
          "2021-02-04T00:00:00",
          "2021-02-05T00:00:00",
          "2021-02-08T00:00:00",
          "2021-02-09T00:00:00",
          "2021-02-10T00:00:00",
          "2021-02-11T00:00:00",
          "2021-02-12T00:00:00",
          "2021-02-16T00:00:00",
          "2021-02-17T00:00:00",
          "2021-02-18T00:00:00",
          "2021-02-19T00:00:00",
          "2021-02-22T00:00:00",
          "2021-02-23T00:00:00",
          "2021-02-24T00:00:00",
          "2021-02-25T00:00:00",
          "2021-02-26T00:00:00",
          "2021-03-01T00:00:00",
          "2021-03-02T00:00:00",
          "2021-03-03T00:00:00",
          "2021-03-04T00:00:00",
          "2021-03-05T00:00:00",
          "2021-03-08T00:00:00",
          "2021-03-09T00:00:00",
          "2021-03-10T00:00:00",
          "2021-03-11T00:00:00",
          "2021-03-12T00:00:00",
          "2021-03-15T00:00:00",
          "2021-03-16T00:00:00",
          "2021-03-17T00:00:00",
          "2021-03-18T00:00:00",
          "2021-03-19T00:00:00",
          "2021-03-22T00:00:00",
          "2021-03-23T00:00:00",
          "2021-03-24T00:00:00",
          "2021-03-25T00:00:00",
          "2021-03-26T00:00:00",
          "2021-03-29T00:00:00",
          "2021-03-30T00:00:00",
          "2021-03-31T00:00:00",
          "2021-04-01T00:00:00",
          "2021-04-05T00:00:00",
          "2021-04-06T00:00:00",
          "2021-04-07T00:00:00",
          "2021-04-08T00:00:00",
          "2021-04-09T00:00:00"
         ],
         "xaxis": "x",
         "y": [
          null,
          null,
          null,
          null,
          null,
          null,
          null,
          null,
          null,
          null,
          null,
          null,
          null,
          null,
          null,
          null,
          null,
          null,
          null,
          null,
          null,
          null,
          null,
          null,
          null,
          null,
          null,
          null,
          null,
          null,
          null,
          null,
          null,
          null,
          null,
          null,
          null,
          null,
          null,
          null,
          null,
          null,
          null,
          null,
          null,
          null,
          null,
          null,
          null,
          null,
          null,
          null,
          null,
          null,
          null,
          null,
          null,
          null,
          null,
          null,
          null,
          null,
          null,
          null,
          null,
          null,
          null,
          null,
          null,
          null,
          null,
          null,
          null,
          null,
          null,
          null,
          null,
          null,
          null,
          null,
          null,
          null,
          null,
          null,
          null,
          null,
          null,
          null,
          null,
          null,
          null,
          null,
          null,
          null,
          null,
          null,
          null,
          null,
          null,
          null,
          null,
          null,
          null,
          null,
          null,
          null,
          null,
          null,
          null,
          null,
          null,
          null,
          null,
          null,
          null,
          null,
          null,
          null,
          null,
          null,
          null,
          null,
          null,
          null,
          null,
          null,
          null,
          null,
          null,
          null,
          null,
          null,
          null,
          null,
          null,
          null,
          null,
          null,
          null,
          null,
          null,
          null,
          null,
          null,
          null,
          null,
          null,
          null,
          null,
          null,
          null,
          null,
          null,
          null,
          null,
          null,
          null,
          null,
          null,
          null,
          null,
          null,
          null,
          null,
          null,
          null,
          null,
          null,
          null,
          null,
          null,
          null,
          null,
          null,
          null,
          null,
          null,
          null,
          null,
          null,
          null,
          null,
          null,
          null,
          null,
          null,
          null,
          null,
          null,
          null,
          null,
          null,
          null,
          null,
          null,
          null,
          null,
          null,
          null,
          null,
          null,
          null,
          null,
          null,
          null,
          null,
          null,
          null,
          null,
          null,
          null,
          null,
          null,
          null,
          null,
          null,
          null,
          null,
          null,
          null,
          null,
          null,
          null,
          null,
          null,
          null,
          null,
          null,
          null,
          null,
          null,
          null,
          null,
          null,
          null,
          null,
          null,
          null,
          null,
          null,
          null,
          null,
          null,
          null,
          null,
          null,
          null,
          null,
          null,
          null,
          null,
          null,
          null,
          null,
          null,
          null,
          null,
          null,
          null,
          null,
          null,
          null,
          null,
          null,
          null,
          null,
          null,
          null,
          null,
          null,
          null,
          null,
          null,
          null,
          null,
          null,
          null,
          null,
          null,
          null,
          null,
          null,
          null,
          null,
          null,
          null,
          null,
          null,
          null,
          null,
          null,
          null,
          null,
          null,
          null,
          null,
          null,
          null,
          null,
          null,
          null,
          null,
          null,
          null,
          null,
          null,
          null,
          null,
          null,
          null,
          null,
          null,
          null,
          null,
          null,
          null,
          null,
          null,
          null,
          null,
          null,
          null,
          null,
          null,
          null,
          null,
          null,
          null,
          null,
          null,
          null,
          null,
          null,
          null,
          null,
          null,
          null,
          null,
          null,
          null,
          null,
          null,
          null,
          null,
          null,
          null,
          null,
          null,
          null,
          null,
          null,
          null,
          null,
          null,
          null,
          null,
          null,
          null,
          null,
          null,
          null,
          null,
          null,
          null,
          null,
          null,
          null,
          null,
          null,
          null,
          null,
          null,
          null,
          null,
          null,
          null,
          null,
          null,
          null,
          null,
          null,
          null,
          null,
          null,
          null,
          null,
          null,
          null,
          null,
          null,
          null,
          null,
          null,
          null,
          null,
          null,
          null,
          null,
          null,
          null,
          null,
          null,
          null,
          null,
          null,
          null,
          null,
          null,
          null,
          null,
          null,
          null,
          null,
          null,
          null,
          null,
          null,
          null,
          null,
          null,
          null,
          null,
          null,
          null,
          null,
          null,
          null,
          null,
          null,
          null,
          null,
          null,
          null,
          null,
          null,
          null,
          null,
          null,
          null,
          null,
          null,
          null,
          null,
          null,
          null,
          null,
          null,
          null,
          null,
          null,
          null,
          null,
          null,
          null,
          null,
          null,
          null,
          null,
          null,
          null,
          null,
          null,
          null,
          null,
          null,
          null,
          null,
          8,
          6.579999923706055,
          6.28000020980835,
          6.449999809265137,
          5.929999828338623,
          5.699999809265137,
          5.860000133514404,
          5.599999904632568,
          5.590000152587891,
          5.929999828338623,
          5.630000114440918,
          5.510000228881836,
          5.019999980926514,
          5.039999961853027,
          5.130000114440918,
          5.110000133514404,
          5,
          5.050000190734863,
          5.670000076293945,
          6.230000019073486,
          5.550000190734863,
          5.5,
          5.510000228881836,
          5.369999885559082,
          5.070000171661377,
          5.099999904632568,
          4.539999961853027,
          4.400000095367432,
          4.420000076293945,
          4.670000076293945,
          4.840000152587891,
          4.75,
          4.989999771118164,
          4.980000019073486,
          4.715000152587891,
          4.630000114440918,
          4.809000015258789
         ],
         "yaxis": "y"
        }
       ],
       "layout": {
        "legend": {
         "tracegroupgap": 0
        },
        "margin": {
         "t": 60
        },
        "template": {
         "data": {
          "bar": [
           {
            "error_x": {
             "color": "#2a3f5f"
            },
            "error_y": {
             "color": "#2a3f5f"
            },
            "marker": {
             "line": {
              "color": "#E5ECF6",
              "width": 0.5
             }
            },
            "type": "bar"
           }
          ],
          "barpolar": [
           {
            "marker": {
             "line": {
              "color": "#E5ECF6",
              "width": 0.5
             }
            },
            "type": "barpolar"
           }
          ],
          "carpet": [
           {
            "aaxis": {
             "endlinecolor": "#2a3f5f",
             "gridcolor": "white",
             "linecolor": "white",
             "minorgridcolor": "white",
             "startlinecolor": "#2a3f5f"
            },
            "baxis": {
             "endlinecolor": "#2a3f5f",
             "gridcolor": "white",
             "linecolor": "white",
             "minorgridcolor": "white",
             "startlinecolor": "#2a3f5f"
            },
            "type": "carpet"
           }
          ],
          "choropleth": [
           {
            "colorbar": {
             "outlinewidth": 0,
             "ticks": ""
            },
            "type": "choropleth"
           }
          ],
          "contour": [
           {
            "colorbar": {
             "outlinewidth": 0,
             "ticks": ""
            },
            "colorscale": [
             [
              0,
              "#0d0887"
             ],
             [
              0.1111111111111111,
              "#46039f"
             ],
             [
              0.2222222222222222,
              "#7201a8"
             ],
             [
              0.3333333333333333,
              "#9c179e"
             ],
             [
              0.4444444444444444,
              "#bd3786"
             ],
             [
              0.5555555555555556,
              "#d8576b"
             ],
             [
              0.6666666666666666,
              "#ed7953"
             ],
             [
              0.7777777777777778,
              "#fb9f3a"
             ],
             [
              0.8888888888888888,
              "#fdca26"
             ],
             [
              1,
              "#f0f921"
             ]
            ],
            "type": "contour"
           }
          ],
          "contourcarpet": [
           {
            "colorbar": {
             "outlinewidth": 0,
             "ticks": ""
            },
            "type": "contourcarpet"
           }
          ],
          "heatmap": [
           {
            "colorbar": {
             "outlinewidth": 0,
             "ticks": ""
            },
            "colorscale": [
             [
              0,
              "#0d0887"
             ],
             [
              0.1111111111111111,
              "#46039f"
             ],
             [
              0.2222222222222222,
              "#7201a8"
             ],
             [
              0.3333333333333333,
              "#9c179e"
             ],
             [
              0.4444444444444444,
              "#bd3786"
             ],
             [
              0.5555555555555556,
              "#d8576b"
             ],
             [
              0.6666666666666666,
              "#ed7953"
             ],
             [
              0.7777777777777778,
              "#fb9f3a"
             ],
             [
              0.8888888888888888,
              "#fdca26"
             ],
             [
              1,
              "#f0f921"
             ]
            ],
            "type": "heatmap"
           }
          ],
          "heatmapgl": [
           {
            "colorbar": {
             "outlinewidth": 0,
             "ticks": ""
            },
            "colorscale": [
             [
              0,
              "#0d0887"
             ],
             [
              0.1111111111111111,
              "#46039f"
             ],
             [
              0.2222222222222222,
              "#7201a8"
             ],
             [
              0.3333333333333333,
              "#9c179e"
             ],
             [
              0.4444444444444444,
              "#bd3786"
             ],
             [
              0.5555555555555556,
              "#d8576b"
             ],
             [
              0.6666666666666666,
              "#ed7953"
             ],
             [
              0.7777777777777778,
              "#fb9f3a"
             ],
             [
              0.8888888888888888,
              "#fdca26"
             ],
             [
              1,
              "#f0f921"
             ]
            ],
            "type": "heatmapgl"
           }
          ],
          "histogram": [
           {
            "marker": {
             "colorbar": {
              "outlinewidth": 0,
              "ticks": ""
             }
            },
            "type": "histogram"
           }
          ],
          "histogram2d": [
           {
            "colorbar": {
             "outlinewidth": 0,
             "ticks": ""
            },
            "colorscale": [
             [
              0,
              "#0d0887"
             ],
             [
              0.1111111111111111,
              "#46039f"
             ],
             [
              0.2222222222222222,
              "#7201a8"
             ],
             [
              0.3333333333333333,
              "#9c179e"
             ],
             [
              0.4444444444444444,
              "#bd3786"
             ],
             [
              0.5555555555555556,
              "#d8576b"
             ],
             [
              0.6666666666666666,
              "#ed7953"
             ],
             [
              0.7777777777777778,
              "#fb9f3a"
             ],
             [
              0.8888888888888888,
              "#fdca26"
             ],
             [
              1,
              "#f0f921"
             ]
            ],
            "type": "histogram2d"
           }
          ],
          "histogram2dcontour": [
           {
            "colorbar": {
             "outlinewidth": 0,
             "ticks": ""
            },
            "colorscale": [
             [
              0,
              "#0d0887"
             ],
             [
              0.1111111111111111,
              "#46039f"
             ],
             [
              0.2222222222222222,
              "#7201a8"
             ],
             [
              0.3333333333333333,
              "#9c179e"
             ],
             [
              0.4444444444444444,
              "#bd3786"
             ],
             [
              0.5555555555555556,
              "#d8576b"
             ],
             [
              0.6666666666666666,
              "#ed7953"
             ],
             [
              0.7777777777777778,
              "#fb9f3a"
             ],
             [
              0.8888888888888888,
              "#fdca26"
             ],
             [
              1,
              "#f0f921"
             ]
            ],
            "type": "histogram2dcontour"
           }
          ],
          "mesh3d": [
           {
            "colorbar": {
             "outlinewidth": 0,
             "ticks": ""
            },
            "type": "mesh3d"
           }
          ],
          "parcoords": [
           {
            "line": {
             "colorbar": {
              "outlinewidth": 0,
              "ticks": ""
             }
            },
            "type": "parcoords"
           }
          ],
          "pie": [
           {
            "automargin": true,
            "type": "pie"
           }
          ],
          "scatter": [
           {
            "marker": {
             "colorbar": {
              "outlinewidth": 0,
              "ticks": ""
             }
            },
            "type": "scatter"
           }
          ],
          "scatter3d": [
           {
            "line": {
             "colorbar": {
              "outlinewidth": 0,
              "ticks": ""
             }
            },
            "marker": {
             "colorbar": {
              "outlinewidth": 0,
              "ticks": ""
             }
            },
            "type": "scatter3d"
           }
          ],
          "scattercarpet": [
           {
            "marker": {
             "colorbar": {
              "outlinewidth": 0,
              "ticks": ""
             }
            },
            "type": "scattercarpet"
           }
          ],
          "scattergeo": [
           {
            "marker": {
             "colorbar": {
              "outlinewidth": 0,
              "ticks": ""
             }
            },
            "type": "scattergeo"
           }
          ],
          "scattergl": [
           {
            "marker": {
             "colorbar": {
              "outlinewidth": 0,
              "ticks": ""
             }
            },
            "type": "scattergl"
           }
          ],
          "scattermapbox": [
           {
            "marker": {
             "colorbar": {
              "outlinewidth": 0,
              "ticks": ""
             }
            },
            "type": "scattermapbox"
           }
          ],
          "scatterpolar": [
           {
            "marker": {
             "colorbar": {
              "outlinewidth": 0,
              "ticks": ""
             }
            },
            "type": "scatterpolar"
           }
          ],
          "scatterpolargl": [
           {
            "marker": {
             "colorbar": {
              "outlinewidth": 0,
              "ticks": ""
             }
            },
            "type": "scatterpolargl"
           }
          ],
          "scatterternary": [
           {
            "marker": {
             "colorbar": {
              "outlinewidth": 0,
              "ticks": ""
             }
            },
            "type": "scatterternary"
           }
          ],
          "surface": [
           {
            "colorbar": {
             "outlinewidth": 0,
             "ticks": ""
            },
            "colorscale": [
             [
              0,
              "#0d0887"
             ],
             [
              0.1111111111111111,
              "#46039f"
             ],
             [
              0.2222222222222222,
              "#7201a8"
             ],
             [
              0.3333333333333333,
              "#9c179e"
             ],
             [
              0.4444444444444444,
              "#bd3786"
             ],
             [
              0.5555555555555556,
              "#d8576b"
             ],
             [
              0.6666666666666666,
              "#ed7953"
             ],
             [
              0.7777777777777778,
              "#fb9f3a"
             ],
             [
              0.8888888888888888,
              "#fdca26"
             ],
             [
              1,
              "#f0f921"
             ]
            ],
            "type": "surface"
           }
          ],
          "table": [
           {
            "cells": {
             "fill": {
              "color": "#EBF0F8"
             },
             "line": {
              "color": "white"
             }
            },
            "header": {
             "fill": {
              "color": "#C8D4E3"
             },
             "line": {
              "color": "white"
             }
            },
            "type": "table"
           }
          ]
         },
         "layout": {
          "annotationdefaults": {
           "arrowcolor": "#2a3f5f",
           "arrowhead": 0,
           "arrowwidth": 1
          },
          "autotypenumbers": "strict",
          "coloraxis": {
           "colorbar": {
            "outlinewidth": 0,
            "ticks": ""
           }
          },
          "colorscale": {
           "diverging": [
            [
             0,
             "#8e0152"
            ],
            [
             0.1,
             "#c51b7d"
            ],
            [
             0.2,
             "#de77ae"
            ],
            [
             0.3,
             "#f1b6da"
            ],
            [
             0.4,
             "#fde0ef"
            ],
            [
             0.5,
             "#f7f7f7"
            ],
            [
             0.6,
             "#e6f5d0"
            ],
            [
             0.7,
             "#b8e186"
            ],
            [
             0.8,
             "#7fbc41"
            ],
            [
             0.9,
             "#4d9221"
            ],
            [
             1,
             "#276419"
            ]
           ],
           "sequential": [
            [
             0,
             "#0d0887"
            ],
            [
             0.1111111111111111,
             "#46039f"
            ],
            [
             0.2222222222222222,
             "#7201a8"
            ],
            [
             0.3333333333333333,
             "#9c179e"
            ],
            [
             0.4444444444444444,
             "#bd3786"
            ],
            [
             0.5555555555555556,
             "#d8576b"
            ],
            [
             0.6666666666666666,
             "#ed7953"
            ],
            [
             0.7777777777777778,
             "#fb9f3a"
            ],
            [
             0.8888888888888888,
             "#fdca26"
            ],
            [
             1,
             "#f0f921"
            ]
           ],
           "sequentialminus": [
            [
             0,
             "#0d0887"
            ],
            [
             0.1111111111111111,
             "#46039f"
            ],
            [
             0.2222222222222222,
             "#7201a8"
            ],
            [
             0.3333333333333333,
             "#9c179e"
            ],
            [
             0.4444444444444444,
             "#bd3786"
            ],
            [
             0.5555555555555556,
             "#d8576b"
            ],
            [
             0.6666666666666666,
             "#ed7953"
            ],
            [
             0.7777777777777778,
             "#fb9f3a"
            ],
            [
             0.8888888888888888,
             "#fdca26"
            ],
            [
             1,
             "#f0f921"
            ]
           ]
          },
          "colorway": [
           "#636efa",
           "#EF553B",
           "#00cc96",
           "#ab63fa",
           "#FFA15A",
           "#19d3f3",
           "#FF6692",
           "#B6E880",
           "#FF97FF",
           "#FECB52"
          ],
          "font": {
           "color": "#2a3f5f"
          },
          "geo": {
           "bgcolor": "white",
           "lakecolor": "white",
           "landcolor": "#E5ECF6",
           "showlakes": true,
           "showland": true,
           "subunitcolor": "white"
          },
          "hoverlabel": {
           "align": "left"
          },
          "hovermode": "closest",
          "mapbox": {
           "style": "light"
          },
          "paper_bgcolor": "white",
          "plot_bgcolor": "#E5ECF6",
          "polar": {
           "angularaxis": {
            "gridcolor": "white",
            "linecolor": "white",
            "ticks": ""
           },
           "bgcolor": "#E5ECF6",
           "radialaxis": {
            "gridcolor": "white",
            "linecolor": "white",
            "ticks": ""
           }
          },
          "scene": {
           "xaxis": {
            "backgroundcolor": "#E5ECF6",
            "gridcolor": "white",
            "gridwidth": 2,
            "linecolor": "white",
            "showbackground": true,
            "ticks": "",
            "zerolinecolor": "white"
           },
           "yaxis": {
            "backgroundcolor": "#E5ECF6",
            "gridcolor": "white",
            "gridwidth": 2,
            "linecolor": "white",
            "showbackground": true,
            "ticks": "",
            "zerolinecolor": "white"
           },
           "zaxis": {
            "backgroundcolor": "#E5ECF6",
            "gridcolor": "white",
            "gridwidth": 2,
            "linecolor": "white",
            "showbackground": true,
            "ticks": "",
            "zerolinecolor": "white"
           }
          },
          "shapedefaults": {
           "line": {
            "color": "#2a3f5f"
           }
          },
          "ternary": {
           "aaxis": {
            "gridcolor": "white",
            "linecolor": "white",
            "ticks": ""
           },
           "baxis": {
            "gridcolor": "white",
            "linecolor": "white",
            "ticks": ""
           },
           "bgcolor": "#E5ECF6",
           "caxis": {
            "gridcolor": "white",
            "linecolor": "white",
            "ticks": ""
           }
          },
          "title": {
           "x": 0.05
          },
          "xaxis": {
           "automargin": true,
           "gridcolor": "white",
           "linecolor": "white",
           "ticks": "",
           "title": {
            "standoff": 15
           },
           "zerolinecolor": "white",
           "zerolinewidth": 2
          },
          "yaxis": {
           "automargin": true,
           "gridcolor": "white",
           "linecolor": "white",
           "ticks": "",
           "title": {
            "standoff": 15
           },
           "zerolinecolor": "white",
           "zerolinewidth": 2
          }
         }
        },
        "xaxis": {
         "anchor": "y",
         "domain": [
          0,
          1
         ],
         "title": {
          "text": "x"
         }
        },
        "yaxis": {
         "anchor": "x",
         "domain": [
          0,
          1
         ],
         "title": {
          "text": "y"
         }
        }
       }
      },
      "text/html": [
       "<div>                            <div id=\"dceeec01-34f4-4277-a76a-c2ffeb62c8d4\" class=\"plotly-graph-div\" style=\"height:525px; width:100%;\"></div>            <script type=\"text/javascript\">                require([\"plotly\"], function(Plotly) {                    window.PLOTLYENV=window.PLOTLYENV || {};                                    if (document.getElementById(\"dceeec01-34f4-4277-a76a-c2ffeb62c8d4\")) {                    Plotly.newPlot(                        \"dceeec01-34f4-4277-a76a-c2ffeb62c8d4\",                        [{\"hovertemplate\": \"x=%{x}<br>y=%{y}<extra></extra>\", \"legendgroup\": \"\", \"marker\": {\"color\": \"#636efa\", \"symbol\": \"circle\"}, \"mode\": \"markers\", \"name\": \"\", \"orientation\": \"v\", \"showlegend\": false, \"type\": \"scatter\", \"x\": [\"2019-04-10T00:00:00\", \"2019-04-11T00:00:00\", \"2019-04-12T00:00:00\", \"2019-04-15T00:00:00\", \"2019-04-16T00:00:00\", \"2019-04-17T00:00:00\", \"2019-04-18T00:00:00\", \"2019-04-22T00:00:00\", \"2019-04-23T00:00:00\", \"2019-04-24T00:00:00\", \"2019-04-25T00:00:00\", \"2019-04-26T00:00:00\", \"2019-04-29T00:00:00\", \"2019-04-30T00:00:00\", \"2019-05-01T00:00:00\", \"2019-05-02T00:00:00\", \"2019-05-03T00:00:00\", \"2019-05-06T00:00:00\", \"2019-05-07T00:00:00\", \"2019-05-08T00:00:00\", \"2019-05-09T00:00:00\", \"2019-05-10T00:00:00\", \"2019-05-13T00:00:00\", \"2019-05-14T00:00:00\", \"2019-05-15T00:00:00\", \"2019-05-16T00:00:00\", \"2019-05-17T00:00:00\", \"2019-05-20T00:00:00\", \"2019-05-21T00:00:00\", \"2019-05-22T00:00:00\", \"2019-05-23T00:00:00\", \"2019-05-24T00:00:00\", \"2019-05-28T00:00:00\", \"2019-05-29T00:00:00\", \"2019-05-30T00:00:00\", \"2019-05-31T00:00:00\", \"2019-06-03T00:00:00\", \"2019-06-04T00:00:00\", \"2019-06-05T00:00:00\", \"2019-06-06T00:00:00\", \"2019-06-07T00:00:00\", \"2019-06-10T00:00:00\", \"2019-06-11T00:00:00\", \"2019-06-12T00:00:00\", \"2019-06-13T00:00:00\", \"2019-06-14T00:00:00\", \"2019-06-17T00:00:00\", \"2019-06-18T00:00:00\", \"2019-06-19T00:00:00\", \"2019-06-20T00:00:00\", \"2019-06-21T00:00:00\", \"2019-06-24T00:00:00\", \"2019-06-25T00:00:00\", \"2019-06-26T00:00:00\", \"2019-06-27T00:00:00\", \"2019-06-28T00:00:00\", \"2019-07-01T00:00:00\", \"2019-07-02T00:00:00\", \"2019-07-03T00:00:00\", \"2019-07-05T00:00:00\", \"2019-07-08T00:00:00\", \"2019-07-09T00:00:00\", \"2019-07-10T00:00:00\", \"2019-07-11T00:00:00\", \"2019-07-12T00:00:00\", \"2019-07-15T00:00:00\", \"2019-07-16T00:00:00\", \"2019-07-17T00:00:00\", \"2019-07-18T00:00:00\", \"2019-07-19T00:00:00\", \"2019-07-22T00:00:00\", \"2019-07-23T00:00:00\", \"2019-07-24T00:00:00\", \"2019-07-25T00:00:00\", \"2019-07-26T00:00:00\", \"2019-07-29T00:00:00\", \"2019-07-30T00:00:00\", \"2019-07-31T00:00:00\", \"2019-08-01T00:00:00\", \"2019-08-02T00:00:00\", \"2019-08-05T00:00:00\", \"2019-08-06T00:00:00\", \"2019-08-07T00:00:00\", \"2019-08-08T00:00:00\", \"2019-08-09T00:00:00\", \"2019-08-12T00:00:00\", \"2019-08-13T00:00:00\", \"2019-08-14T00:00:00\", \"2019-08-15T00:00:00\", \"2019-08-16T00:00:00\", \"2019-08-19T00:00:00\", \"2019-08-20T00:00:00\", \"2019-08-21T00:00:00\", \"2019-08-22T00:00:00\", \"2019-08-23T00:00:00\", \"2019-08-26T00:00:00\", \"2019-08-27T00:00:00\", \"2019-08-28T00:00:00\", \"2019-08-29T00:00:00\", \"2019-08-30T00:00:00\", \"2019-09-03T00:00:00\", \"2019-09-04T00:00:00\", \"2019-09-05T00:00:00\", \"2019-09-06T00:00:00\", \"2019-09-09T00:00:00\", \"2019-09-10T00:00:00\", \"2019-09-11T00:00:00\", \"2019-09-12T00:00:00\", \"2019-09-13T00:00:00\", \"2019-09-16T00:00:00\", \"2019-09-17T00:00:00\", \"2019-09-18T00:00:00\", \"2019-09-19T00:00:00\", \"2019-09-20T00:00:00\", \"2019-09-23T00:00:00\", \"2019-09-24T00:00:00\", \"2019-09-25T00:00:00\", \"2019-09-26T00:00:00\", \"2019-09-27T00:00:00\", \"2019-09-30T00:00:00\", \"2019-10-01T00:00:00\", \"2019-10-02T00:00:00\", \"2019-10-03T00:00:00\", \"2019-10-04T00:00:00\", \"2019-10-07T00:00:00\", \"2019-10-08T00:00:00\", \"2019-10-09T00:00:00\", \"2019-10-10T00:00:00\", \"2019-10-11T00:00:00\", \"2019-10-14T00:00:00\", \"2019-10-15T00:00:00\", \"2019-10-16T00:00:00\", \"2019-10-17T00:00:00\", \"2019-10-18T00:00:00\", \"2019-10-21T00:00:00\", \"2019-10-22T00:00:00\", \"2019-10-23T00:00:00\", \"2019-10-24T00:00:00\", \"2019-10-25T00:00:00\", \"2019-10-28T00:00:00\", \"2019-10-29T00:00:00\", \"2019-10-30T00:00:00\", \"2019-10-31T00:00:00\", \"2019-11-01T00:00:00\", \"2019-11-04T00:00:00\", \"2019-11-05T00:00:00\", \"2019-11-06T00:00:00\", \"2019-11-07T00:00:00\", \"2019-11-08T00:00:00\", \"2019-11-11T00:00:00\", \"2019-11-12T00:00:00\", \"2019-11-13T00:00:00\", \"2019-11-14T00:00:00\", \"2019-11-15T00:00:00\", \"2019-11-18T00:00:00\", \"2019-11-19T00:00:00\", \"2019-11-20T00:00:00\", \"2019-11-21T00:00:00\", \"2019-11-22T00:00:00\", \"2019-11-25T00:00:00\", \"2019-11-26T00:00:00\", \"2019-11-27T00:00:00\", \"2019-11-29T00:00:00\", \"2019-12-02T00:00:00\", \"2019-12-03T00:00:00\", \"2019-12-04T00:00:00\", \"2019-12-05T00:00:00\", \"2019-12-06T00:00:00\", \"2019-12-09T00:00:00\", \"2019-12-10T00:00:00\", \"2019-12-11T00:00:00\", \"2019-12-12T00:00:00\", \"2019-12-13T00:00:00\", \"2019-12-16T00:00:00\", \"2019-12-17T00:00:00\", \"2019-12-18T00:00:00\", \"2019-12-19T00:00:00\", \"2019-12-20T00:00:00\", \"2019-12-23T00:00:00\", \"2019-12-24T00:00:00\", \"2019-12-26T00:00:00\", \"2019-12-27T00:00:00\", \"2019-12-30T00:00:00\", \"2019-12-31T00:00:00\", \"2020-01-02T00:00:00\", \"2020-01-03T00:00:00\", \"2020-01-06T00:00:00\", \"2020-01-07T00:00:00\", \"2020-01-08T00:00:00\", \"2020-01-09T00:00:00\", \"2020-01-10T00:00:00\", \"2020-01-13T00:00:00\", \"2020-01-14T00:00:00\", \"2020-01-15T00:00:00\", \"2020-01-16T00:00:00\", \"2020-01-17T00:00:00\", \"2020-01-21T00:00:00\", \"2020-01-22T00:00:00\", \"2020-01-23T00:00:00\", \"2020-01-24T00:00:00\", \"2020-01-27T00:00:00\", \"2020-01-28T00:00:00\", \"2020-01-29T00:00:00\", \"2020-01-30T00:00:00\", \"2020-01-31T00:00:00\", \"2020-02-03T00:00:00\", \"2020-02-04T00:00:00\", \"2020-02-05T00:00:00\", \"2020-02-06T00:00:00\", \"2020-02-07T00:00:00\", \"2020-02-10T00:00:00\", \"2020-02-11T00:00:00\", \"2020-02-12T00:00:00\", \"2020-02-13T00:00:00\", \"2020-02-14T00:00:00\", \"2020-02-18T00:00:00\", \"2020-02-19T00:00:00\", \"2020-02-20T00:00:00\", \"2020-02-21T00:00:00\", \"2020-02-24T00:00:00\", \"2020-02-25T00:00:00\", \"2020-02-26T00:00:00\", \"2020-02-27T00:00:00\", \"2020-02-28T00:00:00\", \"2020-03-02T00:00:00\", \"2020-03-03T00:00:00\", \"2020-03-04T00:00:00\", \"2020-03-05T00:00:00\", \"2020-03-06T00:00:00\", \"2020-03-09T00:00:00\", \"2020-03-10T00:00:00\", \"2020-03-11T00:00:00\", \"2020-03-12T00:00:00\", \"2020-03-13T00:00:00\", \"2020-03-16T00:00:00\", \"2020-03-17T00:00:00\", \"2020-03-18T00:00:00\", \"2020-03-19T00:00:00\", \"2020-03-20T00:00:00\", \"2020-03-23T00:00:00\", \"2020-03-24T00:00:00\", \"2020-03-25T00:00:00\", \"2020-03-26T00:00:00\", \"2020-03-27T00:00:00\", \"2020-03-30T00:00:00\", \"2020-03-31T00:00:00\", \"2020-04-01T00:00:00\", \"2020-04-02T00:00:00\", \"2020-04-03T00:00:00\", \"2020-04-06T00:00:00\", \"2020-04-07T00:00:00\", \"2020-04-08T00:00:00\", \"2020-04-09T00:00:00\", \"2020-04-13T00:00:00\", \"2020-04-14T00:00:00\", \"2020-04-15T00:00:00\", \"2020-04-16T00:00:00\", \"2020-04-17T00:00:00\", \"2020-04-20T00:00:00\", \"2020-04-21T00:00:00\", \"2020-04-22T00:00:00\", \"2020-04-23T00:00:00\", \"2020-04-24T00:00:00\", \"2020-04-27T00:00:00\", \"2020-04-28T00:00:00\", \"2020-04-29T00:00:00\", \"2020-04-30T00:00:00\", \"2020-05-01T00:00:00\", \"2020-05-04T00:00:00\", \"2020-05-05T00:00:00\", \"2020-05-06T00:00:00\", \"2020-05-07T00:00:00\", \"2020-05-08T00:00:00\", \"2020-05-11T00:00:00\", \"2020-05-12T00:00:00\", \"2020-05-13T00:00:00\", \"2020-05-14T00:00:00\", \"2020-05-15T00:00:00\", \"2020-05-18T00:00:00\", \"2020-05-19T00:00:00\", \"2020-05-20T00:00:00\", \"2020-05-21T00:00:00\", \"2020-05-22T00:00:00\", \"2020-05-26T00:00:00\", \"2020-05-27T00:00:00\", \"2020-05-28T00:00:00\", \"2020-05-29T00:00:00\", \"2020-06-01T00:00:00\", \"2020-06-02T00:00:00\", \"2020-06-03T00:00:00\", \"2020-06-04T00:00:00\", \"2020-06-05T00:00:00\", \"2020-06-08T00:00:00\", \"2020-06-09T00:00:00\", \"2020-06-10T00:00:00\", \"2020-06-11T00:00:00\", \"2020-06-12T00:00:00\", \"2020-06-15T00:00:00\", \"2020-06-16T00:00:00\", \"2020-06-17T00:00:00\", \"2020-06-18T00:00:00\", \"2020-06-19T00:00:00\", \"2020-06-22T00:00:00\", \"2020-06-23T00:00:00\", \"2020-06-24T00:00:00\", \"2020-06-25T00:00:00\", \"2020-06-26T00:00:00\", \"2020-06-29T00:00:00\", \"2020-06-30T00:00:00\", \"2020-07-01T00:00:00\", \"2020-07-02T00:00:00\", \"2020-07-06T00:00:00\", \"2020-07-07T00:00:00\", \"2020-07-08T00:00:00\", \"2020-07-09T00:00:00\", \"2020-07-10T00:00:00\", \"2020-07-13T00:00:00\", \"2020-07-14T00:00:00\", \"2020-07-15T00:00:00\", \"2020-07-16T00:00:00\", \"2020-07-17T00:00:00\", \"2020-07-20T00:00:00\", \"2020-07-21T00:00:00\", \"2020-07-22T00:00:00\", \"2020-07-23T00:00:00\", \"2020-07-24T00:00:00\", \"2020-07-27T00:00:00\", \"2020-07-28T00:00:00\", \"2020-07-29T00:00:00\", \"2020-07-30T00:00:00\", \"2020-07-31T00:00:00\", \"2020-08-03T00:00:00\", \"2020-08-04T00:00:00\", \"2020-08-05T00:00:00\", \"2020-08-06T00:00:00\", \"2020-08-07T00:00:00\", \"2020-08-10T00:00:00\", \"2020-08-11T00:00:00\", \"2020-08-12T00:00:00\", \"2020-08-13T00:00:00\", \"2020-08-14T00:00:00\", \"2020-08-17T00:00:00\", \"2020-08-18T00:00:00\", \"2020-08-19T00:00:00\", \"2020-08-20T00:00:00\", \"2020-08-21T00:00:00\", \"2020-08-24T00:00:00\", \"2020-08-25T00:00:00\", \"2020-08-26T00:00:00\", \"2020-08-27T00:00:00\", \"2020-08-28T00:00:00\", \"2020-08-31T00:00:00\", \"2020-09-01T00:00:00\", \"2020-09-02T00:00:00\", \"2020-09-03T00:00:00\", \"2020-09-04T00:00:00\", \"2020-09-08T00:00:00\", \"2020-09-09T00:00:00\", \"2020-09-10T00:00:00\", \"2020-09-11T00:00:00\", \"2020-09-14T00:00:00\", \"2020-09-15T00:00:00\", \"2020-09-16T00:00:00\", \"2020-09-17T00:00:00\", \"2020-09-18T00:00:00\", \"2020-09-21T00:00:00\", \"2020-09-22T00:00:00\", \"2020-09-23T00:00:00\", \"2020-09-24T00:00:00\", \"2020-09-25T00:00:00\", \"2020-09-28T00:00:00\", \"2020-09-29T00:00:00\", \"2020-09-30T00:00:00\", \"2020-10-01T00:00:00\", \"2020-10-02T00:00:00\", \"2020-10-05T00:00:00\", \"2020-10-06T00:00:00\", \"2020-10-07T00:00:00\", \"2020-10-08T00:00:00\", \"2020-10-09T00:00:00\", \"2020-10-12T00:00:00\", \"2020-10-13T00:00:00\", \"2020-10-14T00:00:00\", \"2020-10-15T00:00:00\", \"2020-10-16T00:00:00\", \"2020-10-19T00:00:00\", \"2020-10-20T00:00:00\", \"2020-10-21T00:00:00\", \"2020-10-22T00:00:00\", \"2020-10-23T00:00:00\", \"2020-10-26T00:00:00\", \"2020-10-27T00:00:00\", \"2020-10-28T00:00:00\", \"2020-10-29T00:00:00\", \"2020-10-30T00:00:00\", \"2020-11-02T00:00:00\", \"2020-11-03T00:00:00\", \"2020-11-04T00:00:00\", \"2020-11-05T00:00:00\", \"2020-11-06T00:00:00\", \"2020-11-09T00:00:00\", \"2020-11-10T00:00:00\", \"2020-11-11T00:00:00\", \"2020-11-12T00:00:00\", \"2020-11-13T00:00:00\", \"2020-11-16T00:00:00\", \"2020-11-17T00:00:00\", \"2020-11-18T00:00:00\", \"2020-11-19T00:00:00\", \"2020-11-20T00:00:00\", \"2020-11-23T00:00:00\", \"2020-11-24T00:00:00\", \"2020-11-25T00:00:00\", \"2020-11-27T00:00:00\", \"2020-11-30T00:00:00\", \"2020-12-01T00:00:00\", \"2020-12-02T00:00:00\", \"2020-12-03T00:00:00\", \"2020-12-04T00:00:00\", \"2020-12-07T00:00:00\", \"2020-12-08T00:00:00\", \"2020-12-09T00:00:00\", \"2020-12-10T00:00:00\", \"2020-12-11T00:00:00\", \"2020-12-14T00:00:00\", \"2020-12-15T00:00:00\", \"2020-12-16T00:00:00\", \"2020-12-17T00:00:00\", \"2020-12-18T00:00:00\", \"2020-12-21T00:00:00\", \"2020-12-22T00:00:00\", \"2020-12-23T00:00:00\", \"2020-12-24T00:00:00\", \"2020-12-28T00:00:00\", \"2020-12-29T00:00:00\", \"2020-12-30T00:00:00\", \"2020-12-31T00:00:00\", \"2021-01-04T00:00:00\", \"2021-01-05T00:00:00\", \"2021-01-06T00:00:00\", \"2021-01-07T00:00:00\", \"2021-01-08T00:00:00\", \"2021-01-11T00:00:00\", \"2021-01-12T00:00:00\", \"2021-01-13T00:00:00\", \"2021-01-14T00:00:00\", \"2021-01-15T00:00:00\", \"2021-01-19T00:00:00\", \"2021-01-20T00:00:00\", \"2021-01-21T00:00:00\", \"2021-01-22T00:00:00\", \"2021-01-25T00:00:00\", \"2021-01-26T00:00:00\", \"2021-01-27T00:00:00\", \"2021-01-28T00:00:00\", \"2021-01-29T00:00:00\", \"2021-02-01T00:00:00\", \"2021-02-02T00:00:00\", \"2021-02-03T00:00:00\", \"2021-02-04T00:00:00\", \"2021-02-05T00:00:00\", \"2021-02-08T00:00:00\", \"2021-02-09T00:00:00\", \"2021-02-10T00:00:00\", \"2021-02-11T00:00:00\", \"2021-02-12T00:00:00\", \"2021-02-16T00:00:00\", \"2021-02-17T00:00:00\", \"2021-02-18T00:00:00\", \"2021-02-19T00:00:00\", \"2021-02-22T00:00:00\", \"2021-02-23T00:00:00\", \"2021-02-24T00:00:00\", \"2021-02-25T00:00:00\", \"2021-02-26T00:00:00\", \"2021-03-01T00:00:00\", \"2021-03-02T00:00:00\", \"2021-03-03T00:00:00\", \"2021-03-04T00:00:00\", \"2021-03-05T00:00:00\", \"2021-03-08T00:00:00\", \"2021-03-09T00:00:00\", \"2021-03-10T00:00:00\", \"2021-03-11T00:00:00\", \"2021-03-12T00:00:00\", \"2021-03-15T00:00:00\", \"2021-03-16T00:00:00\", \"2021-03-17T00:00:00\", \"2021-03-18T00:00:00\", \"2021-03-19T00:00:00\", \"2021-03-22T00:00:00\", \"2021-03-23T00:00:00\", \"2021-03-24T00:00:00\", \"2021-03-25T00:00:00\", \"2021-03-26T00:00:00\", \"2021-03-29T00:00:00\", \"2021-03-30T00:00:00\", \"2021-03-31T00:00:00\", \"2021-04-01T00:00:00\", \"2021-04-05T00:00:00\", \"2021-04-06T00:00:00\", \"2021-04-07T00:00:00\", \"2021-04-08T00:00:00\", \"2021-04-09T00:00:00\"], \"xaxis\": \"x\", \"y\": [null, null, null, null, null, null, null, null, null, null, null, null, null, null, null, null, null, null, null, null, null, null, null, null, null, null, null, null, null, null, null, null, null, null, null, null, null, null, null, null, null, null, null, null, null, null, null, null, null, null, null, null, null, null, null, null, null, null, null, null, null, null, null, null, null, null, null, null, null, null, null, null, null, null, null, null, null, null, null, null, null, null, null, null, null, null, null, null, null, null, null, null, null, null, null, null, null, null, null, null, null, null, null, null, null, null, null, null, null, null, null, null, null, null, null, null, null, null, null, null, null, null, null, null, null, null, null, null, null, null, null, null, null, null, null, null, null, null, null, null, null, null, null, null, null, null, null, null, null, null, null, null, null, null, null, null, null, null, null, null, null, null, null, null, null, null, null, null, null, null, null, null, null, null, null, null, null, null, null, null, null, null, null, null, null, null, null, null, null, null, null, null, null, null, null, null, null, null, null, null, null, null, null, null, null, null, null, null, null, null, null, null, null, null, null, null, null, null, null, null, null, null, null, null, null, null, null, null, null, null, null, null, null, null, null, null, null, null, null, null, null, null, null, null, null, null, null, null, null, null, null, null, null, null, null, null, null, null, null, null, null, null, null, null, null, null, null, null, null, null, null, null, null, null, null, null, null, null, null, null, null, null, null, null, null, null, null, null, null, null, null, null, null, null, null, null, null, null, null, null, null, null, null, null, null, null, null, null, null, null, null, null, null, null, null, null, null, null, null, null, null, null, null, null, null, null, null, null, null, null, null, null, null, null, null, null, null, null, null, null, null, null, null, null, null, null, null, null, null, null, null, null, null, null, null, null, null, null, null, null, null, null, null, null, null, null, null, null, null, null, null, null, null, null, null, null, null, null, null, null, null, null, null, null, null, null, null, null, null, null, null, null, null, null, null, null, null, null, null, null, null, null, null, null, null, null, null, null, null, null, null, null, null, null, null, null, null, null, null, null, null, null, null, null, null, null, null, null, null, null, null, null, null, null, null, null, null, null, null, null, null, null, null, null, null, null, null, null, null, null, null, null, null, null, null, null, null, null, null, null, null, null, null, null, null, null, null, 8.0, 6.579999923706055, 6.28000020980835, 6.449999809265137, 5.929999828338623, 5.699999809265137, 5.860000133514404, 5.599999904632568, 5.590000152587891, 5.929999828338623, 5.630000114440918, 5.510000228881836, 5.019999980926514, 5.039999961853027, 5.130000114440918, 5.110000133514404, 5.0, 5.050000190734863, 5.670000076293945, 6.230000019073486, 5.550000190734863, 5.5, 5.510000228881836, 5.369999885559082, 5.070000171661377, 5.099999904632568, 4.539999961853027, 4.400000095367432, 4.420000076293945, 4.670000076293945, 4.840000152587891, 4.75, 4.989999771118164, 4.980000019073486, 4.715000152587891, 4.630000114440918, 4.809000015258789], \"yaxis\": \"y\"}],                        {\"legend\": {\"tracegroupgap\": 0}, \"margin\": {\"t\": 60}, \"template\": {\"data\": {\"bar\": [{\"error_x\": {\"color\": \"#2a3f5f\"}, \"error_y\": {\"color\": \"#2a3f5f\"}, \"marker\": {\"line\": {\"color\": \"#E5ECF6\", \"width\": 0.5}}, \"type\": \"bar\"}], \"barpolar\": [{\"marker\": {\"line\": {\"color\": \"#E5ECF6\", \"width\": 0.5}}, \"type\": \"barpolar\"}], \"carpet\": [{\"aaxis\": {\"endlinecolor\": \"#2a3f5f\", \"gridcolor\": \"white\", \"linecolor\": \"white\", \"minorgridcolor\": \"white\", \"startlinecolor\": \"#2a3f5f\"}, \"baxis\": {\"endlinecolor\": \"#2a3f5f\", \"gridcolor\": \"white\", \"linecolor\": \"white\", \"minorgridcolor\": \"white\", \"startlinecolor\": \"#2a3f5f\"}, \"type\": \"carpet\"}], \"choropleth\": [{\"colorbar\": {\"outlinewidth\": 0, \"ticks\": \"\"}, \"type\": \"choropleth\"}], \"contour\": [{\"colorbar\": {\"outlinewidth\": 0, \"ticks\": \"\"}, \"colorscale\": [[0.0, \"#0d0887\"], [0.1111111111111111, \"#46039f\"], [0.2222222222222222, \"#7201a8\"], [0.3333333333333333, \"#9c179e\"], [0.4444444444444444, \"#bd3786\"], [0.5555555555555556, \"#d8576b\"], [0.6666666666666666, \"#ed7953\"], [0.7777777777777778, \"#fb9f3a\"], [0.8888888888888888, \"#fdca26\"], [1.0, \"#f0f921\"]], \"type\": \"contour\"}], \"contourcarpet\": [{\"colorbar\": {\"outlinewidth\": 0, \"ticks\": \"\"}, \"type\": \"contourcarpet\"}], \"heatmap\": [{\"colorbar\": {\"outlinewidth\": 0, \"ticks\": \"\"}, \"colorscale\": [[0.0, \"#0d0887\"], [0.1111111111111111, \"#46039f\"], [0.2222222222222222, \"#7201a8\"], [0.3333333333333333, \"#9c179e\"], [0.4444444444444444, \"#bd3786\"], [0.5555555555555556, \"#d8576b\"], [0.6666666666666666, \"#ed7953\"], [0.7777777777777778, \"#fb9f3a\"], [0.8888888888888888, \"#fdca26\"], [1.0, \"#f0f921\"]], \"type\": \"heatmap\"}], \"heatmapgl\": [{\"colorbar\": {\"outlinewidth\": 0, \"ticks\": \"\"}, \"colorscale\": [[0.0, \"#0d0887\"], [0.1111111111111111, \"#46039f\"], [0.2222222222222222, \"#7201a8\"], [0.3333333333333333, \"#9c179e\"], [0.4444444444444444, \"#bd3786\"], [0.5555555555555556, \"#d8576b\"], [0.6666666666666666, \"#ed7953\"], [0.7777777777777778, \"#fb9f3a\"], [0.8888888888888888, \"#fdca26\"], [1.0, \"#f0f921\"]], \"type\": \"heatmapgl\"}], \"histogram\": [{\"marker\": {\"colorbar\": {\"outlinewidth\": 0, \"ticks\": \"\"}}, \"type\": \"histogram\"}], \"histogram2d\": [{\"colorbar\": {\"outlinewidth\": 0, \"ticks\": \"\"}, \"colorscale\": [[0.0, \"#0d0887\"], [0.1111111111111111, \"#46039f\"], [0.2222222222222222, \"#7201a8\"], [0.3333333333333333, \"#9c179e\"], [0.4444444444444444, \"#bd3786\"], [0.5555555555555556, \"#d8576b\"], [0.6666666666666666, \"#ed7953\"], [0.7777777777777778, \"#fb9f3a\"], [0.8888888888888888, \"#fdca26\"], [1.0, \"#f0f921\"]], \"type\": \"histogram2d\"}], \"histogram2dcontour\": [{\"colorbar\": {\"outlinewidth\": 0, \"ticks\": \"\"}, \"colorscale\": [[0.0, \"#0d0887\"], [0.1111111111111111, \"#46039f\"], [0.2222222222222222, \"#7201a8\"], [0.3333333333333333, \"#9c179e\"], [0.4444444444444444, \"#bd3786\"], [0.5555555555555556, \"#d8576b\"], [0.6666666666666666, \"#ed7953\"], [0.7777777777777778, \"#fb9f3a\"], [0.8888888888888888, \"#fdca26\"], [1.0, \"#f0f921\"]], \"type\": \"histogram2dcontour\"}], \"mesh3d\": [{\"colorbar\": {\"outlinewidth\": 0, \"ticks\": \"\"}, \"type\": \"mesh3d\"}], \"parcoords\": [{\"line\": {\"colorbar\": {\"outlinewidth\": 0, \"ticks\": \"\"}}, \"type\": \"parcoords\"}], \"pie\": [{\"automargin\": true, \"type\": \"pie\"}], \"scatter\": [{\"marker\": {\"colorbar\": {\"outlinewidth\": 0, \"ticks\": \"\"}}, \"type\": \"scatter\"}], \"scatter3d\": [{\"line\": {\"colorbar\": {\"outlinewidth\": 0, \"ticks\": \"\"}}, \"marker\": {\"colorbar\": {\"outlinewidth\": 0, \"ticks\": \"\"}}, \"type\": \"scatter3d\"}], \"scattercarpet\": [{\"marker\": {\"colorbar\": {\"outlinewidth\": 0, \"ticks\": \"\"}}, \"type\": \"scattercarpet\"}], \"scattergeo\": [{\"marker\": {\"colorbar\": {\"outlinewidth\": 0, \"ticks\": \"\"}}, \"type\": \"scattergeo\"}], \"scattergl\": [{\"marker\": {\"colorbar\": {\"outlinewidth\": 0, \"ticks\": \"\"}}, \"type\": \"scattergl\"}], \"scattermapbox\": [{\"marker\": {\"colorbar\": {\"outlinewidth\": 0, \"ticks\": \"\"}}, \"type\": \"scattermapbox\"}], \"scatterpolar\": [{\"marker\": {\"colorbar\": {\"outlinewidth\": 0, \"ticks\": \"\"}}, \"type\": \"scatterpolar\"}], \"scatterpolargl\": [{\"marker\": {\"colorbar\": {\"outlinewidth\": 0, \"ticks\": \"\"}}, \"type\": \"scatterpolargl\"}], \"scatterternary\": [{\"marker\": {\"colorbar\": {\"outlinewidth\": 0, \"ticks\": \"\"}}, \"type\": \"scatterternary\"}], \"surface\": [{\"colorbar\": {\"outlinewidth\": 0, \"ticks\": \"\"}, \"colorscale\": [[0.0, \"#0d0887\"], [0.1111111111111111, \"#46039f\"], [0.2222222222222222, \"#7201a8\"], [0.3333333333333333, \"#9c179e\"], [0.4444444444444444, \"#bd3786\"], [0.5555555555555556, \"#d8576b\"], [0.6666666666666666, \"#ed7953\"], [0.7777777777777778, \"#fb9f3a\"], [0.8888888888888888, \"#fdca26\"], [1.0, \"#f0f921\"]], \"type\": \"surface\"}], \"table\": [{\"cells\": {\"fill\": {\"color\": \"#EBF0F8\"}, \"line\": {\"color\": \"white\"}}, \"header\": {\"fill\": {\"color\": \"#C8D4E3\"}, \"line\": {\"color\": \"white\"}}, \"type\": \"table\"}]}, \"layout\": {\"annotationdefaults\": {\"arrowcolor\": \"#2a3f5f\", \"arrowhead\": 0, \"arrowwidth\": 1}, \"autotypenumbers\": \"strict\", \"coloraxis\": {\"colorbar\": {\"outlinewidth\": 0, \"ticks\": \"\"}}, \"colorscale\": {\"diverging\": [[0, \"#8e0152\"], [0.1, \"#c51b7d\"], [0.2, \"#de77ae\"], [0.3, \"#f1b6da\"], [0.4, \"#fde0ef\"], [0.5, \"#f7f7f7\"], [0.6, \"#e6f5d0\"], [0.7, \"#b8e186\"], [0.8, \"#7fbc41\"], [0.9, \"#4d9221\"], [1, \"#276419\"]], \"sequential\": [[0.0, \"#0d0887\"], [0.1111111111111111, \"#46039f\"], [0.2222222222222222, \"#7201a8\"], [0.3333333333333333, \"#9c179e\"], [0.4444444444444444, \"#bd3786\"], [0.5555555555555556, \"#d8576b\"], [0.6666666666666666, \"#ed7953\"], [0.7777777777777778, \"#fb9f3a\"], [0.8888888888888888, \"#fdca26\"], [1.0, \"#f0f921\"]], \"sequentialminus\": [[0.0, \"#0d0887\"], [0.1111111111111111, \"#46039f\"], [0.2222222222222222, \"#7201a8\"], [0.3333333333333333, \"#9c179e\"], [0.4444444444444444, \"#bd3786\"], [0.5555555555555556, \"#d8576b\"], [0.6666666666666666, \"#ed7953\"], [0.7777777777777778, \"#fb9f3a\"], [0.8888888888888888, \"#fdca26\"], [1.0, \"#f0f921\"]]}, \"colorway\": [\"#636efa\", \"#EF553B\", \"#00cc96\", \"#ab63fa\", \"#FFA15A\", \"#19d3f3\", \"#FF6692\", \"#B6E880\", \"#FF97FF\", \"#FECB52\"], \"font\": {\"color\": \"#2a3f5f\"}, \"geo\": {\"bgcolor\": \"white\", \"lakecolor\": \"white\", \"landcolor\": \"#E5ECF6\", \"showlakes\": true, \"showland\": true, \"subunitcolor\": \"white\"}, \"hoverlabel\": {\"align\": \"left\"}, \"hovermode\": \"closest\", \"mapbox\": {\"style\": \"light\"}, \"paper_bgcolor\": \"white\", \"plot_bgcolor\": \"#E5ECF6\", \"polar\": {\"angularaxis\": {\"gridcolor\": \"white\", \"linecolor\": \"white\", \"ticks\": \"\"}, \"bgcolor\": \"#E5ECF6\", \"radialaxis\": {\"gridcolor\": \"white\", \"linecolor\": \"white\", \"ticks\": \"\"}}, \"scene\": {\"xaxis\": {\"backgroundcolor\": \"#E5ECF6\", \"gridcolor\": \"white\", \"gridwidth\": 2, \"linecolor\": \"white\", \"showbackground\": true, \"ticks\": \"\", \"zerolinecolor\": \"white\"}, \"yaxis\": {\"backgroundcolor\": \"#E5ECF6\", \"gridcolor\": \"white\", \"gridwidth\": 2, \"linecolor\": \"white\", \"showbackground\": true, \"ticks\": \"\", \"zerolinecolor\": \"white\"}, \"zaxis\": {\"backgroundcolor\": \"#E5ECF6\", \"gridcolor\": \"white\", \"gridwidth\": 2, \"linecolor\": \"white\", \"showbackground\": true, \"ticks\": \"\", \"zerolinecolor\": \"white\"}}, \"shapedefaults\": {\"line\": {\"color\": \"#2a3f5f\"}}, \"ternary\": {\"aaxis\": {\"gridcolor\": \"white\", \"linecolor\": \"white\", \"ticks\": \"\"}, \"baxis\": {\"gridcolor\": \"white\", \"linecolor\": \"white\", \"ticks\": \"\"}, \"bgcolor\": \"#E5ECF6\", \"caxis\": {\"gridcolor\": \"white\", \"linecolor\": \"white\", \"ticks\": \"\"}}, \"title\": {\"x\": 0.05}, \"xaxis\": {\"automargin\": true, \"gridcolor\": \"white\", \"linecolor\": \"white\", \"ticks\": \"\", \"title\": {\"standoff\": 15}, \"zerolinecolor\": \"white\", \"zerolinewidth\": 2}, \"yaxis\": {\"automargin\": true, \"gridcolor\": \"white\", \"linecolor\": \"white\", \"ticks\": \"\", \"title\": {\"standoff\": 15}, \"zerolinecolor\": \"white\", \"zerolinewidth\": 2}}}, \"xaxis\": {\"anchor\": \"y\", \"domain\": [0.0, 1.0], \"title\": {\"text\": \"x\"}}, \"yaxis\": {\"anchor\": \"x\", \"domain\": [0.0, 1.0], \"title\": {\"text\": \"y\"}}},                        {\"responsive\": true}                    ).then(function(){\n",
       "                            \n",
       "var gd = document.getElementById('dceeec01-34f4-4277-a76a-c2ffeb62c8d4');\n",
       "var x = new MutationObserver(function (mutations, observer) {{\n",
       "        var display = window.getComputedStyle(gd).display;\n",
       "        if (!display || display === 'none') {{\n",
       "            console.log([gd, 'removed!']);\n",
       "            Plotly.purge(gd);\n",
       "            observer.disconnect();\n",
       "        }}\n",
       "}});\n",
       "\n",
       "// Listen for the removal of the full notebook cells\n",
       "var notebookContainer = gd.closest('#notebook-container');\n",
       "if (notebookContainer) {{\n",
       "    x.observe(notebookContainer, {childList: true});\n",
       "}}\n",
       "\n",
       "// Listen for the clearing of the current output cell\n",
       "var outputEl = gd.closest('.output');\n",
       "if (outputEl) {{\n",
       "    x.observe(outputEl, {childList: true});\n",
       "}}\n",
       "\n",
       "                        })                };                });            </script>        </div>"
      ]
     },
     "metadata": {},
     "output_type": "display_data"
    }
   ],
   "source": [
    "fig = px.scatter(x=vrpx[\"Date\"], y=vrpx[\"Open\"])\n",
    "fig.show()"
   ]
  },
  {
   "cell_type": "code",
   "execution_count": null,
   "metadata": {},
   "outputs": [],
   "source": []
  }
 ],
 "metadata": {
  "kernelspec": {
   "name": "python383jvsc74a57bd0dca0ade3e726a953b501b15e8e990130d2b7799f14cfd9f4271676035ebe5511",
   "display_name": "Python 3.8.3 64-bit ('base': conda)"
  },
  "language_info": {
   "codemirror_mode": {
    "name": "ipython",
    "version": 3
   },
   "file_extension": ".py",
   "mimetype": "text/x-python",
   "name": "python",
   "nbconvert_exporter": "python",
   "pygments_lexer": "ipython3",
   "version": "3.8.3"
  }
 },
 "nbformat": 4,
 "nbformat_minor": 4
}