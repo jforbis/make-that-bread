{
 "cells": [
  {
   "cell_type": "code",
   "execution_count": 42,
   "metadata": {},
   "outputs": [],
   "source": [
    "import matplotlib.pyplot as plt\n",
    "import requests\n",
    "import json\n",
    "from scipy import stats\n",
    "import pandas as pd\n",
    "from pprint import pprint\n",
    "import yfinance as yf\n",
    "from get_all_tickers import get_tickers as gt\n",
    "import csv\n",
    "from datetime import date\n",
    "from dateutil.relativedelta import relativedelta\n",
    "import io"
   ]
  },
  {
   "cell_type": "code",
   "execution_count": 9,
   "metadata": {},
   "outputs": [
    {
     "output_type": "stream",
     "name": "stdout",
     "text": [
      "   Ticker                                               Name\n0    NCSM                        NCS MULTISTAGE HOLDINGS INC\n1    REPX                      RILEY EXPLORATION PERMIAN INC\n2    UTME                                          UTIME LTD\n3    PRVB                                 PROVENTION BIO INC\n4    CELC                                       CELCUITY INC\n5     MRM  MEDIROM HEALTHCARE TECHNOLOGIES INC SPON ADS E...\n6     BTX                   BROOKLYN IMMUNO THERAPEUTICS INC\n7    CMMB  CHEMOMAB THERAPEUTICS LTD SPON ADS EACH REP 20...\n8    GOVX                                    GEOVAX LABS INC\n9    GLSI                         GREENWICH LIFESCIENCES INC\n10   TENX                             TENAX THERAPEUTICS INC\n11   FKWL                      FRANKLIN WIRELESS CORPORATION\n12   NVOS                       NOVO INTEGRATED SCIENCES INC\n13    CGA                        CHINA GREEN AGRICULTURE INC\n14   AFMD                                        AFFIMED N V\n15   AMTI                    APPLIED MOLECULAR TRANSPORT INC\n16   ICCH                                   ICC HOLDINGS INC\n17   EYES                  SECOND SIGHT MEDICAL PRODUCTS INC\n18   BNSO                    BONSO ELECTRONICS INTERNATIONAL\n19   ITRM                            ITERUM THERAPEUTICS PLC\n20   VRPX                                  VIRPAX PHARMA INC\n21    BBQ                                   BBQ HOLDINGS INC\n"
     ]
    }
   ],
   "source": [
    "url = \"https://www.tradingview.com/markets/stocks-usa/market-movers-most-volatile/\"\n",
    "\n",
    "df = pd.read_html(url)\n",
    "df1 = pd.DataFrame(df[0])\n",
    "ticker_list = list(df1[\"Unnamed: 0\"])\n",
    "\n",
    "ticker_list = ticker_list[0:24]\n",
    "ticker_dict = {}\n",
    "\n",
    "for i in ticker_list:\n",
    "    try:\n",
    "        data_list = i.split(\"  \", 2)\n",
    "        tick = data_list[1]\n",
    "        name = data_list[2]\n",
    "        ticker_dict[tick]= name\n",
    "    except:\n",
    "        pass\n",
    "\n",
    "df2 = pd.DataFrame.from_dict(ticker_dict, orient='index',columns=['Name'])\n",
    "df2.reset_index(inplace=True)\n",
    "df2 = df2.rename(columns = {'index':'Ticker'})\n",
    "print (df2)\n",
    "\n",
    "companies = list(df2[\"Ticker\"])"
   ]
  },
  {
   "cell_type": "code",
   "execution_count": 10,
   "metadata": {},
   "outputs": [
    {
     "output_type": "stream",
     "name": "stdout",
     "text": [
      "['NCSM', 'REPX', 'UTME', 'PRVB', 'CELC', 'MRM', 'BTX', 'CMMB', 'GOVX', 'GLSI', 'TENX', 'FKWL', 'NVOS', 'CGA', 'AFMD', 'AMTI', 'ICCH', 'EYES', 'BNSO', 'ITRM', 'VRPX', 'BBQ']\n"
     ]
    }
   ],
   "source": [
    "print(companies)"
   ]
  },
  {
   "cell_type": "code",
   "execution_count": 11,
   "metadata": {},
   "outputs": [
    {
     "output_type": "stream",
     "name": "stdout",
     "text": [
      "[*********************100%***********************]  22 of 22 completed\n"
     ]
    },
    {
     "output_type": "execute_result",
     "data": {
      "text/plain": [
       "             GOVX                                  MRM                         \\\n",
       "             Open  High   Low Close      Volume   Open    High     Low  Close   \n",
       "Date                                                                            \n",
       "1989-06-27    NaN   NaN   NaN   NaN         NaN    NaN     NaN     NaN    NaN   \n",
       "1989-06-28    NaN   NaN   NaN   NaN         NaN    NaN     NaN     NaN    NaN   \n",
       "1989-06-29    NaN   NaN   NaN   NaN         NaN    NaN     NaN     NaN    NaN   \n",
       "1989-06-30    NaN   NaN   NaN   NaN         NaN    NaN     NaN     NaN    NaN   \n",
       "1989-07-03    NaN   NaN   NaN   NaN         NaN    NaN     NaN     NaN    NaN   \n",
       "...           ...   ...   ...   ...         ...    ...     ...     ...    ...   \n",
       "2021-04-05  4.580  4.58  4.29  4.34    483600.0  11.50  11.500  11.085  11.29   \n",
       "2021-04-06  4.300  4.73  4.14  4.32   1244100.0  11.54  11.540  11.050  11.05   \n",
       "2021-04-07  4.250  4.75  4.21  4.58   1053600.0  11.99  11.990  11.250  11.25   \n",
       "2021-04-08  4.580  4.66  4.26  4.44    424900.0  11.94  11.940  11.600  11.60   \n",
       "2021-04-09  4.737  6.19  4.51  4.71  22377400.0  12.00  16.204  10.700  10.85   \n",
       "\n",
       "                      ...  TENX                                 BTX        \\\n",
       "              Volume  ...  Open  High   Low Close      Volume  Open  High   \n",
       "Date                  ...                                                   \n",
       "1989-06-27       NaN  ...   NaN   NaN   NaN   NaN         NaN   NaN   NaN   \n",
       "1989-06-28       NaN  ...   NaN   NaN   NaN   NaN         NaN   NaN   NaN   \n",
       "1989-06-29       NaN  ...   NaN   NaN   NaN   NaN         NaN   NaN   NaN   \n",
       "1989-06-30       NaN  ...   NaN   NaN   NaN   NaN         NaN   NaN   NaN   \n",
       "1989-07-03       NaN  ...   NaN   NaN   NaN   NaN         NaN   NaN   NaN   \n",
       "...              ...  ...   ...   ...   ...   ...         ...   ...   ...   \n",
       "2021-04-05    3100.0  ...  1.88  1.94  1.72  1.75    316800.0  3.92  4.67   \n",
       "2021-04-06    3300.0  ...  1.76  1.86  1.76  1.81    128500.0  8.35  8.53   \n",
       "2021-04-07    2200.0  ...  1.85  1.89  1.76  1.80    130100.0  5.85  5.86   \n",
       "2021-04-08   12700.0  ...  1.79  1.80  1.71  1.78    221100.0  5.58  5.58   \n",
       "2021-04-09  960300.0  ...  2.09  2.47  2.03  2.08  65789200.0  4.86  7.10   \n",
       "\n",
       "                                    \n",
       "             Low Close      Volume  \n",
       "Date                                \n",
       "1989-06-27   NaN   NaN         NaN  \n",
       "1989-06-28   NaN   NaN         NaN  \n",
       "1989-06-29   NaN   NaN         NaN  \n",
       "1989-06-30   NaN   NaN         NaN  \n",
       "1989-07-03   NaN   NaN         NaN  \n",
       "...          ...   ...         ...  \n",
       "2021-04-05  3.85  4.67   8551200.0  \n",
       "2021-04-06  5.80  6.07  44567800.0  \n",
       "2021-04-07  5.05  5.75   2203300.0  \n",
       "2021-04-08  5.01  5.14    766300.0  \n",
       "2021-04-09  4.86  6.43   4681400.0  \n",
       "\n",
       "[8009 rows x 110 columns]"
      ],
      "text/html": "<div>\n<style scoped>\n    .dataframe tbody tr th:only-of-type {\n        vertical-align: middle;\n    }\n\n    .dataframe tbody tr th {\n        vertical-align: top;\n    }\n\n    .dataframe thead tr th {\n        text-align: left;\n    }\n\n    .dataframe thead tr:last-of-type th {\n        text-align: right;\n    }\n</style>\n<table border=\"1\" class=\"dataframe\">\n  <thead>\n    <tr>\n      <th></th>\n      <th colspan=\"5\" halign=\"left\">GOVX</th>\n      <th colspan=\"5\" halign=\"left\">MRM</th>\n      <th>...</th>\n      <th colspan=\"5\" halign=\"left\">TENX</th>\n      <th colspan=\"5\" halign=\"left\">BTX</th>\n    </tr>\n    <tr>\n      <th></th>\n      <th>Open</th>\n      <th>High</th>\n      <th>Low</th>\n      <th>Close</th>\n      <th>Volume</th>\n      <th>Open</th>\n      <th>High</th>\n      <th>Low</th>\n      <th>Close</th>\n      <th>Volume</th>\n      <th>...</th>\n      <th>Open</th>\n      <th>High</th>\n      <th>Low</th>\n      <th>Close</th>\n      <th>Volume</th>\n      <th>Open</th>\n      <th>High</th>\n      <th>Low</th>\n      <th>Close</th>\n      <th>Volume</th>\n    </tr>\n    <tr>\n      <th>Date</th>\n      <th></th>\n      <th></th>\n      <th></th>\n      <th></th>\n      <th></th>\n      <th></th>\n      <th></th>\n      <th></th>\n      <th></th>\n      <th></th>\n      <th></th>\n      <th></th>\n      <th></th>\n      <th></th>\n      <th></th>\n      <th></th>\n      <th></th>\n      <th></th>\n      <th></th>\n      <th></th>\n      <th></th>\n    </tr>\n  </thead>\n  <tbody>\n    <tr>\n      <th>1989-06-27</th>\n      <td>NaN</td>\n      <td>NaN</td>\n      <td>NaN</td>\n      <td>NaN</td>\n      <td>NaN</td>\n      <td>NaN</td>\n      <td>NaN</td>\n      <td>NaN</td>\n      <td>NaN</td>\n      <td>NaN</td>\n      <td>...</td>\n      <td>NaN</td>\n      <td>NaN</td>\n      <td>NaN</td>\n      <td>NaN</td>\n      <td>NaN</td>\n      <td>NaN</td>\n      <td>NaN</td>\n      <td>NaN</td>\n      <td>NaN</td>\n      <td>NaN</td>\n    </tr>\n    <tr>\n      <th>1989-06-28</th>\n      <td>NaN</td>\n      <td>NaN</td>\n      <td>NaN</td>\n      <td>NaN</td>\n      <td>NaN</td>\n      <td>NaN</td>\n      <td>NaN</td>\n      <td>NaN</td>\n      <td>NaN</td>\n      <td>NaN</td>\n      <td>...</td>\n      <td>NaN</td>\n      <td>NaN</td>\n      <td>NaN</td>\n      <td>NaN</td>\n      <td>NaN</td>\n      <td>NaN</td>\n      <td>NaN</td>\n      <td>NaN</td>\n      <td>NaN</td>\n      <td>NaN</td>\n    </tr>\n    <tr>\n      <th>1989-06-29</th>\n      <td>NaN</td>\n      <td>NaN</td>\n      <td>NaN</td>\n      <td>NaN</td>\n      <td>NaN</td>\n      <td>NaN</td>\n      <td>NaN</td>\n      <td>NaN</td>\n      <td>NaN</td>\n      <td>NaN</td>\n      <td>...</td>\n      <td>NaN</td>\n      <td>NaN</td>\n      <td>NaN</td>\n      <td>NaN</td>\n      <td>NaN</td>\n      <td>NaN</td>\n      <td>NaN</td>\n      <td>NaN</td>\n      <td>NaN</td>\n      <td>NaN</td>\n    </tr>\n    <tr>\n      <th>1989-06-30</th>\n      <td>NaN</td>\n      <td>NaN</td>\n      <td>NaN</td>\n      <td>NaN</td>\n      <td>NaN</td>\n      <td>NaN</td>\n      <td>NaN</td>\n      <td>NaN</td>\n      <td>NaN</td>\n      <td>NaN</td>\n      <td>...</td>\n      <td>NaN</td>\n      <td>NaN</td>\n      <td>NaN</td>\n      <td>NaN</td>\n      <td>NaN</td>\n      <td>NaN</td>\n      <td>NaN</td>\n      <td>NaN</td>\n      <td>NaN</td>\n      <td>NaN</td>\n    </tr>\n    <tr>\n      <th>1989-07-03</th>\n      <td>NaN</td>\n      <td>NaN</td>\n      <td>NaN</td>\n      <td>NaN</td>\n      <td>NaN</td>\n      <td>NaN</td>\n      <td>NaN</td>\n      <td>NaN</td>\n      <td>NaN</td>\n      <td>NaN</td>\n      <td>...</td>\n      <td>NaN</td>\n      <td>NaN</td>\n      <td>NaN</td>\n      <td>NaN</td>\n      <td>NaN</td>\n      <td>NaN</td>\n      <td>NaN</td>\n      <td>NaN</td>\n      <td>NaN</td>\n      <td>NaN</td>\n    </tr>\n    <tr>\n      <th>...</th>\n      <td>...</td>\n      <td>...</td>\n      <td>...</td>\n      <td>...</td>\n      <td>...</td>\n      <td>...</td>\n      <td>...</td>\n      <td>...</td>\n      <td>...</td>\n      <td>...</td>\n      <td>...</td>\n      <td>...</td>\n      <td>...</td>\n      <td>...</td>\n      <td>...</td>\n      <td>...</td>\n      <td>...</td>\n      <td>...</td>\n      <td>...</td>\n      <td>...</td>\n      <td>...</td>\n    </tr>\n    <tr>\n      <th>2021-04-05</th>\n      <td>4.580</td>\n      <td>4.58</td>\n      <td>4.29</td>\n      <td>4.34</td>\n      <td>483600.0</td>\n      <td>11.50</td>\n      <td>11.500</td>\n      <td>11.085</td>\n      <td>11.29</td>\n      <td>3100.0</td>\n      <td>...</td>\n      <td>1.88</td>\n      <td>1.94</td>\n      <td>1.72</td>\n      <td>1.75</td>\n      <td>316800.0</td>\n      <td>3.92</td>\n      <td>4.67</td>\n      <td>3.85</td>\n      <td>4.67</td>\n      <td>8551200.0</td>\n    </tr>\n    <tr>\n      <th>2021-04-06</th>\n      <td>4.300</td>\n      <td>4.73</td>\n      <td>4.14</td>\n      <td>4.32</td>\n      <td>1244100.0</td>\n      <td>11.54</td>\n      <td>11.540</td>\n      <td>11.050</td>\n      <td>11.05</td>\n      <td>3300.0</td>\n      <td>...</td>\n      <td>1.76</td>\n      <td>1.86</td>\n      <td>1.76</td>\n      <td>1.81</td>\n      <td>128500.0</td>\n      <td>8.35</td>\n      <td>8.53</td>\n      <td>5.80</td>\n      <td>6.07</td>\n      <td>44567800.0</td>\n    </tr>\n    <tr>\n      <th>2021-04-07</th>\n      <td>4.250</td>\n      <td>4.75</td>\n      <td>4.21</td>\n      <td>4.58</td>\n      <td>1053600.0</td>\n      <td>11.99</td>\n      <td>11.990</td>\n      <td>11.250</td>\n      <td>11.25</td>\n      <td>2200.0</td>\n      <td>...</td>\n      <td>1.85</td>\n      <td>1.89</td>\n      <td>1.76</td>\n      <td>1.80</td>\n      <td>130100.0</td>\n      <td>5.85</td>\n      <td>5.86</td>\n      <td>5.05</td>\n      <td>5.75</td>\n      <td>2203300.0</td>\n    </tr>\n    <tr>\n      <th>2021-04-08</th>\n      <td>4.580</td>\n      <td>4.66</td>\n      <td>4.26</td>\n      <td>4.44</td>\n      <td>424900.0</td>\n      <td>11.94</td>\n      <td>11.940</td>\n      <td>11.600</td>\n      <td>11.60</td>\n      <td>12700.0</td>\n      <td>...</td>\n      <td>1.79</td>\n      <td>1.80</td>\n      <td>1.71</td>\n      <td>1.78</td>\n      <td>221100.0</td>\n      <td>5.58</td>\n      <td>5.58</td>\n      <td>5.01</td>\n      <td>5.14</td>\n      <td>766300.0</td>\n    </tr>\n    <tr>\n      <th>2021-04-09</th>\n      <td>4.737</td>\n      <td>6.19</td>\n      <td>4.51</td>\n      <td>4.71</td>\n      <td>22377400.0</td>\n      <td>12.00</td>\n      <td>16.204</td>\n      <td>10.700</td>\n      <td>10.85</td>\n      <td>960300.0</td>\n      <td>...</td>\n      <td>2.09</td>\n      <td>2.47</td>\n      <td>2.03</td>\n      <td>2.08</td>\n      <td>65789200.0</td>\n      <td>4.86</td>\n      <td>7.10</td>\n      <td>4.86</td>\n      <td>6.43</td>\n      <td>4681400.0</td>\n    </tr>\n  </tbody>\n</table>\n<p>8009 rows × 110 columns</p>\n</div>"
     },
     "metadata": {},
     "execution_count": 11
    }
   ],
   "source": [
    "tickerdf = yf.download(tickers = companies,period = 'max',group_by = 'ticker',auto_adjust = True)\n",
    "tickerdf\n",
    "# vrpx = tickerdf['VRPX'].reset_index(drop=False)\n",
    "# vrpx"
   ]
  },
  {
   "cell_type": "code",
   "execution_count": 12,
   "metadata": {},
   "outputs": [],
   "source": [
    "ticker_file = \"../app/data/tickers.csv\"\n",
    "tickers = pd.read_csv(ticker_file, header=None)\n",
    "tickers\n",
    "tickers = list(tickers[0])\n",
    "# print(tickers)\n",
    "# print(len(tickers))"
   ]
  },
  {
   "cell_type": "code",
   "execution_count": 13,
   "metadata": {},
   "outputs": [
    {
     "output_type": "stream",
     "name": "stdout",
     "text": [
      "{'ticks': ['DDD', 'MMM', 'WBAI', 'WUBA', 'EGHT', 'AHC', 'AOS', 'ATEN', 'AIR', 'AAN', 'ABB', 'ABT', 'ABBV', 'ANF', 'AGD', 'AWP', 'ACP', 'JEQ', 'ASGI', 'AOD', 'ABM', 'AKR', 'ACEL', 'ACN', 'ACCO', 'ATV', 'AYI', 'GOLF', 'ADX', 'PEO', 'ADCT', 'AGRO', 'ADNT', 'ADT', 'ATGE', 'AAP', 'ADSW', 'WMS', 'ASIX', 'AVK', 'ACM', 'AEFC', 'AEB', 'AEG', 'AER', 'AJRD', 'AMG', 'MGR', 'AFL', 'MITT', 'AGCO', 'A', 'AEM', 'ADC', 'AL', 'APD', 'ALG', 'AGI', 'ALK', 'AIN', 'ALB', 'ACI', 'AA', 'ALC', 'ALEX', 'ALX', 'ARE', 'AQN', 'AQNA', 'AQNB', 'BABA', 'Y', 'ATI', 'ALLE', 'ALE', 'ADS', 'AFB', 'AWF', 'AB', 'AIO', 'CBH', 'NCV', 'NCZ', 'ACV', 'NFJ', 'NIE', 'ALSN', 'ALL', 'ALLY', 'PINE', 'ALTG', 'AYX', 'ATUS', 'MO', 'ACH', 'ALUS', 'AMBC', 'ABEV', 'AMC', 'AMCR', 'AEE', 'AMRC', 'AMOV', 'AMX', 'AAT', 'AXL', 'ACC', 'AEO', 'AEP', 'AEL', 'AXP', 'AFG', 'AFGB', 'AFGC', 'AFGD', 'AFGH', 'AMH', 'AIG', 'ARL', 'ARA', 'AWR', 'AMT', 'AVD', 'AWK', 'COLD', 'AMP', 'ABC', 'RYCE', 'AMN', 'AMRX', 'AP', 'APH', 'AXR', 'HKIB', 'AME', 'PLAN', 'DYFN', 'FINS', 'AU', 'BUD', 'NLY', 'AM', 'AR', 'ANTM', 'ANH', 'AON', 'AIV', 'APG', 'ARI', 'APO', 'AFT', 'AIF', 'APLE', 'AIT', 'ATR', 'APTV', 'ARMK', 'ABR', 'ARC', 'MT', 'MTCN', 'ARCH', 'ADM', 'AROC', 'ARNC', 'ARCO', 'ACA', 'RCUS', 'ARD', 'ASC', 'AFC', 'ACRE', 'ARDC', 'ARES', 'AGX', 'ARGD', 'ARGO', 'ANET', 'AI', 'AIC', 'AIW', 'ARLO', 'AHH', 'ARR', 'AFI', 'AWI', 'ARW', 'AJG', 'APAM', 'ASA', 'ABG', 'ASX', 'ASGN', 'AHT', 'ASH', 'ASPN', 'AMK', 'ASB', 'AC', 'AIZ', 'AIZP', 'AGO', 'AZN', 'HOME', 'T', 'TBB', 'TBC', 'ATTO', 'ATH', 'ATKR', 'AT', 'ATCO', 'ATO', 'ACB', 'ATHM', 'ALV', 'AN', 'AZO', 'AVLR', 'AVB', 'AGR', 'AVNS', 'AVTR', 'AVYA', 'AVY', 'AVNT', 'AVA', 'AXTA', 'AXS', 'AX', 'AXO', 'AZUL', 'AZRE', 'AZZ', 'BGS', 'BMRG', 'BW', 'BGH', 'BMI', 'BCSF', 'BKR', 'BBN', 'BLL', 'BANC', 'BBAR', 'BBVA', 'BBD', 'BBDO', 'BCH', 'BLX', 'BSBR', 'BSAC', 'BSMX', 'SAN', 'CIB', 'BXS', 'BAC', 'BOH', 'BMO', 'NTB', 'BNS', 'BKU', 'BCS', 'BBDC', 'MCI', 'MPV', 'BNED', 'B', 'GOLD', 'BHC', 'BAX', 'BTE', 'BBX', 'BCE', 'BZH', 'BDX', 'BDXB', 'BDC', 'BRBR', 'BHE', 'BHLB', 'BERY', 'BBY', 'BEST', 'BGSF', 'BHP', 'BBL', 'BIG', 'BH', 'BILL', 'BHVN', 'BIO', 'BITA', 'BJ', 'BKH', 'BKI', 'BSM', 'BB', 'BGIO', 'BFZ', 'CII', 'BHK', 'HYT', 'BTZ', 'DSU', 'BGR', 'BDJ', 'EGF', 'FRA', 'BFO', 'BGT', 'BOE', 'BME', 'BMEZ', 'BAF', 'BKT', 'BGY', 'BKN', 'BTA', 'BZM', 'MHE', 'BIT', 'MUI', 'MUA', 'BKK', 'BBK', 'BBF', 'BYM', 'BFK', 'BLE', 'BTT', 'MEN', 'MUC', 'MUH', 'MHD', 'MFL', 'MUJ', 'MHN', 'MUE', 'MUS', 'MVT', 'MYC', 'MCA', 'MYD', 'MYF', 'MFT', 'MIY', 'MYJ', 'MYN', 'MPA', 'MQT', 'MYI', 'MQY', 'BNY', 'BQH', 'BSE', 'BFY', 'BCX', 'BST', 'BSTZ', 'BSD', 'BUI', 'BHV', 'BLK', 'BGB', 'BGX', 'BSL', 'BE', 'APRN', 'BXG', 'BXC', 'DCF', 'DHF', 'DMB', 'DSM', 'LEO', 'BA', 'BCC', 'BCEI', 'BOOT', 'BAH', 'BWA', 'BORR', 'SAM', 'BXP', 'BSX', 'BOX', 'BYD', 'BPMP', 'BP', 'BPT', 'BRC', 'BHR', 'BDN', 'BWG', 'LND', 'BAK', 'BRFS', 'MNRL', 'BFAM', 'BEDU', 'BSA', 'BSIG', 'BV', 'EAT', 'BCO', 'BMY', 'BMY~', 'VTOL', 'BTI', 'BRX', 'BRMK', 'BR', 'BKD', 'BAM', 'BBU', 'BIPC', 'BIP', 'RA', 'BEPC', 'BEP', 'BRO', 'BRT', 'BC', 'BKE', 'BVN', 'BBW', 'BG', 'BURL', 'BWXT', 'BY', 'CABO', 'CBT', 'COG', 'CACI', 'WHD', 'CADE', 'CAE', 'CAI', 'CAL', 'CWT', 'CALX', 'ELY', 'CPE', 'CPT', 'CCJ', 'CPB', 'CWH', 'GOOS', 'CM', 'CNI', 'CNQ', 'CP', 'CANG', 'CNNE', 'CAJ', 'CGC', 'CMD', 'COF', 'CSU', 'BXMT', 'CPRI', 'CMO', 'CAH', 'CSL', 'KMX', 'CCL', 'CUK', 'CRS', 'CSV', 'CARR', 'CARS', 'CRI', 'CVNA', 'CSPR', 'CSLT', 'CTLT', 'CTT           ', 'CAT', 'CATO', 'CBZ', 'CBL', 'CBO', 'IGR', 'CBRE', 'CBX', 'PCPL', 'FUN', 'CDR', 'CE', 'CLS', 'CELG~', 'CEL', 'CPAC', 'CX', 'CVE', 'CNC', 'CEN', 'CNP', 'EBR', 'CEPU', 'CCS', 'CTL', 'CDAY', 'CF', 'GIB', 'CHX', 'ECOM          ', 'CHAP', 'CHRA', 'CRL', 'CLDT', 'CMCM', 'CHGG', 'CHE', 'CC', 'CHMI', 'CPK', 'CVX', 'CHWY', 'CHS', 'CIM', 'DL', 'CEA', 'CHN', 'CGA', 'LFC', 'CHL', 'COE', 'SNP', 'ZNH', 'CHA', 'CHU', 'CYD', 'CMG', 'CHH', 'CB', 'CHT', 'CHD', 'CCX', 'CCXX', 'CIEN', 'CI', 'XEC', 'CBB', 'CNK', 'CINR', 'CIR', 'CIT', 'CCAC', 'BLW', 'C', 'CFG', 'CIA', 'CIO', 'CVEO', 'CCC', 'CLH', 'CCO', 'EMO', 'CEM', 'CTR', 'CLW', 'CWEN', 'CLF', 'CLPR', 'CLX', 'CLDR', 'NET', 'CMS', 'CMSA', 'CMSC', 'CMSD', 'CNA', 'CNF', 'CNHI', 'CNO', 'CEO', 'CNXM', 'CNX', 'KOF', 'KO', 'CCEP', 'CDE', 'FOF', 'CNS', 'UTF', 'LDP', 'MIE', 'RQI', 'RNP', 'PSF', 'RFI', 'CFX', 'CFXA', 'CL', 'CCH', 'CXE', 'CIF', 'CXH', 'CMU', 'CLNY', 'CLNC', 'CXP', 'STK', 'CCZ', 'CMA', 'FIX', 'CMC', 'CBU', 'CYH', 'CHCT', 'CIG', 'CBD', 'SBS', 'ELP', 'CCU', 'CODI', 'CMP', 'CRK', 'CAG', 'CXO', 'CCM', 'CNMD', 'COP', 'CCR', 'CEIX', 'ED', 'STZ', 'CSTM', 'TCS', 'CLR', 'VLRS', 'CTRA', 'CTB', 'CPS', 'CTK', 'CPA', 'CLB', 'CXW', 'CLGX', 'CORR', 'CPLG', 'COR', 'CNR', 'GLW', 'CAAP', 'GYC', 'OFC', 'CTVA', 'CZZ', 'CMRE', 'COTY', 'CUZ', 'CVA', 'CPF', 'CR', 'BAP', 'CS', 'CPG', 'CEQP', 'CRH', 'CRT', 'CAPL', 'CCI', 'CCK', 'CRY', 'CTS', 'CUBE', 'CUB', 'CFR', 'CULP', 'CMI', 'CURO', 'CW', 'SRV', 'SZC', 'CWK', 'CUBB', 'CUBI', 'CVI', 'UAN', 'CVS', 'CELP', 'DHI', 'DAN', 'DHR', 'DAC', 'DQ', 'DRI', 'DAR', 'DVA', 'DCP', 'DECK', 'DE', 'DEX', 'DDF', 'DKL', 'DK', 'DELL', 'DLPH', 'DAL', 'DLX', 'DBI', 'DESP', 'DB', 'DVN', 'DHX', 'DHT', 'DEO', 'DSSI', 'DRH', 'DSX', 'DKS', 'DBD', 'DMS', 'DLR', 'DDS', 'DDT', 'DIN', 'DFS', 'DNI', 'DMYT', 'DLB', 'DG', 'D', 'DCUE', 'DRUA', 'DPZ', 'UFS', 'DCI', 'DFIN', 'LPG', 'DSL', 'DBL', 'DLY', 'PLOW', 'DEI', 'DOV', 'DVD', 'DOW', 'RDY', 'DRD', 'DRQ', 'DS', 'DTE', 'DTJ', 'DTP', 'DTQ', 'DTW', 'DTY', 'DCO', 'DSE', 'DNP', 'DTF', 'DUC', 'DPG', 'DUK', 'DUKB', 'DUKH', 'DRE', 'DNB', 'DD', 'DXC', 'DY', 'DLNG', 'DT', 'DX', 'ELF', 'EXP', 'ECC           ', 'ECCB', 'ECCX', 'ECCY', 'EIC', 'ESTE', 'DEA', 'EGP', 'EMN', 'KODK', 'ETN', 'ETV', 'ETW', 'EV', 'EOI', 'EOS', 'EFT', 'EFL', 'EFF', 'EHT', 'ETX           ', 'EOT', 'EVN', 'ETJ', 'EFR', 'EVF', 'EVG', 'EVT', 'ETO', 'ETG', 'ETB', 'EXD', 'ETY', 'EXG', 'ECL', 'EC', 'EPC', 'EIX', 'EW', 'ELAN', 'ELAT', 'ESTC', 'EGO', 'ESI', 'ELVT', 'LLY', 'EFC', 'EARN', 'ERJ', 'EME', 'EEX', 'EBS', 'EMR', 'ESRT', 'EIG', 'EDN', 'ENBL', 'ENB', 'ENBA', 'EHC', 'DAVA', 'EXK', 'ENIA', 'ENIC', 'ENR', 'ET', 'EPAC', 'ERF', 'ENS', 'E', 'ENLC', 'EBF', 'ENVA', 'NPO', 'ETM', 'EAB', 'EAE', 'EAI', 'ETR', 'ELC', 'ELJ', 'ELU', 'EMP', 'ENJ', 'ENO', 'EZT', 'EPD', 'EVC', 'ENV', 'NVST', 'EVA', 'ENZ', 'EOG', 'EPAM', 'EPR', 'EQT', 'EFX', 'EQNR', 'EQH', 'ETRN', 'EQC', 'ELS', 'EQR', 'EQS', 'EROS', 'ESE', 'ESNT', 'EPRT', 'WTRG', 'WTRU', 'ESS', 'EL', 'ETH', 'EURN', 'EEA', 'EB', 'EVR', 'RE', 'EVRG', 'EVRI', 'ES', 'EVTC', 'EVH', 'AQUA', 'XAN', 'EXPR', 'EXTN', 'EXR', 'XOM', 'FNB', 'FN', 'FDS', 'FICO', 'SFUN', 'FPAC', 'FTCH', 'FPI', 'FSLY', 'FBK', 'FFG', 'AGM', 'FRT', 'FSS', 'FMN', 'FHI', 'FDX', 'RACE', 'FOE', 'FCAU', 'FNF', 'FIS', 'FMO', 'FINV', 'FAF', 'FBP', 'FCF', 'TCRW', 'TCRZ', 'FSLF', 'FHN', 'FR', 'AG', 'FRC', 'FFA', 'FMY', 'FDEU', 'FIF', 'FSD', 'FTHY', 'FPF', 'FEI           ', 'FPL', 'FIV', 'FCT', 'FGB', 'FEO', 'FAM', 'FE', 'FIT', 'FPH', 'FVRR', 'FBC', 'DFP', 'PFD', 'PFO', 'FFC', 'FLC', 'FLT', 'FLNG', 'FND', 'FTK', 'FLO', 'FLS', 'FLR', 'FLY', 'FEAC', 'FMC', 'WPF', 'FMX', 'FL', 'F', 'FOR', 'FTS', 'FTV', 'FTAI', 'FVAC', 'FSM', 'FBHS', 'FET', 'FBM', 'FCPT', 'FEDU', 'FNV', 'FC', 'FSB', 'BEN', 'FT', 'FI', 'FCX', 'FMS', 'FDP', 'RESI', 'FRO', 'FSK', 'FSKR', 'FCN', 'FF', 'GCV', 'GAB', 'GGZ', 'GGT', 'GUT', 'GLEO', 'GBL', 'GNT', 'GME', 'GCI', 'GPS', 'GTX', 'IT', 'GLOG', 'GLOP', 'GTES', 'GATX', 'GMTA', 'GCP', 'GNK', 'GNRC', 'GAM', 'GD', 'GE', 'GIS', 'GM', 'GCO', 'GEL', 'GEN           ', 'GNE', 'G', 'GPC', 'GNW', 'GEO', 'GPRK', 'GPJA', 'GGB', 'GTY', 'GFL', 'GFLU', 'GIX', 'GIX~', 'GIK', 'GIL', 'GLT', 'GKOS', 'GSK', 'CO', 'GMRE', 'GNL', 'GLP', 'GPN', 'GSL', 'GSLD', 'GLOB', 'GL', 'GMED', 'GMS', 'GDDY', 'GOL', 'GFI', 'GSBD', 'GS', 'GER', 'GMZ', 'GRC', 'GPX', 'GGG', 'GRAF', 'EAF', 'GHM', 'GHC', 'GRAM', 'GVA', 'GPMT', 'GPK', 'GTN', 'AJX', 'AJXA', 'GWB', 'GDOT', 'GBX', 'GHL', 'GHG', 'GEF', 'GFF', 'GPI', 'GRUB', 'PAC', 'ASR', 'AVAL', 'SUPV', 'TV', 'GSX', 'GTT', 'GSH', 'GES', 'GGM', 'GPM', 'GOF', 'GBAB', 'GWRE', 'HRB', 'FUL', 'HAE', 'HAL', 'HBB', 'HBI', 'HNGR', 'HASI', 'HOG', 'HMY', 'HSC', 'HGH', 'HIG', 'HVT', 'HE', 'HCHC', 'HCA', 'HCI', 'HDB', 'HR', 'HTA', 'PEAK', 'HL', 'HEI', 'HLX', 'HP', 'HLF', 'HRI', 'HCXY', 'HCXZ', 'HTGC', 'HRTG', 'PSV', 'HT', 'HSY', 'HTZ', 'HES', 'HESM', 'HPE', 'HXL', 'HEXO', 'PCF', 'HGLB', 'HFRO', 'HPR', 'HIW', 'HIL', 'HI', 'HRC', 'HTH', 'HGV', 'HLT', 'HNI', 'HMLP', 'HEP', 'HFC', 'HD', 'HMC', 'HON', 'HMN', 'HZN', 'HTFA', 'HRL', 'HST', 'HLI', 'HOV', 'HHC', 'HWM', 'HPQ', 'HSBC', 'HMI', 'HNP', 'HUBB', 'HUBS', 'HBM', 'HUD', 'HPP', 'HUM', 'HCFT', 'HII', 'HUN', 'HUYA', 'H', 'HY', 'IAA', 'IAG', 'IBN', 'ICL', 'IDA', 'IEX', 'IDT', 'INFO', 'ITW', 'IMAX', 'ICD', 'IHC', 'IRT', 'IFN', 'IBA', 'INFY', 'ING', 'IR', 'NGVT', 'INGR', 'IIPR', 'IPHI', 'INSI', 'NSP', 'INSP', 'IBP', 'ITGR', 'ICE', 'IHG', 'IFS', 'IBM', 'IFF', 'IFFT', 'IGT', 'IP', 'INSW', 'IPV', 'IPG', 'IPI', 'IVC', 'VBF', 'VCV', 'VTA', 'IHIT', 'IHTA', 'VLT', 'IVR', 'OIA', 'VMO', 'VKQ', 'VPV', 'IVZ', 'IQI', 'VVR', 'VTN', 'VGM', 'IIM', 'IRET', 'NVTA', 'INVH', 'IO', 'IQV', 'IRM', 'IRS', 'STAR          ', 'ITCB', 'ITUB', 'ITT', 'IVH', 'JPM', 'JAX', 'JILL', 'SJM', 'JBL', 'J', 'JHX', 'JHG', 'JOF', 'JWS', 'JBGS', 'JEF', 'JELD', 'JCAP', 'JT', 'JKS', 'JMP', 'JBT', 'BTO', 'HEQ', 'JHS', 'JHI', 'HPF', 'HPI', 'HPS', 'PDT', 'HTD', 'HTY', 'JNJ', 'JCI', 'JLL', 'JMIA', 'JIH', 'JNPR', 'JP', 'JE', 'LRN', 'KAI', 'KDMN', 'KAMN', 'KSU', 'KAR', 'KMF', 'KYN', 'KB', 'KBH', 'KBR', 'K', 'KMPR', 'KMT', 'KW', 'KEN', 'KDP', 'KEY', 'KEYS', 'KRC', 'KRP', 'KMB', 'KIM', 'KMI', 'KFS', 'KGC', 'KEX', 'KL', 'KRG', 'KKR', 'KIO', 'KREF', 'KNX', 'KNL', 'KNOP', 'KN', 'KSS', 'PHG', 'KTB', 'KOP', 'KEP', 'KF', 'KFY', 'KOS', 'KRA', 'KR', 'KRO', 'KT', 'LB', 'SCX', 'LHX', 'LH', 'LADR', 'LAIX', 'LW', 'LCI', 'LPI', 'LVS', 'LGI', 'LAZ', 'LZB', 'LCII', 'LEAF', 'LEA', 'LEE', 'LGC', 'LMHA', 'LMHB', 'LEG', 'JBK', 'KTH', 'KTN', 'LDOS', 'LEJU', 'LMND', 'LC', 'LEN', 'LII', 'LEVI', 'LXP', 'LPL', 'DFNS', 'USA', 'ASG', 'LBRT', 'LSI', 'LITB', 'LNC', 'LIN', 'LNN', 'LN', 'LINX', 'LAD', 'LAC', 'LYV', 'LOAK', 'LTHM', 'RAMP', 'LYG', 'SCD', 'LMT', 'L', 'LOMA', 'LGVW', 'LPX', 'LOW', 'LXU', 'LTC', 'LUB', 'LL', 'LXFR', 'LDL', 'LYB', 'MTB', 'MDC', 'MHO', 'MAC', 'CLI', 'MFD', 'MGU', 'MIC', 'BMA', 'M', 'MCN', 'MSGE', 'MSGS', 'MMP', 'MGA', 'MX', 'MGY', 'MHLA', 'MHNC', 'MAIN', 'MMD', 'MNK', 'MANU', 'MTW', 'MN', 'MAN', 'MFC', 'MRO', 'MPC', 'MMI', 'MCS', 'MPX', 'HZO', 'MKL', 'VAC', 'MMC', 'MLM', 'MAS', 'DOOR', 'MTZ', 'MA', 'MTDR', 'MTRN', 'MATX', 'MLP', 'MAXR', 'MMS', 'MXL', 'MEC', 'MBI', 'MKC', 'MCD', 'MUX', 'MCK', 'MDU', 'MTL', 'MDLA', 'MPW', 'MED', 'MCC', 'MCV', 'MCX', 'MDLQ', 'MDLX', 'MDLY', 'MD', 'MDT', 'MFAC', 'MRK', 'MCY', 'MDP', 'MTH', 'MTOR', 'MTR', 'MSB', 'MEI', 'MET', 'MCB', 'MTD', 'MXE', 'MXF', 'MFA', 'MFO', 'MCR', 'MGF', 'MIN', 'MMT', 'MFM', 'MFV', 'MTG', 'MGP', 'MGM', 'MFGP', 'MAA', 'AMPY', 'MLR', 'HIE', 'MTX', 'MG', 'MUFG', 'MIXT', 'MFG', 'MBT', 'MODN', 'MOD', 'MC', 'MOGU', 'MHK', 'MOH', 'TAP', 'MNR', 'MR', 'MEG', 'MCO', 'MS', 'CAF', 'MSD', 'EDD', 'IIF', 'MOS', 'MSI', 'MOV', 'MPLX', 'MRC', 'MSA', 'MSM', 'MSCI', 'MSGN', 'MLI', 'MWA', 'MVF', 'MZA', 'MUR', 'MUSA', 'MVO', 'MVC', 'MVCD', 'MYE', 'MYOV', 'NBR', 'NC', 'NTP', 'NTEST', 'NBHC', 'NFG', 'NGG', 'NHI', 'NOV', 'NPK', 'NNN', 'NRUC', 'SID', 'NSA', 'NTCO', 'NGS', 'NGVC', 'NRP', 'NTZ', 'NWG', 'NLS', 'NVGS', 'NNA', 'NM', 'NMM', 'NAV', 'NCR', 'NP', 'NNI', 'NPTN', 'NSCO', 'NVRO', 'HYB', 'NFH', 'GF', 'NWHM', 'IRL', 'NMFC', 'NMFX', 'EDU', 'NEWR', 'NRZ', 'SNR', 'NYCB', 'NYT', 'NJR', 'NEU', 'NEM', 'NR', 'NEXA', 'NREF', 'NXRT', 'NHF', 'NEP', 'NEE', 'NEX', 'NGL', 'NLSN', 'NKE', 'NINE', 'NIO', 'NI', 'NL', 'NOAH', 'NOK', 'NOMD', 'NMR', 'OSB', 'NAT', 'JWN', 'NSC', 'NOA', 'NRT', 'NOC', 'NWN', 'NWE', 'NCLH', 'NVS', 'NVO', 'DNOW', 'NRG', 'NUS', 'NUE', 'NS', 'NSS', 'NTR', 'NVG', 'NUV', 'NUW', 'NEA', 'NAZ', 'NKX', 'NCB', 'NCA', 'NAC', 'JCE', 'JCO', 'JQC', 'JDD', 'DIAX', 'JEMD', 'NEV', 'JFR', 'JRO', 'NKG', 'JGH', 'JHY', 'JHAA', 'JHB', 'NXC', 'NXN', 'NID', 'NMY', 'NMT', 'NUM', 'NMS', 'NOM', 'JLS', 'JMM', 'NHA', 'NZF', 'NMCO', 'NMZ', 'NMI', 'NJV', 'NXJ', 'NRK', 'NYV', 'NNY', 'NAN', 'NUO', 'NPN', 'NQP', 'JPC', 'JPS', 'JPT', 'JPI', 'NAD', 'JRI', 'JRS', 'BXMX', 'SPXX', 'NIM', 'NXP', 'NXQ', 'NXR', 'NSL', 'JSD', 'NBB', 'JTD', 'JTA', 'NPV', 'NIQ', 'NVT', 'NVR', 'CTEST', 'OAC', 'OXY', 'OII', 'OCN', 'OFG', 'OGE', 'OI', 'OIS', 'ODC', 'ORI', 'OLN', 'OHI', 'OMC', 'ONDK', 'OGS', 'OLP', 'OCFT', 'OMF', 'OKE', 'ONE', 'ONTO', 'OOMA', 'OPY', 'ORCL', 'ORAN', 'ORC', 'OEC', 'ORN', 'IX', 'ORA', 'OSK', 'OR', 'SFTW', 'OTIS', 'OUT', 'OSG', 'OVV', 'OMI', 'OC', 'ORCC', 'OXM', 'ROYT', 'PACD', 'PCG', 'PCGU', 'PKG', 'PD', 'PAGS', 'PANW', 'PAM', 'PHX', 'PARR', 'PAR', 'PGRE', 'PKE', 'PK', 'PH', 'PE', 'PSN', 'PRTY', 'PAYC', 'PBF', 'PBFX', 'BTU', 'PSO', 'PEB', 'PBA', 'PEI', 'PFSI', 'PMT', 'PAG', 'PNR', 'PEN', 'PFGC', 'PKI', 'PBT', 'PVL', 'PRT', 'PRGO', 'PRSP', 'PTR', 'PBR', 'PFE', 'GHY', 'ISD', 'PGTI', 'PM', 'PSX', 'PSXP', 'FENG', 'DNK', 'PHR', 'DOC', 'PDM', 'PCQ', 'PCK', 'PZC', 'PCM', 'PTY', 'PCN', 'PCI', 'PDI', 'NRGX', 'PGP', 'PHK', 'PKO', 'PFL', 'PFN', 'PMF', 'PML', 'PMX', 'PNF', 'PNI', 'PYN', 'RCS', 'PING', 'PNW', 'PINS', 'PHD', 'PHT', 'MAV', 'MHI', 'PXD', 'PIPR', 'PBI', 'PIC', 'PJT', 'PAA', 'PAGP', 'PLNT', 'PLT', 'AGS', 'PHI', 'PLYM', 'PNC', 'PNM', 'PII', 'POR', 'PKX', 'POST', 'PSTL', 'PPG', 'PPX', 'PPL', 'PYS', 'PYT', 'PQG', 'PDS', 'APTS', 'PBH', 'PVG', 'PRI', 'PRMW', 'PGZ', 'PRA', 'PG', 'PGR', 'PLD', 'PUMP', 'PRO', 'PROS', 'PBB', 'PBC', 'PBY', 'PB', 'PRLB', 'PFS', 'PJH', 'PRH', 'PRS', 'PRU', 'PUK', 'PSB', 'TLK', 'PEG', 'PSA', 'PHM', 'PSTG', 'PMM', 'PIM', 'PMO', 'PPT', 'NEW', 'PVH', 'PZN', 'QTWO', 'QEP', 'QGEN', 'QTS', 'QUAD', 'KWR', 'NX', 'PWR', 'QD', 'DGX', 'QUOT', 'QVCC', 'QVCD', 'CTAA', 'CTBB', 'CTDD', 'CTV', 'CTY', 'CTZ', 'RRD', 'RMED', 'RDN', 'RFL', 'RL', 'RRC', 'RNGR', 'PACK', 'RJF', 'RYAM', 'RYN', 'RTX', 'RMAX', 'RC', 'RCA', 'RCB', 'RCP', 'RLGY', 'O', 'RLH', 'RWT', 'RBC', 'RM', 'RF', 'RGS', 'RGA', 'RZA', 'RZB', 'RS', 'RELX', 'RNR', 'SOL', 'RENN', 'RPLA', 'RSG', 'REZI', 'RMD', 'RFP', 'QSR', 'RPAI', 'RVI', 'REVG', 'REV', 'RVLV', 'REX', 'REXR', 'RXN', 'RH', 'RNG', 'RIO', 'RBA', 'RAD', 'RFM', 'RMM', 'RMI', 'RIV', 'RSF', 'OPP', 'RLI', 'RLJ', 'RMG', 'RHI', 'ROK', 'RCI', 'ROG', 'ROL', 'ROP', 'RST', 'RY', 'RCL', 'RGT', 'RMT', 'RVT', 'RES', 'RPM', 'RPT', 'RYB', 'R', 'RYI', 'RHP', 'SPGI', 'SBR', 'SB', 'SFE', 'SAFE', 'SAIL', 'CRM', 'SMM', 'SBH', 'SJT', 'SD', 'PER', 'SAND          ', 'SC', 'SAP', 'SAF', 'SAK', 'SAR', 'SSL', 'BFS', 'SCPE', 'SLB', 'SNDR', 'SWM', 'SAIC', 'SALT', 'SBBA', 'STNG', 'SMG', 'KTF', 'KSM', 'SRL', 'SCU', 'SCVX', 'SE', 'SA', 'CKH', 'SMHI', 'SEE', 'SEAS', 'WTTR', 'SEM', 'SLQT', 'SRE', 'SREA', 'ST', 'SXT', 'SQNS', 'SRG', 'SCI', 'SERV', 'NOW', 'SFL', 'SHAK', 'SJR', 'SHLX', 'SHW', 'FOUR', 'SHG', 'SHOP', 'SSTK', 'SBSW', 'SIG', 'SBOW', 'SI', 'SPG', 'SSD', 'SHI', 'SITC', 'SITE', 'SIX', 'TSLX', 'SJW', 'SKM', 'SKX', 'SKY', 'SLG', 'WORK', 'SM', 'SMAR', 'SNN', 'SNAP', 'SNA', 'IPOB', 'IPOC', 'SQM', 'SOGO', 'SOI', 'SWI', 'SAH', 'SON', 'SNE', 'SOS', 'SOR', 'SJI', 'SJIJ', 'SJIU', 'SO', 'SOJA', 'SOJB', 'SOJC', 'SOJD', 'SOLN', 'SCCO', 'LUV', 'SWX', 'SWN', 'SPAQ', 'SPE', 'SPB           ', 'SR', 'SPR', 'SAVE', 'SRC', 'SPOT', 'SRLP', 'SII', 'SPXC', 'FLOW', 'SQ', 'JOE', 'STAG', 'SMP', 'SXI', 'SWK', 'SWT', 'STN', 'SGU', 'SRT', 'STWD', 'STT', 'SPLP', 'SCS', 'SCA', 'SCM', 'SCL', 'STE', 'STL', 'STC', 'SF', 'SFB', 'STM', 'EDF', 'EDI', 'STON', 'SRI', 'STOR', 'GJH', 'GJO', 'GJS', 'SYK', 'MSC', 'RGR', 'SPH', 'SMFG', 'INN', 'SUM', 'SMLP', 'SUI', 'SLF', 'SXC', 'SU', 'STG', 'NOVA', 'SUN', 'SHO', 'SPN', 'SUP', 'SOAC', 'SUZ', 'SWZ', 'SWCH', 'SBE', 'SYF', 'SNX', 'SNV', 'GJP', 'GJR', 'GJT', 'SYY', 'SYX', 'TLRD', 'TWN', 'TSM', 'TAK', 'TAL', 'TALO', 'SKT', 'TPR', 'TRGP', 'TGT', 'TARO', 'TTM', 'TCO', 'TMHC', 'TRP', 'TCP', 'TSI', 'TEL', 'TISI', 'FTI', 'TECK', 'TK', 'TGP', 'TNK', 'TGNA', 'TRC', 'HQH', 'THQ', 'HQL', 'THW', 'TDOC', 'TEO', 'TDY', 'TFX', 'VIV', 'TEF', 'TDA', 'TDE', 'TDI', 'TDJ', 'TDS', 'TU', 'TDF', 'EMF', 'TEI', 'GIM', 'TPX', 'TS', 'TME', 'THC', 'TNC', 'TEN', 'TVC', 'TVE', 'TDC', 'TEX', 'TX', 'TRNO', 'TTI', 'TEVA', 'TPL', 'TGH', 'TXT', 'TFII', 'AES', 'AZEK', 'BK', 'BX', 'CEE', 'SCHW', 'COO', 'GDV', 'GRX', 'GDL', 'THG', 'THGA', 'TRV', 'TMO', 'THR', 'TPRE', 'TRI', 'THO', 'TDW', 'TIF', 'TLYS', 'TSU', 'TKR', 'TMST', 'TWI', 'TJX', 'TOL', 'TR', 'BLD', 'TTC', 'TD', 'SHLL', 'NDP', 'TYG', 'TEAF', 'NTG', 'TTP', 'TPZ', 'TOT', 'TSQ', 'TM', 'TRTX', 'TT', 'TAC', 'TCI', 'TDG', 'RIG', 'TGS', 'TRU', 'TREC', 'TG', 'THS', 'TREX', 'TY', 'TPH', 'TRNE', 'TNET', 'TRN', 'TSE', 'TPVG', 'TPVY', 'GTS', 'TRTN', 'TGI', 'TROX', 'TBI', 'TFC', 'TNP', 'TUFN', 'TUP', 'TKC', 'TPB', 'TRQ', 'TPC', 'TWLO', 'TRWH', 'TWTR', 'TWO', 'TYL', 'TSN', 'USB', 'USPH', 'SLCA', 'USX', 'UBER', 'UI', 'UBS', 'UDR', 'UGI', 'UGP', 'UMH', 'UA', 'UAA', 'UFI', 'UNF', 'UN', 'UL', 'UNP', 'UIS', 'UMC', 'UNFI', 'UPS', 'URI', 'USM', 'UZA', 'UZB', 'UZC', 'X', 'UNH', 'UTL', 'UNVR', 'UVV', 'UHT', 'UHS', 'UVE', 'UTI', 'UNM', 'UNMA', 'UE', 'UBA', 'UBP', 'USFD', 'USAC', 'USNA', 'USDP', 'BIF', 'VFC', 'EGY', 'MTN', 'VAL', 'VALE', 'VLO', 'VHI', 'VMI', 'VVV', 'VAPO', 'VAR', 'VGR', 'VEC', 'VEDL', 'VEEV', 'VEL', 'VNTR', 'VTR', 'VNE', 'VER', 'VRTV', 'VZ', 'VET', 'VRS', 'VCIF', 'VRT', 'VVI', 'VICI', 'VNCE', 'VIPS', 'SPCE', 'VHC', 'VGI', 'ZTR', 'V', 'VSH', 'VPG', 'VIST', 'VSTO', 'VST', 'VVNT', 'VSLR', 'VMW', 'VOC', 'VCRA', 'VNO', 'VJET', 'IAE', 'IHD', 'VOYA', 'IGA', 'IGD', 'IDE', 'IID', 'IRR', 'PPR', 'VMC', 'WTI', 'WPC', 'WRB', 'GRA', 'GWW', 'WNC', 'WDR', 'WD', 'WMT', 'DIS', 'HCC', 'WPG', 'WRE', 'WCN', 'WM', 'WAT', 'WSO', 'WTS', 'W', 'WBS', 'WEC', 'WEI', 'WRI', 'WMK', 'WBT', 'WFC', 'EOD', 'WELL', 'WCC', 'WST', 'WAL', 'WALA', 'WEA', 'TLI', 'EMD', 'GDO', 'EHI', 'HIX', 'HIO', 'HYI', 'SBI', 'IGI', 'PAI', 'MMU', 'WMC', 'DMO', 'MTT', 'MHF', 'MNP', 'GFY', 'WIW', 'WIA', 'WES', 'WU', 'WAB', 'WLK', 'WLKP', 'WBK', 'WRK', 'WHG', 'WEX', 'WY', 'WPM', 'WHR', 'WTM', 'WSR', 'WLL', 'WOW', 'WMB', 'WSM', 'WGO', 'WIT', 'WNS', 'WWW', 'WF', 'WK', 'INT', 'WWE', 'WOR', 'WPP', 'WPX', 'WYND', 'WH', 'XYF', 'XFLT', 'XHR', 'XRX', 'XIN', 'XPO', 'XYL', 'AUY', 'YELP', 'YETI', 'YEXT', 'YRD', 'DAO', 'YPF', 'YUMC', 'YUM', 'ZEN', 'ZBH', 'ZTS', 'ZTO', 'ZUO', 'ZYME', 'GOED', 'XXII', 'FAX', 'IAF', 'AEF', 'FCO', 'ACU', 'ATNM', 'AE', 'ACY', 'UAVS', 'AGE', 'AIRI', 'AXU', 'AAU', 'APT', 'AAMC', 'AMBO', 'DIT', 'AMS', 'USAS', 'AMPE', 'ANVS', 'ARMP', 'AINC', 'AUG', 'AWX', 'ASM', 'BTG', 'BTN', 'BCV', 'BHB', 'BRN', 'BATL', 'BIOX', 'PHGE', 'BGI', 'BKTI', 'BDR', 'BRBS', 'BRG', 'DMF', 'CMCL', 'CEI', 'CANF', 'YCBD', 'CVM', 'CET', 'LEU', 'CHAQ', 'CCF', 'CQP', 'LNG', 'CVR', 'CPHI', 'CKX', 'GLV', 'GLQ', 'GLO', 'COHN', 'CIX', 'LODE', 'CDOR', 'MCF', 'CMT', 'CRMD', 'CRF', 'CLM', 'CVU', 'CIK', 'DHY', 'CRHM', 'CTO', 'CTEK', 'DXR', 'VCF', 'VFL', 'VMM', 'DLA', 'DNN', 'DSS', 'DPW', 'DXF', 'GRF', 'EVM', 'CEV', 'EVV', 'EIM', 'ENX', 'EVY', 'ELMD', 'ELLO', 'ECF', 'EMAN', 'MSN', 'EMX', 'UUUU', 'ENSV', 'ELA', 'EQX', 'ESP', 'EVBN', 'EVI', 'EPM', 'FEN', 'BDL', 'FSI', 'FTF', 'FSP', 'FRD', 'FTSI', 'GAU', 'GGN', 'JOB', 'GMO', 'GSB', 'GSAT', 'GORO', 'GSV', 'AUMN', 'GSS', 'GV', 'GDP', 'GTE', 'GPL', 'SIM', 'AIM', 'HMG', 'HUSA', 'IBIO', 'IBO', 'IMH', 'IMO', 'IOR', 'IGC', 'INDO', 'INFU', 'IHT', 'NSPR', 'ITRG', 'INS', 'THM', 'INTT', 'INUV', 'VKI', 'ISR', 'ISDR', 'ITP', 'KLR', 'KIQ', 'LGL', 'LCTX', 'MAG', 'MHH', 'MTNB', 'MMX', 'IPB', 'MTA', 'MXC', 'MLSS', 'MYO', 'NNVC', 'ATEST', 'NHC', 'NAVB', 'NTIP', 'NBW', 'NHS', 'NML', 'NBH', 'NBO', 'NRO', 'GBR', 'NEN', 'NGD', 'NXE', 'NAK', 'NOG', 'NBY', 'NG', 'NTN', 'NES', 'OBLG', 'OCX', 'OGEN', 'PTN', 'PZG', 'PRK', 'PED', 'PFNX', 'HNW', 'PLAG', 'PLG', 'PLM', 'PW', 'PLX', 'RLGT', 'UTG', 'RHE', 'RCG', 'RVP', 'REI', 'SACC', 'SACH', 'SCCB', 'SNMP', 'SEB', 'SENS', 'SVT', 'SMTS', 'SIF', 'SVM', 'SILV', 'XPL', 'LOV', 'STXS', 'SSY', 'SDPI', 'SYN', 'TKAT', 'TRX', 'TGB', 'TGC', 'GLU', 'GGO', 'TMBR', 'TMP', 'TAT', 'TRXC', 'TMQ', 'TPHS', 'TRT', 'UFAB', 'UAMY', 'UUU', 'URG', 'UEC', 'VGZ', 'VNRX', 'VOLT', 'EAD', 'ERC', 'ERH', 'WRN', 'WYY', 'WTT', 'XTNT', 'ZDGE', 'ZOM']}\n"
     ]
    }
   ],
   "source": [
    "tick_dict = {\"ticks\": tickers}\n",
    "print(tick_dict)"
   ]
  },
  {
   "cell_type": "code",
   "execution_count": 14,
   "metadata": {},
   "outputs": [
    {
     "output_type": "stream",
     "name": "stdout",
     "text": [
      "2016-04-10\n"
     ]
    }
   ],
   "source": [
    "today = date.today()\n",
    "five_years = today - relativedelta(years=+5)\n",
    "print(five_years)\n",
    "# today = today.strftime(\"%Y/%m/%d\")\n",
    "# today.month\n",
    "# today.day\n",
    "# today.year"
   ]
  },
  {
   "cell_type": "code",
   "execution_count": 15,
   "metadata": {
    "tags": []
   },
   "outputs": [
    {
     "output_type": "stream",
     "name": "stdout",
     "text": [
      "[*********************100%***********************]  2762 of 2762 completed\n",
      "\n",
      "109 Failed downloads:\n",
      "- FEI           : No data found, symbol may be delisted\n",
      "- RST: No data found, symbol may be delisted\n",
      "- CTRA: No data found, symbol may be delisted\n",
      "- CCR: No data found, symbol may be delisted\n",
      "- PSV: No data found, symbol may be delisted\n",
      "- GMZ: No data found, symbol may be delisted\n",
      "- GMO: No data found, symbol may be delisted\n",
      "- HTZ: No data found, symbol may be delisted\n",
      "- FBM: No data found, symbol may be delisted\n",
      "- CELG~: No data found, symbol may be delisted\n",
      "- PIC: No data found, symbol may be delisted\n",
      "- ONDK: No data found, symbol may be delisted\n",
      "- TIF: No data found, symbol may be delisted\n",
      "- BMY~: No data found, symbol may be delisted\n",
      "- MVC: No data found, symbol may be delisted\n",
      "- TAT: No data found, symbol may be delisted\n",
      "- CXO: No data found, symbol may be delisted\n",
      "- DLPH: No data found, symbol may be delisted\n",
      "- FVAC: No data found, symbol may be delisted\n",
      "- AUG: No data found, symbol may be delisted\n",
      "- TRNE: No data found, symbol may be delisted\n",
      "- PACD: No data found, symbol may be delisted\n",
      "- AFGH: No data found, symbol may be delisted\n",
      "- TLRD: No data found, symbol may be delisted\n",
      "- CBX: No data found, symbol may be delisted\n",
      "- SCA: No data found for this date range, symbol may be delisted\n",
      "- PFNX: No data found, symbol may be delisted\n",
      "- GTX: No data found, symbol may be delisted\n",
      "- TCO: No data found, symbol may be delisted\n",
      "- PJH: No data found, symbol may be delisted\n",
      "- GEN           : No data found, symbol may be delisted\n",
      "- NMFX: No data found, symbol may be delisted\n",
      "- TRWH: No data found, symbol may be delisted\n",
      "- LGC: No data found, symbol may be delisted\n",
      "- LOAK: No data found, symbol may be delisted\n",
      "- SPN: No data found, symbol may be delisted\n",
      "- DNI: No data found, symbol may be delisted\n",
      "- MCC: No data found, symbol may be delisted\n",
      "- STAR          : No data found, symbol may be delisted\n",
      "- MFO: No data found, symbol may be delisted\n",
      "- SPB           : No data found, symbol may be delisted\n",
      "- CHL: No data found, symbol may be delisted\n",
      "- CTY: No data found, symbol may be delisted\n",
      "- ECOM          : No data found, symbol may be delisted\n",
      "- LN: No data found, symbol may be delisted\n",
      "- FCAU: No data found, symbol may be delisted\n",
      "- MNK: No data found, symbol may be delisted\n",
      "- SAND          : No data found, symbol may be delisted\n",
      "- CTT           : No data found, symbol may be delisted\n",
      "- ARA: No data found, symbol may be delisted\n",
      "- EROS: No data found, symbol may be delisted\n",
      "- RESI: No data found, symbol may be delisted\n",
      "- BITA: No data found, symbol may be delisted\n",
      "- OSB: No data found, symbol may be delisted\n",
      "- PER: No data found, symbol may be delisted\n",
      "- VSLR: No data found, symbol may be delisted\n",
      "- BTE: No data found, symbol may be delisted\n",
      "- CCC: No data found, symbol may be delisted\n",
      "- GIX~: No data found, symbol may be delisted\n",
      "- DTQ: No data found, symbol may be delisted\n",
      "- HCFT: No data found, symbol may be delisted\n",
      "- EAB: No data found, symbol may be delisted\n",
      "- FIT: No data found, symbol may be delisted\n",
      "- PCPL: No data found, symbol may be delisted\n",
      "- HUD: No data found, symbol may be delisted\n",
      "- CHAP: No data found, symbol may be delisted\n",
      "- CCH: No data found, symbol may be delisted\n",
      "- FEAC: No data found, symbol may be delisted\n",
      "- RYCE: No data found, symbol may be delisted\n",
      "- RMG: No data found, symbol may be delisted\n",
      "- SERV: No data found, symbol may be delisted\n",
      "- ROYT: No data found, symbol may be delisted\n",
      "- VAL: No data found, symbol may be delisted\n",
      "- TSU: No data found, symbol may be delisted\n",
      "- EAE: No data found, symbol may be delisted\n",
      "- BBX: No data found, symbol may be delisted\n",
      "- DMYT: No data found, symbol may be delisted\n",
      "- MR: No data found, symbol may be delisted\n",
      "- PRH: No data found, symbol may be delisted\n",
      "- WUBA: No data found, symbol may be delisted\n",
      "- GSB: No data found, symbol may be delisted\n",
      "- ECC           : No data found, symbol may be delisted\n",
      "- PE: No data found, symbol may be delisted\n",
      "- CBL: No data found, symbol may be delisted\n",
      "- GRAM: No data found, symbol may be delisted\n",
      "- TCRW: No data found, symbol may be delisted\n",
      "- ETX           : No data found, symbol may be delisted\n",
      "- BMRG: No data found, symbol may be delisted\n",
      "- JHY: No data found, symbol may be delisted\n",
      "- CNXM: No data found, symbol may be delisted\n",
      "- IPOC: No data found, symbol may be delisted\n",
      "- MCV: No data found, symbol may be delisted\n",
      "- GV: No data found, symbol may be delisted\n",
      "- FSB: No data found, symbol may be delisted\n",
      "- MFAC: No data found, symbol may be delisted\n",
      "- CTL: No data found, symbol may be delisted\n",
      "- THGA: No data found, symbol may be delisted\n",
      "- CCXX: No data found, symbol may be delisted\n",
      "- GSH: No data found, symbol may be delisted\n",
      "- IPOB: No data found, symbol may be delisted\n",
      "- ADSW: No data found, symbol may be delisted\n",
      "- ATEST: No data found for this date range, symbol may be delisted\n",
      "- SHLL: No data found, symbol may be delisted\n",
      "- IRET: No data found, symbol may be delisted\n",
      "- OAC: No data found, symbol may be delisted\n",
      "- WPX: No data found, symbol may be delisted\n",
      "- ELJ: No data found, symbol may be delisted\n",
      "- JCAP: No data found, symbol may be delisted\n",
      "- GRAF: No data found, symbol may be delisted\n"
     ]
    },
    {
     "output_type": "execute_result",
     "data": {
      "text/plain": [
       "             Adj Close                                               \\\n",
       "                     A         AA       AAMC        AAN         AAP   \n",
       "Date                                                                  \n",
       "2016-04-11   37.702133  23.178484  20.120001        NaN  152.112793   \n",
       "2016-04-12   38.027393  22.559755  20.230000        NaN  153.813065   \n",
       "2016-04-13   38.926662  23.297468  19.370001        NaN  157.734604   \n",
       "2016-04-14   39.012753  23.821007  19.860001        NaN  158.176880   \n",
       "2016-04-15   39.137123  23.821007  19.889999        NaN  158.422577   \n",
       "...                ...        ...        ...        ...         ...   \n",
       "2021-04-05  130.000000  31.549999  19.020000  26.570000  183.229996   \n",
       "2021-04-06  131.039993  31.309999  19.389999  26.010000  183.649994   \n",
       "2021-04-07  129.339996  31.520000  18.680000  25.160000  182.619995   \n",
       "2021-04-08  130.690002  31.450001  19.010000  24.940001  180.500000   \n",
       "2021-04-09  131.910004  31.360001  19.299999  24.650000  183.970001   \n",
       "\n",
       "                                                               ...     Volume  \\\n",
       "                  AAT   AAU         AB        ABB        ABBV  ...        ZBH   \n",
       "Date                                                           ...              \n",
       "2016-04-11  33.564930  1.22  15.151378  15.543870   46.850891  ...  1396000.0   \n",
       "2016-04-12  33.582352  1.21  15.062325  15.800397   47.964104  ...  1898800.0   \n",
       "2016-04-13  33.364571  1.16  15.138652  15.856514   47.753872  ...  2541600.0   \n",
       "2016-04-14  33.434265  1.17  15.094130  15.912626   47.931755  ...  1548400.0   \n",
       "2016-04-15  33.582352  1.16  15.062325  15.864529   48.117729  ...  1806300.0   \n",
       "...               ...   ...        ...        ...         ...  ...        ...   \n",
       "2021-04-05  32.500000  0.54  41.380001  31.320000  106.139999  ...   788900.0   \n",
       "2021-04-06  33.020000  0.56  40.750000  31.160000  105.379997  ...   795800.0   \n",
       "2021-04-07  33.029999  0.54  40.580002  31.209999  105.209999  ...   691400.0   \n",
       "2021-04-08  32.939999  0.55  40.680000  31.580000  106.099998  ...   804700.0   \n",
       "2021-04-09  33.150002  0.54  40.290001  32.080002  107.540001  ...  1508400.0   \n",
       "\n",
       "                                                                           \\\n",
       "                ZDGE       ZEN      ZNH          ZOM        ZTO       ZTR   \n",
       "Date                                                                        \n",
       "2016-04-11       NaN  462800.0  54300.0          NaN        NaN   85000.0   \n",
       "2016-04-12       NaN  544900.0  35500.0          NaN        NaN   44500.0   \n",
       "2016-04-13       NaN  533900.0  54500.0          NaN        NaN   44800.0   \n",
       "2016-04-14       NaN  356300.0  14000.0          NaN        NaN   44200.0   \n",
       "2016-04-15       NaN  829500.0  19300.0          NaN        NaN   55500.0   \n",
       "...              ...       ...      ...          ...        ...       ...   \n",
       "2021-04-05  658000.0  551500.0  10900.0   84451900.0  3294000.0  201100.0   \n",
       "2021-04-06  375200.0  849300.0   9300.0  123818000.0  2267600.0  159100.0   \n",
       "2021-04-07  172300.0  686100.0  17800.0   53897500.0  3534400.0  201300.0   \n",
       "2021-04-08  444400.0  941400.0  13300.0   44806700.0  2549300.0  232900.0   \n",
       "2021-04-09  341000.0  542300.0  26200.0   39581500.0  3827900.0  136600.0   \n",
       "\n",
       "                                            \n",
       "                  ZTS        ZUO      ZYME  \n",
       "Date                                        \n",
       "2016-04-11  3962100.0        NaN       NaN  \n",
       "2016-04-12  3634800.0        NaN       NaN  \n",
       "2016-04-13  3295700.0        NaN       NaN  \n",
       "2016-04-14  3065300.0        NaN       NaN  \n",
       "2016-04-15  3189400.0        NaN       NaN  \n",
       "...               ...        ...       ...  \n",
       "2021-04-05  1212600.0  1091300.0  262600.0  \n",
       "2021-04-06  1802500.0  1127400.0  251500.0  \n",
       "2021-04-07  1660500.0   744600.0  239000.0  \n",
       "2021-04-08  3440800.0  2354300.0  110900.0  \n",
       "2021-04-09  1821900.0  1988200.0  243600.0  \n",
       "\n",
       "[1265 rows x 16572 columns]"
      ],
      "text/html": "<div>\n<style scoped>\n    .dataframe tbody tr th:only-of-type {\n        vertical-align: middle;\n    }\n\n    .dataframe tbody tr th {\n        vertical-align: top;\n    }\n\n    .dataframe thead tr th {\n        text-align: left;\n    }\n\n    .dataframe thead tr:last-of-type th {\n        text-align: right;\n    }\n</style>\n<table border=\"1\" class=\"dataframe\">\n  <thead>\n    <tr>\n      <th></th>\n      <th colspan=\"10\" halign=\"left\">Adj Close</th>\n      <th>...</th>\n      <th colspan=\"10\" halign=\"left\">Volume</th>\n    </tr>\n    <tr>\n      <th></th>\n      <th>A</th>\n      <th>AA</th>\n      <th>AAMC</th>\n      <th>AAN</th>\n      <th>AAP</th>\n      <th>AAT</th>\n      <th>AAU</th>\n      <th>AB</th>\n      <th>ABB</th>\n      <th>ABBV</th>\n      <th>...</th>\n      <th>ZBH</th>\n      <th>ZDGE</th>\n      <th>ZEN</th>\n      <th>ZNH</th>\n      <th>ZOM</th>\n      <th>ZTO</th>\n      <th>ZTR</th>\n      <th>ZTS</th>\n      <th>ZUO</th>\n      <th>ZYME</th>\n    </tr>\n    <tr>\n      <th>Date</th>\n      <th></th>\n      <th></th>\n      <th></th>\n      <th></th>\n      <th></th>\n      <th></th>\n      <th></th>\n      <th></th>\n      <th></th>\n      <th></th>\n      <th></th>\n      <th></th>\n      <th></th>\n      <th></th>\n      <th></th>\n      <th></th>\n      <th></th>\n      <th></th>\n      <th></th>\n      <th></th>\n      <th></th>\n    </tr>\n  </thead>\n  <tbody>\n    <tr>\n      <th>2016-04-11</th>\n      <td>37.702133</td>\n      <td>23.178484</td>\n      <td>20.120001</td>\n      <td>NaN</td>\n      <td>152.112793</td>\n      <td>33.564930</td>\n      <td>1.22</td>\n      <td>15.151378</td>\n      <td>15.543870</td>\n      <td>46.850891</td>\n      <td>...</td>\n      <td>1396000.0</td>\n      <td>NaN</td>\n      <td>462800.0</td>\n      <td>54300.0</td>\n      <td>NaN</td>\n      <td>NaN</td>\n      <td>85000.0</td>\n      <td>3962100.0</td>\n      <td>NaN</td>\n      <td>NaN</td>\n    </tr>\n    <tr>\n      <th>2016-04-12</th>\n      <td>38.027393</td>\n      <td>22.559755</td>\n      <td>20.230000</td>\n      <td>NaN</td>\n      <td>153.813065</td>\n      <td>33.582352</td>\n      <td>1.21</td>\n      <td>15.062325</td>\n      <td>15.800397</td>\n      <td>47.964104</td>\n      <td>...</td>\n      <td>1898800.0</td>\n      <td>NaN</td>\n      <td>544900.0</td>\n      <td>35500.0</td>\n      <td>NaN</td>\n      <td>NaN</td>\n      <td>44500.0</td>\n      <td>3634800.0</td>\n      <td>NaN</td>\n      <td>NaN</td>\n    </tr>\n    <tr>\n      <th>2016-04-13</th>\n      <td>38.926662</td>\n      <td>23.297468</td>\n      <td>19.370001</td>\n      <td>NaN</td>\n      <td>157.734604</td>\n      <td>33.364571</td>\n      <td>1.16</td>\n      <td>15.138652</td>\n      <td>15.856514</td>\n      <td>47.753872</td>\n      <td>...</td>\n      <td>2541600.0</td>\n      <td>NaN</td>\n      <td>533900.0</td>\n      <td>54500.0</td>\n      <td>NaN</td>\n      <td>NaN</td>\n      <td>44800.0</td>\n      <td>3295700.0</td>\n      <td>NaN</td>\n      <td>NaN</td>\n    </tr>\n    <tr>\n      <th>2016-04-14</th>\n      <td>39.012753</td>\n      <td>23.821007</td>\n      <td>19.860001</td>\n      <td>NaN</td>\n      <td>158.176880</td>\n      <td>33.434265</td>\n      <td>1.17</td>\n      <td>15.094130</td>\n      <td>15.912626</td>\n      <td>47.931755</td>\n      <td>...</td>\n      <td>1548400.0</td>\n      <td>NaN</td>\n      <td>356300.0</td>\n      <td>14000.0</td>\n      <td>NaN</td>\n      <td>NaN</td>\n      <td>44200.0</td>\n      <td>3065300.0</td>\n      <td>NaN</td>\n      <td>NaN</td>\n    </tr>\n    <tr>\n      <th>2016-04-15</th>\n      <td>39.137123</td>\n      <td>23.821007</td>\n      <td>19.889999</td>\n      <td>NaN</td>\n      <td>158.422577</td>\n      <td>33.582352</td>\n      <td>1.16</td>\n      <td>15.062325</td>\n      <td>15.864529</td>\n      <td>48.117729</td>\n      <td>...</td>\n      <td>1806300.0</td>\n      <td>NaN</td>\n      <td>829500.0</td>\n      <td>19300.0</td>\n      <td>NaN</td>\n      <td>NaN</td>\n      <td>55500.0</td>\n      <td>3189400.0</td>\n      <td>NaN</td>\n      <td>NaN</td>\n    </tr>\n    <tr>\n      <th>...</th>\n      <td>...</td>\n      <td>...</td>\n      <td>...</td>\n      <td>...</td>\n      <td>...</td>\n      <td>...</td>\n      <td>...</td>\n      <td>...</td>\n      <td>...</td>\n      <td>...</td>\n      <td>...</td>\n      <td>...</td>\n      <td>...</td>\n      <td>...</td>\n      <td>...</td>\n      <td>...</td>\n      <td>...</td>\n      <td>...</td>\n      <td>...</td>\n      <td>...</td>\n      <td>...</td>\n    </tr>\n    <tr>\n      <th>2021-04-05</th>\n      <td>130.000000</td>\n      <td>31.549999</td>\n      <td>19.020000</td>\n      <td>26.570000</td>\n      <td>183.229996</td>\n      <td>32.500000</td>\n      <td>0.54</td>\n      <td>41.380001</td>\n      <td>31.320000</td>\n      <td>106.139999</td>\n      <td>...</td>\n      <td>788900.0</td>\n      <td>658000.0</td>\n      <td>551500.0</td>\n      <td>10900.0</td>\n      <td>84451900.0</td>\n      <td>3294000.0</td>\n      <td>201100.0</td>\n      <td>1212600.0</td>\n      <td>1091300.0</td>\n      <td>262600.0</td>\n    </tr>\n    <tr>\n      <th>2021-04-06</th>\n      <td>131.039993</td>\n      <td>31.309999</td>\n      <td>19.389999</td>\n      <td>26.010000</td>\n      <td>183.649994</td>\n      <td>33.020000</td>\n      <td>0.56</td>\n      <td>40.750000</td>\n      <td>31.160000</td>\n      <td>105.379997</td>\n      <td>...</td>\n      <td>795800.0</td>\n      <td>375200.0</td>\n      <td>849300.0</td>\n      <td>9300.0</td>\n      <td>123818000.0</td>\n      <td>2267600.0</td>\n      <td>159100.0</td>\n      <td>1802500.0</td>\n      <td>1127400.0</td>\n      <td>251500.0</td>\n    </tr>\n    <tr>\n      <th>2021-04-07</th>\n      <td>129.339996</td>\n      <td>31.520000</td>\n      <td>18.680000</td>\n      <td>25.160000</td>\n      <td>182.619995</td>\n      <td>33.029999</td>\n      <td>0.54</td>\n      <td>40.580002</td>\n      <td>31.209999</td>\n      <td>105.209999</td>\n      <td>...</td>\n      <td>691400.0</td>\n      <td>172300.0</td>\n      <td>686100.0</td>\n      <td>17800.0</td>\n      <td>53897500.0</td>\n      <td>3534400.0</td>\n      <td>201300.0</td>\n      <td>1660500.0</td>\n      <td>744600.0</td>\n      <td>239000.0</td>\n    </tr>\n    <tr>\n      <th>2021-04-08</th>\n      <td>130.690002</td>\n      <td>31.450001</td>\n      <td>19.010000</td>\n      <td>24.940001</td>\n      <td>180.500000</td>\n      <td>32.939999</td>\n      <td>0.55</td>\n      <td>40.680000</td>\n      <td>31.580000</td>\n      <td>106.099998</td>\n      <td>...</td>\n      <td>804700.0</td>\n      <td>444400.0</td>\n      <td>941400.0</td>\n      <td>13300.0</td>\n      <td>44806700.0</td>\n      <td>2549300.0</td>\n      <td>232900.0</td>\n      <td>3440800.0</td>\n      <td>2354300.0</td>\n      <td>110900.0</td>\n    </tr>\n    <tr>\n      <th>2021-04-09</th>\n      <td>131.910004</td>\n      <td>31.360001</td>\n      <td>19.299999</td>\n      <td>24.650000</td>\n      <td>183.970001</td>\n      <td>33.150002</td>\n      <td>0.54</td>\n      <td>40.290001</td>\n      <td>32.080002</td>\n      <td>107.540001</td>\n      <td>...</td>\n      <td>1508400.0</td>\n      <td>341000.0</td>\n      <td>542300.0</td>\n      <td>26200.0</td>\n      <td>39581500.0</td>\n      <td>3827900.0</td>\n      <td>136600.0</td>\n      <td>1821900.0</td>\n      <td>1988200.0</td>\n      <td>243600.0</td>\n    </tr>\n  </tbody>\n</table>\n<p>1265 rows × 16572 columns</p>\n</div>"
     },
     "metadata": {},
     "execution_count": 15
    }
   ],
   "source": [
    "# grabbing 5 year historical data of all tickers\n",
    "data = yf.download(tickers, start=five_years, end=today)\n",
    "data"
   ]
  },
  {
   "cell_type": "code",
   "execution_count": 30,
   "metadata": {},
   "outputs": [
    {
     "output_type": "stream",
     "name": "stdout",
     "text": [
      "[*********************100%***********************]  1 of 1 completed\n"
     ]
    },
    {
     "output_type": "execute_result",
     "data": {
      "text/plain": [
       "                  Open        High         Low       Close   Adj Close  \\\n",
       "Date                                                                     \n",
       "2016-04-11   27.242500   27.652500   27.207500   27.254999   25.350115   \n",
       "2016-04-12   27.334999   27.625000   27.165001   27.610001   25.680305   \n",
       "2016-04-13   27.700001   28.084999   27.700001   28.010000   26.052345   \n",
       "2016-04-14   27.905001   28.097500   27.832500   28.025000   26.066298   \n",
       "2016-04-15   28.027500   28.075001   27.432501   27.462500   25.543112   \n",
       "...                ...         ...         ...         ...         ...   \n",
       "2021-04-05  123.870003  126.160004  123.070000  125.900002  125.900002   \n",
       "2021-04-06  126.500000  127.129997  125.650002  126.209999  126.209999   \n",
       "2021-04-07  125.830002  127.919998  125.139999  127.900002  127.900002   \n",
       "2021-04-08  128.949997  130.389999  128.520004  130.360001  130.360001   \n",
       "2021-04-09  129.800003  133.039993  129.470001  133.000000  133.000000   \n",
       "\n",
       "               Volume  \n",
       "Date                   \n",
       "2016-04-11  117630000  \n",
       "2016-04-12  108929200  \n",
       "2016-04-13  133029200  \n",
       "2016-04-14  101895600  \n",
       "2016-04-15  187756000  \n",
       "...               ...  \n",
       "2021-04-05   88651200  \n",
       "2021-04-06   80171300  \n",
       "2021-04-07   83466700  \n",
       "2021-04-08   88844600  \n",
       "2021-04-09  106513800  \n",
       "\n",
       "[1259 rows x 6 columns]"
      ],
      "text/html": "<div>\n<style scoped>\n    .dataframe tbody tr th:only-of-type {\n        vertical-align: middle;\n    }\n\n    .dataframe tbody tr th {\n        vertical-align: top;\n    }\n\n    .dataframe thead th {\n        text-align: right;\n    }\n</style>\n<table border=\"1\" class=\"dataframe\">\n  <thead>\n    <tr style=\"text-align: right;\">\n      <th></th>\n      <th>Open</th>\n      <th>High</th>\n      <th>Low</th>\n      <th>Close</th>\n      <th>Adj Close</th>\n      <th>Volume</th>\n    </tr>\n    <tr>\n      <th>Date</th>\n      <th></th>\n      <th></th>\n      <th></th>\n      <th></th>\n      <th></th>\n      <th></th>\n    </tr>\n  </thead>\n  <tbody>\n    <tr>\n      <th>2016-04-11</th>\n      <td>27.242500</td>\n      <td>27.652500</td>\n      <td>27.207500</td>\n      <td>27.254999</td>\n      <td>25.350115</td>\n      <td>117630000</td>\n    </tr>\n    <tr>\n      <th>2016-04-12</th>\n      <td>27.334999</td>\n      <td>27.625000</td>\n      <td>27.165001</td>\n      <td>27.610001</td>\n      <td>25.680305</td>\n      <td>108929200</td>\n    </tr>\n    <tr>\n      <th>2016-04-13</th>\n      <td>27.700001</td>\n      <td>28.084999</td>\n      <td>27.700001</td>\n      <td>28.010000</td>\n      <td>26.052345</td>\n      <td>133029200</td>\n    </tr>\n    <tr>\n      <th>2016-04-14</th>\n      <td>27.905001</td>\n      <td>28.097500</td>\n      <td>27.832500</td>\n      <td>28.025000</td>\n      <td>26.066298</td>\n      <td>101895600</td>\n    </tr>\n    <tr>\n      <th>2016-04-15</th>\n      <td>28.027500</td>\n      <td>28.075001</td>\n      <td>27.432501</td>\n      <td>27.462500</td>\n      <td>25.543112</td>\n      <td>187756000</td>\n    </tr>\n    <tr>\n      <th>...</th>\n      <td>...</td>\n      <td>...</td>\n      <td>...</td>\n      <td>...</td>\n      <td>...</td>\n      <td>...</td>\n    </tr>\n    <tr>\n      <th>2021-04-05</th>\n      <td>123.870003</td>\n      <td>126.160004</td>\n      <td>123.070000</td>\n      <td>125.900002</td>\n      <td>125.900002</td>\n      <td>88651200</td>\n    </tr>\n    <tr>\n      <th>2021-04-06</th>\n      <td>126.500000</td>\n      <td>127.129997</td>\n      <td>125.650002</td>\n      <td>126.209999</td>\n      <td>126.209999</td>\n      <td>80171300</td>\n    </tr>\n    <tr>\n      <th>2021-04-07</th>\n      <td>125.830002</td>\n      <td>127.919998</td>\n      <td>125.139999</td>\n      <td>127.900002</td>\n      <td>127.900002</td>\n      <td>83466700</td>\n    </tr>\n    <tr>\n      <th>2021-04-08</th>\n      <td>128.949997</td>\n      <td>130.389999</td>\n      <td>128.520004</td>\n      <td>130.360001</td>\n      <td>130.360001</td>\n      <td>88844600</td>\n    </tr>\n    <tr>\n      <th>2021-04-09</th>\n      <td>129.800003</td>\n      <td>133.039993</td>\n      <td>129.470001</td>\n      <td>133.000000</td>\n      <td>133.000000</td>\n      <td>106513800</td>\n    </tr>\n  </tbody>\n</table>\n<p>1259 rows × 6 columns</p>\n</div>"
     },
     "metadata": {},
     "execution_count": 30
    }
   ],
   "source": [
    "apple = yf.download(\"AAPL\", start=five_years, end=today)\n",
    "apple\n",
    "\n",
    "# data_df = pd.DataFrame(data=data, index=True)\n",
    "# list(data.columns)"
   ]
  },
  {
   "cell_type": "code",
   "execution_count": 34,
   "metadata": {},
   "outputs": [
    {
     "output_type": "execute_result",
     "data": {
      "text/plain": [
       "           Date        Open        High         Low       Close   Adj Close  \\\n",
       "0    2016-04-11   27.242500   27.652500   27.207500   27.254999   25.350115   \n",
       "1    2016-04-12   27.334999   27.625000   27.165001   27.610001   25.680305   \n",
       "2    2016-04-13   27.700001   28.084999   27.700001   28.010000   26.052345   \n",
       "3    2016-04-14   27.905001   28.097500   27.832500   28.025000   26.066298   \n",
       "4    2016-04-15   28.027500   28.075001   27.432501   27.462500   25.543112   \n",
       "...         ...         ...         ...         ...         ...         ...   \n",
       "1254 2021-04-05  123.870003  126.160004  123.070000  125.900002  125.900002   \n",
       "1255 2021-04-06  126.500000  127.129997  125.650002  126.209999  126.209999   \n",
       "1256 2021-04-07  125.830002  127.919998  125.139999  127.900002  127.900002   \n",
       "1257 2021-04-08  128.949997  130.389999  128.520004  130.360001  130.360001   \n",
       "1258 2021-04-09  129.800003  133.039993  129.470001  133.000000  133.000000   \n",
       "\n",
       "         Volume  \n",
       "0     117630000  \n",
       "1     108929200  \n",
       "2     133029200  \n",
       "3     101895600  \n",
       "4     187756000  \n",
       "...         ...  \n",
       "1254   88651200  \n",
       "1255   80171300  \n",
       "1256   83466700  \n",
       "1257   88844600  \n",
       "1258  106513800  \n",
       "\n",
       "[1259 rows x 7 columns]"
      ],
      "text/html": "<div>\n<style scoped>\n    .dataframe tbody tr th:only-of-type {\n        vertical-align: middle;\n    }\n\n    .dataframe tbody tr th {\n        vertical-align: top;\n    }\n\n    .dataframe thead th {\n        text-align: right;\n    }\n</style>\n<table border=\"1\" class=\"dataframe\">\n  <thead>\n    <tr style=\"text-align: right;\">\n      <th></th>\n      <th>Date</th>\n      <th>Open</th>\n      <th>High</th>\n      <th>Low</th>\n      <th>Close</th>\n      <th>Adj Close</th>\n      <th>Volume</th>\n    </tr>\n  </thead>\n  <tbody>\n    <tr>\n      <th>0</th>\n      <td>2016-04-11</td>\n      <td>27.242500</td>\n      <td>27.652500</td>\n      <td>27.207500</td>\n      <td>27.254999</td>\n      <td>25.350115</td>\n      <td>117630000</td>\n    </tr>\n    <tr>\n      <th>1</th>\n      <td>2016-04-12</td>\n      <td>27.334999</td>\n      <td>27.625000</td>\n      <td>27.165001</td>\n      <td>27.610001</td>\n      <td>25.680305</td>\n      <td>108929200</td>\n    </tr>\n    <tr>\n      <th>2</th>\n      <td>2016-04-13</td>\n      <td>27.700001</td>\n      <td>28.084999</td>\n      <td>27.700001</td>\n      <td>28.010000</td>\n      <td>26.052345</td>\n      <td>133029200</td>\n    </tr>\n    <tr>\n      <th>3</th>\n      <td>2016-04-14</td>\n      <td>27.905001</td>\n      <td>28.097500</td>\n      <td>27.832500</td>\n      <td>28.025000</td>\n      <td>26.066298</td>\n      <td>101895600</td>\n    </tr>\n    <tr>\n      <th>4</th>\n      <td>2016-04-15</td>\n      <td>28.027500</td>\n      <td>28.075001</td>\n      <td>27.432501</td>\n      <td>27.462500</td>\n      <td>25.543112</td>\n      <td>187756000</td>\n    </tr>\n    <tr>\n      <th>...</th>\n      <td>...</td>\n      <td>...</td>\n      <td>...</td>\n      <td>...</td>\n      <td>...</td>\n      <td>...</td>\n      <td>...</td>\n    </tr>\n    <tr>\n      <th>1254</th>\n      <td>2021-04-05</td>\n      <td>123.870003</td>\n      <td>126.160004</td>\n      <td>123.070000</td>\n      <td>125.900002</td>\n      <td>125.900002</td>\n      <td>88651200</td>\n    </tr>\n    <tr>\n      <th>1255</th>\n      <td>2021-04-06</td>\n      <td>126.500000</td>\n      <td>127.129997</td>\n      <td>125.650002</td>\n      <td>126.209999</td>\n      <td>126.209999</td>\n      <td>80171300</td>\n    </tr>\n    <tr>\n      <th>1256</th>\n      <td>2021-04-07</td>\n      <td>125.830002</td>\n      <td>127.919998</td>\n      <td>125.139999</td>\n      <td>127.900002</td>\n      <td>127.900002</td>\n      <td>83466700</td>\n    </tr>\n    <tr>\n      <th>1257</th>\n      <td>2021-04-08</td>\n      <td>128.949997</td>\n      <td>130.389999</td>\n      <td>128.520004</td>\n      <td>130.360001</td>\n      <td>130.360001</td>\n      <td>88844600</td>\n    </tr>\n    <tr>\n      <th>1258</th>\n      <td>2021-04-09</td>\n      <td>129.800003</td>\n      <td>133.039993</td>\n      <td>129.470001</td>\n      <td>133.000000</td>\n      <td>133.000000</td>\n      <td>106513800</td>\n    </tr>\n  </tbody>\n</table>\n<p>1259 rows × 7 columns</p>\n</div>"
     },
     "metadata": {},
     "execution_count": 34
    }
   ],
   "source": [
    "apple_df = pd.DataFrame(apple)\n",
    "apple_df = apple_df.reset_index(drop=False)\n",
    "apple_df"
   ]
  },
  {
   "cell_type": "code",
   "execution_count": 36,
   "metadata": {},
   "outputs": [
    {
     "output_type": "execute_result",
     "data": {
      "text/plain": [
       "method"
      ]
     },
     "metadata": {},
     "execution_count": 36
    }
   ],
   "source": [
    "type(data)\n",
    "# data_df = pd.DataFrame(data)\n",
    "# data_df = data_df.reset_index(drop=False)\n",
    "# data_df"
   ]
  },
  {
   "cell_type": "code",
   "execution_count": 43,
   "metadata": {},
   "outputs": [
    {
     "output_type": "execute_result",
     "data": {
      "text/plain": [
       "     Symbol                                       Company Name  \\\n",
       "0      AAIT  iShares MSCI All Country Asia Information Tech...   \n",
       "1       AAL                      American Airlines Group, Inc.   \n",
       "2      AAME                      Atlantic American Corporation   \n",
       "3      AAOI                      Applied Optoelectronics, Inc.   \n",
       "4      AAON                                         AAON, Inc.   \n",
       "...     ...                                                ...   \n",
       "2962     ZN                                 Zion Oil & Gas Inc   \n",
       "2963   ZNGA                                         Zynga Inc.   \n",
       "2964   ZSPH                                    ZS Pharma, Inc.   \n",
       "2965     ZU                                       zulily, inc.   \n",
       "2966   ZUMZ                                        Zumiez Inc.   \n",
       "\n",
       "                                          Security Name Market Category  \\\n",
       "0     iShares MSCI All Country Asia Information Tech...               G   \n",
       "1          American Airlines Group, Inc. - Common Stock               Q   \n",
       "2          Atlantic American Corporation - Common Stock               G   \n",
       "3          Applied Optoelectronics, Inc. - Common Stock               G   \n",
       "4                             AAON, Inc. - Common Stock               Q   \n",
       "...                                                 ...             ...   \n",
       "2962                  Zion Oil & Gas Inc - Common Stock               G   \n",
       "2963                  Zynga Inc. - Class A Common Stock               Q   \n",
       "2964                     ZS Pharma, Inc. - Common Stock               G   \n",
       "2965                zulily, inc. - Class A Common Stock               Q   \n",
       "2966                         Zumiez Inc. - Common Stock               Q   \n",
       "\n",
       "     Test Issue Financial Status  Round Lot Size  \n",
       "0             N                N           100.0  \n",
       "1             N                N           100.0  \n",
       "2             N                N           100.0  \n",
       "3             N                N           100.0  \n",
       "4             N                N           100.0  \n",
       "...         ...              ...             ...  \n",
       "2962          N                N           100.0  \n",
       "2963          N                N           100.0  \n",
       "2964          N                N           100.0  \n",
       "2965          N                N           100.0  \n",
       "2966          N                N           100.0  \n",
       "\n",
       "[2967 rows x 7 columns]"
      ],
      "text/html": "<div>\n<style scoped>\n    .dataframe tbody tr th:only-of-type {\n        vertical-align: middle;\n    }\n\n    .dataframe tbody tr th {\n        vertical-align: top;\n    }\n\n    .dataframe thead th {\n        text-align: right;\n    }\n</style>\n<table border=\"1\" class=\"dataframe\">\n  <thead>\n    <tr style=\"text-align: right;\">\n      <th></th>\n      <th>Symbol</th>\n      <th>Company Name</th>\n      <th>Security Name</th>\n      <th>Market Category</th>\n      <th>Test Issue</th>\n      <th>Financial Status</th>\n      <th>Round Lot Size</th>\n    </tr>\n  </thead>\n  <tbody>\n    <tr>\n      <th>0</th>\n      <td>AAIT</td>\n      <td>iShares MSCI All Country Asia Information Tech...</td>\n      <td>iShares MSCI All Country Asia Information Tech...</td>\n      <td>G</td>\n      <td>N</td>\n      <td>N</td>\n      <td>100.0</td>\n    </tr>\n    <tr>\n      <th>1</th>\n      <td>AAL</td>\n      <td>American Airlines Group, Inc.</td>\n      <td>American Airlines Group, Inc. - Common Stock</td>\n      <td>Q</td>\n      <td>N</td>\n      <td>N</td>\n      <td>100.0</td>\n    </tr>\n    <tr>\n      <th>2</th>\n      <td>AAME</td>\n      <td>Atlantic American Corporation</td>\n      <td>Atlantic American Corporation - Common Stock</td>\n      <td>G</td>\n      <td>N</td>\n      <td>N</td>\n      <td>100.0</td>\n    </tr>\n    <tr>\n      <th>3</th>\n      <td>AAOI</td>\n      <td>Applied Optoelectronics, Inc.</td>\n      <td>Applied Optoelectronics, Inc. - Common Stock</td>\n      <td>G</td>\n      <td>N</td>\n      <td>N</td>\n      <td>100.0</td>\n    </tr>\n    <tr>\n      <th>4</th>\n      <td>AAON</td>\n      <td>AAON, Inc.</td>\n      <td>AAON, Inc. - Common Stock</td>\n      <td>Q</td>\n      <td>N</td>\n      <td>N</td>\n      <td>100.0</td>\n    </tr>\n    <tr>\n      <th>...</th>\n      <td>...</td>\n      <td>...</td>\n      <td>...</td>\n      <td>...</td>\n      <td>...</td>\n      <td>...</td>\n      <td>...</td>\n    </tr>\n    <tr>\n      <th>2962</th>\n      <td>ZN</td>\n      <td>Zion Oil &amp; Gas Inc</td>\n      <td>Zion Oil &amp; Gas Inc - Common Stock</td>\n      <td>G</td>\n      <td>N</td>\n      <td>N</td>\n      <td>100.0</td>\n    </tr>\n    <tr>\n      <th>2963</th>\n      <td>ZNGA</td>\n      <td>Zynga Inc.</td>\n      <td>Zynga Inc. - Class A Common Stock</td>\n      <td>Q</td>\n      <td>N</td>\n      <td>N</td>\n      <td>100.0</td>\n    </tr>\n    <tr>\n      <th>2964</th>\n      <td>ZSPH</td>\n      <td>ZS Pharma, Inc.</td>\n      <td>ZS Pharma, Inc. - Common Stock</td>\n      <td>G</td>\n      <td>N</td>\n      <td>N</td>\n      <td>100.0</td>\n    </tr>\n    <tr>\n      <th>2965</th>\n      <td>ZU</td>\n      <td>zulily, inc.</td>\n      <td>zulily, inc. - Class A Common Stock</td>\n      <td>Q</td>\n      <td>N</td>\n      <td>N</td>\n      <td>100.0</td>\n    </tr>\n    <tr>\n      <th>2966</th>\n      <td>ZUMZ</td>\n      <td>Zumiez Inc.</td>\n      <td>Zumiez Inc. - Common Stock</td>\n      <td>Q</td>\n      <td>N</td>\n      <td>N</td>\n      <td>100.0</td>\n    </tr>\n  </tbody>\n</table>\n<p>2967 rows × 7 columns</p>\n</div>"
     },
     "metadata": {},
     "execution_count": 43
    }
   ],
   "source": [
    "url2 = \"https://pkgstore.datahub.io/core/nasdaq-listings/nasdaq-listed_csv/data/7665719fb51081ba0bd834fde71ce822/nasdaq-listed_csv.csv\"\n",
    "s = requests.get(url2).content\n",
    "companies = pd.read_csv(io.StringIO(s.decode('utf-8')))\n",
    "companies"
   ]
  },
  {
   "cell_type": "code",
   "execution_count": 44,
   "metadata": {},
   "outputs": [
    {
     "output_type": "stream",
     "name": "stdout",
     "text": [
      "['AAIT', 'AAL', 'AAME', 'AAOI', 'AAON', 'AAPL', 'AAVL', 'AAWW', 'AAXJ', 'ABAC', 'ABAX', 'ABCB', 'ABCD', 'ABCO', 'ABCW', 'ABDC', 'ABGB', 'ABIO', 'ABMD', 'ABTL', 'ABY', 'ACAD', 'ACAS', 'ACAT', 'ACET', 'ACFC', 'ACFN', 'ACGL', 'ACHC', 'ACHN', 'ACIW', 'ACLS', 'ACNB', 'ACOR', 'ACPW', 'ACRX', 'ACSF', 'ACST', 'ACTA', 'ACTG', 'ACTS', 'ACUR', 'ACWI', 'ACWX', 'ACXM', 'ADAT', 'ADBE', 'ADEP', 'ADES', 'ADHD', 'ADI', 'ADMA', 'ADMP', 'ADMS', 'ADNC', 'ADP', 'ADRA', 'ADRD', 'ADRE', 'ADRU', 'ADSK', 'ADTN', 'ADUS', 'ADVS', 'ADXS', 'ADXSW', 'AEGN', 'AEGR', 'AEHR', 'AEIS', 'AEPI', 'AERI', 'AETI', 'AEY', 'AEZS', 'AFAM', 'AFCB', 'AFFX', 'AFH', 'AFMD', 'AFOP', 'AFSI', 'AGEN', 'AGII', 'AGIIL', 'AGIO', 'AGNC', 'AGNCB', 'AGNCP', 'AGND', 'AGRX', 'AGTC', 'AGYS', 'AGZD', 'AHGP', 'AHPI', 'AIMC', 'AINV', 'AIQ', 'AIRM', 'AIRR', 'AIRT', 'AIXG', 'AKAM', 'AKAO', 'AKBA', 'AKER', 'AKRX', 'ALCO', 'ALDR', 'ALDX', 'ALGN', 'ALGT', 'ALIM', 'ALKS', 'ALLB', 'ALLT', 'ALNY', 'ALOG', 'ALOT', 'ALQA', 'ALSK', 'ALTR', 'ALXA', 'ALXN', 'AMAG', 'AMAT', 'AMBA', 'AMBC', 'AMBCW', 'AMCC', 'AMCF', 'AMCN', 'AMCX', 'AMD', 'AMDA', 'AMED', 'AMGN', 'AMIC', 'AMKR', 'AMNB', 'AMOT', 'AMOV', 'AMPH', 'AMRB', 'AMRI', 'AMRK', 'AMRN', 'AMRS', 'AMSC', 'AMSF', 'AMSG', 'AMSGP', 'AMSWA', 'AMTX', 'AMWD', 'AMZN', 'ANAC', 'ANAD', 'ANAT', 'ANCB', 'ANCI', 'ANCX', 'ANDE', 'ANGI', 'ANGO', 'ANIK', 'ANIP', 'ANSS', 'ANTH', 'ANY', 'AOSL', 'APAGF', 'APDN', 'APDNW', 'APEI', 'APOG', 'APOL', 'APPY', 'APRI', 'APSA', 'APTO', 'APWC', 'AQXP', 'ARAY', 'ARCB', 'ARCC', 'ARCI', 'ARCP', 'ARCPP', 'ARCW', 'ARDM', 'ARDX', 'AREX', 'ARGS', 'ARIA', 'ARII', 'ARIS', 'ARKR', 'ARLP', 'ARMH', 'ARNA', 'AROW', 'ARQL', 'ARRS', 'ARRY', 'ARTNA', 'ARTW', 'ARTX', 'ARUN', 'ARWR', 'ASBB', 'ASBI', 'ASCMA', 'ASEI', 'ASFI', 'ASMB', 'ASMI', 'ASML', 'ASNA', 'ASPS', 'ASPX', 'ASRV', 'ASRVP', 'ASTC', 'ASTE', 'ASTI', 'ASUR', 'ASYS', 'ATAI', 'ATAX', 'ATEA', 'ATEC', 'ATHN', 'ATHX', 'ATLC', 'ATLO', 'ATML', 'ATNI', 'ATNY', 'ATOS', 'ATRA', 'ATRC', 'ATRI', 'ATRM', 'ATRO', 'ATRS', 'ATSG', 'ATTU', 'ATVI', 'AUBN', 'AUDC', 'AUMA', 'AUMAU', 'AUMAW', 'AUPH', 'AUXL', 'AVAV', 'AVEO', 'AVGO', 'AVHI', 'AVID', 'AVNR', 'AVNW', 'AWAY', 'AWRE', 'AXAS', 'AXDX', 'AXGN', 'AXJS', 'AXPW', 'AXPWW', 'AXTI', 'AZPN', 'BABY', 'BAGR', 'BAMM', 'BANF', 'BANFP', 'BANR', 'BANX', 'BASI', 'BBBY', 'BBC', 'BBCN', 'BBEP', 'BBEPP', 'BBGI', 'BBLU', 'BBNK', 'BBOX', 'BBP', 'BBRG', 'BBRY', 'BBSI', 'BCBP', 'BCLI', 'BCOM', 'BCOR', 'BCOV', 'BCPC', 'BCRX', 'BDBD', 'BDCV', 'BDE', 'BDGE', 'BDMS', 'BDSI', 'BEAT', 'BEAV', 'BEBE', 'BECN', 'BELFA', 'BELFB', 'BFIN', 'BGCP', 'BGFV', 'BGMD', 'BHBK', 'BIB', 'BICK', 'BIDU', 'BIIB', 'BIND', 'BIOC', 'BIOD', 'BIOL', 'BIOS', 'BIRT', 'BIS', 'BJRI', 'BKCC', 'BKEP', 'BKEPP', 'BKMU', 'BKSC', 'BKYF', 'BLCM', 'BLDP', 'BLDR', 'BLFS', 'BLIN', 'BLKB', 'BLMN', 'BLMT', 'BLRX', 'BLUE', 'BLVD', 'BLVDU', 'BLVDW', 'BMRC', 'BMRN', 'BMTC', 'BNCL', 'BNCN', 'BNDX', 'BNFT', 'BNSO', 'BOBE', 'BOCH', 'BOFI', 'BOKF', 'BONA', 'BONT', 'BOOM', 'BOSC', 'BOTA', 'BOTJ', 'BPFH', 'BPFHP', 'BPFHW', 'BPOP', 'BPOPM', 'BPOPN', 'BPTH', 'BRCD', 'BRCM', 'BRDR', 'BREW', 'BRID', 'BRKL', 'BRKR', 'BRKS', 'BRLI', 'BSDM', 'BSET', 'BSF', 'BSFT', 'BSPM', 'BSQR', 'BSRR', 'BSTC', 'BTUI', 'BUR', 'BUSE', 'BV', 'BVA', 'BVSN', 'BWEN', 'BWFG', 'BWINA', 'BWINB', 'BWLD', 'BYBK', 'BYFC', 'BYLK', 'CA', 'CAAS', 'CAC', 'CACB', 'CACC', 'CACG', 'CACGU', 'CACGW', 'CACH', 'CACQ', 'CADC', 'CADT', 'CADTR', 'CADTU', 'CADTW', 'CAKE', 'CALA', 'CALD', 'CALI', 'CALL', 'CALM', 'CAMB', 'CAMBU', 'CAMBW', 'CAMP', 'CAMT', 'CAPN', 'CAPNW', 'CAR', 'CARA', 'CARB', 'CARO', 'CART', 'CARV', 'CARZ', 'CASH', 'CASI', 'CASM', 'CASS', 'CASY', 'CATM', 'CATY', 'CATYW', 'CAVM', 'CBAK', 'CBAN', 'CBAY', 'CBDE', 'CBF', 'CBFV', 'CBIN', 'CBLI', 'CBMG', 'CBMX', 'CBNJ', 'CBNK', 'CBOE', 'CBPO', 'CBRL', 'CBRX', 'CBSH', 'CBSHP', 'CBST', 'CBSTZ', 'CCBG', 'CCCL', 'CCCR', 'CCIH', 'CCLP', 'CCMP', 'CCNE', 'CCOI', 'CCRN', 'CCUR', 'CCXI', 'CDC', 'CDK', 'CDNA', 'CDNS', 'CDTI', 'CDW', 'CDXS', 'CDZI', 'CECE', 'CECO', 'CELG', 'CELGZ', 'CEMI', 'CEMP', 'CENT', 'CENTA', 'CENX', 'CERE', 'CERN', 'CERS', 'CERU', 'CETV', 'CEVA', 'CFA', 'CFBK', 'CFFI', 'CFFN', 'CFGE', 'CFNB', 'CFNL', 'CFO', 'CFRX', 'CFRXW', 'CFRXZ', 'CG', 'CGEN', 'CGIX', 'CGNX', 'CGO', 'CHCI', 'CHCO', 'CHDN', 'CHEF', 'CHEV', 'CHFC', 'CHFN', 'CHI', 'CHKE', 'CHKP', 'CHLN', 'CHMG', 'CHNR', 'CHOP', 'CHRS', 'CHRW', 'CHSCM', 'CHSCN', 'CHSCO', 'CHSCP', 'CHTR', 'CHUY', 'CHW', 'CHXF', 'CHY', 'CHYR', 'CIDM', 'CIFC', 'CIMT', 'CINF', 'CISAW', 'CISG', 'CIZ', 'CIZN', 'CJJD', 'CKEC', 'CKSW', 'CLAC', 'CLACU', 'CLACW', 'CLBH', 'CLCT', 'CLDN', 'CLDX', 'CLFD', 'CLIR', 'CLMS', 'CLMT', 'CLNE', 'CLNT', 'CLRB', 'CLRBW', 'CLRO', 'CLRX', 'CLSN', 'CLTX', 'CLUB', 'CLVS', 'CLWT', 'CMCO', 'CMCSA', 'CMCSK', 'CMCT', 'CME', 'CMFN', 'CMGE', 'CMLS', 'CMPR', 'CMRX', 'CMSB', 'CMTL', 'CNAT', 'CNBKA', 'CNCE', 'CNDO', 'CNET', 'CNIT', 'CNLM', 'CNLMR', 'CNLMU', 'CNLMW', 'CNMD', 'CNOB', 'CNSI', 'CNSL', 'CNTF', 'CNTY', 'CNV', 'CNXR', 'CNYD', 'COB', 'COBK', 'COBZ', 'COCO', 'COHR', 'COHU', 'COKE', 'COLB', 'COLM', 'COMM', 'COMT', 'CONE', 'CONN', 'COOL', 'CORE', 'CORI', 'CORT', 'COSI', 'COST', 'COVS', 'COWN', 'COWNL', 'CPAH', 'CPGI', 'CPHC', 'CPHD', 'CPHR', 'CPIX', 'CPLA', 'CPLP', 'CPRT', 'CPRX', 'CPSI', 'CPSS', 'CPST', 'CPTA', 'CPXX', 'CRAI', 'CRAY', 'CRDC', 'CRDS', 'CRDT', 'CREE', 'CREG', 'CRESW', 'CRESY', 'CRIS', 'CRME', 'CRMT', 'CRNT', 'CROX', 'CRRC', 'CRRS', 'CRTN', 'CRTO', 'CRUS', 'CRVL', 'CRWN', 'CRWS', 'CRZO', 'CSBK', 'CSCD', 'CSCO', 'CSF', 'CSFL', 'CSGP', 'CSGS', 'CSII', 'CSIQ', 'CSOD', 'CSPI', 'CSQ', 'CSRE', 'CSTE', 'CSUN', 'CSWC', 'CTAS', 'CTBI', 'CTCM', 'CTCT', 'CTG', 'CTHR', 'CTIB', 'CTIC', 'CTRE', 'CTRL', 'CTRN', 'CTRP', 'CTRX', 'CTSH', 'CTSO', 'CTWS', 'CTXS', 'CU', 'CUBA', 'CUI', 'CUNB', 'CUTR', 'CVBF', 'CVCO', 'CVCY', 'CVGI', 'CVGW', 'CVLT', 'CVLY', 'CVTI', 'CVV', 'CWAY', 'CWBC', 'CWCO', 'CWST', 'CXDC', 'CY', 'CYAN', 'CYBE', 'CYBR', 'CYBX', 'CYCC', 'CYCCP', 'CYHHZ', 'CYNO', 'CYOU', 'CYRN', 'CYTK', 'CYTR', 'CYTX', 'CZFC', 'CZNC', 'CZR', 'CZWI', 'DAEG', 'DAIO', 'DAKT', 'DARA', 'DATE', 'DAVE', 'DAX', 'DBVT', 'DCIX', 'DCOM', 'DCTH', 'DENN', 'DEPO', 'DERM', 'DEST', 'DFRG', 'DFVL', 'DFVS', 'DGAS', 'DGICA', 'DGICB', 'DGII', 'DGLD', 'DGLY', 'DGRE', 'DGRS', 'DGRW', 'DHIL', 'DHRM', 'DIOD', 'DISCA', 'DISCB', 'DISCK', 'DISH', 'DJCO', 'DLBL', 'DLBS', 'DLHC', 'DLTR', 'DMLP', 'DMND', 'DMRC', 'DNBF', 'DNKN', 'DORM', 'DOVR', 'DOX', 'DPRX', 'DRAD', 'DRAM', 'DRIV', 'DRNA', 'DRRX', 'DRWI', 'DRWIW', 'DRYS', 'DSCI', 'DSCO', 'DSGX', 'DSKX', 'DSKY', 'DSLV', 'DSPG', 'DSWL', 'DTLK', 'DTSI', 'DTUL', 'DTUS', 'DTV', 'DTYL', 'DTYS', 'DVAX', 'DVCR', 'DWA', 'DWAT', 'DWCH', 'DWSN', 'DXCM', 'DXGE', 'DXJS', 'DXKW', 'DXLG', 'DXM', 'DXPE', 'DXPS', 'DXYN', 'DYAX', 'DYNT', 'DYSL', 'EA', 'EAC', 'EARS', 'EBAY', 'EBIO', 'EBIX', 'EBMT', 'EBSB', 'EBTC', 'ECHO', 'ECOL', 'ECPG', 'ECTE', 'ECYT', 'EDAP', 'EDGW', 'EDS', 'EDUC', 'EEFT', 'EEI', 'EEMA', 'EEME', 'EEML', 'EFII', 'EFOI', 'EFSC', 'EFUT', 'EGAN', 'EGBN', 'EGHT', 'EGLE', 'EGLT', 'EGOV', 'EGRW', 'EGRX', 'EGT', 'EHTH', 'EIGI', 'ELGX', 'ELNK', 'ELON', 'ELOS', 'ELRC', 'ELSE', 'ELTK', 'EMCB', 'EMCF', 'EMCG', 'EMCI', 'EMDI', 'EMEY', 'EMIF', 'EMITF', 'EMKR', 'EML', 'EMMS', 'EMMSP', 'ENDP', 'ENFC', 'ENG', 'ENOC', 'ENPH', 'ENSG', 'ENT', 'ENTA', 'ENTG', 'ENTR', 'ENVI', 'ENZN', 'ENZY', 'EOPN', 'EPAX', 'EPAY', 'EPIQ', 'EPRS', 'EPZM', 'EQIX', 'ERI', 'ERIC', 'ERIE', 'ERII', 'EROC', 'ERS', 'ERW', 'ESBF', 'ESBK', 'ESCA', 'ESCR', 'ESCRP', 'ESEA', 'ESGR', 'ESIO', 'ESLT', 'ESMC', 'ESPR', 'ESRX', 'ESSA', 'ESSX', 'ESXB', 'ESYS', 'ETFC', 'ETRM', 'EUFN', 'EVAL', 'EVAR', 'EVBS', 'EVEP', 'EVK', 'EVLV', 'EVOK', 'EVOL', 'EVRY', 'EWBC', 'EXA', 'EXAC', 'EXAS', 'EXEL', 'EXFO', 'EXLP', 'EXLS', 'EXPD', 'EXPE', 'EXPO', 'EXTR', 'EXXI', 'EYES', 'EZCH', 'EZPW', 'FALC', 'FANG', 'FARM', 'FARO', 'FAST', 'FATE', 'FB', 'FBIZ', 'FBMS', 'FBNC', 'FBNK', 'FBRC', 'FBSS', 'FCAP', 'FCBC', 'FCCO', 'FCCY', 'FCEL', 'FCFS', 'FCHI', 'FCLF', 'FCNCA', 'FCS', 'FCSC', 'FCTY', 'FCVA', 'FCZA', 'FCZAP', 'FDEF', 'FDIV', 'FDML', 'FDUS', 'FEIC', 'FEIM', 'FELE', 'FEMB', 'FES', 'FEUZ', 'FEYE', 'FFBC', 'FFBCW', 'FFHL', 'FFIC', 'FFIN', 'FFIV', 'FFKT', 'FFNM', 'FFNW', 'FFWM', 'FGEN', 'FHCO', 'FIBK', 'FINL', 'FISH', 'FISI', 'FISV', 'FITB', 'FITBI', 'FIVE', 'FIVN', 'FIZZ', 'FLAT', 'FLDM', 'FLEX', 'FLIC', 'FLIR', 'FLL', 'FLML', 'FLWS', 'FLXN', 'FLXS', 'FMB', 'FMBH', 'FMBI', 'FMER', 'FMI', 'FMNB', 'FNBC', 'FNFG', 'FNGN', 'FNHC', 'FNJN', 'FNLC', 'FNRG', 'FNSR', 'FOLD', 'FOMX', 'FONE', 'FONR', 'FORD', 'FORM', 'FORR', 'FORTY', 'FOSL', 'FOX', 'FOXA', 'FOXF', 'FPRX', 'FPXI', 'FRAN', 'FRBA', 'FRBK', 'FRED', 'FREE', 'FRGI', 'FRME', 'FRP', 'FRPH', 'FRPHV', 'FRPT', 'FRSH', 'FSAM', 'FSBK', 'FSBW', 'FSC', 'FSCFL', 'FSFG', 'FSFR', 'FSGI', 'FSLR', 'FSNN', 'FSRV', 'FSTR', 'FSYS', 'FTCS', 'FTD', 'FTEK', 'FTGC', 'FTHI', 'FTLB', 'FTNT', 'FTR', 'FTSL', 'FTSM', 'FUEL', 'FULL', 'FULLL', 'FULT', 'FUNC', 'FUND', 'FV', 'FWM', 'FWP', 'FWRD', 'FXCB', 'FXEN', 'FXENP', 'GABC', 'GAI', 'GAIA', 'GAIN', 'GAINO', 'GAINP', 'GALE', 'GALT', 'GALTU', 'GALTW', 'GAME', 'GARS', 'GASS', 'GBCI', 'GBDC', 'GBIM', 'GBLI', 'GBNK', 'GBSN', 'GCBC', 'GCVRZ', 'GDEF', 'GENC', 'GENE', 'GEOS', 'GERN', 'GEVA', 'GEVO', 'GFED', 'GFN', 'GFNCP', 'GFNSL', 'GGAC', 'GGACR', 'GGACU', 'GGACW', 'GGAL', 'GHDX', 'GIFI', 'GIGA', 'GIGM', 'GIII', 'GILD', 'GILT', 'GK', 'GKNT', 'GLAD', 'GLADO', 'GLBS', 'GLBZ', 'GLDC', 'GLDD', 'GLDI', 'GLMD', 'GLNG', 'GLPI', 'GLRE', 'GLRI', 'GLUU', 'GLYC', 'GMAN', 'GMCR', 'GMLP', 'GNBC', 'GNCA', 'GNCMA', 'GNMA', 'GNMK', 'GNTX', 'GNVC', 'GOGO', 'GOLD', 'GOMO', 'GOOD', 'GOODN', 'GOODO', 'GOODP', 'GOOG', 'GOOGL', 'GPIC', 'GPOR', 'GPRE', 'GPRO', 'GRBK', 'GRFS', 'GRID', 'GRIF', 'GRMN', 'GROW', 'GRPN', 'GRVY', 'GSBC', 'GSIG', 'GSIT', 'GSM', 'GSOL', 'GSVC', 'GT', 'GTIM', 'GTIV', 'GTLS', 'GTWN', 'GTXI', 'GUID', 'GULF', 'GULTU', 'GURE', 'GWGH', 'GWPH', 'GYRO', 'HA', 'HABT', 'HAFC', 'HAIN', 'HALL', 'HALO', 'HART', 'HAS', 'HAWK', 'HAWKB', 'HAYN', 'HBAN', 'HBANP', 'HBCP', 'HBHC', 'HBIO', 'HBK', 'HBMD', 'HBNC', 'HBNK', 'HBOS', 'HBP', 'HCAC', 'HCACU', 'HCACW', 'HCAP', 'HCBK', 'HCCI', 'HCKT', 'HCOM', 'HCSG', 'HCT', 'HDNG', 'HDP', 'HDRA', 'HDRAR', 'HDRAU', 'HDRAW', 'HDS', 'HDSN', 'HEAR', 'HEES', 'HELE', 'HEOP', 'HERO', 'HFBC', 'HFBL', 'HFFC', 'HFWA', 'HGSH', 'HIBB', 'HIFS', 'HIHO', 'HIIQ', 'HILL', 'HIMX', 'HKTV', 'HLIT', 'HLSS', 'HMHC', 'HMIN', 'HMNF', 'HMNY', 'HMPR', 'HMST', 'HMSY', 'HMTV', 'HNH', 'HNNA', 'HNRG', 'HNSN', 'HOFT', 'HOLI', 'HOLX', 'HOMB', 'HOTR', 'HOTRW', 'HOVNP', 'HPJ', 'HPTX', 'HQY', 'HRTX', 'HRZN', 'HSGX', 'HSIC', 'HSII', 'HSKA', 'HSNI', 'HSOL', 'HSON', 'HSTM', 'HTBI', 'HTBK', 'HTBX', 'HTCH', 'HTHT', 'HTLD', 'HTLF', 'HTWO', 'HTWR', 'HUBG', 'HURC', 'HURN', 'HWAY', 'HWBK', 'HWCC', 'HWKN', 'HYGS', 'HYLS', 'HYND', 'HYZD', 'HZNP', 'IACI', 'IART', 'IBB', 'IBCA', 'IBCP', 'IBKC', 'IBKR', 'IBOC', 'IBTX', 'ICAD', 'ICCC', 'ICEL', 'ICFI', 'ICLD', 'ICLDW', 'ICLN', 'ICLR', 'ICON', 'ICPT', 'ICUI', 'IDCC', 'IDRA', 'IDSA', 'IDSY', 'IDTI', 'IDXX', 'IEP', 'IESC', 'IEUS', 'IFAS', 'IFEU', 'IFGL', 'IFNA', 'IFON', 'IFV', 'IGLD', 'IGOV', 'IGTE', 'III', 'IIIN', 'IIJI', 'IILG', 'IIN', 'IIVI', 'IKAN', 'IKGH', 'IKNX', 'ILMN', 'IMDZ', 'IMGN', 'IMI', 'IMKTA', 'IMMR', 'IMMU', 'IMMY', 'IMNP', 'IMOS', 'IMRS', 'INAP', 'INBK', 'INCR', 'INCY', 'INDB', 'INDY', 'INFA', 'INFI', 'INFN', 'INGN', 'ININ', 'INNL', 'INO', 'INOD', 'INPH', 'INSM', 'INSY', 'INTC', 'INTG', 'INTL', 'INTLL', 'INTU', 'INTX', 'INVE', 'INVT', 'INWK', 'IOSP', 'IPAR', 'IPAS', 'IPCC', 'IPCI', 'IPCM', 'IPDN', 'IPGP', 'IPHS', 'IPKW', 'IPWR', 'IPXL', 'IQNT', 'IRBT', 'IRDM', 'IRDMB', 'IRDMZ', 'IRG', 'IRIX', 'IRMD', 'IROQ', 'IRWD', 'ISBC', 'ISCA', 'ISHG', 'ISIG', 'ISIL', 'ISIS', 'ISLE', 'ISM', 'ISNS', 'ISRG', 'ISRL', 'ISSC', 'ISSI', 'ISTR', 'ITCI', 'ITIC', 'ITRI', 'ITRN', 'IVAC', 'IVAN', 'IXYS', 'JACK', 'JACQ', 'JACQU', 'JACQW', 'JAKK', 'JASN', 'JASNW', 'JASO', 'JAXB', 'JAZZ', 'JBHT', 'JBLU', 'JBSS', 'JCOM', 'JCS', 'JCTCF', 'JD', 'JDSU', 'JGBB', 'JIVE', 'JJSF', 'JKHY', 'JMBA', 'JOBS', 'JOEZ', 'JOUT', 'JRJC', 'JRVR', 'JSM', 'JST', 'JTPY', 'JUNO', 'JVA', 'JXSB', 'JYNT', 'KALU', 'KANG', 'KBAL', 'KBIO', 'KBSF', 'KCAP', 'KCLI', 'KE', 'KELYA', 'KELYB', 'KEQU', 'KERX', 'KEYW', 'KFFB', 'KFRC', 'KFX', 'KGJI', 'KIN', 'KINS', 'KIRK', 'KITE', 'KLAC', 'KLIC', 'KLXI', 'KMDA', 'KNDI', 'KONA', 'KONE', 'KOOL', 'KOPN', 'KOSS', 'KPTI', 'KRFT', 'KRNY', 'KTCC', 'KTEC', 'KTOS', 'KTWO', 'KUTV', 'KVHI', 'KWEB', 'KYTH', 'KZ', 'LABC', 'LABL', 'LACO', 'LAKE', 'LALT', 'LAMR', 'LANC', 'LAND', 'LARK', 'LAWS', 'LAYN', 'LBAI', 'LBIX', 'LBRDA', 'LBRDK', 'LBRKR', 'LBTYA', 'LBTYB', 'LBTYK', 'LCNB', 'LCUT', 'LDRH', 'LDRI', 'LE', 'LECO', 'LEDS', 'LEVY', 'LEVYU', 'LEVYW', 'LFUS', 'LFVN', 'LGCY', 'LGCYO', 'LGCYP', 'LGIH', 'LGND', 'LHCG', 'LIME', 'LINC', 'LINE', 'LION', 'LIOX', 'LIQD', 'LIVE', 'LJPC', 'LKFN', 'LKQ', 'LLEX', 'LLNW', 'LLTC', 'LMAT', 'LMBS', 'LMCA', 'LMCB', 'LMCK', 'LMIA', 'LMNR', 'LMNS', 'LMNX', 'LMOS', 'LMRK', 'LNBB', 'LNCE', 'LNCO', 'LNDC', 'LOAN', 'LOCM', 'LOCO', 'LOGI', 'LOGM', 'LOJN', 'LONG', 'LOOK', 'LOPE', 'LORL', 'LOXO', 'LPCN', 'LPHI', 'LPLA', 'LPNT', 'LPSB', 'LPSN', 'LPTH', 'LPTN', 'LQDT', 'LRAD', 'LRCX', 'LSBK', 'LSCC', 'LSTR', 'LTBR', 'LTRE', 'LTRPA', 'LTRPB', 'LTRX', 'LTXB', 'LULU', 'LUNA', 'LVNTA', 'LVNTB', 'LWAY', 'LXRX', 'LYTS', 'MACK', 'MAG', 'MAGS', 'MAMS', 'MANH', 'MANT', 'MAR', 'MARA', 'MARK', 'MARPS', 'MASI', 'MAT', 'MATR', 'MATW', 'MAYS', 'MBCN', 'MBFI', 'MBFIP', 'MBII', 'MBLX', 'MBRG', 'MBSD', 'MBTF', 'MBUU', 'MBVT', 'MBWM', 'MCBC', 'MCBK', 'MCEP', 'MCGC', 'MCHP', 'MCHX', 'MCOX', 'MCRI', 'MCRL', 'MCUR', 'MDAS', 'MDCA', 'MDCO', 'MDIV', 'MDLZ', 'MDM', 'MDRX', 'MDSO', 'MDSY', 'MDVN', 'MDVXU', 'MDWD', 'MDXG', 'MEET', 'MEIL', 'MEILW', 'MEILZ', 'MEIP', 'MELA', 'MELI', 'MELR', 'MEMP', 'MENT', 'MEOH', 'MERC', 'MERU', 'METR', 'MFI', 'MFLX', 'MFNC', 'MFRI', 'MFRM', 'MFSF', 'MGCD', 'MGEE', 'MGI', 'MGIC', 'MGLN', 'MGNX', 'MGPI', 'MGRC', 'MGYR', 'MHGC', 'MHLD', 'MHLDO', 'MICT', 'MICTW', 'MIDD', 'MIFI', 'MIK', 'MIND', 'MINI', 'MITK', 'MITL', 'MKSI', 'MKTO', 'MKTX', 'MLAB', 'MLHR', 'MLNK', 'MLNX', 'MLVF', 'MMAC', 'MMLP', 'MMSI', 'MMYT', 'MNDL', 'MNDO', 'MNGA', 'MNKD', 'MNOV', 'MNRK', 'MNRO', 'MNST', 'MNTA', 'MNTX', 'MOBI', 'MOBL', 'MOCO', 'MOFG', 'MOKO', 'MOLG', 'MOMO', 'MORN', 'MOSY', 'MPAA', 'MPB', 'MPEL', 'MPET', 'MPWR', 'MRCC', 'MRCY', 'MRD', 'MRGE', 'MRKT', 'MRLN', 'MRNS', 'MRTN', 'MRTX', 'MRVC', 'MRVL', 'MSBF', 'MSCC', 'MSEX', 'MSFG', 'MSFT', 'MSG', 'MSLI', 'MSON', 'MSTR', 'MTBC', 'MTEX', 'MTGE', 'MTGEP', 'MTLS', 'MTRX', 'MTSC', 'MTSI', 'MTSL', 'MTSN', 'MU', 'MULT', 'MVIS', 'MWIV', 'MXIM', 'MXWL', 'MYGN', 'MYL', 'MYOS', 'MYRG', 'MZOR', 'NAII', 'NAME', 'NANO', 'NATH', 'NATI', 'NATL', 'NATR', 'NAUH', 'NAVG', 'NAVI', 'NBBC', 'NBIX', 'NBN', 'NBS', 'NBTB', 'NBTF', 'NCIT', 'NCLH', 'NCMI', 'NCTY', 'NDAQ', 'NDLS', 'NDRM', 'NDSN', 'NECB', 'NEO', 'NEOG', 'NEON', 'NEOT', 'NEPT', 'NERV', 'NETE', 'NEWP', 'NEWS', 'NEWT', 'NFBK', 'NFEC', 'NFLX', 'NGHC', 'NGHCP', 'NHTB', 'NICE', 'NICK', 'NILE', 'NKSH', 'NKTR', 'NLNK', 'NLST', 'NMIH', 'NMRX', 'NNBR', 'NPBC', 'NPSP', 'NRCIA', 'NRCIB', 'NRIM', 'NRX', 'NSEC', 'NSIT', 'NSPH', 'NSSC', 'NSTG', 'NSYS', 'NTAP', 'NTCT', 'NTES', 'NTGR', 'NTIC', 'NTK', 'NTLS', 'NTRI', 'NTRS', 'NTRSP', 'NTWK', 'NUAN', 'NURO', 'NUTR', 'NUVA', 'NVAX', 'NVCN', 'NVDA', 'NVDQ', 'NVEC', 'NVEE', 'NVEEW', 'NVFY', 'NVGN', 'NVMI', 'NVSL', 'NWBI', 'NWBO', 'NWBOW', 'NWFL', 'NWLI', 'NWPX', 'NWS', 'NWSA', 'NXPI', 'NXST', 'NXTD', 'NXTDW', 'NXTM', 'NYMT', 'NYMTP', 'NYMX', 'NYNY', 'OBAS', 'OBCI', 'OCC', 'OCFC', 'OCLR', 'OCLS', 'OCRX', 'OCUL', 'ODFL', 'ODP', 'OFED', 'OFIX', 'OFLX', 'OFS', 'OGXI', 'OHAI', 'OHGI', 'OHRP', 'OIIM', 'OKSB', 'OLBK', 'OLED', 'OMAB', 'OMCL', 'OMED', 'OMER', 'OMEX', 'ONB', 'ONCY', 'ONEQ', 'ONFC', 'ONNN', 'ONTX', 'ONTY', 'ONVI', 'OPB', 'OPHC', 'OPHT', 'OPOF', 'OPTT', 'OPXA', 'ORBC', 'ORBK', 'OREX', 'ORIG', 'ORIT', 'ORLY', 'ORMP', 'ORPN', 'ORRF', 'OSBC', 'OSBCP', 'OSHC', 'OSIR', 'OSIS', 'OSM', 'OSN', 'OSTK', 'OSUR', 'OTEL', 'OTEX', 'OTIC', 'OTIV', 'OTTR', 'OUTR', 'OVAS', 'OVBC', 'OVLY', 'OVTI', 'OXBR', 'OXBRW', 'OXFD', 'OXGN', 'OXLC', 'OXLCN', 'OXLCO', 'OXLCP', 'OZRK', 'PAAS', 'PACB', 'PACW', 'PAGG', 'PAHC', 'PANL', 'PARN', 'PATIV', 'PATK', 'PAYX', 'PBCP', 'PBCT', 'PBHC', 'PBIB', 'PBIP', 'PBMD', 'PBPB', 'PBSK', 'PCAR', 'PCBK', 'PCCC', 'PCH', 'PCLN', 'PCMI', 'PCO', 'PCOM', 'PCRX', 'PCTI', 'PCTY', 'PCYC', 'PCYG', 'PCYO', 'PDBC', 'PDCE', 'PDCO', 'PDEX', 'PDFS', 'PDII', 'PDLI', 'PEBK', 'PEBO', 'PEGA', 'PEGI', 'PEIX', 'PENN', 'PENX', 'PEOP', 'PERF', 'PERI', 'PERY', 'PESI', 'PETM', 'PETS', 'PETX', 'PFBC', 'PFBI', 'PFBX', 'PFIE', 'PFIN', 'PFIS', 'PFLT', 'PFMT', 'PFPT', 'PFSW', 'PGC', 'PGNX', 'PGTI', 'PHII', 'PHIIK', 'PHMD', 'PICO', 'PIH', 'PINC', 'PKBK', 'PKOH', 'PKT', 'PLAB', 'PLAY', 'PLBC', 'PLCE', 'PLCM', 'PLKI', 'PLMT', 'PLNR', 'PLPC', 'PLPM', 'PLTM', 'PLUG', 'PLUS', 'PLXS', 'PMBC', 'PMCS', 'PMD', 'PME', 'PMFG', 'PNBK', 'PNFP', 'PNNT', 'PNQI', 'PNRA', 'PNRG', 'PNTR', 'PODD', 'POOL', 'POPE', 'POWI', 'POWL', 'POZN', 'PPBI', 'PPC', 'PPHM', 'PPHMP', 'PPSI', 'PRAA', 'PRAH', 'PRAN', 'PRCP', 'PRFT', 'PRFZ', 'PRGN', 'PRGNL', 'PRGS', 'PRGX', 'PRIM', 'PRKR', 'PRLS', 'PRMW', 'PROV', 'PRPH', 'PRQR', 'PRSC', 'PRSS', 'PRTA', 'PRTK', 'PRTO', 'PRTS', 'PRXI', 'PRXL', 'PSAU', 'PSBH', 'PSCC', 'PSCD', 'PSCE', 'PSCF', 'PSCH', 'PSCI', 'PSCM', 'PSCT', 'PSCU', 'PSDV', 'PSEC', 'PSEM', 'PSIX', 'PSMT', 'PSTB', 'PSTI', 'PSTR', 'PSUN', 'PTBI', 'PTBIW', 'PTC', 'PTCT', 'PTEN', 'PTIE', 'PTLA', 'PTNR', 'PTNT', 'PTRY', 'PTSI', 'PTX', 'PULB', 'PVTB', 'PVTBP', 'PWOD', 'PWRD', 'PWX', 'PXLW', 'PZZA', 'QABA', 'QADA', 'QADB', 'QAT', 'QBAK', 'QCCO', 'QCLN', 'QCOM', 'QCRH', 'QDEL', 'QGEN', 'QINC', 'QIWI', 'QKLS', 'QLGC', 'QLIK', 'QLTI', 'QLTY', 'QLYS', 'QNST', 'QQEW', 'QQQ', 'QQQC', 'QQQX', 'QQXT', 'QRHC', 'QRVO', 'QSII', 'QTEC', 'QTNT', 'QTNTW', 'QTWW', 'QUIK', 'QUMU', 'QUNR', 'QURE', 'QVCA', 'QVCB', 'QYLD', 'RADA', 'RAIL', 'RAND', 'RARE', 'RAVE', 'RAVN', 'RBCAA', 'RBCN', 'RBPAA', 'RCII', 'RCKY', 'RCMT', 'RCON', 'RCPI', 'RCPT', 'RDCM', 'RDEN', 'RDHL', 'RDI', 'RDIB', 'RDNT', 'RDUS', 'RDVY', 'RDWR', 'RECN', 'REDF', 'REFR', 'REGI', 'REGN', 'REIS', 'RELL', 'RELV', 'REMY', 'RENT', 'REPH', 'RESN', 'REXI', 'REXX', 'RFIL', 'RGCO', 'RGDO', 'RGDX', 'RGEN', 'RGLD', 'RGLS', 'RGSE', 'RIBT', 'RIBTW', 'RICK', 'RIGL', 'RITT', 'RITTW', 'RIVR', 'RJET', 'RLJE', 'RLOC', 'RLOG', 'RLYP', 'RMBS', 'RMCF', 'RMGN', 'RMTI', 'RNA', 'RNET', 'RNST', 'RNWK', 'ROBO', 'ROCK', 'ROIA', 'ROIAK', 'ROIC', 'ROIQ', 'ROIQU', 'ROIQW', 'ROKA', 'ROLL', 'ROSE', 'ROSG', 'ROST', 'ROVI', 'ROYL', 'RP', 'RPRX', 'RPRXW', 'RPRXZ', 'RPTP', 'RPXC', 'RRD', 'RRGB', 'RRST', 'RSTI', 'RSYS', 'RTGN', 'RTIX', 'RTK', 'RTRX', 'RUSHA', 'RUSHB', 'RUTH', 'RVBD', 'RVLT', 'RVNC', 'RVSB', 'RWLK', 'RXDX', 'RXII', 'RYAAY', 'SAAS', 'SABR', 'SAEX', 'SAFM', 'SAFT', 'SAGE', 'SAIA', 'SAJA', 'SAL', 'SALE', 'SALM', 'SAMG', 'SANM', 'SANW', 'SANWZ', 'SAPE', 'SASR', 'SATS', 'SAVE', 'SBAC', 'SBBX', 'SBCF', 'SBCP', 'SBFG', 'SBGI', 'SBLK', 'SBLKL', 'SBNY', 'SBNYW', 'SBRA', 'SBRAP', 'SBSA', 'SBSI', 'SBUX', 'SCAI', 'SCHL', 'SCHN', 'SCLN', 'SCMP', 'SCOK', 'SCON', 'SCOR', 'SCSC', 'SCSS', 'SCTY', 'SCVL', 'SCYX', 'SEAC', 'SEED', 'SEIC', 'SEMI', 'SENEA', 'SENEB', 'SEV', 'SFBC', 'SFBS', 'SFLY', 'SFM', 'SFNC', 'SFST', 'SFXE', 'SGBK', 'SGC', 'SGEN', 'SGI', 'SGMA', 'SGMO', 'SGMS', 'SGNL', 'SGNT', 'SGOC', 'SGRP', 'SGYP', 'SGYPU', 'SGYPW', 'SHBI', 'SHEN', 'SHIP', 'SHLD', 'SHLDW', 'SHLM', 'SHLO', 'SHOO', 'SHOR', 'SHOS', 'SHPG', 'SIAL', 'SIBC', 'SIEB', 'SIEN', 'SIFI', 'SIFY', 'SIGA', 'SIGI', 'SIGM', 'SILC', 'SIMG', 'SIMO', 'SINA', 'SINO', 'SIRI', 'SIRO', 'SIVB', 'SIVBO', 'SIXD', 'SKBI', 'SKIS', 'SKOR', 'SKUL', 'SKYS', 'SKYW', 'SKYY', 'SLAB', 'SLCT', 'SLGN', 'SLM', 'SLMAP', 'SLMBP', 'SLP', 'SLRC', 'SLTC', 'SLVO', 'SLXP', 'SMAC', 'SMACR', 'SMACU', 'SMBC', 'SMCI', 'SMED', 'SMIT', 'SMLR', 'SMMF', 'SMPL', 'SMRT', 'SMSI', 'SMT', 'SMTC', 'SMTP', 'SMTX', 'SNAK', 'SNBC', 'SNC', 'SNCR', 'SNDK', 'SNFCA', 'SNHY', 'SNMX', 'SNPS', 'SNSS', 'SNTA', 'SOCB', 'SOCL', 'SODA', 'SOFO', 'SOHO', 'SOHOL', 'SOHOM', 'SOHU', 'SONA', 'SONC', 'SONS', 'SORL', 'SOXX', 'SP', 'SPAN', 'SPAR', 'SPCB', 'SPDC', 'SPEX', 'SPHS', 'SPIL', 'SPKE', 'SPLK', 'SPLS', 'SPNC', 'SPNS', 'SPOK', 'SPPI', 'SPPR', 'SPPRO', 'SPPRP', 'SPRO', 'SPRT', 'SPSC', 'SPTN', 'SPU', 'SPWH', 'SPWR', 'SQBG', 'SQBK', 'SQI', 'SQNM', 'SQQQ', 'SRCE', 'SRCL', 'SRDX', 'SREV', 'SRNE', 'SRPT', 'SRSC', 'SSB', 'SSBI', 'SSFN', 'SSH', 'SSNC', 'SSRG', 'SSRI', 'SSYS', 'STAA', 'STB', 'STBA', 'STBZ', 'STCK', 'STEM', 'STFC', 'STKL', 'STLD', 'STLY', 'STML', 'STMP', 'STNR', 'STPP', 'STRA', 'STRL', 'STRM', 'STRN', 'STRS', 'STRT', 'STRZA', 'STRZB', 'STX', 'STXS', 'SUBK', 'SUMR', 'SUNS', 'SUPN', 'SURG', 'SUSQ', 'SUTR', 'SVA', 'SVBI', 'SVVC', 'SWHC', 'SWIR', 'SWKS', 'SWSH', 'SYBT', 'SYKE', 'SYMC', 'SYMX', 'SYNA', 'SYNC', 'SYNL', 'SYNT', 'SYPR', 'SYRX', 'SYUT', 'SZMK', 'SZYM', 'TACT', 'TAIT', 'TAPR', 'TASR', 'TAST', 'TATT', 'TAX', 'TAXI', 'TAYD', 'TBBK', 'TBIO', 'TBK', 'TBNK', 'TBPH', 'TCBI', 'TCBIL', 'TCBIP', 'TCBIW', 'TCBK', 'TCCO', 'TCFC', 'TCPC', 'TCRD', 'TCX', 'TDIV', 'TEAR', 'TECD', 'TECH', 'TECU', 'TEDU', 'TENX', 'TERP', 'TESO', 'TESS', 'TFM', 'TFSC', 'TFSCR', 'TFSCU', 'TFSCW', 'TFSL', 'TGA', 'TGE', 'TGEN', 'TGLS', 'TGTX', 'THFF', 'THLD', 'THOR', 'THRM', 'THRX', 'THST', 'THTI', 'TICC', 'TIGR', 'TILE', 'TINY', 'TIPT', 'TISA', 'TITN', 'TIVO', 'TKAI', 'TKMR', 'TLF', 'TLMR', 'TLOG', 'TNAV', 'TNDM', 'TNGO', 'TNXP', 'TOPS', 'TORM', 'TOUR', 'TOWN', 'TQQQ', 'TRAK', 'TRCB', 'TRCH', 'TREE', 'TRGT', 'TRIB', 'TRIL', 'TRIP', 'TRIV', 'TRMB', 'TRMK', 'TRNS', 'TRNX', 'TROV', 'TROVU', 'TROVW', 'TROW', 'TRS', 'TRST', 'TRTL', 'TRTLU', 'TRTLW', 'TRUE', 'TRVN', 'TSBK', 'TSC', 'TSCO', 'TSEM', 'TSLA', 'TSRA', 'TSRE', 'TSRI', 'TSRO', 'TST', 'TSYS', 'TTEC', 'TTEK', 'TTGT', 'TTHI', 'TTMI', 'TTOO', 'TTPH', 'TTS', 'TTWO', 'TUBE', 'TUES', 'TUSA', 'TVIX', 'TVIZ', 'TWER', 'TWIN', 'TWMC', 'TWOU', 'TXN', 'TXRH', 'TYPE', 'TZOO', 'UACL', 'UAE', 'UBCP', 'UBFO', 'UBIC', 'UBNK', 'UBNT', 'UBOH', 'UBSH', 'UBSI', 'UCBA', 'UCBI', 'UCFC', 'UCTT', 'UDF', 'UEIC', 'UEPS', 'UFCS', 'UFPI', 'UFPT', 'UG', 'UGLD', 'UHAL', 'UIHC', 'ULBI', 'ULTA', 'ULTI', 'ULTR', 'UMBF', 'UMPQ', 'UNAM', 'UNB', 'UNFI', 'UNIS', 'UNTD', 'UNTY', 'UNXL', 'UPI', 'UPIP', 'UPLD', 'URBN', 'URRE', 'USAK', 'USAP', 'USAT', 'USATP', 'USBI', 'USCR', 'USEG', 'USLM', 'USLV', 'USMD', 'USTR', 'UTEK', 'UTHR', 'UTIW', 'UTMD', 'UTSI', 'UVSP', 'VA', 'VALU', 'VALX', 'VASC', 'VBFC', 'VBIV', 'VBLT', 'VBND', 'VBTX', 'VCEL', 'VCIT', 'VCLT', 'VCSH', 'VCYT', 'VDSI', 'VECO', 'VGGL', 'VGIT', 'VGLT', 'VGSH', 'VIA', 'VIAB', 'VIAS', 'VICL', 'VICR', 'VIDE', 'VIDI', 'VIEW', 'VIIX', 'VIIZ', 'VIMC', 'VIP', 'VIRC', 'VISN', 'VIVO', 'VLCCF', 'VLGEA', 'VLTC', 'VLYWW', 'VMBS', 'VNDA', 'VNET', 'VNOM', 'VNQI', 'VNR', 'VNRAP', 'VNRBP', 'VNRCP', 'VOD', 'VOLC', 'VONE', 'VONG', 'VONV', 'VOXX', 'VPCO', 'VRA', 'VRML', 'VRNG', 'VRNGW', 'VRNS', 'VRNT', 'VRSK', 'VRSN', 'VRTA', 'VRTB', 'VRTS', 'VRTU', 'VRTX', 'VSAR', 'VSAT', 'VSCI', 'VSCP', 'VSEC', 'VSTM', 'VTAE', 'VTHR', 'VTIP', 'VTL', 'VTNR', 'VTSS', 'VTWG', 'VTWO', 'VTWV', 'VUSE', 'VVUS', 'VWOB', 'VWR', 'VXUS', 'VYFC', 'WABC', 'WAFD', 'WAFDW', 'WASH', 'WATT', 'WAVX', 'WAYN', 'WB', 'WBA', 'WBB', 'WBKC', 'WBMD', 'WDC', 'WDFC', 'WEBK', 'WEN', 'WERN', 'WETF', 'WEYS', 'WFBI', 'WFD', 'WFM', 'WGBS', 'WHF', 'WHFBL', 'WHLM', 'WHLR', 'WHLRP', 'WHLRW', 'WIBC', 'WIFI', 'WILC', 'WILN', 'WIN', 'WINA', 'WIRE', 'WIX', 'WLB', 'WLBPZ', 'WLDN', 'WLFC', 'WLRH', 'WLRHU', 'WLRHW', 'WMAR', 'WMGI', 'WMGIZ', 'WOOD', 'WOOF', 'WPCS', 'WPPGY', 'WPRT', 'WRES', 'WRLD', 'WSBC', 'WSBF', 'WSCI', 'WSFS', 'WSFSL', 'WSTC', 'WSTG', 'WSTL', 'WTBA', 'WTFC', 'WTFCW', 'WTSL', 'WVFC', 'WVVI', 'WWD', 'WWWW', 'WYNN', 'XBKS', 'XCRA', 'XENE', 'XENT', 'XGTI', 'XGTIW', 'XIV', 'XLNX', 'XLRN', 'XNCR', 'XNET', 'XNPT', 'XOMA', 'XONE', 'XOOM', 'XPLR', 'XRAY', 'XTLB', 'XXIA', 'YDIV', 'YDLE', 'YHOO', 'YNDX', 'YOD', 'YORW', 'YPRO', 'YRCW', 'YY', 'Z', 'ZAGG', 'ZAZA', 'ZBRA', 'ZEUS', 'ZFGN', 'ZGNX', 'ZHNE', 'ZINC', 'ZION', 'ZIONW', 'ZIONZ', 'ZIOP', 'ZIV', 'ZIXI', 'ZLTQ', 'ZN', 'ZNGA', 'ZSPH', 'ZU', 'ZUMZ']\n"
     ]
    }
   ],
   "source": [
    "Symbols = companies['Symbol'].tolist()\n",
    "print(Symbols)"
   ]
  },
  {
   "cell_type": "code",
   "execution_count": 51,
   "metadata": {},
   "outputs": [
    {
     "output_type": "stream",
     "name": "stdout",
     "text": [
      "0 : AAIT,1 : AAL,2 : AAME,3 : AAOI,4 : AAON,5 : AAPL,6 : AAVL,7 : AAWW,8 : AAXJ,9 : ABAC,10 : ABAX,11 : ABCB,12 : ABCD,13 : ABCO,14 : ABCW,15 : ABDC,16 : ABGB,17 : ABIO,18 : ABMD,19 : ABTL,20 : ABY,21 : ACAD,22 : ACAS,23 : ACAT,24 : ACET,25 : ACFC,26 : ACFN,27 : ACGL,28 : ACHC,29 : ACHN,30 : ACIW,31 : ACLS,32 : ACNB,33 : ACOR,34 : ACPW,35 : ACRX,36 : ACSF,37 : ACST,38 : ACTA,39 : ACTG,40 : ACTS,41 : ACUR,42 : ACWI,43 : ACWX,44 : ACXM,45 : ADAT,46 : ADBE,47 : ADEP,48 : ADES,49 : ADHD,50 : ADI,51 : ADMA,52 : ADMP,53 : ADMS,54 : ADNC,55 : ADP,56 : ADRA,57 : ADRD,58 : ADRE,59 : ADRU,60 : ADSK,61 : ADTN,62 : ADUS,63 : ADVS,64 : ADXS,65 : ADXSW,66 : AEGN,67 : AEGR,68 : AEHR,69 : AEIS,70 : AEPI,71 : AERI,72 : AETI,73 : AEY,74 : AEZS,75 : AFAM,76 : AFCB,77 : AFFX,78 : AFH,79 : AFMD,80 : AFOP,81 : AFSI,82 : AGEN,83 : AGII,84 : AGIIL,85 : AGIO,86 : AGNC,87 : AGNCB,88 : AGNCP,89 : AGND,90 : AGRX,91 : AGTC,92 : AGYS,93 : AGZD,94 : AHGP,95 : AHPI,96 : AIMC,97 : AINV,98 : AIQ,99 : AIRM,100 : AIRR,101 : AIRT,102 : AIXG,103 : AKAM,104 : AKAO,105 : AKBA,106 : AKER,107 : AKRX,108 : ALCO,109 : ALDR,110 : ALDX,111 : ALGN,112 : ALGT,113 : ALIM,114 : ALKS,115 : ALLB,116 : ALLT,117 : ALNY,118 : ALOG,119 : ALOT,120 : ALQA,121 : ALSK,122 : ALTR,123 : ALXA,124 : ALXN,125 : AMAG,126 : AMAT,127 : AMBA,128 : AMBC,129 : AMBCW,130 : AMCC,131 : AMCF,132 : AMCN,133 : AMCX,134 : AMD,135 : AMDA,136 : AMED,137 : AMGN,138 : AMIC,139 : AMKR,140 : AMNB,141 : AMOT,142 : AMOV,143 : AMPH,144 : AMRB,145 : AMRI,146 : AMRK,147 : AMRN,148 : AMRS,149 : AMSC,150 : AMSF,151 : AMSG,152 : AMSGP,153 : AMSWA,154 : AMTX,155 : AMWD,156 : AMZN,157 : ANAC,158 : ANAD,159 : ANAT,160 : ANCB,161 : ANCI,162 : ANCX,163 : ANDE,164 : ANGI,165 : ANGO,166 : ANIK,167 : ANIP,168 : ANSS,169 : ANTH,170 : ANY,171 : AOSL,172 : APAGF,173 : APDN,174 : APDNW,175 : APEI,176 : APOG,177 : APOL,178 : APPY,179 : APRI,180 : APSA,181 : APTO,182 : APWC,183 : AQXP,184 : ARAY,185 : ARCB,186 : ARCC,187 : ARCI,188 : ARCP,189 : ARCPP,190 : ARCW,191 : ARDM,192 : ARDX,193 : AREX,194 : ARGS,195 : ARIA,196 : ARII,197 : ARIS,198 : ARKR,199 : ARLP,200 : ARMH,201 : ARNA,202 : AROW,203 : ARQL,204 : ARRS,205 : ARRY,206 : ARTNA,207 : ARTW,208 : ARTX,209 : ARUN,210 : ARWR,211 : ASBB,212 : ASBI,213 : ASCMA,214 : ASEI,215 : ASFI,216 : ASMB,217 : ASMI,218 : ASML,219 : ASNA,220 : ASPS,221 : ASPX,222 : ASRV,223 : ASRVP,224 : ASTC,225 : ASTE,226 : ASTI,227 : ASUR,228 : ASYS,229 : ATAI,230 : ATAX,231 : ATEA,232 : ATEC,233 : ATHN,234 : ATHX,235 : ATLC,236 : ATLO,237 : ATML,238 : ATNI,239 : ATNY,240 : ATOS,241 : ATRA,242 : ATRC,243 : ATRI,244 : ATRM,245 : ATRO,246 : ATRS,247 : ATSG,248 : ATTU,249 : ATVI,250 : AUBN,251 : AUDC,252 : AUMA,253 : AUMAU,254 : AUMAW,255 : AUPH,256 : AUXL,257 : AVAV,258 : AVEO,259 : AVGO,260 : AVHI,261 : AVID,262 : AVNR,263 : AVNW,264 : AWAY,265 : AWRE,266 : AXAS,267 : AXDX,268 : AXGN,269 : AXJS,270 : AXPW,271 : AXPWW,272 : AXTI,273 : AZPN,274 : BABY,275 : BAGR,276 : BAMM,277 : BANF,278 : BANFP,279 : BANR,280 : BANX,281 : BASI,282 : BBBY,283 : BBC,284 : BBCN,285 : BBEP,286 : BBEPP,287 : BBGI,288 : BBLU,289 : BBNK,290 : BBOX,291 : BBP,292 : BBRG,293 : BBRY,294 : BBSI,295 : BCBP,296 : BCLI,297 : BCOM,298 : BCOR,299 : BCOV,300 : BCPC,301 : BCRX,302 : BDBD,303 : BDCV,304 : BDE,305 : BDGE,306 : BDMS,307 : BDSI,308 : BEAT,309 : BEAV,310 : BEBE,311 : BECN,312 : BELFA,313 : BELFB,314 : BFIN,315 : BGCP,316 : BGFV,317 : BGMD,318 : BHBK,319 : BIB,320 : BICK,321 : BIDU,322 : BIIB,323 : BIND,324 : BIOC,325 : BIOD,326 : BIOL,327 : BIOS,328 : BIRT,329 : BIS,330 : BJRI,331 : BKCC,332 : BKEP,333 : BKEPP,334 : BKMU,335 : BKSC,336 : BKYF,337 : BLCM,338 : BLDP,339 : BLDR,340 : BLFS,341 : BLIN,342 : BLKB,343 : BLMN,344 : BLMT,345 : BLRX,346 : BLUE,347 : BLVD,348 : BLVDU,349 : BLVDW,350 : BMRC,351 : BMRN,352 : BMTC,353 : BNCL,354 : BNCN,355 : BNDX,356 : BNFT,357 : BNSO,358 : BOBE,359 : BOCH,360 : BOFI,361 : BOKF,362 : BONA,363 : BONT,364 : BOOM,365 : BOSC,366 : BOTA,367 : BOTJ,368 : BPFH,369 : BPFHP,370 : BPFHW,371 : BPOP,372 : BPOPM,373 : BPOPN,374 : BPTH,375 : BRCD,376 : BRCM,377 : BRDR,378 : BREW,379 : BRID,380 : BRKL,381 : BRKR,382 : BRKS,383 : BRLI,384 : BSDM,385 : BSET,386 : BSF,387 : BSFT,388 : BSPM,389 : BSQR,390 : BSRR,391 : BSTC,392 : BTUI,393 : BUR,394 : BUSE,395 : BV,396 : BVA,397 : BVSN,398 : BWEN,399 : BWFG,400 : BWINA,401 : BWINB,402 : BWLD,403 : BYBK,404 : BYFC,405 : BYLK,406 : CA,407 : CAAS,408 : CAC,409 : CACB,410 : CACC,411 : CACG,412 : CACGU,413 : CACGW,414 : CACH,415 : CACQ,416 : CADC,417 : CADT,418 : CADTR,419 : CADTU,420 : CADTW,421 : CAKE,422 : CALA,423 : CALD,424 : CALI,425 : CALL,426 : CALM,427 : CAMB,428 : CAMBU,429 : CAMBW,430 : CAMP,431 : CAMT,432 : CAPN,433 : CAPNW,434 : CAR,435 : CARA,436 : CARB,437 : CARO,438 : CART,439 : CARV,440 : CARZ,441 : CASH,442 : CASI,443 : CASM,444 : CASS,445 : CASY,446 : CATM,447 : CATY,448 : CATYW,449 : CAVM,450 : CBAK,451 : CBAN,452 : CBAY,453 : CBDE,454 : CBF,455 : CBFV,456 : CBIN,457 : CBLI,458 : CBMG,459 : CBMX,460 : CBNJ,461 : CBNK,462 : CBOE,463 : CBPO,464 : CBRL,465 : CBRX,466 : CBSH,467 : CBSHP,468 : CBST,469 : CBSTZ,470 : CCBG,471 : CCCL,472 : CCCR,473 : CCIH,474 : CCLP,475 : CCMP,476 : CCNE,477 : CCOI,478 : CCRN,479 : CCUR,480 : CCXI,481 : CDC,482 : CDK,483 : CDNA,484 : CDNS,485 : CDTI,486 : CDW,487 : CDXS,488 : CDZI,489 : CECE,490 : CECO,491 : CELG,492 : CELGZ,493 : CEMI,494 : CEMP,495 : CENT,496 : CENTA,497 : CENX,498 : CERE,499 : CERN,500 : CERS,501 : CERU,502 : CETV,503 : CEVA,504 : CFA,505 : CFBK,506 : CFFI,507 : CFFN,508 : CFGE,509 : CFNB,510 : CFNL,511 : CFO,512 : CFRX,513 : CFRXW,514 : CFRXZ,515 : CG,516 : CGEN,517 : CGIX,518 : CGNX,519 : CGO,520 : CHCI,521 : CHCO,522 : CHDN,523 : CHEF,524 : CHEV,525 : CHFC,526 : CHFN,527 : CHI,528 : CHKE,529 : CHKP,530 : CHLN,531 : CHMG,532 : CHNR,533 : CHOP,534 : CHRS,535 : CHRW,536 : CHSCM,537 : CHSCN,538 : CHSCO,539 : CHSCP,540 : CHTR,541 : CHUY,542 : CHW,543 : CHXF,544 : CHY,545 : CHYR,546 : CIDM,547 : CIFC,548 : CIMT,549 : CINF,550 : CISAW,551 : CISG,552 : CIZ,553 : CIZN,554 : CJJD,555 : CKEC,556 : CKSW,557 : CLAC,558 : CLACU,559 : CLACW,560 : CLBH,561 : CLCT,562 : CLDN,563 : CLDX,564 : CLFD,565 : CLIR,566 : CLMS,567 : CLMT,568 : CLNE,569 : CLNT,570 : CLRB,571 : CLRBW,572 : CLRO,573 : CLRX,574 : CLSN,575 : CLTX,576 : CLUB,577 : CLVS,578 : CLWT,579 : CMCO,580 : CMCSA,581 : CMCSK,582 : CMCT,583 : CME,584 : CMFN,585 : CMGE,586 : CMLS,587 : CMPR,588 : CMRX,589 : CMSB,590 : CMTL,591 : CNAT,592 : CNBKA,593 : CNCE,594 : CNDO,595 : CNET,596 : CNIT,597 : CNLM,598 : CNLMR,599 : CNLMU,600 : CNLMW,601 : CNMD,602 : CNOB,603 : CNSI,604 : CNSL,605 : CNTF,606 : CNTY,607 : CNV,608 : CNXR,609 : CNYD,610 : COB,611 : COBK,612 : COBZ,613 : COCO,614 : COHR,615 : COHU,616 : COKE,617 : COLB,618 : COLM,619 : COMM,620 : COMT,621 : CONE,622 : CONN,623 : COOL,624 : CORE,625 : CORI,626 : CORT,627 : COSI,628 : COST,629 : COVS,630 : COWN,631 : COWNL,632 : CPAH,633 : CPGI,634 : CPHC,635 : CPHD,636 : CPHR,637 : CPIX,638 : CPLA,639 : CPLP,640 : CPRT,641 : CPRX,642 : CPSI,643 : CPSS,644 : CPST,645 : CPTA,646 : CPXX,647 : CRAI,648 : CRAY,649 : CRDC,650 : CRDS,651 : CRDT,652 : CREE,653 : CREG,654 : CRESW,655 : CRESY,656 : CRIS,657 : CRME,658 : CRMT,659 : CRNT,660 : CROX,661 : CRRC,662 : CRRS,663 : CRTN,664 : CRTO,665 : CRUS,666 : CRVL,667 : CRWN,668 : CRWS,669 : CRZO,670 : CSBK,671 : CSCD,672 : CSCO,673 : CSF,674 : CSFL,675 : CSGP,676 : CSGS,677 : CSII,678 : CSIQ,679 : CSOD,680 : CSPI,681 : CSQ,682 : CSRE,683 : CSTE,684 : CSUN,685 : CSWC,686 : CTAS,687 : CTBI,688 : CTCM,689 : CTCT,690 : CTG,691 : CTHR,692 : CTIB,693 : CTIC,694 : CTRE,695 : CTRL,696 : CTRN,697 : CTRP,698 : CTRX,699 : CTSH,700 : CTSO,701 : CTWS,702 : CTXS,703 : CU,704 : CUBA,705 : CUI,706 : CUNB,707 : CUTR,708 : CVBF,709 : CVCO,710 : CVCY,711 : CVGI,712 : CVGW,713 : CVLT,714 : CVLY,715 : CVTI,716 : CVV,717 : CWAY,718 : CWBC,719 : CWCO,720 : CWST,721 : CXDC,722 : CY,723 : CYAN,724 : CYBE,725 : CYBR,726 : CYBX,727 : CYCC,728 : CYCCP,729 : CYHHZ,730 : CYNO,731 : CYOU,732 : CYRN,733 : CYTK,734 : CYTR,735 : CYTX,736 : CZFC,737 : CZNC,738 : CZR,739 : CZWI,740 : DAEG,741 : DAIO,742 : DAKT,743 : DARA,744 : DATE,745 : DAVE,746 : DAX,747 : DBVT,748 : DCIX,749 : DCOM,750 : DCTH,751 : DENN,752 : DEPO,753 : DERM,754 : DEST,755 : DFRG,756 : DFVL,757 : DFVS,758 : DGAS,759 : DGICA,760 : DGICB,761 : DGII,762 : DGLD,763 : DGLY,764 : DGRE,765 : DGRS,766 : DGRW,767 : DHIL,768 : DHRM,769 : DIOD,770 : DISCA,771 : DISCB,772 : DISCK,773 : DISH,774 : DJCO,775 : DLBL,776 : DLBS,777 : DLHC,778 : DLTR,779 : DMLP,780 : DMND,781 : DMRC,782 : DNBF,783 : DNKN,784 : DORM,785 : DOVR,786 : DOX,787 : DPRX,788 : DRAD,789 : DRAM,790 : DRIV,791 : DRNA,792 : DRRX,793 : DRWI,794 : DRWIW,795 : DRYS,796 : DSCI,797 : DSCO,798 : DSGX,799 : DSKX,800 : DSKY,801 : DSLV,802 : DSPG,803 : DSWL,804 : DTLK,805 : DTSI,806 : DTUL,807 : DTUS,808 : DTV,809 : DTYL,810 : DTYS,811 : DVAX,812 : DVCR,813 : DWA,814 : DWAT,815 : DWCH,816 : DWSN,817 : DXCM,818 : DXGE,819 : DXJS,820 : DXKW,821 : DXLG,822 : DXM,823 : DXPE,824 : DXPS,825 : DXYN,826 : DYAX,827 : DYNT,828 : DYSL,829 : EA,830 : EAC,831 : EARS,832 : EBAY,833 : EBIO,834 : EBIX,835 : EBMT,836 : EBSB,837 : EBTC,838 : ECHO,839 : ECOL,840 : ECPG,841 : ECTE,842 : ECYT,843 : EDAP,844 : EDGW,845 : EDS,846 : EDUC,847 : EEFT,848 : EEI,849 : EEMA,850 : EEME,851 : EEML,852 : EFII,853 : EFOI,854 : EFSC,855 : EFUT,856 : EGAN,857 : EGBN,858 : EGHT,859 : EGLE,860 : EGLT,861 : EGOV,862 : EGRW,863 : EGRX,864 : EGT,865 : EHTH,866 : EIGI,867 : ELGX,868 : ELNK,869 : ELON,870 : ELOS,871 : ELRC,872 : ELSE,873 : ELTK,874 : EMCB,875 : EMCF,876 : EMCG,877 : EMCI,878 : EMDI,879 : EMEY,880 : EMIF,881 : EMITF,882 : EMKR,883 : EML,884 : EMMS,885 : EMMSP,886 : ENDP,887 : ENFC,888 : ENG,889 : ENOC,890 : ENPH,891 : ENSG,892 : ENT,893 : ENTA,894 : ENTG,895 : ENTR,896 : ENVI,897 : ENZN,898 : ENZY,899 : EOPN,900 : EPAX,901 : EPAY,902 : EPIQ,903 : EPRS,904 : EPZM,905 : EQIX,906 : ERI,907 : ERIC,908 : ERIE,909 : ERII,910 : EROC,911 : ERS,912 : ERW,913 : ESBF,914 : ESBK,915 : ESCA,916 : ESCR,917 : ESCRP,918 : ESEA,919 : ESGR,920 : ESIO,921 : ESLT,922 : ESMC,923 : ESPR,924 : ESRX,925 : ESSA,926 : ESSX,927 : ESXB,928 : ESYS,929 : ETFC,930 : ETRM,931 : EUFN,932 : EVAL,933 : EVAR,934 : EVBS,935 : EVEP,936 : EVK,937 : EVLV,938 : EVOK,939 : EVOL,940 : EVRY,941 : EWBC,942 : EXA,943 : EXAC,944 : EXAS,945 : EXEL,946 : EXFO,947 : EXLP,948 : EXLS,949 : EXPD,950 : EXPE,951 : EXPO,952 : EXTR,953 : EXXI,954 : EYES,955 : EZCH,956 : EZPW,957 : FALC,958 : FANG,959 : FARM,960 : FARO,961 : FAST,962 : FATE,963 : FB,964 : FBIZ,965 : FBMS,966 : FBNC,967 : FBNK,968 : FBRC,969 : FBSS,970 : FCAP,971 : FCBC,972 : FCCO,973 : FCCY,974 : FCEL,975 : FCFS,976 : FCHI,977 : FCLF,978 : FCNCA,979 : FCS,980 : FCSC,981 : FCTY,982 : FCVA,983 : FCZA,984 : FCZAP,985 : FDEF,986 : FDIV,987 : FDML,988 : FDUS,989 : FEIC,990 : FEIM,991 : FELE,992 : FEMB,993 : FES,994 : FEUZ,995 : FEYE,996 : FFBC,997 : FFBCW,998 : FFHL,999 : FFIC,1000 : FFIN,1001 : FFIV,1002 : FFKT,1003 : FFNM,1004 : FFNW,1005 : FFWM,1006 : FGEN,1007 : FHCO,1008 : FIBK,1009 : FINL,1010 : FISH,1011 : FISI,1012 : FISV,1013 : FITB,1014 : FITBI,1015 : FIVE,1016 : FIVN,1017 : FIZZ,1018 : FLAT,1019 : FLDM,1020 : FLEX,1021 : FLIC,1022 : FLIR,1023 : FLL,1024 : FLML,1025 : FLWS,1026 : FLXN,1027 : FLXS,1028 : FMB,1029 : FMBH,1030 : FMBI,1031 : FMER,1032 : FMI,1033 : FMNB,1034 : FNBC,1035 : FNFG,1036 : FNGN,1037 : FNHC,1038 : FNJN,1039 : FNLC,1040 : FNRG,1041 : FNSR,1042 : FOLD,1043 : FOMX,1044 : FONE,1045 : FONR,1046 : FORD,1047 : FORM,1048 : FORR,1049 : FORTY,1050 : FOSL,1051 : FOX,1052 : FOXA,1053 : FOXF,1054 : FPRX,1055 : FPXI,1056 : FRAN,1057 : FRBA,1058 : FRBK,1059 : FRED,1060 : FREE,1061 : FRGI,1062 : FRME,1063 : FRP,1064 : FRPH,1065 : FRPHV,1066 : FRPT,1067 : FRSH,1068 : FSAM,1069 : FSBK,1070 : FSBW,1071 : FSC,1072 : FSCFL,1073 : FSFG,1074 : FSFR,1075 : FSGI,1076 : FSLR,1077 : FSNN,1078 : FSRV,1079 : FSTR,1080 : FSYS,1081 : FTCS,1082 : FTD,1083 : FTEK,1084 : FTGC,1085 : FTHI,1086 : FTLB,1087 : FTNT,1088 : FTR,1089 : FTSL,1090 : FTSM,1091 : FUEL,1092 : FULL,1093 : FULLL,1094 : FULT,1095 : FUNC,1096 : FUND,1097 : FV,1098 : FWM,1099 : FWP,1100 : FWRD,1101 : FXCB,1102 : FXEN,1103 : FXENP,1104 : GABC,1105 : GAI,1106 : GAIA,1107 : GAIN,1108 : GAINO,1109 : GAINP,1110 : GALE,1111 : GALT,1112 : GALTU,1113 : GALTW,1114 : GAME,1115 : GARS,1116 : GASS,1117 : GBCI,1118 : GBDC,1119 : GBIM,1120 : GBLI,1121 : GBNK,1122 : GBSN,1123 : GCBC,1124 : GCVRZ,1125 : GDEF,1126 : GENC,1127 : GENE,1128 : GEOS,1129 : GERN,1130 : GEVA,1131 : GEVO,1132 : GFED,1133 : GFN,1134 : GFNCP,1135 : GFNSL,1136 : GGAC,1137 : GGACR,1138 : GGACU,1139 : GGACW,1140 : GGAL,1141 : GHDX,1142 : GIFI,1143 : GIGA,1144 : GIGM,1145 : GIII,1146 : GILD,1147 : GILT,1148 : GK,1149 : GKNT,1150 : GLAD,1151 : GLADO,1152 : GLBS,1153 : GLBZ,1154 : GLDC,1155 : GLDD,1156 : GLDI,1157 : GLMD,1158 : GLNG,1159 : GLPI,1160 : GLRE,1161 : GLRI,1162 : GLUU,1163 : GLYC,1164 : GMAN,1165 : GMCR,1166 : GMLP,1167 : GNBC,1168 : GNCA,1169 : GNCMA,1170 : GNMA,1171 : GNMK,1172 : GNTX,1173 : GNVC,1174 : GOGO,1175 : GOLD,1176 : GOMO,1177 : GOOD,1178 : GOODN,1179 : GOODO,1180 : GOODP,1181 : GOOG,1182 : GOOGL,1183 : GPIC,1184 : GPOR,1185 : GPRE,1186 : GPRO,1187 : GRBK,1188 : GRFS,1189 : GRID,1190 : GRIF,1191 : GRMN,1192 : GROW,1193 : GRPN,1194 : GRVY,1195 : GSBC,1196 : GSIG,1197 : GSIT,1198 : GSM,1199 : GSOL,1200 : GSVC,1201 : GT,1202 : GTIM,1203 : GTIV,1204 : GTLS,1205 : GTWN,1206 : GTXI,1207 : GUID,1208 : GULF,1209 : GULTU,1210 : GURE,1211 : GWGH,1212 : GWPH,1213 : GYRO,1214 : HA,1215 : HABT,1216 : HAFC,1217 : HAIN,1218 : HALL,1219 : HALO,1220 : HART,1221 : HAS,1222 : HAWK,1223 : HAWKB,1224 : HAYN,1225 : HBAN,1226 : HBANP,1227 : HBCP,1228 : HBHC,1229 : HBIO,1230 : HBK,1231 : HBMD,1232 : HBNC,1233 : HBNK,1234 : HBOS,1235 : HBP,1236 : HCAC,1237 : HCACU,1238 : HCACW,1239 : HCAP,1240 : HCBK,1241 : HCCI,1242 : HCKT,1243 : HCOM,1244 : HCSG,1245 : HCT,1246 : HDNG,1247 : HDP,1248 : HDRA,1249 : HDRAR,1250 : HDRAU,1251 : HDRAW,1252 : HDS,1253 : HDSN,1254 : HEAR,1255 : HEES,1256 : HELE,1257 : HEOP,1258 : HERO,1259 : HFBC,1260 : HFBL,1261 : HFFC,1262 : HFWA,1263 : HGSH,1264 : HIBB,1265 : HIFS,1266 : HIHO,1267 : HIIQ,1268 : HILL,1269 : HIMX,1270 : HKTV,1271 : HLIT,1272 : HLSS,1273 : HMHC,1274 : HMIN,1275 : HMNF,1276 : HMNY,1277 : HMPR,1278 : HMST,1279 : HMSY,1280 : HMTV,1281 : HNH,1282 : HNNA,1283 : HNRG,1284 : HNSN,1285 : HOFT,1286 : HOLI,1287 : HOLX,1288 : HOMB,1289 : HOTR,1290 : HOTRW,1291 : HOVNP,1292 : HPJ,1293 : HPTX,1294 : HQY,1295 : HRTX,1296 : HRZN,1297 : HSGX,1298 : HSIC,1299 : HSII,1300 : HSKA,1301 : HSNI,1302 : HSOL,1303 : HSON,1304 : HSTM,1305 : HTBI,1306 : HTBK,1307 : HTBX,1308 : HTCH,1309 : HTHT,1310 : HTLD,1311 : HTLF,1312 : HTWO,1313 : HTWR,1314 : HUBG,1315 : HURC,1316 : HURN,1317 : HWAY,1318 : HWBK,1319 : HWCC,1320 : HWKN,1321 : HYGS,1322 : HYLS,1323 : HYND,1324 : HYZD,1325 : HZNP,1326 : IACI,1327 : IART,1328 : IBB,1329 : IBCA,1330 : IBCP,1331 : IBKC,1332 : IBKR,1333 : IBOC,1334 : IBTX,1335 : ICAD,1336 : ICCC,1337 : ICEL,1338 : ICFI,1339 : ICLD,1340 : ICLDW,1341 : ICLN,1342 : ICLR,1343 : ICON,1344 : ICPT,1345 : ICUI,1346 : IDCC,1347 : IDRA,1348 : IDSA,1349 : IDSY,1350 : IDTI,1351 : IDXX,1352 : IEP,1353 : IESC,1354 : IEUS,1355 : IFAS,1356 : IFEU,1357 : IFGL,1358 : IFNA,1359 : IFON,1360 : IFV,1361 : IGLD,1362 : IGOV,1363 : IGTE,1364 : III,1365 : IIIN,1366 : IIJI,1367 : IILG,1368 : IIN,1369 : IIVI,1370 : IKAN,1371 : IKGH,1372 : IKNX,1373 : ILMN,1374 : IMDZ,1375 : IMGN,1376 : IMI,1377 : IMKTA,1378 : IMMR,1379 : IMMU,1380 : IMMY,1381 : IMNP,1382 : IMOS,1383 : IMRS,1384 : INAP,1385 : INBK,1386 : INCR,1387 : INCY,1388 : INDB,1389 : INDY,1390 : INFA,1391 : INFI,1392 : INFN,1393 : INGN,1394 : ININ,1395 : INNL,1396 : INO,1397 : INOD,1398 : INPH,1399 : INSM,1400 : INSY,1401 : INTC,1402 : INTG,1403 : INTL,1404 : INTLL,1405 : INTU,1406 : INTX,1407 : INVE,1408 : INVT,1409 : INWK,1410 : IOSP,1411 : IPAR,1412 : IPAS,1413 : IPCC,1414 : IPCI,1415 : IPCM,1416 : IPDN,1417 : IPGP,1418 : IPHS,1419 : IPKW,1420 : IPWR,1421 : IPXL,1422 : IQNT,1423 : IRBT,1424 : IRDM,1425 : IRDMB,1426 : IRDMZ,1427 : IRG,1428 : IRIX,1429 : IRMD,1430 : IROQ,1431 : IRWD,1432 : ISBC,1433 : ISCA,1434 : ISHG,1435 : ISIG,1436 : ISIL,1437 : ISIS,1438 : ISLE,1439 : ISM,1440 : ISNS,1441 : ISRG,1442 : ISRL,1443 : ISSC,1444 : ISSI,1445 : ISTR,1446 : ITCI,1447 : ITIC,1448 : ITRI,1449 : ITRN,1450 : IVAC,1451 : IVAN,1452 : IXYS,1453 : JACK,1454 : JACQ,1455 : JACQU,1456 : JACQW,1457 : JAKK,1458 : JASN,1459 : JASNW,1460 : JASO,1461 : JAXB,1462 : JAZZ,1463 : JBHT,1464 : JBLU,1465 : JBSS,1466 : JCOM,1467 : JCS,1468 : JCTCF,1469 : JD,1470 : JDSU,1471 : JGBB,1472 : JIVE,1473 : JJSF,1474 : JKHY,1475 : JMBA,1476 : JOBS,1477 : JOEZ,1478 : JOUT,1479 : JRJC,1480 : JRVR,1481 : JSM,1482 : JST,1483 : JTPY,1484 : JUNO,1485 : JVA,1486 : JXSB,1487 : JYNT,1488 : KALU,1489 : KANG,1490 : KBAL,1491 : KBIO,1492 : KBSF,1493 : KCAP,1494 : KCLI,1495 : KE,1496 : KELYA,1497 : KELYB,1498 : KEQU,1499 : KERX,1500 : KEYW,1501 : KFFB,1502 : KFRC,1503 : KFX,1504 : KGJI,1505 : KIN,1506 : KINS,1507 : KIRK,1508 : KITE,1509 : KLAC,1510 : KLIC,1511 : KLXI,1512 : KMDA,1513 : KNDI,1514 : KONA,1515 : KONE,1516 : KOOL,1517 : KOPN,1518 : KOSS,1519 : KPTI,1520 : KRFT,1521 : KRNY,1522 : KTCC,1523 : KTEC,1524 : KTOS,1525 : KTWO,1526 : KUTV,1527 : KVHI,1528 : KWEB,1529 : KYTH,1530 : KZ,1531 : LABC,1532 : LABL,1533 : LACO,1534 : LAKE,1535 : LALT,1536 : LAMR,1537 : LANC,1538 : LAND,1539 : LARK,1540 : LAWS,1541 : LAYN,1542 : LBAI,1543 : LBIX,1544 : LBRDA,1545 : LBRDK,1546 : LBRKR,1547 : LBTYA,1548 : LBTYB,1549 : LBTYK,1550 : LCNB,1551 : LCUT,1552 : LDRH,1553 : LDRI,1554 : LE,1555 : LECO,1556 : LEDS,1557 : LEVY,1558 : LEVYU,1559 : LEVYW,1560 : LFUS,1561 : LFVN,1562 : LGCY,1563 : LGCYO,1564 : LGCYP,1565 : LGIH,1566 : LGND,1567 : LHCG,1568 : LIME,1569 : LINC,1570 : LINE,1571 : LION,1572 : LIOX,1573 : LIQD,1574 : LIVE,1575 : LJPC,1576 : LKFN,1577 : LKQ,1578 : LLEX,1579 : LLNW,1580 : LLTC,1581 : LMAT,1582 : LMBS,1583 : LMCA,1584 : LMCB,1585 : LMCK,1586 : LMIA,1587 : LMNR,1588 : LMNS,1589 : LMNX,1590 : LMOS,1591 : LMRK,1592 : LNBB,1593 : LNCE,1594 : LNCO,1595 : LNDC,1596 : LOAN,1597 : LOCM,1598 : LOCO,1599 : LOGI,1600 : LOGM,1601 : LOJN,1602 : LONG,1603 : LOOK,1604 : LOPE,1605 : LORL,1606 : LOXO,1607 : LPCN,1608 : LPHI,1609 : LPLA,1610 : LPNT,1611 : LPSB,1612 : LPSN,1613 : LPTH,1614 : LPTN,1615 : LQDT,1616 : LRAD,1617 : LRCX,1618 : LSBK,1619 : LSCC,1620 : LSTR,1621 : LTBR,1622 : LTRE,1623 : LTRPA,1624 : LTRPB,1625 : LTRX,1626 : LTXB,1627 : LULU,1628 : LUNA,1629 : LVNTA,1630 : LVNTB,1631 : LWAY,1632 : LXRX,1633 : LYTS,1634 : MACK,1635 : MAG,1636 : MAGS,1637 : MAMS,1638 : MANH,1639 : MANT,1640 : MAR,1641 : MARA,1642 : MARK,1643 : MARPS,1644 : MASI,1645 : MAT,1646 : MATR,1647 : MATW,1648 : MAYS,1649 : MBCN,1650 : MBFI,1651 : MBFIP,1652 : MBII,1653 : MBLX,1654 : MBRG,1655 : MBSD,1656 : MBTF,1657 : MBUU,1658 : MBVT,1659 : MBWM,1660 : MCBC,1661 : MCBK,1662 : MCEP,1663 : MCGC,1664 : MCHP,1665 : MCHX,1666 : MCOX,1667 : MCRI,1668 : MCRL,1669 : MCUR,1670 : MDAS,1671 : MDCA,1672 : MDCO,1673 : MDIV,1674 : MDLZ,1675 : MDM,1676 : MDRX,1677 : MDSO,1678 : MDSY,1679 : MDVN,1680 : MDVXU,1681 : MDWD,1682 : MDXG,1683 : MEET,1684 : MEIL,1685 : MEILW,1686 : MEILZ,1687 : MEIP,1688 : MELA,1689 : MELI,1690 : MELR,1691 : MEMP,1692 : MENT,1693 : MEOH,1694 : MERC,1695 : MERU,1696 : METR,1697 : MFI,1698 : MFLX,1699 : MFNC,1700 : MFRI,1701 : MFRM,1702 : MFSF,1703 : MGCD,1704 : MGEE,1705 : MGI,1706 : MGIC,1707 : MGLN,1708 : MGNX,1709 : MGPI,1710 : MGRC,1711 : MGYR,1712 : MHGC,1713 : MHLD,1714 : MHLDO,1715 : MICT,1716 : MICTW,1717 : MIDD,1718 : MIFI,1719 : MIK,1720 : MIND,1721 : MINI,1722 : MITK,1723 : MITL,1724 : MKSI,1725 : MKTO,1726 : MKTX,1727 : MLAB,1728 : MLHR,1729 : MLNK,1730 : MLNX,1731 : MLVF,1732 : MMAC,1733 : MMLP,1734 : MMSI,1735 : MMYT,1736 : MNDL,1737 : MNDO,1738 : MNGA,1739 : MNKD,1740 : MNOV,1741 : MNRK,1742 : MNRO,1743 : MNST,1744 : MNTA,1745 : MNTX,1746 : MOBI,1747 : MOBL,1748 : MOCO,1749 : MOFG,1750 : MOKO,1751 : MOLG,1752 : MOMO,1753 : MORN,1754 : MOSY,1755 : MPAA,1756 : MPB,1757 : MPEL,1758 : MPET,1759 : MPWR,1760 : MRCC,1761 : MRCY,1762 : MRD,1763 : MRGE,1764 : MRKT,1765 : MRLN,1766 : MRNS,1767 : MRTN,1768 : MRTX,1769 : MRVC,1770 : MRVL,1771 : MSBF,1772 : MSCC,1773 : MSEX,1774 : MSFG,1775 : MSFT,1776 : MSG,1777 : MSLI,1778 : MSON,1779 : MSTR,1780 : MTBC,1781 : MTEX,1782 : MTGE,1783 : MTGEP,1784 : MTLS,1785 : MTRX,1786 : MTSC,1787 : MTSI,1788 : MTSL,1789 : MTSN,1790 : MU,1791 : MULT,1792 : MVIS,1793 : MWIV,1794 : MXIM,1795 : MXWL,1796 : MYGN,1797 : MYL,1798 : MYOS,1799 : MYRG,1800 : MZOR,1801 : NAII,1802 : NAME,1803 : NANO,1804 : NATH,1805 : NATI,1806 : NATL,1807 : NATR,1808 : NAUH,1809 : NAVG,1810 : NAVI,1811 : NBBC,1812 : NBIX,1813 : NBN,1814 : NBS,1815 : NBTB,1816 : NBTF,1817 : NCIT,1818 : NCLH,1819 : NCMI,1820 : NCTY,1821 : NDAQ,1822 : NDLS,1823 : NDRM,1824 : NDSN,1825 : NECB,1826 : NEO,1827 : NEOG,1828 : NEON,1829 : NEOT,1830 : NEPT,1831 : NERV,1832 : NETE,1833 : NEWP,1834 : NEWS,1835 : NEWT,1836 : NFBK,1837 : NFEC,1838 : NFLX,1839 : NGHC,1840 : NGHCP,1841 : NHTB,1842 : NICE,1843 : NICK,1844 : NILE,1845 : NKSH,1846 : NKTR,1847 : NLNK,1848 : NLST,1849 : NMIH,1850 : NMRX,1851 : NNBR,1852 : NPBC,1853 : NPSP,1854 : NRCIA,1855 : NRCIB,1856 : NRIM,1857 : NRX,1858 : NSEC,1859 : NSIT,1860 : NSPH,1861 : NSSC,1862 : NSTG,1863 : NSYS,1864 : NTAP,1865 : NTCT,1866 : NTES,1867 : NTGR,1868 : NTIC,1869 : NTK,1870 : NTLS,1871 : NTRI,1872 : NTRS,1873 : NTRSP,1874 : NTWK,1875 : NUAN,1876 : NURO,1877 : NUTR,1878 : NUVA,1879 : NVAX,1880 : NVCN,1881 : NVDA,1882 : NVDQ,1883 : NVEC,1884 : NVEE,1885 : NVEEW,1886 : NVFY,1887 : NVGN,1888 : NVMI,1889 : NVSL,1890 : NWBI,1891 : NWBO,1892 : NWBOW,1893 : NWFL,1894 : NWLI,1895 : NWPX,1896 : NWS,1897 : NWSA,1898 : NXPI,1899 : NXST,1900 : NXTD,1901 : NXTDW,1902 : NXTM,1903 : NYMT,1904 : NYMTP,1905 : NYMX,1906 : NYNY,1907 : OBAS,1908 : OBCI,1909 : OCC,1910 : OCFC,1911 : OCLR,1912 : OCLS,1913 : OCRX,1914 : OCUL,1915 : ODFL,1916 : ODP,1917 : OFED,1918 : OFIX,1919 : OFLX,1920 : OFS,1921 : OGXI,1922 : OHAI,1923 : OHGI,1924 : OHRP,1925 : OIIM,1926 : OKSB,1927 : OLBK,1928 : OLED,1929 : OMAB,1930 : OMCL,1931 : OMED,1932 : OMER,1933 : OMEX,1934 : ONB,1935 : ONCY,1936 : ONEQ,1937 : ONFC,1938 : ONNN,1939 : ONTX,1940 : ONTY,1941 : ONVI,1942 : OPB,1943 : OPHC,1944 : OPHT,1945 : OPOF,1946 : OPTT,1947 : OPXA,1948 : ORBC,1949 : ORBK,1950 : OREX,1951 : ORIG,1952 : ORIT,1953 : ORLY,1954 : ORMP,1955 : ORPN,1956 : ORRF,1957 : OSBC,1958 : OSBCP,1959 : OSHC,1960 : OSIR,1961 : OSIS,1962 : OSM,1963 : OSN,1964 : OSTK,1965 : OSUR,1966 : OTEL,1967 : OTEX,1968 : OTIC,1969 : OTIV,1970 : OTTR,1971 : OUTR,1972 : OVAS,1973 : OVBC,1974 : OVLY,1975 : OVTI,1976 : OXBR,1977 : OXBRW,1978 : OXFD,1979 : OXGN,1980 : OXLC,1981 : OXLCN,1982 : OXLCO,1983 : OXLCP,1984 : OZRK,1985 : PAAS,1986 : PACB,1987 : PACW,1988 : PAGG,1989 : PAHC,1990 : PANL,1991 : PARN,1992 : PATIV,1993 : PATK,1994 : PAYX,1995 : PBCP,1996 : PBCT,1997 : PBHC,1998 : PBIB,1999 : PBIP,2000 : PBMD,2001 : PBPB,2002 : PBSK,2003 : PCAR,2004 : PCBK,2005 : PCCC,2006 : PCH,2007 : PCLN,2008 : PCMI,2009 : PCO,2010 : PCOM,2011 : PCRX,2012 : PCTI,2013 : PCTY,2014 : PCYC,2015 : PCYG,2016 : PCYO,2017 : PDBC,2018 : PDCE,2019 : PDCO,2020 : PDEX,2021 : PDFS,2022 : PDII,2023 : PDLI,2024 : PEBK,2025 : PEBO,2026 : PEGA,2027 : PEGI,2028 : PEIX,2029 : PENN,2030 : PENX,2031 : PEOP,2032 : PERF,2033 : PERI,2034 : PERY,2035 : PESI,2036 : PETM,2037 : PETS,2038 : PETX,2039 : PFBC,2040 : PFBI,2041 : PFBX,2042 : PFIE,2043 : PFIN,2044 : PFIS,2045 : PFLT,2046 : PFMT,2047 : PFPT,2048 : PFSW,2049 : PGC,2050 : PGNX,2051 : PGTI,2052 : PHII,2053 : PHIIK,2054 : PHMD,2055 : PICO,2056 : PIH,2057 : PINC,2058 : PKBK,2059 : PKOH,2060 : PKT,2061 : PLAB,2062 : PLAY,2063 : PLBC,2064 : PLCE,2065 : PLCM,2066 : PLKI,2067 : PLMT,2068 : PLNR,2069 : PLPC,2070 : PLPM,2071 : PLTM,2072 : PLUG,2073 : PLUS,2074 : PLXS,2075 : PMBC,2076 : PMCS,2077 : PMD,2078 : PME,2079 : PMFG,2080 : PNBK,2081 : PNFP,2082 : PNNT,2083 : PNQI,2084 : PNRA,2085 : PNRG,2086 : PNTR,2087 : PODD,2088 : POOL,2089 : POPE,2090 : POWI,2091 : POWL,2092 : POZN,2093 : PPBI,2094 : PPC,2095 : PPHM,2096 : PPHMP,2097 : PPSI,2098 : PRAA,2099 : PRAH,2100 : PRAN,2101 : PRCP,2102 : PRFT,2103 : PRFZ,2104 : PRGN,2105 : PRGNL,2106 : PRGS,2107 : PRGX,2108 : PRIM,2109 : PRKR,2110 : PRLS,2111 : PRMW,2112 : PROV,2113 : PRPH,2114 : PRQR,2115 : PRSC,2116 : PRSS,2117 : PRTA,2118 : PRTK,2119 : PRTO,2120 : PRTS,2121 : PRXI,2122 : PRXL,2123 : PSAU,2124 : PSBH,2125 : PSCC,2126 : PSCD,2127 : PSCE,2128 : PSCF,2129 : PSCH,2130 : PSCI,2131 : PSCM,2132 : PSCT,2133 : PSCU,2134 : PSDV,2135 : PSEC,2136 : PSEM,2137 : PSIX,2138 : PSMT,2139 : PSTB,2140 : PSTI,2141 : PSTR,2142 : PSUN,2143 : PTBI,2144 : PTBIW,2145 : PTC,2146 : PTCT,2147 : PTEN,2148 : PTIE,2149 : PTLA,2150 : PTNR,2151 : PTNT,2152 : PTRY,2153 : PTSI,2154 : PTX,2155 : PULB,2156 : PVTB,2157 : PVTBP,2158 : PWOD,2159 : PWRD,2160 : PWX,2161 : PXLW,2162 : PZZA,2163 : QABA,2164 : QADA,2165 : QADB,2166 : QAT,2167 : QBAK,2168 : QCCO,2169 : QCLN,2170 : QCOM,2171 : QCRH,2172 : QDEL,2173 : QGEN,2174 : QINC,2175 : QIWI,2176 : QKLS,2177 : QLGC,2178 : QLIK,2179 : QLTI,2180 : QLTY,2181 : QLYS,2182 : QNST,2183 : QQEW,2184 : QQQ,2185 : QQQC,2186 : QQQX,2187 : QQXT,2188 : QRHC,2189 : QRVO,2190 : QSII,2191 : QTEC,2192 : QTNT,2193 : QTNTW,2194 : QTWW,2195 : QUIK,2196 : QUMU,2197 : QUNR,2198 : QURE,2199 : QVCA,2200 : QVCB,2201 : QYLD,2202 : RADA,2203 : RAIL,2204 : RAND,2205 : RARE,2206 : RAVE,2207 : RAVN,2208 : RBCAA,2209 : RBCN,2210 : RBPAA,2211 : RCII,2212 : RCKY,2213 : RCMT,2214 : RCON,2215 : RCPI,2216 : RCPT,2217 : RDCM,2218 : RDEN,2219 : RDHL,2220 : RDI,2221 : RDIB,2222 : RDNT,2223 : RDUS,2224 : RDVY,2225 : RDWR,2226 : RECN,2227 : REDF,2228 : REFR,2229 : REGI,2230 : REGN,2231 : REIS,2232 : RELL,2233 : RELV,2234 : REMY,2235 : RENT,2236 : REPH,2237 : RESN,2238 : REXI,2239 : REXX,2240 : RFIL,2241 : RGCO,2242 : RGDO,2243 : RGDX,2244 : RGEN,2245 : RGLD,2246 : RGLS,2247 : RGSE,2248 : RIBT,2249 : RIBTW,2250 : RICK,2251 : RIGL,2252 : RITT,2253 : RITTW,2254 : RIVR,2255 : RJET,2256 : RLJE,2257 : RLOC,2258 : RLOG,2259 : RLYP,2260 : RMBS,2261 : RMCF,2262 : RMGN,2263 : RMTI,2264 : RNA,2265 : RNET,2266 : RNST,2267 : RNWK,2268 : ROBO,2269 : ROCK,2270 : ROIA,2271 : ROIAK,2272 : ROIC,2273 : ROIQ,2274 : ROIQU,2275 : ROIQW,2276 : ROKA,2277 : ROLL,2278 : ROSE,2279 : ROSG,2280 : ROST,2281 : ROVI,2282 : ROYL,2283 : RP,2284 : RPRX,2285 : RPRXW,2286 : RPRXZ,2287 : RPTP,2288 : RPXC,2289 : RRD,2290 : RRGB,2291 : RRST,2292 : RSTI,2293 : RSYS,2294 : RTGN,2295 : RTIX,2296 : RTK,2297 : RTRX,2298 : RUSHA,2299 : RUSHB,2300 : RUTH,2301 : RVBD,2302 : RVLT,2303 : RVNC,2304 : RVSB,2305 : RWLK,2306 : RXDX,2307 : RXII,2308 : RYAAY,2309 : SAAS,2310 : SABR,2311 : SAEX,2312 : SAFM,2313 : SAFT,2314 : SAGE,2315 : SAIA,2316 : SAJA,2317 : SAL,2318 : SALE,2319 : SALM,2320 : SAMG,2321 : SANM,2322 : SANW,2323 : SANWZ,2324 : SAPE,2325 : SASR,2326 : SATS,2327 : SAVE,2328 : SBAC,2329 : SBBX,2330 : SBCF,2331 : SBCP,2332 : SBFG,2333 : SBGI,2334 : SBLK,2335 : SBLKL,2336 : SBNY,2337 : SBNYW,2338 : SBRA,2339 : SBRAP,2340 : SBSA,2341 : SBSI,2342 : SBUX,2343 : SCAI,2344 : SCHL,2345 : SCHN,2346 : SCLN,2347 : SCMP,2348 : SCOK,2349 : SCON,2350 : SCOR,2351 : SCSC,2352 : SCSS,2353 : SCTY,2354 : SCVL,2355 : SCYX,2356 : SEAC,2357 : SEED,2358 : SEIC,2359 : SEMI,2360 : SENEA,2361 : SENEB,2362 : SEV,2363 : SFBC,2364 : SFBS,2365 : SFLY,2366 : SFM,2367 : SFNC,2368 : SFST,2369 : SFXE,2370 : SGBK,2371 : SGC,2372 : SGEN,2373 : SGI,2374 : SGMA,2375 : SGMO,2376 : SGMS,2377 : SGNL,2378 : SGNT,2379 : SGOC,2380 : SGRP,2381 : SGYP,2382 : SGYPU,2383 : SGYPW,2384 : SHBI,2385 : SHEN,2386 : SHIP,2387 : SHLD,2388 : SHLDW,2389 : SHLM,2390 : SHLO,2391 : SHOO,2392 : SHOR,2393 : SHOS,2394 : SHPG,2395 : SIAL,2396 : SIBC,2397 : SIEB,2398 : SIEN,2399 : SIFI,2400 : SIFY,2401 : SIGA,2402 : SIGI,2403 : SIGM,2404 : SILC,2405 : SIMG,2406 : SIMO,2407 : SINA,2408 : SINO,2409 : SIRI,2410 : SIRO,2411 : SIVB,2412 : SIVBO,2413 : SIXD,2414 : SKBI,2415 : SKIS,2416 : SKOR,2417 : SKUL,2418 : SKYS,2419 : SKYW,2420 : SKYY,2421 : SLAB,2422 : SLCT,2423 : SLGN,2424 : SLM,2425 : SLMAP,2426 : SLMBP,2427 : SLP,2428 : SLRC,2429 : SLTC,2430 : SLVO,2431 : SLXP,2432 : SMAC,2433 : SMACR,2434 : SMACU,2435 : SMBC,2436 : SMCI,2437 : SMED,2438 : SMIT,2439 : SMLR,2440 : SMMF,2441 : SMPL,2442 : SMRT,2443 : SMSI,2444 : SMT,2445 : SMTC,2446 : SMTP,2447 : SMTX,2448 : SNAK,2449 : SNBC,2450 : SNC,2451 : SNCR,2452 : SNDK,2453 : SNFCA,2454 : SNHY,2455 : SNMX,2456 : SNPS,2457 : SNSS,2458 : SNTA,2459 : SOCB,2460 : SOCL,2461 : SODA,2462 : SOFO,2463 : SOHO,2464 : SOHOL,2465 : SOHOM,2466 : SOHU,2467 : SONA,2468 : SONC,2469 : SONS,2470 : SORL,2471 : SOXX,2472 : SP,2473 : SPAN,2474 : SPAR,2475 : SPCB,2476 : SPDC,2477 : SPEX,2478 : SPHS,2479 : SPIL,2480 : SPKE,2481 : SPLK,2482 : SPLS,2483 : SPNC,2484 : SPNS,2485 : SPOK,2486 : SPPI,2487 : SPPR,2488 : SPPRO,2489 : SPPRP,2490 : SPRO,2491 : SPRT,2492 : SPSC,2493 : SPTN,2494 : SPU,2495 : SPWH,2496 : SPWR,2497 : SQBG,2498 : SQBK,2499 : SQI,2500 : SQNM,2501 : SQQQ,2502 : SRCE,2503 : SRCL,2504 : SRDX,2505 : SREV,2506 : SRNE,2507 : SRPT,2508 : SRSC,2509 : SSB,2510 : SSBI,2511 : SSFN,2512 : SSH,2513 : SSNC,2514 : SSRG,2515 : SSRI,2516 : SSYS,2517 : STAA,2518 : STB,2519 : STBA,2520 : STBZ,2521 : STCK,2522 : STEM,2523 : STFC,2524 : STKL,2525 : STLD,2526 : STLY,2527 : STML,2528 : STMP,2529 : STNR,2530 : STPP,2531 : STRA,2532 : STRL,2533 : STRM,2534 : STRN,2535 : STRS,2536 : STRT,2537 : STRZA,2538 : STRZB,2539 : STX,2540 : STXS,2541 : SUBK,2542 : SUMR,2543 : SUNS,2544 : SUPN,2545 : SURG,2546 : SUSQ,2547 : SUTR,2548 : SVA,2549 : SVBI,2550 : SVVC,2551 : SWHC,2552 : SWIR,2553 : SWKS,2554 : SWSH,2555 : SYBT,2556 : SYKE,2557 : SYMC,2558 : SYMX,2559 : SYNA,2560 : SYNC,2561 : SYNL,2562 : SYNT,2563 : SYPR,2564 : SYRX,2565 : SYUT,2566 : SZMK,2567 : SZYM,2568 : TACT,2569 : TAIT,2570 : TAPR,2571 : TASR,2572 : TAST,2573 : TATT,2574 : TAX,2575 : TAXI,2576 : TAYD,2577 : TBBK,2578 : TBIO,2579 : TBK,2580 : TBNK,2581 : TBPH,2582 : TCBI,2583 : TCBIL,2584 : TCBIP,2585 : TCBIW,2586 : TCBK,2587 : TCCO,2588 : TCFC,2589 : TCPC,2590 : TCRD,2591 : TCX,2592 : TDIV,2593 : TEAR,2594 : TECD,2595 : TECH,2596 : TECU,2597 : TEDU,2598 : TENX,2599 : TERP,2600 : TESO,2601 : TESS,2602 : TFM,2603 : TFSC,2604 : TFSCR,2605 : TFSCU,2606 : TFSCW,2607 : TFSL,2608 : TGA,2609 : TGE,2610 : TGEN,2611 : TGLS,2612 : TGTX,2613 : THFF,2614 : THLD,2615 : THOR,2616 : THRM,2617 : THRX,2618 : THST,2619 : THTI,2620 : TICC,2621 : TIGR,2622 : TILE,2623 : TINY,2624 : TIPT,2625 : TISA,2626 : TITN,2627 : TIVO,2628 : TKAI,2629 : TKMR,2630 : TLF,2631 : TLMR,2632 : TLOG,2633 : TNAV,2634 : TNDM,2635 : TNGO,2636 : TNXP,2637 : TOPS,2638 : TORM,2639 : TOUR,2640 : TOWN,2641 : TQQQ,2642 : TRAK,2643 : TRCB,2644 : TRCH,2645 : TREE,2646 : TRGT,2647 : TRIB,2648 : TRIL,2649 : TRIP,2650 : TRIV,2651 : TRMB,2652 : TRMK,2653 : TRNS,2654 : TRNX,2655 : TROV,2656 : TROVU,2657 : TROVW,2658 : TROW,2659 : TRS,2660 : TRST,2661 : TRTL,2662 : TRTLU,2663 : TRTLW,2664 : TRUE,2665 : TRVN,2666 : TSBK,2667 : TSC,2668 : TSCO,2669 : TSEM,2670 : TSLA,2671 : TSRA,2672 : TSRE,2673 : TSRI,2674 : TSRO,2675 : TST,2676 : TSYS,2677 : TTEC,2678 : TTEK,2679 : TTGT,2680 : TTHI,2681 : TTMI,2682 : TTOO,2683 : TTPH,2684 : TTS,2685 : TTWO,2686 : TUBE,2687 : TUES,2688 : TUSA,2689 : TVIX,2690 : TVIZ,2691 : TWER,2692 : TWIN,2693 : TWMC,2694 : TWOU,2695 : TXN,2696 : TXRH,2697 : TYPE,2698 : TZOO,2699 : UACL,2700 : UAE,2701 : UBCP,2702 : UBFO,2703 : UBIC,2704 : UBNK,2705 : UBNT,2706 : UBOH,2707 : UBSH,2708 : UBSI,2709 : UCBA,2710 : UCBI,2711 : UCFC,2712 : UCTT,2713 : UDF,2714 : UEIC,2715 : UEPS,2716 : UFCS,2717 : UFPI,2718 : UFPT,2719 : UG,2720 : UGLD,2721 : UHAL,2722 : UIHC,2723 : ULBI,2724 : ULTA,2725 : ULTI,2726 : ULTR,2727 : UMBF,2728 : UMPQ,2729 : UNAM,2730 : UNB,2731 : UNFI,2732 : UNIS,2733 : UNTD,2734 : UNTY,2735 : UNXL,2736 : UPI,2737 : UPIP,2738 : UPLD,2739 : URBN,2740 : URRE,2741 : USAK,2742 : USAP,2743 : USAT,2744 : USATP,2745 : USBI,2746 : USCR,2747 : USEG,2748 : USLM,2749 : USLV,2750 : USMD,2751 : USTR,2752 : UTEK,2753 : UTHR,2754 : UTIW,2755 : UTMD,2756 : UTSI,2757 : UVSP,2758 : VA,2759 : VALU,2760 : VALX,2761 : VASC,2762 : VBFC,2763 : VBIV,2764 : VBLT,2765 : VBND,2766 : VBTX,2767 : VCEL,2768 : VCIT,2769 : VCLT,2770 : VCSH,2771 : VCYT,2772 : VDSI,2773 : VECO,2774 : VGGL,2775 : VGIT,2776 : VGLT,2777 : VGSH,2778 : VIA,2779 : VIAB,2780 : VIAS,2781 : VICL,2782 : VICR,2783 : VIDE,2784 : VIDI,2785 : VIEW,2786 : VIIX,2787 : VIIZ,2788 : VIMC,2789 : VIP,2790 : VIRC,2791 : VISN,2792 : VIVO,2793 : VLCCF,2794 : VLGEA,2795 : VLTC,2796 : VLYWW,2797 : VMBS,2798 : VNDA,2799 : VNET,2800 : VNOM,2801 : VNQI,2802 : VNR,2803 : VNRAP,2804 : VNRBP,2805 : VNRCP,2806 : VOD,2807 : VOLC,2808 : VONE,2809 : VONG,2810 : VONV,2811 : VOXX,2812 : VPCO,2813 : VRA,2814 : VRML,2815 : VRNG,2816 : VRNGW,2817 : VRNS,2818 : VRNT,2819 : VRSK,2820 : VRSN,2821 : VRTA,2822 : VRTB,2823 : VRTS,2824 : VRTU,2825 : VRTX,2826 : VSAR,2827 : VSAT,2828 : VSCI,2829 : VSCP,2830 : VSEC,2831 : VSTM,2832 : VTAE,2833 : VTHR,2834 : VTIP,2835 : VTL,2836 : VTNR,2837 : VTSS,2838 : VTWG,2839 : VTWO,2840 : VTWV,2841 : VUSE,2842 : VVUS,2843 : VWOB,2844 : VWR,2845 : VXUS,2846 : VYFC,2847 : WABC,2848 : WAFD,2849 : WAFDW,2850 : WASH,2851 : WATT,2852 : WAVX,2853 : WAYN,2854 : WB,2855 : WBA,2856 : WBB,2857 : WBKC,2858 : WBMD,2859 : WDC,2860 : WDFC,2861 : WEBK,2862 : WEN,2863 : WERN,2864 : WETF,2865 : WEYS,2866 : WFBI,2867 : WFD,2868 : WFM,2869 : WGBS,2870 : WHF,2871 : WHFBL,2872 : WHLM,2873 : WHLR,2874 : WHLRP,2875 : WHLRW,2876 : WIBC,2877 : WIFI,2878 : WILC,2879 : WILN,2880 : WIN,2881 : WINA,2882 : WIRE,2883 : WIX,2884 : WLB,2885 : WLBPZ,2886 : WLDN,2887 : WLFC,2888 : WLRH,2889 : WLRHU,2890 : WLRHW,2891 : WMAR,2892 : WMGI,2893 : WMGIZ,2894 : WOOD,2895 : WOOF,2896 : WPCS,2897 : WPPGY,2898 : WPRT,2899 : WRES,2900 : WRLD,2901 : WSBC,2902 : WSBF,2903 : WSCI,2904 : WSFS,2905 : WSFSL,2906 : WSTC,2907 : WSTG,2908 : WSTL,2909 : WTBA,2910 : WTFC,2911 : WTFCW,2912 : WTSL,2913 : WVFC,2914 : WVVI,2915 : WWD,2916 : WWWW,2917 : WYNN,2918 : XBKS,2919 : XCRA,2920 : XENE,2921 : XENT,2922 : XGTI,2923 : XGTIW,2924 : XIV,2925 : XLNX,2926 : XLRN,2927 : XNCR,2928 : XNET,2929 : XNPT,2930 : XOMA,2931 : XONE,2932 : XOOM,2933 : XPLR,2934 : XRAY,2935 : XTLB,2936 : XXIA,2937 : YDIV,2938 : YDLE,2939 : YHOO,2940 : YNDX,2941 : YOD,2942 : YORW,2943 : YPRO,2944 : YRCW,2945 : YY,2946 : Z,2947 : ZAGG,2948 : ZAZA,2949 : ZBRA,2950 : ZEUS,2951 : ZFGN,2952 : ZGNX,2953 : ZHNE,2954 : ZINC,2955 : ZION,2956 : ZIONW,2957 : ZIONZ,2958 : ZIOP,2959 : ZIV,2960 : ZIXI,2961 : ZLTQ,2962 : ZN,2963 : ZNGA,2964 : ZSPH,2965 : ZU,2966 : ZUMZ,[]\n"
     ]
    }
   ],
   "source": [
    "# create empty dataframe\n",
    "stock_final = pd.DataFrame()\n",
    "# iterate over each symbol\n",
    "for i in Symbols:  \n",
    "    \n",
    "    # print the symbol which is being downloaded\n",
    "    print( str(Symbols.index(i)) + str(' : ') + i, sep=',', end=',', flush=True)  \n",
    "    \n",
    "    try:\n",
    "        # download the stock price \n",
    "        stock = []\n",
    "        stock = yf.download(i,start=start, end=end, progress=False)\n",
    "        \n",
    "        # append the individual stock prices \n",
    "        if len(stock) == 0:\n",
    "            None\n",
    "        else:\n",
    "            stock['Name']=i\n",
    "            stock_final = stock_final.append(stock,sort=False)\n",
    "    except Exception:\n",
    "        None\n"
   ]
  },
  {
   "cell_type": "code",
   "execution_count": 50,
   "metadata": {},
   "outputs": [
    {
     "output_type": "execute_result",
     "data": {
      "text/plain": [
       "Empty DataFrame\n",
       "Columns: []\n",
       "Index: []"
      ],
      "text/html": "<div>\n<style scoped>\n    .dataframe tbody tr th:only-of-type {\n        vertical-align: middle;\n    }\n\n    .dataframe tbody tr th {\n        vertical-align: top;\n    }\n\n    .dataframe thead th {\n        text-align: right;\n    }\n</style>\n<table border=\"1\" class=\"dataframe\">\n  <thead>\n    <tr style=\"text-align: right;\">\n      <th></th>\n    </tr>\n  </thead>\n  <tbody>\n  </tbody>\n</table>\n</div>"
     },
     "metadata": {},
     "execution_count": 50
    }
   ],
   "source": [
    "stock_final"
   ]
  },
  {
   "cell_type": "code",
   "execution_count": 15,
   "metadata": {},
   "outputs": [
    {
     "output_type": "execute_result",
     "data": {
      "text/plain": [
       "{'zip': '95014',\n",
       " 'sector': 'Technology',\n",
       " 'fullTimeEmployees': 147000,\n",
       " 'longBusinessSummary': 'Apple Inc. designs, manufactures, and markets smartphones, personal computers, tablets, wearables, and accessories worldwide. It also sells various related services. The company offers iPhone, a line of smartphones; Mac, a line of personal computers; iPad, a line of multi-purpose tablets; and wearables, home, and accessories comprising AirPods, Apple TV, Apple Watch, Beats products, HomePod, iPod touch, and other Apple-branded and third-party accessories. It also provides AppleCare support services; cloud services store services; and operates various platforms, including the App Store, that allow customers to discover and download applications and digital content, such as books, music, video, games, and podcasts. In addition, the company offers various services, such as Apple Arcade, a game subscription service; Apple Music, which offers users a curated listening experience with on-demand radio stations; Apple News+, a subscription news and magazine service; Apple TV+, which offers exclusive original content; Apple Card, a co-branded credit card; and Apple Pay, a cashless payment service, as well as licenses its intellectual property. The company serves consumers, and small and mid-sized businesses; and the education, enterprise, and government markets. It sells and delivers third-party applications for its products through the App Store. The company also sells its products through its retail and online stores, and direct sales force; and third-party cellular network carriers, wholesalers, retailers, and resellers. Apple Inc. was founded in 1977 and is headquartered in Cupertino, California.',\n",
       " 'city': 'Cupertino',\n",
       " 'phone': '408-996-1010',\n",
       " 'state': 'CA',\n",
       " 'country': 'United States',\n",
       " 'companyOfficers': [],\n",
       " 'website': 'http://www.apple.com',\n",
       " 'maxAge': 1,\n",
       " 'address1': 'One Apple Park Way',\n",
       " 'industry': 'Consumer Electronics',\n",
       " 'previousClose': 130.36,\n",
       " 'regularMarketOpen': 129.8,\n",
       " 'twoHundredDayAverage': 123.75725,\n",
       " 'trailingAnnualDividendYield': 0.006190549,\n",
       " 'payoutRatio': 0.2177,\n",
       " 'volume24Hr': None,\n",
       " 'regularMarketDayHigh': 133,\n",
       " 'navPrice': None,\n",
       " 'averageDailyVolume10Day': 91561257,\n",
       " 'totalAssets': None,\n",
       " 'regularMarketPreviousClose': 130.36,\n",
       " 'fiftyDayAverage': 123.39257,\n",
       " 'trailingAnnualDividendRate': 0.807,\n",
       " 'open': 129.8,\n",
       " 'toCurrency': None,\n",
       " 'averageVolume10days': 91561257,\n",
       " 'expireDate': None,\n",
       " 'yield': None,\n",
       " 'algorithm': None,\n",
       " 'dividendRate': 0.8200000000000001,\n",
       " 'exDividendDate': 1612483200,\n",
       " 'beta': 1.219525,\n",
       " 'circulatingSupply': None,\n",
       " 'startDate': None,\n",
       " 'regularMarketDayLow': 129.47,\n",
       " 'priceHint': 2,\n",
       " 'currency': 'USD',\n",
       " 'trailingPE': 36.07133,\n",
       " 'regularMarketVolume': 101979450,\n",
       " 'lastMarket': None,\n",
       " 'maxSupply': None,\n",
       " 'openInterest': None,\n",
       " 'marketCap': 2232733401088,\n",
       " 'volumeAllCurrencies': None,\n",
       " 'strikePrice': None,\n",
       " 'averageVolume': 106948056,\n",
       " 'priceToSalesTrailing12Months': 7.5908456,\n",
       " 'dayLow': 129.47,\n",
       " 'ask': 132.92,\n",
       " 'ytdReturn': None,\n",
       " 'askSize': 1000,\n",
       " 'volume': 101979450,\n",
       " 'fiftyTwoWeekHigh': 145.09,\n",
       " 'forwardPE': 28.296808,\n",
       " 'fromCurrency': None,\n",
       " 'fiveYearAvgDividendYield': 1.3900000000000001,\n",
       " 'fiftyTwoWeekLow': 66.3575,\n",
       " 'bid': 132.9,\n",
       " 'tradeable': False,\n",
       " 'dividendYield': 0.006200000000000001,\n",
       " 'bidSize': 900,\n",
       " 'dayHigh': 133,\n",
       " 'exchange': 'NMS',\n",
       " 'shortName': 'Apple Inc.',\n",
       " 'longName': 'Apple Inc.',\n",
       " 'exchangeTimezoneName': 'America/New_York',\n",
       " 'exchangeTimezoneShortName': 'EDT',\n",
       " 'isEsgPopulated': False,\n",
       " 'gmtOffSetMilliseconds': '-14400000',\n",
       " 'quoteType': 'EQUITY',\n",
       " 'symbol': 'AAPL',\n",
       " 'messageBoardId': 'finmb_24937',\n",
       " 'market': 'us_market',\n",
       " 'annualHoldingsTurnover': None,\n",
       " 'enterpriseToRevenue': 7.711,\n",
       " 'beta3Year': None,\n",
       " 'profitMargins': 0.21735000000000002,\n",
       " 'enterpriseToEbitda': 26.632,\n",
       " '52WeekChange': 0.94693506,\n",
       " 'morningStarRiskRating': None,\n",
       " 'forwardEps': 4.7,\n",
       " 'revenueQuarterlyGrowth': None,\n",
       " 'sharesOutstanding': 16788100096,\n",
       " 'fundInceptionDate': None,\n",
       " 'annualReportExpenseRatio': None,\n",
       " 'bookValue': 3.936,\n",
       " 'sharesShort': 107011007,\n",
       " 'sharesPercentSharesOut': 0.0064,\n",
       " 'fundFamily': None,\n",
       " 'lastFiscalYearEnd': 1601078400,\n",
       " 'heldPercentInstitutions': 0.59790003,\n",
       " 'netIncomeToCommon': 63929999360,\n",
       " 'trailingEps': 3.6870000000000003,\n",
       " 'lastDividendValue': 0.20500000000000002,\n",
       " 'SandP52WeekChange': 0.49505913,\n",
       " 'priceToBook': 33.78938,\n",
       " 'heldPercentInsiders': 0.00076,\n",
       " 'nextFiscalYearEnd': 1664150400,\n",
       " 'mostRecentQuarter': 1608940800,\n",
       " 'shortRatio': 0.89,\n",
       " 'sharesShortPreviousMonthDate': 1613088000,\n",
       " 'floatShares': 16770636380,\n",
       " 'enterpriseValue': 2267949826048,\n",
       " 'threeYearAverageReturn': None,\n",
       " 'lastSplitDate': 1598832000,\n",
       " 'lastSplitFactor': '4:1',\n",
       " 'legalType': None,\n",
       " 'lastDividendDate': 1612483200,\n",
       " 'morningStarOverallRating': None,\n",
       " 'earningsQuarterlyGrowth': 0.293,\n",
       " 'dateShortInterest': 1615766400,\n",
       " 'pegRatio': 1.8399999999999999,\n",
       " 'lastCapGain': None,\n",
       " 'shortPercentOfFloat': 0.0064,\n",
       " 'sharesShortPriorMonth': 88329668,\n",
       " 'impliedSharesOutstanding': None,\n",
       " 'category': None,\n",
       " 'fiveYearAverageReturn': None,\n",
       " 'regularMarketPrice': 132.995,\n",
       " 'logo_url': 'https://logo.clearbit.com/apple.com'}"
      ]
     },
     "metadata": {},
     "execution_count": 15
    }
   ],
   "source": [
    "# How to get data on each stock\n",
    "apple = yf.Ticker(\"AAPL\")\n",
    "apple.info"
   ]
  },
  {
   "cell_type": "code",
   "execution_count": 26,
   "metadata": {},
   "outputs": [
    {
     "data": {
      "application/vnd.plotly.v1+json": {
       "config": {
        "plotlyServerURL": "https://plot.ly"
       },
       "data": [
        {
         "hovertemplate": "x=%{x}<br>y=%{y}<extra></extra>",
         "legendgroup": "",
         "marker": {
          "color": "#636efa",
          "symbol": "circle"
         },
         "mode": "markers",
         "name": "",
         "orientation": "v",
         "showlegend": false,
         "type": "scatter",
         "x": [
          "2019-04-10T00:00:00",
          "2019-04-11T00:00:00",
          "2019-04-12T00:00:00",
          "2019-04-15T00:00:00",
          "2019-04-16T00:00:00",
          "2019-04-17T00:00:00",
          "2019-04-18T00:00:00",
          "2019-04-22T00:00:00",
          "2019-04-23T00:00:00",
          "2019-04-24T00:00:00",
          "2019-04-25T00:00:00",
          "2019-04-26T00:00:00",
          "2019-04-29T00:00:00",
          "2019-04-30T00:00:00",
          "2019-05-01T00:00:00",
          "2019-05-02T00:00:00",
          "2019-05-03T00:00:00",
          "2019-05-06T00:00:00",
          "2019-05-07T00:00:00",
          "2019-05-08T00:00:00",
          "2019-05-09T00:00:00",
          "2019-05-10T00:00:00",
          "2019-05-13T00:00:00",
          "2019-05-14T00:00:00",
          "2019-05-15T00:00:00",
          "2019-05-16T00:00:00",
          "2019-05-17T00:00:00",
          "2019-05-20T00:00:00",
          "2019-05-21T00:00:00",
          "2019-05-22T00:00:00",
          "2019-05-23T00:00:00",
          "2019-05-24T00:00:00",
          "2019-05-28T00:00:00",
          "2019-05-29T00:00:00",
          "2019-05-30T00:00:00",
          "2019-05-31T00:00:00",
          "2019-06-03T00:00:00",
          "2019-06-04T00:00:00",
          "2019-06-05T00:00:00",
          "2019-06-06T00:00:00",
          "2019-06-07T00:00:00",
          "2019-06-10T00:00:00",
          "2019-06-11T00:00:00",
          "2019-06-12T00:00:00",
          "2019-06-13T00:00:00",
          "2019-06-14T00:00:00",
          "2019-06-17T00:00:00",
          "2019-06-18T00:00:00",
          "2019-06-19T00:00:00",
          "2019-06-20T00:00:00",
          "2019-06-21T00:00:00",
          "2019-06-24T00:00:00",
          "2019-06-25T00:00:00",
          "2019-06-26T00:00:00",
          "2019-06-27T00:00:00",
          "2019-06-28T00:00:00",
          "2019-07-01T00:00:00",
          "2019-07-02T00:00:00",
          "2019-07-03T00:00:00",
          "2019-07-05T00:00:00",
          "2019-07-08T00:00:00",
          "2019-07-09T00:00:00",
          "2019-07-10T00:00:00",
          "2019-07-11T00:00:00",
          "2019-07-12T00:00:00",
          "2019-07-15T00:00:00",
          "2019-07-16T00:00:00",
          "2019-07-17T00:00:00",
          "2019-07-18T00:00:00",
          "2019-07-19T00:00:00",
          "2019-07-22T00:00:00",
          "2019-07-23T00:00:00",
          "2019-07-24T00:00:00",
          "2019-07-25T00:00:00",
          "2019-07-26T00:00:00",
          "2019-07-29T00:00:00",
          "2019-07-30T00:00:00",
          "2019-07-31T00:00:00",
          "2019-08-01T00:00:00",
          "2019-08-02T00:00:00",
          "2019-08-05T00:00:00",
          "2019-08-06T00:00:00",
          "2019-08-07T00:00:00",
          "2019-08-08T00:00:00",
          "2019-08-09T00:00:00",
          "2019-08-12T00:00:00",
          "2019-08-13T00:00:00",
          "2019-08-14T00:00:00",
          "2019-08-15T00:00:00",
          "2019-08-16T00:00:00",
          "2019-08-19T00:00:00",
          "2019-08-20T00:00:00",
          "2019-08-21T00:00:00",
          "2019-08-22T00:00:00",
          "2019-08-23T00:00:00",
          "2019-08-26T00:00:00",
          "2019-08-27T00:00:00",
          "2019-08-28T00:00:00",
          "2019-08-29T00:00:00",
          "2019-08-30T00:00:00",
          "2019-09-03T00:00:00",
          "2019-09-04T00:00:00",
          "2019-09-05T00:00:00",
          "2019-09-06T00:00:00",
          "2019-09-09T00:00:00",
          "2019-09-10T00:00:00",
          "2019-09-11T00:00:00",
          "2019-09-12T00:00:00",
          "2019-09-13T00:00:00",
          "2019-09-16T00:00:00",
          "2019-09-17T00:00:00",
          "2019-09-18T00:00:00",
          "2019-09-19T00:00:00",
          "2019-09-20T00:00:00",
          "2019-09-23T00:00:00",
          "2019-09-24T00:00:00",
          "2019-09-25T00:00:00",
          "2019-09-26T00:00:00",
          "2019-09-27T00:00:00",
          "2019-09-30T00:00:00",
          "2019-10-01T00:00:00",
          "2019-10-02T00:00:00",
          "2019-10-03T00:00:00",
          "2019-10-04T00:00:00",
          "2019-10-07T00:00:00",
          "2019-10-08T00:00:00",
          "2019-10-09T00:00:00",
          "2019-10-10T00:00:00",
          "2019-10-11T00:00:00",
          "2019-10-14T00:00:00",
          "2019-10-15T00:00:00",
          "2019-10-16T00:00:00",
          "2019-10-17T00:00:00",
          "2019-10-18T00:00:00",
          "2019-10-21T00:00:00",
          "2019-10-22T00:00:00",
          "2019-10-23T00:00:00",
          "2019-10-24T00:00:00",
          "2019-10-25T00:00:00",
          "2019-10-28T00:00:00",
          "2019-10-29T00:00:00",
          "2019-10-30T00:00:00",
          "2019-10-31T00:00:00",
          "2019-11-01T00:00:00",
          "2019-11-04T00:00:00",
          "2019-11-05T00:00:00",
          "2019-11-06T00:00:00",
          "2019-11-07T00:00:00",
          "2019-11-08T00:00:00",
          "2019-11-11T00:00:00",
          "2019-11-12T00:00:00",
          "2019-11-13T00:00:00",
          "2019-11-14T00:00:00",
          "2019-11-15T00:00:00",
          "2019-11-18T00:00:00",
          "2019-11-19T00:00:00",
          "2019-11-20T00:00:00",
          "2019-11-21T00:00:00",
          "2019-11-22T00:00:00",
          "2019-11-25T00:00:00",
          "2019-11-26T00:00:00",
          "2019-11-27T00:00:00",
          "2019-11-29T00:00:00",
          "2019-12-02T00:00:00",
          "2019-12-03T00:00:00",
          "2019-12-04T00:00:00",
          "2019-12-05T00:00:00",
          "2019-12-06T00:00:00",
          "2019-12-09T00:00:00",
          "2019-12-10T00:00:00",
          "2019-12-11T00:00:00",
          "2019-12-12T00:00:00",
          "2019-12-13T00:00:00",
          "2019-12-16T00:00:00",
          "2019-12-17T00:00:00",
          "2019-12-18T00:00:00",
          "2019-12-19T00:00:00",
          "2019-12-20T00:00:00",
          "2019-12-23T00:00:00",
          "2019-12-24T00:00:00",
          "2019-12-26T00:00:00",
          "2019-12-27T00:00:00",
          "2019-12-30T00:00:00",
          "2019-12-31T00:00:00",
          "2020-01-02T00:00:00",
          "2020-01-03T00:00:00",
          "2020-01-06T00:00:00",
          "2020-01-07T00:00:00",
          "2020-01-08T00:00:00",
          "2020-01-09T00:00:00",
          "2020-01-10T00:00:00",
          "2020-01-13T00:00:00",
          "2020-01-14T00:00:00",
          "2020-01-15T00:00:00",
          "2020-01-16T00:00:00",
          "2020-01-17T00:00:00",
          "2020-01-21T00:00:00",
          "2020-01-22T00:00:00",
          "2020-01-23T00:00:00",
          "2020-01-24T00:00:00",
          "2020-01-27T00:00:00",
          "2020-01-28T00:00:00",
          "2020-01-29T00:00:00",
          "2020-01-30T00:00:00",
          "2020-01-31T00:00:00",
          "2020-02-03T00:00:00",
          "2020-02-04T00:00:00",
          "2020-02-05T00:00:00",
          "2020-02-06T00:00:00",
          "2020-02-07T00:00:00",
          "2020-02-10T00:00:00",
          "2020-02-11T00:00:00",
          "2020-02-12T00:00:00",
          "2020-02-13T00:00:00",
          "2020-02-14T00:00:00",
          "2020-02-18T00:00:00",
          "2020-02-19T00:00:00",
          "2020-02-20T00:00:00",
          "2020-02-21T00:00:00",
          "2020-02-24T00:00:00",
          "2020-02-25T00:00:00",
          "2020-02-26T00:00:00",
          "2020-02-27T00:00:00",
          "2020-02-28T00:00:00",
          "2020-03-02T00:00:00",
          "2020-03-03T00:00:00",
          "2020-03-04T00:00:00",
          "2020-03-05T00:00:00",
          "2020-03-06T00:00:00",
          "2020-03-09T00:00:00",
          "2020-03-10T00:00:00",
          "2020-03-11T00:00:00",
          "2020-03-12T00:00:00",
          "2020-03-13T00:00:00",
          "2020-03-16T00:00:00",
          "2020-03-17T00:00:00",
          "2020-03-18T00:00:00",
          "2020-03-19T00:00:00",
          "2020-03-20T00:00:00",
          "2020-03-23T00:00:00",
          "2020-03-24T00:00:00",
          "2020-03-25T00:00:00",
          "2020-03-26T00:00:00",
          "2020-03-27T00:00:00",
          "2020-03-30T00:00:00",
          "2020-03-31T00:00:00",
          "2020-04-01T00:00:00",
          "2020-04-02T00:00:00",
          "2020-04-03T00:00:00",
          "2020-04-06T00:00:00",
          "2020-04-07T00:00:00",
          "2020-04-08T00:00:00",
          "2020-04-09T00:00:00",
          "2020-04-13T00:00:00",
          "2020-04-14T00:00:00",
          "2020-04-15T00:00:00",
          "2020-04-16T00:00:00",
          "2020-04-17T00:00:00",
          "2020-04-20T00:00:00",
          "2020-04-21T00:00:00",
          "2020-04-22T00:00:00",
          "2020-04-23T00:00:00",
          "2020-04-24T00:00:00",
          "2020-04-27T00:00:00",
          "2020-04-28T00:00:00",
          "2020-04-29T00:00:00",
          "2020-04-30T00:00:00",
          "2020-05-01T00:00:00",
          "2020-05-04T00:00:00",
          "2020-05-05T00:00:00",
          "2020-05-06T00:00:00",
          "2020-05-07T00:00:00",
          "2020-05-08T00:00:00",
          "2020-05-11T00:00:00",
          "2020-05-12T00:00:00",
          "2020-05-13T00:00:00",
          "2020-05-14T00:00:00",
          "2020-05-15T00:00:00",
          "2020-05-18T00:00:00",
          "2020-05-19T00:00:00",
          "2020-05-20T00:00:00",
          "2020-05-21T00:00:00",
          "2020-05-22T00:00:00",
          "2020-05-26T00:00:00",
          "2020-05-27T00:00:00",
          "2020-05-28T00:00:00",
          "2020-05-29T00:00:00",
          "2020-06-01T00:00:00",
          "2020-06-02T00:00:00",
          "2020-06-03T00:00:00",
          "2020-06-04T00:00:00",
          "2020-06-05T00:00:00",
          "2020-06-08T00:00:00",
          "2020-06-09T00:00:00",
          "2020-06-10T00:00:00",
          "2020-06-11T00:00:00",
          "2020-06-12T00:00:00",
          "2020-06-15T00:00:00",
          "2020-06-16T00:00:00",
          "2020-06-17T00:00:00",
          "2020-06-18T00:00:00",
          "2020-06-19T00:00:00",
          "2020-06-22T00:00:00",
          "2020-06-23T00:00:00",
          "2020-06-24T00:00:00",
          "2020-06-25T00:00:00",
          "2020-06-26T00:00:00",
          "2020-06-29T00:00:00",
          "2020-06-30T00:00:00",
          "2020-07-01T00:00:00",
          "2020-07-02T00:00:00",
          "2020-07-06T00:00:00",
          "2020-07-07T00:00:00",
          "2020-07-08T00:00:00",
          "2020-07-09T00:00:00",
          "2020-07-10T00:00:00",
          "2020-07-13T00:00:00",
          "2020-07-14T00:00:00",
          "2020-07-15T00:00:00",
          "2020-07-16T00:00:00",
          "2020-07-17T00:00:00",
          "2020-07-20T00:00:00",
          "2020-07-21T00:00:00",
          "2020-07-22T00:00:00",
          "2020-07-23T00:00:00",
          "2020-07-24T00:00:00",
          "2020-07-27T00:00:00",
          "2020-07-28T00:00:00",
          "2020-07-29T00:00:00",
          "2020-07-30T00:00:00",
          "2020-07-31T00:00:00",
          "2020-08-03T00:00:00",
          "2020-08-04T00:00:00",
          "2020-08-05T00:00:00",
          "2020-08-06T00:00:00",
          "2020-08-07T00:00:00",
          "2020-08-10T00:00:00",
          "2020-08-11T00:00:00",
          "2020-08-12T00:00:00",
          "2020-08-13T00:00:00",
          "2020-08-14T00:00:00",
          "2020-08-17T00:00:00",
          "2020-08-18T00:00:00",
          "2020-08-19T00:00:00",
          "2020-08-20T00:00:00",
          "2020-08-21T00:00:00",
          "2020-08-24T00:00:00",
          "2020-08-25T00:00:00",
          "2020-08-26T00:00:00",
          "2020-08-27T00:00:00",
          "2020-08-28T00:00:00",
          "2020-08-31T00:00:00",
          "2020-09-01T00:00:00",
          "2020-09-02T00:00:00",
          "2020-09-03T00:00:00",
          "2020-09-04T00:00:00",
          "2020-09-08T00:00:00",
          "2020-09-09T00:00:00",
          "2020-09-10T00:00:00",
          "2020-09-11T00:00:00",
          "2020-09-14T00:00:00",
          "2020-09-15T00:00:00",
          "2020-09-16T00:00:00",
          "2020-09-17T00:00:00",
          "2020-09-18T00:00:00",
          "2020-09-21T00:00:00",
          "2020-09-22T00:00:00",
          "2020-09-23T00:00:00",
          "2020-09-24T00:00:00",
          "2020-09-25T00:00:00",
          "2020-09-28T00:00:00",
          "2020-09-29T00:00:00",
          "2020-09-30T00:00:00",
          "2020-10-01T00:00:00",
          "2020-10-02T00:00:00",
          "2020-10-05T00:00:00",
          "2020-10-06T00:00:00",
          "2020-10-07T00:00:00",
          "2020-10-08T00:00:00",
          "2020-10-09T00:00:00",
          "2020-10-12T00:00:00",
          "2020-10-13T00:00:00",
          "2020-10-14T00:00:00",
          "2020-10-15T00:00:00",
          "2020-10-16T00:00:00",
          "2020-10-19T00:00:00",
          "2020-10-20T00:00:00",
          "2020-10-21T00:00:00",
          "2020-10-22T00:00:00",
          "2020-10-23T00:00:00",
          "2020-10-26T00:00:00",
          "2020-10-27T00:00:00",
          "2020-10-28T00:00:00",
          "2020-10-29T00:00:00",
          "2020-10-30T00:00:00",
          "2020-11-02T00:00:00",
          "2020-11-03T00:00:00",
          "2020-11-04T00:00:00",
          "2020-11-05T00:00:00",
          "2020-11-06T00:00:00",
          "2020-11-09T00:00:00",
          "2020-11-10T00:00:00",
          "2020-11-11T00:00:00",
          "2020-11-12T00:00:00",
          "2020-11-13T00:00:00",
          "2020-11-16T00:00:00",
          "2020-11-17T00:00:00",
          "2020-11-18T00:00:00",
          "2020-11-19T00:00:00",
          "2020-11-20T00:00:00",
          "2020-11-23T00:00:00",
          "2020-11-24T00:00:00",
          "2020-11-25T00:00:00",
          "2020-11-27T00:00:00",
          "2020-11-30T00:00:00",
          "2020-12-01T00:00:00",
          "2020-12-02T00:00:00",
          "2020-12-03T00:00:00",
          "2020-12-04T00:00:00",
          "2020-12-07T00:00:00",
          "2020-12-08T00:00:00",
          "2020-12-09T00:00:00",
          "2020-12-10T00:00:00",
          "2020-12-11T00:00:00",
          "2020-12-14T00:00:00",
          "2020-12-15T00:00:00",
          "2020-12-16T00:00:00",
          "2020-12-17T00:00:00",
          "2020-12-18T00:00:00",
          "2020-12-21T00:00:00",
          "2020-12-22T00:00:00",
          "2020-12-23T00:00:00",
          "2020-12-24T00:00:00",
          "2020-12-28T00:00:00",
          "2020-12-29T00:00:00",
          "2020-12-30T00:00:00",
          "2020-12-31T00:00:00",
          "2021-01-04T00:00:00",
          "2021-01-05T00:00:00",
          "2021-01-06T00:00:00",
          "2021-01-07T00:00:00",
          "2021-01-08T00:00:00",
          "2021-01-11T00:00:00",
          "2021-01-12T00:00:00",
          "2021-01-13T00:00:00",
          "2021-01-14T00:00:00",
          "2021-01-15T00:00:00",
          "2021-01-19T00:00:00",
          "2021-01-20T00:00:00",
          "2021-01-21T00:00:00",
          "2021-01-22T00:00:00",
          "2021-01-25T00:00:00",
          "2021-01-26T00:00:00",
          "2021-01-27T00:00:00",
          "2021-01-28T00:00:00",
          "2021-01-29T00:00:00",
          "2021-02-01T00:00:00",
          "2021-02-02T00:00:00",
          "2021-02-03T00:00:00",
          "2021-02-04T00:00:00",
          "2021-02-05T00:00:00",
          "2021-02-08T00:00:00",
          "2021-02-09T00:00:00",
          "2021-02-10T00:00:00",
          "2021-02-11T00:00:00",
          "2021-02-12T00:00:00",
          "2021-02-16T00:00:00",
          "2021-02-17T00:00:00",
          "2021-02-18T00:00:00",
          "2021-02-19T00:00:00",
          "2021-02-22T00:00:00",
          "2021-02-23T00:00:00",
          "2021-02-24T00:00:00",
          "2021-02-25T00:00:00",
          "2021-02-26T00:00:00",
          "2021-03-01T00:00:00",
          "2021-03-02T00:00:00",
          "2021-03-03T00:00:00",
          "2021-03-04T00:00:00",
          "2021-03-05T00:00:00",
          "2021-03-08T00:00:00",
          "2021-03-09T00:00:00",
          "2021-03-10T00:00:00",
          "2021-03-11T00:00:00",
          "2021-03-12T00:00:00",
          "2021-03-15T00:00:00",
          "2021-03-16T00:00:00",
          "2021-03-17T00:00:00",
          "2021-03-18T00:00:00",
          "2021-03-19T00:00:00",
          "2021-03-22T00:00:00",
          "2021-03-23T00:00:00",
          "2021-03-24T00:00:00",
          "2021-03-25T00:00:00",
          "2021-03-26T00:00:00",
          "2021-03-29T00:00:00",
          "2021-03-30T00:00:00",
          "2021-03-31T00:00:00",
          "2021-04-01T00:00:00",
          "2021-04-05T00:00:00",
          "2021-04-06T00:00:00",
          "2021-04-07T00:00:00",
          "2021-04-08T00:00:00",
          "2021-04-09T00:00:00"
         ],
         "xaxis": "x",
         "y": [
          null,
          null,
          null,
          null,
          null,
          null,
          null,
          null,
          null,
          null,
          null,
          null,
          null,
          null,
          null,
          null,
          null,
          null,
          null,
          null,
          null,
          null,
          null,
          null,
          null,
          null,
          null,
          null,
          null,
          null,
          null,
          null,
          null,
          null,
          null,
          null,
          null,
          null,
          null,
          null,
          null,
          null,
          null,
          null,
          null,
          null,
          null,
          null,
          null,
          null,
          null,
          null,
          null,
          null,
          null,
          null,
          null,
          null,
          null,
          null,
          null,
          null,
          null,
          null,
          null,
          null,
          null,
          null,
          null,
          null,
          null,
          null,
          null,
          null,
          null,
          null,
          null,
          null,
          null,
          null,
          null,
          null,
          null,
          null,
          null,
          null,
          null,
          null,
          null,
          null,
          null,
          null,
          null,
          null,
          null,
          null,
          null,
          null,
          null,
          null,
          null,
          null,
          null,
          null,
          null,
          null,
          null,
          null,
          null,
          null,
          null,
          null,
          null,
          null,
          null,
          null,
          null,
          null,
          null,
          null,
          null,
          null,
          null,
          null,
          null,
          null,
          null,
          null,
          null,
          null,
          null,
          null,
          null,
          null,
          null,
          null,
          null,
          null,
          null,
          null,
          null,
          null,
          null,
          null,
          null,
          null,
          null,
          null,
          null,
          null,
          null,
          null,
          null,
          null,
          null,
          null,
          null,
          null,
          null,
          null,
          null,
          null,
          null,
          null,
          null,
          null,
          null,
          null,
          null,
          null,
          null,
          null,
          null,
          null,
          null,
          null,
          null,
          null,
          null,
          null,
          null,
          null,
          null,
          null,
          null,
          null,
          null,
          null,
          null,
          null,
          null,
          null,
          null,
          null,
          null,
          null,
          null,
          null,
          null,
          null,
          null,
          null,
          null,
          null,
          null,
          null,
          null,
          null,
          null,
          null,
          null,
          null,
          null,
          null,
          null,
          null,
          null,
          null,
          null,
          null,
          null,
          null,
          null,
          null,
          null,
          null,
          null,
          null,
          null,
          null,
          null,
          null,
          null,
          null,
          null,
          null,
          null,
          null,
          null,
          null,
          null,
          null,
          null,
          null,
          null,
          null,
          null,
          null,
          null,
          null,
          null,
          null,
          null,
          null,
          null,
          null,
          null,
          null,
          null,
          null,
          null,
          null,
          null,
          null,
          null,
          null,
          null,
          null,
          null,
          null,
          null,
          null,
          null,
          null,
          null,
          null,
          null,
          null,
          null,
          null,
          null,
          null,
          null,
          null,
          null,
          null,
          null,
          null,
          null,
          null,
          null,
          null,
          null,
          null,
          null,
          null,
          null,
          null,
          null,
          null,
          null,
          null,
          null,
          null,
          null,
          null,
          null,
          null,
          null,
          null,
          null,
          null,
          null,
          null,
          null,
          null,
          null,
          null,
          null,
          null,
          null,
          null,
          null,
          null,
          null,
          null,
          null,
          null,
          null,
          null,
          null,
          null,
          null,
          null,
          null,
          null,
          null,
          null,
          null,
          null,
          null,
          null,
          null,
          null,
          null,
          null,
          null,
          null,
          null,
          null,
          null,
          null,
          null,
          null,
          null,
          null,
          null,
          null,
          null,
          null,
          null,
          null,
          null,
          null,
          null,
          null,
          null,
          null,
          null,
          null,
          null,
          null,
          null,
          null,
          null,
          null,
          null,
          null,
          null,
          null,
          null,
          null,
          null,
          null,
          null,
          null,
          null,
          null,
          null,
          null,
          null,
          null,
          null,
          null,
          null,
          null,
          null,
          null,
          null,
          null,
          null,
          null,
          null,
          null,
          null,
          null,
          null,
          null,
          null,
          null,
          null,
          null,
          null,
          null,
          null,
          null,
          null,
          null,
          null,
          null,
          null,
          null,
          null,
          null,
          null,
          null,
          null,
          null,
          null,
          null,
          null,
          null,
          null,
          null,
          null,
          null,
          null,
          null,
          null,
          null,
          null,
          null,
          null,
          null,
          null,
          null,
          null,
          null,
          null,
          null,
          null,
          null,
          null,
          null,
          null,
          null,
          null,
          null,
          null,
          null,
          null,
          null,
          null,
          null,
          null,
          null,
          null,
          8,
          6.579999923706055,
          6.28000020980835,
          6.449999809265137,
          5.929999828338623,
          5.699999809265137,
          5.860000133514404,
          5.599999904632568,
          5.590000152587891,
          5.929999828338623,
          5.630000114440918,
          5.510000228881836,
          5.019999980926514,
          5.039999961853027,
          5.130000114440918,
          5.110000133514404,
          5,
          5.050000190734863,
          5.670000076293945,
          6.230000019073486,
          5.550000190734863,
          5.5,
          5.510000228881836,
          5.369999885559082,
          5.070000171661377,
          5.099999904632568,
          4.539999961853027,
          4.400000095367432,
          4.420000076293945,
          4.670000076293945,
          4.840000152587891,
          4.75,
          4.989999771118164,
          4.980000019073486,
          4.715000152587891,
          4.630000114440918,
          4.809000015258789
         ],
         "yaxis": "y"
        }
       ],
       "layout": {
        "legend": {
         "tracegroupgap": 0
        },
        "margin": {
         "t": 60
        },
        "template": {
         "data": {
          "bar": [
           {
            "error_x": {
             "color": "#2a3f5f"
            },
            "error_y": {
             "color": "#2a3f5f"
            },
            "marker": {
             "line": {
              "color": "#E5ECF6",
              "width": 0.5
             }
            },
            "type": "bar"
           }
          ],
          "barpolar": [
           {
            "marker": {
             "line": {
              "color": "#E5ECF6",
              "width": 0.5
             }
            },
            "type": "barpolar"
           }
          ],
          "carpet": [
           {
            "aaxis": {
             "endlinecolor": "#2a3f5f",
             "gridcolor": "white",
             "linecolor": "white",
             "minorgridcolor": "white",
             "startlinecolor": "#2a3f5f"
            },
            "baxis": {
             "endlinecolor": "#2a3f5f",
             "gridcolor": "white",
             "linecolor": "white",
             "minorgridcolor": "white",
             "startlinecolor": "#2a3f5f"
            },
            "type": "carpet"
           }
          ],
          "choropleth": [
           {
            "colorbar": {
             "outlinewidth": 0,
             "ticks": ""
            },
            "type": "choropleth"
           }
          ],
          "contour": [
           {
            "colorbar": {
             "outlinewidth": 0,
             "ticks": ""
            },
            "colorscale": [
             [
              0,
              "#0d0887"
             ],
             [
              0.1111111111111111,
              "#46039f"
             ],
             [
              0.2222222222222222,
              "#7201a8"
             ],
             [
              0.3333333333333333,
              "#9c179e"
             ],
             [
              0.4444444444444444,
              "#bd3786"
             ],
             [
              0.5555555555555556,
              "#d8576b"
             ],
             [
              0.6666666666666666,
              "#ed7953"
             ],
             [
              0.7777777777777778,
              "#fb9f3a"
             ],
             [
              0.8888888888888888,
              "#fdca26"
             ],
             [
              1,
              "#f0f921"
             ]
            ],
            "type": "contour"
           }
          ],
          "contourcarpet": [
           {
            "colorbar": {
             "outlinewidth": 0,
             "ticks": ""
            },
            "type": "contourcarpet"
           }
          ],
          "heatmap": [
           {
            "colorbar": {
             "outlinewidth": 0,
             "ticks": ""
            },
            "colorscale": [
             [
              0,
              "#0d0887"
             ],
             [
              0.1111111111111111,
              "#46039f"
             ],
             [
              0.2222222222222222,
              "#7201a8"
             ],
             [
              0.3333333333333333,
              "#9c179e"
             ],
             [
              0.4444444444444444,
              "#bd3786"
             ],
             [
              0.5555555555555556,
              "#d8576b"
             ],
             [
              0.6666666666666666,
              "#ed7953"
             ],
             [
              0.7777777777777778,
              "#fb9f3a"
             ],
             [
              0.8888888888888888,
              "#fdca26"
             ],
             [
              1,
              "#f0f921"
             ]
            ],
            "type": "heatmap"
           }
          ],
          "heatmapgl": [
           {
            "colorbar": {
             "outlinewidth": 0,
             "ticks": ""
            },
            "colorscale": [
             [
              0,
              "#0d0887"
             ],
             [
              0.1111111111111111,
              "#46039f"
             ],
             [
              0.2222222222222222,
              "#7201a8"
             ],
             [
              0.3333333333333333,
              "#9c179e"
             ],
             [
              0.4444444444444444,
              "#bd3786"
             ],
             [
              0.5555555555555556,
              "#d8576b"
             ],
             [
              0.6666666666666666,
              "#ed7953"
             ],
             [
              0.7777777777777778,
              "#fb9f3a"
             ],
             [
              0.8888888888888888,
              "#fdca26"
             ],
             [
              1,
              "#f0f921"
             ]
            ],
            "type": "heatmapgl"
           }
          ],
          "histogram": [
           {
            "marker": {
             "colorbar": {
              "outlinewidth": 0,
              "ticks": ""
             }
            },
            "type": "histogram"
           }
          ],
          "histogram2d": [
           {
            "colorbar": {
             "outlinewidth": 0,
             "ticks": ""
            },
            "colorscale": [
             [
              0,
              "#0d0887"
             ],
             [
              0.1111111111111111,
              "#46039f"
             ],
             [
              0.2222222222222222,
              "#7201a8"
             ],
             [
              0.3333333333333333,
              "#9c179e"
             ],
             [
              0.4444444444444444,
              "#bd3786"
             ],
             [
              0.5555555555555556,
              "#d8576b"
             ],
             [
              0.6666666666666666,
              "#ed7953"
             ],
             [
              0.7777777777777778,
              "#fb9f3a"
             ],
             [
              0.8888888888888888,
              "#fdca26"
             ],
             [
              1,
              "#f0f921"
             ]
            ],
            "type": "histogram2d"
           }
          ],
          "histogram2dcontour": [
           {
            "colorbar": {
             "outlinewidth": 0,
             "ticks": ""
            },
            "colorscale": [
             [
              0,
              "#0d0887"
             ],
             [
              0.1111111111111111,
              "#46039f"
             ],
             [
              0.2222222222222222,
              "#7201a8"
             ],
             [
              0.3333333333333333,
              "#9c179e"
             ],
             [
              0.4444444444444444,
              "#bd3786"
             ],
             [
              0.5555555555555556,
              "#d8576b"
             ],
             [
              0.6666666666666666,
              "#ed7953"
             ],
             [
              0.7777777777777778,
              "#fb9f3a"
             ],
             [
              0.8888888888888888,
              "#fdca26"
             ],
             [
              1,
              "#f0f921"
             ]
            ],
            "type": "histogram2dcontour"
           }
          ],
          "mesh3d": [
           {
            "colorbar": {
             "outlinewidth": 0,
             "ticks": ""
            },
            "type": "mesh3d"
           }
          ],
          "parcoords": [
           {
            "line": {
             "colorbar": {
              "outlinewidth": 0,
              "ticks": ""
             }
            },
            "type": "parcoords"
           }
          ],
          "pie": [
           {
            "automargin": true,
            "type": "pie"
           }
          ],
          "scatter": [
           {
            "marker": {
             "colorbar": {
              "outlinewidth": 0,
              "ticks": ""
             }
            },
            "type": "scatter"
           }
          ],
          "scatter3d": [
           {
            "line": {
             "colorbar": {
              "outlinewidth": 0,
              "ticks": ""
             }
            },
            "marker": {
             "colorbar": {
              "outlinewidth": 0,
              "ticks": ""
             }
            },
            "type": "scatter3d"
           }
          ],
          "scattercarpet": [
           {
            "marker": {
             "colorbar": {
              "outlinewidth": 0,
              "ticks": ""
             }
            },
            "type": "scattercarpet"
           }
          ],
          "scattergeo": [
           {
            "marker": {
             "colorbar": {
              "outlinewidth": 0,
              "ticks": ""
             }
            },
            "type": "scattergeo"
           }
          ],
          "scattergl": [
           {
            "marker": {
             "colorbar": {
              "outlinewidth": 0,
              "ticks": ""
             }
            },
            "type": "scattergl"
           }
          ],
          "scattermapbox": [
           {
            "marker": {
             "colorbar": {
              "outlinewidth": 0,
              "ticks": ""
             }
            },
            "type": "scattermapbox"
           }
          ],
          "scatterpolar": [
           {
            "marker": {
             "colorbar": {
              "outlinewidth": 0,
              "ticks": ""
             }
            },
            "type": "scatterpolar"
           }
          ],
          "scatterpolargl": [
           {
            "marker": {
             "colorbar": {
              "outlinewidth": 0,
              "ticks": ""
             }
            },
            "type": "scatterpolargl"
           }
          ],
          "scatterternary": [
           {
            "marker": {
             "colorbar": {
              "outlinewidth": 0,
              "ticks": ""
             }
            },
            "type": "scatterternary"
           }
          ],
          "surface": [
           {
            "colorbar": {
             "outlinewidth": 0,
             "ticks": ""
            },
            "colorscale": [
             [
              0,
              "#0d0887"
             ],
             [
              0.1111111111111111,
              "#46039f"
             ],
             [
              0.2222222222222222,
              "#7201a8"
             ],
             [
              0.3333333333333333,
              "#9c179e"
             ],
             [
              0.4444444444444444,
              "#bd3786"
             ],
             [
              0.5555555555555556,
              "#d8576b"
             ],
             [
              0.6666666666666666,
              "#ed7953"
             ],
             [
              0.7777777777777778,
              "#fb9f3a"
             ],
             [
              0.8888888888888888,
              "#fdca26"
             ],
             [
              1,
              "#f0f921"
             ]
            ],
            "type": "surface"
           }
          ],
          "table": [
           {
            "cells": {
             "fill": {
              "color": "#EBF0F8"
             },
             "line": {
              "color": "white"
             }
            },
            "header": {
             "fill": {
              "color": "#C8D4E3"
             },
             "line": {
              "color": "white"
             }
            },
            "type": "table"
           }
          ]
         },
         "layout": {
          "annotationdefaults": {
           "arrowcolor": "#2a3f5f",
           "arrowhead": 0,
           "arrowwidth": 1
          },
          "autotypenumbers": "strict",
          "coloraxis": {
           "colorbar": {
            "outlinewidth": 0,
            "ticks": ""
           }
          },
          "colorscale": {
           "diverging": [
            [
             0,
             "#8e0152"
            ],
            [
             0.1,
             "#c51b7d"
            ],
            [
             0.2,
             "#de77ae"
            ],
            [
             0.3,
             "#f1b6da"
            ],
            [
             0.4,
             "#fde0ef"
            ],
            [
             0.5,
             "#f7f7f7"
            ],
            [
             0.6,
             "#e6f5d0"
            ],
            [
             0.7,
             "#b8e186"
            ],
            [
             0.8,
             "#7fbc41"
            ],
            [
             0.9,
             "#4d9221"
            ],
            [
             1,
             "#276419"
            ]
           ],
           "sequential": [
            [
             0,
             "#0d0887"
            ],
            [
             0.1111111111111111,
             "#46039f"
            ],
            [
             0.2222222222222222,
             "#7201a8"
            ],
            [
             0.3333333333333333,
             "#9c179e"
            ],
            [
             0.4444444444444444,
             "#bd3786"
            ],
            [
             0.5555555555555556,
             "#d8576b"
            ],
            [
             0.6666666666666666,
             "#ed7953"
            ],
            [
             0.7777777777777778,
             "#fb9f3a"
            ],
            [
             0.8888888888888888,
             "#fdca26"
            ],
            [
             1,
             "#f0f921"
            ]
           ],
           "sequentialminus": [
            [
             0,
             "#0d0887"
            ],
            [
             0.1111111111111111,
             "#46039f"
            ],
            [
             0.2222222222222222,
             "#7201a8"
            ],
            [
             0.3333333333333333,
             "#9c179e"
            ],
            [
             0.4444444444444444,
             "#bd3786"
            ],
            [
             0.5555555555555556,
             "#d8576b"
            ],
            [
             0.6666666666666666,
             "#ed7953"
            ],
            [
             0.7777777777777778,
             "#fb9f3a"
            ],
            [
             0.8888888888888888,
             "#fdca26"
            ],
            [
             1,
             "#f0f921"
            ]
           ]
          },
          "colorway": [
           "#636efa",
           "#EF553B",
           "#00cc96",
           "#ab63fa",
           "#FFA15A",
           "#19d3f3",
           "#FF6692",
           "#B6E880",
           "#FF97FF",
           "#FECB52"
          ],
          "font": {
           "color": "#2a3f5f"
          },
          "geo": {
           "bgcolor": "white",
           "lakecolor": "white",
           "landcolor": "#E5ECF6",
           "showlakes": true,
           "showland": true,
           "subunitcolor": "white"
          },
          "hoverlabel": {
           "align": "left"
          },
          "hovermode": "closest",
          "mapbox": {
           "style": "light"
          },
          "paper_bgcolor": "white",
          "plot_bgcolor": "#E5ECF6",
          "polar": {
           "angularaxis": {
            "gridcolor": "white",
            "linecolor": "white",
            "ticks": ""
           },
           "bgcolor": "#E5ECF6",
           "radialaxis": {
            "gridcolor": "white",
            "linecolor": "white",
            "ticks": ""
           }
          },
          "scene": {
           "xaxis": {
            "backgroundcolor": "#E5ECF6",
            "gridcolor": "white",
            "gridwidth": 2,
            "linecolor": "white",
            "showbackground": true,
            "ticks": "",
            "zerolinecolor": "white"
           },
           "yaxis": {
            "backgroundcolor": "#E5ECF6",
            "gridcolor": "white",
            "gridwidth": 2,
            "linecolor": "white",
            "showbackground": true,
            "ticks": "",
            "zerolinecolor": "white"
           },
           "zaxis": {
            "backgroundcolor": "#E5ECF6",
            "gridcolor": "white",
            "gridwidth": 2,
            "linecolor": "white",
            "showbackground": true,
            "ticks": "",
            "zerolinecolor": "white"
           }
          },
          "shapedefaults": {
           "line": {
            "color": "#2a3f5f"
           }
          },
          "ternary": {
           "aaxis": {
            "gridcolor": "white",
            "linecolor": "white",
            "ticks": ""
           },
           "baxis": {
            "gridcolor": "white",
            "linecolor": "white",
            "ticks": ""
           },
           "bgcolor": "#E5ECF6",
           "caxis": {
            "gridcolor": "white",
            "linecolor": "white",
            "ticks": ""
           }
          },
          "title": {
           "x": 0.05
          },
          "xaxis": {
           "automargin": true,
           "gridcolor": "white",
           "linecolor": "white",
           "ticks": "",
           "title": {
            "standoff": 15
           },
           "zerolinecolor": "white",
           "zerolinewidth": 2
          },
          "yaxis": {
           "automargin": true,
           "gridcolor": "white",
           "linecolor": "white",
           "ticks": "",
           "title": {
            "standoff": 15
           },
           "zerolinecolor": "white",
           "zerolinewidth": 2
          }
         }
        },
        "xaxis": {
         "anchor": "y",
         "domain": [
          0,
          1
         ],
         "title": {
          "text": "x"
         }
        },
        "yaxis": {
         "anchor": "x",
         "domain": [
          0,
          1
         ],
         "title": {
          "text": "y"
         }
        }
       }
      },
      "text/html": [
       "<div>                            <div id=\"dceeec01-34f4-4277-a76a-c2ffeb62c8d4\" class=\"plotly-graph-div\" style=\"height:525px; width:100%;\"></div>            <script type=\"text/javascript\">                require([\"plotly\"], function(Plotly) {                    window.PLOTLYENV=window.PLOTLYENV || {};                                    if (document.getElementById(\"dceeec01-34f4-4277-a76a-c2ffeb62c8d4\")) {                    Plotly.newPlot(                        \"dceeec01-34f4-4277-a76a-c2ffeb62c8d4\",                        [{\"hovertemplate\": \"x=%{x}<br>y=%{y}<extra></extra>\", \"legendgroup\": \"\", \"marker\": {\"color\": \"#636efa\", \"symbol\": \"circle\"}, \"mode\": \"markers\", \"name\": \"\", \"orientation\": \"v\", \"showlegend\": false, \"type\": \"scatter\", \"x\": [\"2019-04-10T00:00:00\", \"2019-04-11T00:00:00\", \"2019-04-12T00:00:00\", \"2019-04-15T00:00:00\", \"2019-04-16T00:00:00\", \"2019-04-17T00:00:00\", \"2019-04-18T00:00:00\", \"2019-04-22T00:00:00\", \"2019-04-23T00:00:00\", \"2019-04-24T00:00:00\", \"2019-04-25T00:00:00\", \"2019-04-26T00:00:00\", \"2019-04-29T00:00:00\", \"2019-04-30T00:00:00\", \"2019-05-01T00:00:00\", \"2019-05-02T00:00:00\", \"2019-05-03T00:00:00\", \"2019-05-06T00:00:00\", \"2019-05-07T00:00:00\", \"2019-05-08T00:00:00\", \"2019-05-09T00:00:00\", \"2019-05-10T00:00:00\", \"2019-05-13T00:00:00\", \"2019-05-14T00:00:00\", \"2019-05-15T00:00:00\", \"2019-05-16T00:00:00\", \"2019-05-17T00:00:00\", \"2019-05-20T00:00:00\", \"2019-05-21T00:00:00\", \"2019-05-22T00:00:00\", \"2019-05-23T00:00:00\", \"2019-05-24T00:00:00\", \"2019-05-28T00:00:00\", \"2019-05-29T00:00:00\", \"2019-05-30T00:00:00\", \"2019-05-31T00:00:00\", \"2019-06-03T00:00:00\", \"2019-06-04T00:00:00\", \"2019-06-05T00:00:00\", \"2019-06-06T00:00:00\", \"2019-06-07T00:00:00\", \"2019-06-10T00:00:00\", \"2019-06-11T00:00:00\", \"2019-06-12T00:00:00\", \"2019-06-13T00:00:00\", \"2019-06-14T00:00:00\", \"2019-06-17T00:00:00\", \"2019-06-18T00:00:00\", \"2019-06-19T00:00:00\", \"2019-06-20T00:00:00\", \"2019-06-21T00:00:00\", \"2019-06-24T00:00:00\", \"2019-06-25T00:00:00\", \"2019-06-26T00:00:00\", \"2019-06-27T00:00:00\", \"2019-06-28T00:00:00\", \"2019-07-01T00:00:00\", \"2019-07-02T00:00:00\", \"2019-07-03T00:00:00\", \"2019-07-05T00:00:00\", \"2019-07-08T00:00:00\", \"2019-07-09T00:00:00\", \"2019-07-10T00:00:00\", \"2019-07-11T00:00:00\", \"2019-07-12T00:00:00\", \"2019-07-15T00:00:00\", \"2019-07-16T00:00:00\", \"2019-07-17T00:00:00\", \"2019-07-18T00:00:00\", \"2019-07-19T00:00:00\", \"2019-07-22T00:00:00\", \"2019-07-23T00:00:00\", \"2019-07-24T00:00:00\", \"2019-07-25T00:00:00\", \"2019-07-26T00:00:00\", \"2019-07-29T00:00:00\", \"2019-07-30T00:00:00\", \"2019-07-31T00:00:00\", \"2019-08-01T00:00:00\", \"2019-08-02T00:00:00\", \"2019-08-05T00:00:00\", \"2019-08-06T00:00:00\", \"2019-08-07T00:00:00\", \"2019-08-08T00:00:00\", \"2019-08-09T00:00:00\", \"2019-08-12T00:00:00\", \"2019-08-13T00:00:00\", \"2019-08-14T00:00:00\", \"2019-08-15T00:00:00\", \"2019-08-16T00:00:00\", \"2019-08-19T00:00:00\", \"2019-08-20T00:00:00\", \"2019-08-21T00:00:00\", \"2019-08-22T00:00:00\", \"2019-08-23T00:00:00\", \"2019-08-26T00:00:00\", \"2019-08-27T00:00:00\", \"2019-08-28T00:00:00\", \"2019-08-29T00:00:00\", \"2019-08-30T00:00:00\", \"2019-09-03T00:00:00\", \"2019-09-04T00:00:00\", \"2019-09-05T00:00:00\", \"2019-09-06T00:00:00\", \"2019-09-09T00:00:00\", \"2019-09-10T00:00:00\", \"2019-09-11T00:00:00\", \"2019-09-12T00:00:00\", \"2019-09-13T00:00:00\", \"2019-09-16T00:00:00\", \"2019-09-17T00:00:00\", \"2019-09-18T00:00:00\", \"2019-09-19T00:00:00\", \"2019-09-20T00:00:00\", \"2019-09-23T00:00:00\", \"2019-09-24T00:00:00\", \"2019-09-25T00:00:00\", \"2019-09-26T00:00:00\", \"2019-09-27T00:00:00\", \"2019-09-30T00:00:00\", \"2019-10-01T00:00:00\", \"2019-10-02T00:00:00\", \"2019-10-03T00:00:00\", \"2019-10-04T00:00:00\", \"2019-10-07T00:00:00\", \"2019-10-08T00:00:00\", \"2019-10-09T00:00:00\", \"2019-10-10T00:00:00\", \"2019-10-11T00:00:00\", \"2019-10-14T00:00:00\", \"2019-10-15T00:00:00\", \"2019-10-16T00:00:00\", \"2019-10-17T00:00:00\", \"2019-10-18T00:00:00\", \"2019-10-21T00:00:00\", \"2019-10-22T00:00:00\", \"2019-10-23T00:00:00\", \"2019-10-24T00:00:00\", \"2019-10-25T00:00:00\", \"2019-10-28T00:00:00\", \"2019-10-29T00:00:00\", \"2019-10-30T00:00:00\", \"2019-10-31T00:00:00\", \"2019-11-01T00:00:00\", \"2019-11-04T00:00:00\", \"2019-11-05T00:00:00\", \"2019-11-06T00:00:00\", \"2019-11-07T00:00:00\", \"2019-11-08T00:00:00\", \"2019-11-11T00:00:00\", \"2019-11-12T00:00:00\", \"2019-11-13T00:00:00\", \"2019-11-14T00:00:00\", \"2019-11-15T00:00:00\", \"2019-11-18T00:00:00\", \"2019-11-19T00:00:00\", \"2019-11-20T00:00:00\", \"2019-11-21T00:00:00\", \"2019-11-22T00:00:00\", \"2019-11-25T00:00:00\", \"2019-11-26T00:00:00\", \"2019-11-27T00:00:00\", \"2019-11-29T00:00:00\", \"2019-12-02T00:00:00\", \"2019-12-03T00:00:00\", \"2019-12-04T00:00:00\", \"2019-12-05T00:00:00\", \"2019-12-06T00:00:00\", \"2019-12-09T00:00:00\", \"2019-12-10T00:00:00\", \"2019-12-11T00:00:00\", \"2019-12-12T00:00:00\", \"2019-12-13T00:00:00\", \"2019-12-16T00:00:00\", \"2019-12-17T00:00:00\", \"2019-12-18T00:00:00\", \"2019-12-19T00:00:00\", \"2019-12-20T00:00:00\", \"2019-12-23T00:00:00\", \"2019-12-24T00:00:00\", \"2019-12-26T00:00:00\", \"2019-12-27T00:00:00\", \"2019-12-30T00:00:00\", \"2019-12-31T00:00:00\", \"2020-01-02T00:00:00\", \"2020-01-03T00:00:00\", \"2020-01-06T00:00:00\", \"2020-01-07T00:00:00\", \"2020-01-08T00:00:00\", \"2020-01-09T00:00:00\", \"2020-01-10T00:00:00\", \"2020-01-13T00:00:00\", \"2020-01-14T00:00:00\", \"2020-01-15T00:00:00\", \"2020-01-16T00:00:00\", \"2020-01-17T00:00:00\", \"2020-01-21T00:00:00\", \"2020-01-22T00:00:00\", \"2020-01-23T00:00:00\", \"2020-01-24T00:00:00\", \"2020-01-27T00:00:00\", \"2020-01-28T00:00:00\", \"2020-01-29T00:00:00\", \"2020-01-30T00:00:00\", \"2020-01-31T00:00:00\", \"2020-02-03T00:00:00\", \"2020-02-04T00:00:00\", \"2020-02-05T00:00:00\", \"2020-02-06T00:00:00\", \"2020-02-07T00:00:00\", \"2020-02-10T00:00:00\", \"2020-02-11T00:00:00\", \"2020-02-12T00:00:00\", \"2020-02-13T00:00:00\", \"2020-02-14T00:00:00\", \"2020-02-18T00:00:00\", \"2020-02-19T00:00:00\", \"2020-02-20T00:00:00\", \"2020-02-21T00:00:00\", \"2020-02-24T00:00:00\", \"2020-02-25T00:00:00\", \"2020-02-26T00:00:00\", \"2020-02-27T00:00:00\", \"2020-02-28T00:00:00\", \"2020-03-02T00:00:00\", \"2020-03-03T00:00:00\", \"2020-03-04T00:00:00\", \"2020-03-05T00:00:00\", \"2020-03-06T00:00:00\", \"2020-03-09T00:00:00\", \"2020-03-10T00:00:00\", \"2020-03-11T00:00:00\", \"2020-03-12T00:00:00\", \"2020-03-13T00:00:00\", \"2020-03-16T00:00:00\", \"2020-03-17T00:00:00\", \"2020-03-18T00:00:00\", \"2020-03-19T00:00:00\", \"2020-03-20T00:00:00\", \"2020-03-23T00:00:00\", \"2020-03-24T00:00:00\", \"2020-03-25T00:00:00\", \"2020-03-26T00:00:00\", \"2020-03-27T00:00:00\", \"2020-03-30T00:00:00\", \"2020-03-31T00:00:00\", \"2020-04-01T00:00:00\", \"2020-04-02T00:00:00\", \"2020-04-03T00:00:00\", \"2020-04-06T00:00:00\", \"2020-04-07T00:00:00\", \"2020-04-08T00:00:00\", \"2020-04-09T00:00:00\", \"2020-04-13T00:00:00\", \"2020-04-14T00:00:00\", \"2020-04-15T00:00:00\", \"2020-04-16T00:00:00\", \"2020-04-17T00:00:00\", \"2020-04-20T00:00:00\", \"2020-04-21T00:00:00\", \"2020-04-22T00:00:00\", \"2020-04-23T00:00:00\", \"2020-04-24T00:00:00\", \"2020-04-27T00:00:00\", \"2020-04-28T00:00:00\", \"2020-04-29T00:00:00\", \"2020-04-30T00:00:00\", \"2020-05-01T00:00:00\", \"2020-05-04T00:00:00\", \"2020-05-05T00:00:00\", \"2020-05-06T00:00:00\", \"2020-05-07T00:00:00\", \"2020-05-08T00:00:00\", \"2020-05-11T00:00:00\", \"2020-05-12T00:00:00\", \"2020-05-13T00:00:00\", \"2020-05-14T00:00:00\", \"2020-05-15T00:00:00\", \"2020-05-18T00:00:00\", \"2020-05-19T00:00:00\", \"2020-05-20T00:00:00\", \"2020-05-21T00:00:00\", \"2020-05-22T00:00:00\", \"2020-05-26T00:00:00\", \"2020-05-27T00:00:00\", \"2020-05-28T00:00:00\", \"2020-05-29T00:00:00\", \"2020-06-01T00:00:00\", \"2020-06-02T00:00:00\", \"2020-06-03T00:00:00\", \"2020-06-04T00:00:00\", \"2020-06-05T00:00:00\", \"2020-06-08T00:00:00\", \"2020-06-09T00:00:00\", \"2020-06-10T00:00:00\", \"2020-06-11T00:00:00\", \"2020-06-12T00:00:00\", \"2020-06-15T00:00:00\", \"2020-06-16T00:00:00\", \"2020-06-17T00:00:00\", \"2020-06-18T00:00:00\", \"2020-06-19T00:00:00\", \"2020-06-22T00:00:00\", \"2020-06-23T00:00:00\", \"2020-06-24T00:00:00\", \"2020-06-25T00:00:00\", \"2020-06-26T00:00:00\", \"2020-06-29T00:00:00\", \"2020-06-30T00:00:00\", \"2020-07-01T00:00:00\", \"2020-07-02T00:00:00\", \"2020-07-06T00:00:00\", \"2020-07-07T00:00:00\", \"2020-07-08T00:00:00\", \"2020-07-09T00:00:00\", \"2020-07-10T00:00:00\", \"2020-07-13T00:00:00\", \"2020-07-14T00:00:00\", \"2020-07-15T00:00:00\", \"2020-07-16T00:00:00\", \"2020-07-17T00:00:00\", \"2020-07-20T00:00:00\", \"2020-07-21T00:00:00\", \"2020-07-22T00:00:00\", \"2020-07-23T00:00:00\", \"2020-07-24T00:00:00\", \"2020-07-27T00:00:00\", \"2020-07-28T00:00:00\", \"2020-07-29T00:00:00\", \"2020-07-30T00:00:00\", \"2020-07-31T00:00:00\", \"2020-08-03T00:00:00\", \"2020-08-04T00:00:00\", \"2020-08-05T00:00:00\", \"2020-08-06T00:00:00\", \"2020-08-07T00:00:00\", \"2020-08-10T00:00:00\", \"2020-08-11T00:00:00\", \"2020-08-12T00:00:00\", \"2020-08-13T00:00:00\", \"2020-08-14T00:00:00\", \"2020-08-17T00:00:00\", \"2020-08-18T00:00:00\", \"2020-08-19T00:00:00\", \"2020-08-20T00:00:00\", \"2020-08-21T00:00:00\", \"2020-08-24T00:00:00\", \"2020-08-25T00:00:00\", \"2020-08-26T00:00:00\", \"2020-08-27T00:00:00\", \"2020-08-28T00:00:00\", \"2020-08-31T00:00:00\", \"2020-09-01T00:00:00\", \"2020-09-02T00:00:00\", \"2020-09-03T00:00:00\", \"2020-09-04T00:00:00\", \"2020-09-08T00:00:00\", \"2020-09-09T00:00:00\", \"2020-09-10T00:00:00\", \"2020-09-11T00:00:00\", \"2020-09-14T00:00:00\", \"2020-09-15T00:00:00\", \"2020-09-16T00:00:00\", \"2020-09-17T00:00:00\", \"2020-09-18T00:00:00\", \"2020-09-21T00:00:00\", \"2020-09-22T00:00:00\", \"2020-09-23T00:00:00\", \"2020-09-24T00:00:00\", \"2020-09-25T00:00:00\", \"2020-09-28T00:00:00\", \"2020-09-29T00:00:00\", \"2020-09-30T00:00:00\", \"2020-10-01T00:00:00\", \"2020-10-02T00:00:00\", \"2020-10-05T00:00:00\", \"2020-10-06T00:00:00\", \"2020-10-07T00:00:00\", \"2020-10-08T00:00:00\", \"2020-10-09T00:00:00\", \"2020-10-12T00:00:00\", \"2020-10-13T00:00:00\", \"2020-10-14T00:00:00\", \"2020-10-15T00:00:00\", \"2020-10-16T00:00:00\", \"2020-10-19T00:00:00\", \"2020-10-20T00:00:00\", \"2020-10-21T00:00:00\", \"2020-10-22T00:00:00\", \"2020-10-23T00:00:00\", \"2020-10-26T00:00:00\", \"2020-10-27T00:00:00\", \"2020-10-28T00:00:00\", \"2020-10-29T00:00:00\", \"2020-10-30T00:00:00\", \"2020-11-02T00:00:00\", \"2020-11-03T00:00:00\", \"2020-11-04T00:00:00\", \"2020-11-05T00:00:00\", \"2020-11-06T00:00:00\", \"2020-11-09T00:00:00\", \"2020-11-10T00:00:00\", \"2020-11-11T00:00:00\", \"2020-11-12T00:00:00\", \"2020-11-13T00:00:00\", \"2020-11-16T00:00:00\", \"2020-11-17T00:00:00\", \"2020-11-18T00:00:00\", \"2020-11-19T00:00:00\", \"2020-11-20T00:00:00\", \"2020-11-23T00:00:00\", \"2020-11-24T00:00:00\", \"2020-11-25T00:00:00\", \"2020-11-27T00:00:00\", \"2020-11-30T00:00:00\", \"2020-12-01T00:00:00\", \"2020-12-02T00:00:00\", \"2020-12-03T00:00:00\", \"2020-12-04T00:00:00\", \"2020-12-07T00:00:00\", \"2020-12-08T00:00:00\", \"2020-12-09T00:00:00\", \"2020-12-10T00:00:00\", \"2020-12-11T00:00:00\", \"2020-12-14T00:00:00\", \"2020-12-15T00:00:00\", \"2020-12-16T00:00:00\", \"2020-12-17T00:00:00\", \"2020-12-18T00:00:00\", \"2020-12-21T00:00:00\", \"2020-12-22T00:00:00\", \"2020-12-23T00:00:00\", \"2020-12-24T00:00:00\", \"2020-12-28T00:00:00\", \"2020-12-29T00:00:00\", \"2020-12-30T00:00:00\", \"2020-12-31T00:00:00\", \"2021-01-04T00:00:00\", \"2021-01-05T00:00:00\", \"2021-01-06T00:00:00\", \"2021-01-07T00:00:00\", \"2021-01-08T00:00:00\", \"2021-01-11T00:00:00\", \"2021-01-12T00:00:00\", \"2021-01-13T00:00:00\", \"2021-01-14T00:00:00\", \"2021-01-15T00:00:00\", \"2021-01-19T00:00:00\", \"2021-01-20T00:00:00\", \"2021-01-21T00:00:00\", \"2021-01-22T00:00:00\", \"2021-01-25T00:00:00\", \"2021-01-26T00:00:00\", \"2021-01-27T00:00:00\", \"2021-01-28T00:00:00\", \"2021-01-29T00:00:00\", \"2021-02-01T00:00:00\", \"2021-02-02T00:00:00\", \"2021-02-03T00:00:00\", \"2021-02-04T00:00:00\", \"2021-02-05T00:00:00\", \"2021-02-08T00:00:00\", \"2021-02-09T00:00:00\", \"2021-02-10T00:00:00\", \"2021-02-11T00:00:00\", \"2021-02-12T00:00:00\", \"2021-02-16T00:00:00\", \"2021-02-17T00:00:00\", \"2021-02-18T00:00:00\", \"2021-02-19T00:00:00\", \"2021-02-22T00:00:00\", \"2021-02-23T00:00:00\", \"2021-02-24T00:00:00\", \"2021-02-25T00:00:00\", \"2021-02-26T00:00:00\", \"2021-03-01T00:00:00\", \"2021-03-02T00:00:00\", \"2021-03-03T00:00:00\", \"2021-03-04T00:00:00\", \"2021-03-05T00:00:00\", \"2021-03-08T00:00:00\", \"2021-03-09T00:00:00\", \"2021-03-10T00:00:00\", \"2021-03-11T00:00:00\", \"2021-03-12T00:00:00\", \"2021-03-15T00:00:00\", \"2021-03-16T00:00:00\", \"2021-03-17T00:00:00\", \"2021-03-18T00:00:00\", \"2021-03-19T00:00:00\", \"2021-03-22T00:00:00\", \"2021-03-23T00:00:00\", \"2021-03-24T00:00:00\", \"2021-03-25T00:00:00\", \"2021-03-26T00:00:00\", \"2021-03-29T00:00:00\", \"2021-03-30T00:00:00\", \"2021-03-31T00:00:00\", \"2021-04-01T00:00:00\", \"2021-04-05T00:00:00\", \"2021-04-06T00:00:00\", \"2021-04-07T00:00:00\", \"2021-04-08T00:00:00\", \"2021-04-09T00:00:00\"], \"xaxis\": \"x\", \"y\": [null, null, null, null, null, null, null, null, null, null, null, null, null, null, null, null, null, null, null, null, null, null, null, null, null, null, null, null, null, null, null, null, null, null, null, null, null, null, null, null, null, null, null, null, null, null, null, null, null, null, null, null, null, null, null, null, null, null, null, null, null, null, null, null, null, null, null, null, null, null, null, null, null, null, null, null, null, null, null, null, null, null, null, null, null, null, null, null, null, null, null, null, null, null, null, null, null, null, null, null, null, null, null, null, null, null, null, null, null, null, null, null, null, null, null, null, null, null, null, null, null, null, null, null, null, null, null, null, null, null, null, null, null, null, null, null, null, null, null, null, null, null, null, null, null, null, null, null, null, null, null, null, null, null, null, null, null, null, null, null, null, null, null, null, null, null, null, null, null, null, null, null, null, null, null, null, null, null, null, null, null, null, null, null, null, null, null, null, null, null, null, null, null, null, null, null, null, null, null, null, null, null, null, null, null, null, null, null, null, null, null, null, null, null, null, null, null, null, null, null, null, null, null, null, null, null, null, null, null, null, null, null, null, null, null, null, null, null, null, null, null, null, null, null, null, null, null, null, null, null, null, null, null, null, null, null, null, null, null, null, null, null, null, null, null, null, null, null, null, null, null, null, null, null, null, null, null, null, null, null, null, null, null, null, null, null, null, null, null, null, null, null, null, null, null, null, null, null, null, null, null, null, null, null, null, null, null, null, null, null, null, null, null, null, null, null, null, null, null, null, null, null, null, null, null, null, null, null, null, null, null, null, null, null, null, null, null, null, null, null, null, null, null, null, null, null, null, null, null, null, null, null, null, null, null, null, null, null, null, null, null, null, null, null, null, null, null, null, null, null, null, null, null, null, null, null, null, null, null, null, null, null, null, null, null, null, null, null, null, null, null, null, null, null, null, null, null, null, null, null, null, null, null, null, null, null, null, null, null, null, null, null, null, null, null, null, null, null, null, null, null, null, null, null, null, null, null, null, null, null, null, null, null, null, null, null, null, null, null, null, null, null, null, null, null, null, null, null, null, null, null, null, null, null, null, null, null, null, null, null, null, null, null, null, null, null, null, 8.0, 6.579999923706055, 6.28000020980835, 6.449999809265137, 5.929999828338623, 5.699999809265137, 5.860000133514404, 5.599999904632568, 5.590000152587891, 5.929999828338623, 5.630000114440918, 5.510000228881836, 5.019999980926514, 5.039999961853027, 5.130000114440918, 5.110000133514404, 5.0, 5.050000190734863, 5.670000076293945, 6.230000019073486, 5.550000190734863, 5.5, 5.510000228881836, 5.369999885559082, 5.070000171661377, 5.099999904632568, 4.539999961853027, 4.400000095367432, 4.420000076293945, 4.670000076293945, 4.840000152587891, 4.75, 4.989999771118164, 4.980000019073486, 4.715000152587891, 4.630000114440918, 4.809000015258789], \"yaxis\": \"y\"}],                        {\"legend\": {\"tracegroupgap\": 0}, \"margin\": {\"t\": 60}, \"template\": {\"data\": {\"bar\": [{\"error_x\": {\"color\": \"#2a3f5f\"}, \"error_y\": {\"color\": \"#2a3f5f\"}, \"marker\": {\"line\": {\"color\": \"#E5ECF6\", \"width\": 0.5}}, \"type\": \"bar\"}], \"barpolar\": [{\"marker\": {\"line\": {\"color\": \"#E5ECF6\", \"width\": 0.5}}, \"type\": \"barpolar\"}], \"carpet\": [{\"aaxis\": {\"endlinecolor\": \"#2a3f5f\", \"gridcolor\": \"white\", \"linecolor\": \"white\", \"minorgridcolor\": \"white\", \"startlinecolor\": \"#2a3f5f\"}, \"baxis\": {\"endlinecolor\": \"#2a3f5f\", \"gridcolor\": \"white\", \"linecolor\": \"white\", \"minorgridcolor\": \"white\", \"startlinecolor\": \"#2a3f5f\"}, \"type\": \"carpet\"}], \"choropleth\": [{\"colorbar\": {\"outlinewidth\": 0, \"ticks\": \"\"}, \"type\": \"choropleth\"}], \"contour\": [{\"colorbar\": {\"outlinewidth\": 0, \"ticks\": \"\"}, \"colorscale\": [[0.0, \"#0d0887\"], [0.1111111111111111, \"#46039f\"], [0.2222222222222222, \"#7201a8\"], [0.3333333333333333, \"#9c179e\"], [0.4444444444444444, \"#bd3786\"], [0.5555555555555556, \"#d8576b\"], [0.6666666666666666, \"#ed7953\"], [0.7777777777777778, \"#fb9f3a\"], [0.8888888888888888, \"#fdca26\"], [1.0, \"#f0f921\"]], \"type\": \"contour\"}], \"contourcarpet\": [{\"colorbar\": {\"outlinewidth\": 0, \"ticks\": \"\"}, \"type\": \"contourcarpet\"}], \"heatmap\": [{\"colorbar\": {\"outlinewidth\": 0, \"ticks\": \"\"}, \"colorscale\": [[0.0, \"#0d0887\"], [0.1111111111111111, \"#46039f\"], [0.2222222222222222, \"#7201a8\"], [0.3333333333333333, \"#9c179e\"], [0.4444444444444444, \"#bd3786\"], [0.5555555555555556, \"#d8576b\"], [0.6666666666666666, \"#ed7953\"], [0.7777777777777778, \"#fb9f3a\"], [0.8888888888888888, \"#fdca26\"], [1.0, \"#f0f921\"]], \"type\": \"heatmap\"}], \"heatmapgl\": [{\"colorbar\": {\"outlinewidth\": 0, \"ticks\": \"\"}, \"colorscale\": [[0.0, \"#0d0887\"], [0.1111111111111111, \"#46039f\"], [0.2222222222222222, \"#7201a8\"], [0.3333333333333333, \"#9c179e\"], [0.4444444444444444, \"#bd3786\"], [0.5555555555555556, \"#d8576b\"], [0.6666666666666666, \"#ed7953\"], [0.7777777777777778, \"#fb9f3a\"], [0.8888888888888888, \"#fdca26\"], [1.0, \"#f0f921\"]], \"type\": \"heatmapgl\"}], \"histogram\": [{\"marker\": {\"colorbar\": {\"outlinewidth\": 0, \"ticks\": \"\"}}, \"type\": \"histogram\"}], \"histogram2d\": [{\"colorbar\": {\"outlinewidth\": 0, \"ticks\": \"\"}, \"colorscale\": [[0.0, \"#0d0887\"], [0.1111111111111111, \"#46039f\"], [0.2222222222222222, \"#7201a8\"], [0.3333333333333333, \"#9c179e\"], [0.4444444444444444, \"#bd3786\"], [0.5555555555555556, \"#d8576b\"], [0.6666666666666666, \"#ed7953\"], [0.7777777777777778, \"#fb9f3a\"], [0.8888888888888888, \"#fdca26\"], [1.0, \"#f0f921\"]], \"type\": \"histogram2d\"}], \"histogram2dcontour\": [{\"colorbar\": {\"outlinewidth\": 0, \"ticks\": \"\"}, \"colorscale\": [[0.0, \"#0d0887\"], [0.1111111111111111, \"#46039f\"], [0.2222222222222222, \"#7201a8\"], [0.3333333333333333, \"#9c179e\"], [0.4444444444444444, \"#bd3786\"], [0.5555555555555556, \"#d8576b\"], [0.6666666666666666, \"#ed7953\"], [0.7777777777777778, \"#fb9f3a\"], [0.8888888888888888, \"#fdca26\"], [1.0, \"#f0f921\"]], \"type\": \"histogram2dcontour\"}], \"mesh3d\": [{\"colorbar\": {\"outlinewidth\": 0, \"ticks\": \"\"}, \"type\": \"mesh3d\"}], \"parcoords\": [{\"line\": {\"colorbar\": {\"outlinewidth\": 0, \"ticks\": \"\"}}, \"type\": \"parcoords\"}], \"pie\": [{\"automargin\": true, \"type\": \"pie\"}], \"scatter\": [{\"marker\": {\"colorbar\": {\"outlinewidth\": 0, \"ticks\": \"\"}}, \"type\": \"scatter\"}], \"scatter3d\": [{\"line\": {\"colorbar\": {\"outlinewidth\": 0, \"ticks\": \"\"}}, \"marker\": {\"colorbar\": {\"outlinewidth\": 0, \"ticks\": \"\"}}, \"type\": \"scatter3d\"}], \"scattercarpet\": [{\"marker\": {\"colorbar\": {\"outlinewidth\": 0, \"ticks\": \"\"}}, \"type\": \"scattercarpet\"}], \"scattergeo\": [{\"marker\": {\"colorbar\": {\"outlinewidth\": 0, \"ticks\": \"\"}}, \"type\": \"scattergeo\"}], \"scattergl\": [{\"marker\": {\"colorbar\": {\"outlinewidth\": 0, \"ticks\": \"\"}}, \"type\": \"scattergl\"}], \"scattermapbox\": [{\"marker\": {\"colorbar\": {\"outlinewidth\": 0, \"ticks\": \"\"}}, \"type\": \"scattermapbox\"}], \"scatterpolar\": [{\"marker\": {\"colorbar\": {\"outlinewidth\": 0, \"ticks\": \"\"}}, \"type\": \"scatterpolar\"}], \"scatterpolargl\": [{\"marker\": {\"colorbar\": {\"outlinewidth\": 0, \"ticks\": \"\"}}, \"type\": \"scatterpolargl\"}], \"scatterternary\": [{\"marker\": {\"colorbar\": {\"outlinewidth\": 0, \"ticks\": \"\"}}, \"type\": \"scatterternary\"}], \"surface\": [{\"colorbar\": {\"outlinewidth\": 0, \"ticks\": \"\"}, \"colorscale\": [[0.0, \"#0d0887\"], [0.1111111111111111, \"#46039f\"], [0.2222222222222222, \"#7201a8\"], [0.3333333333333333, \"#9c179e\"], [0.4444444444444444, \"#bd3786\"], [0.5555555555555556, \"#d8576b\"], [0.6666666666666666, \"#ed7953\"], [0.7777777777777778, \"#fb9f3a\"], [0.8888888888888888, \"#fdca26\"], [1.0, \"#f0f921\"]], \"type\": \"surface\"}], \"table\": [{\"cells\": {\"fill\": {\"color\": \"#EBF0F8\"}, \"line\": {\"color\": \"white\"}}, \"header\": {\"fill\": {\"color\": \"#C8D4E3\"}, \"line\": {\"color\": \"white\"}}, \"type\": \"table\"}]}, \"layout\": {\"annotationdefaults\": {\"arrowcolor\": \"#2a3f5f\", \"arrowhead\": 0, \"arrowwidth\": 1}, \"autotypenumbers\": \"strict\", \"coloraxis\": {\"colorbar\": {\"outlinewidth\": 0, \"ticks\": \"\"}}, \"colorscale\": {\"diverging\": [[0, \"#8e0152\"], [0.1, \"#c51b7d\"], [0.2, \"#de77ae\"], [0.3, \"#f1b6da\"], [0.4, \"#fde0ef\"], [0.5, \"#f7f7f7\"], [0.6, \"#e6f5d0\"], [0.7, \"#b8e186\"], [0.8, \"#7fbc41\"], [0.9, \"#4d9221\"], [1, \"#276419\"]], \"sequential\": [[0.0, \"#0d0887\"], [0.1111111111111111, \"#46039f\"], [0.2222222222222222, \"#7201a8\"], [0.3333333333333333, \"#9c179e\"], [0.4444444444444444, \"#bd3786\"], [0.5555555555555556, \"#d8576b\"], [0.6666666666666666, \"#ed7953\"], [0.7777777777777778, \"#fb9f3a\"], [0.8888888888888888, \"#fdca26\"], [1.0, \"#f0f921\"]], \"sequentialminus\": [[0.0, \"#0d0887\"], [0.1111111111111111, \"#46039f\"], [0.2222222222222222, \"#7201a8\"], [0.3333333333333333, \"#9c179e\"], [0.4444444444444444, \"#bd3786\"], [0.5555555555555556, \"#d8576b\"], [0.6666666666666666, \"#ed7953\"], [0.7777777777777778, \"#fb9f3a\"], [0.8888888888888888, \"#fdca26\"], [1.0, \"#f0f921\"]]}, \"colorway\": [\"#636efa\", \"#EF553B\", \"#00cc96\", \"#ab63fa\", \"#FFA15A\", \"#19d3f3\", \"#FF6692\", \"#B6E880\", \"#FF97FF\", \"#FECB52\"], \"font\": {\"color\": \"#2a3f5f\"}, \"geo\": {\"bgcolor\": \"white\", \"lakecolor\": \"white\", \"landcolor\": \"#E5ECF6\", \"showlakes\": true, \"showland\": true, \"subunitcolor\": \"white\"}, \"hoverlabel\": {\"align\": \"left\"}, \"hovermode\": \"closest\", \"mapbox\": {\"style\": \"light\"}, \"paper_bgcolor\": \"white\", \"plot_bgcolor\": \"#E5ECF6\", \"polar\": {\"angularaxis\": {\"gridcolor\": \"white\", \"linecolor\": \"white\", \"ticks\": \"\"}, \"bgcolor\": \"#E5ECF6\", \"radialaxis\": {\"gridcolor\": \"white\", \"linecolor\": \"white\", \"ticks\": \"\"}}, \"scene\": {\"xaxis\": {\"backgroundcolor\": \"#E5ECF6\", \"gridcolor\": \"white\", \"gridwidth\": 2, \"linecolor\": \"white\", \"showbackground\": true, \"ticks\": \"\", \"zerolinecolor\": \"white\"}, \"yaxis\": {\"backgroundcolor\": \"#E5ECF6\", \"gridcolor\": \"white\", \"gridwidth\": 2, \"linecolor\": \"white\", \"showbackground\": true, \"ticks\": \"\", \"zerolinecolor\": \"white\"}, \"zaxis\": {\"backgroundcolor\": \"#E5ECF6\", \"gridcolor\": \"white\", \"gridwidth\": 2, \"linecolor\": \"white\", \"showbackground\": true, \"ticks\": \"\", \"zerolinecolor\": \"white\"}}, \"shapedefaults\": {\"line\": {\"color\": \"#2a3f5f\"}}, \"ternary\": {\"aaxis\": {\"gridcolor\": \"white\", \"linecolor\": \"white\", \"ticks\": \"\"}, \"baxis\": {\"gridcolor\": \"white\", \"linecolor\": \"white\", \"ticks\": \"\"}, \"bgcolor\": \"#E5ECF6\", \"caxis\": {\"gridcolor\": \"white\", \"linecolor\": \"white\", \"ticks\": \"\"}}, \"title\": {\"x\": 0.05}, \"xaxis\": {\"automargin\": true, \"gridcolor\": \"white\", \"linecolor\": \"white\", \"ticks\": \"\", \"title\": {\"standoff\": 15}, \"zerolinecolor\": \"white\", \"zerolinewidth\": 2}, \"yaxis\": {\"automargin\": true, \"gridcolor\": \"white\", \"linecolor\": \"white\", \"ticks\": \"\", \"title\": {\"standoff\": 15}, \"zerolinecolor\": \"white\", \"zerolinewidth\": 2}}}, \"xaxis\": {\"anchor\": \"y\", \"domain\": [0.0, 1.0], \"title\": {\"text\": \"x\"}}, \"yaxis\": {\"anchor\": \"x\", \"domain\": [0.0, 1.0], \"title\": {\"text\": \"y\"}}},                        {\"responsive\": true}                    ).then(function(){\n",
       "                            \n",
       "var gd = document.getElementById('dceeec01-34f4-4277-a76a-c2ffeb62c8d4');\n",
       "var x = new MutationObserver(function (mutations, observer) {{\n",
       "        var display = window.getComputedStyle(gd).display;\n",
       "        if (!display || display === 'none') {{\n",
       "            console.log([gd, 'removed!']);\n",
       "            Plotly.purge(gd);\n",
       "            observer.disconnect();\n",
       "        }}\n",
       "}});\n",
       "\n",
       "// Listen for the removal of the full notebook cells\n",
       "var notebookContainer = gd.closest('#notebook-container');\n",
       "if (notebookContainer) {{\n",
       "    x.observe(notebookContainer, {childList: true});\n",
       "}}\n",
       "\n",
       "// Listen for the clearing of the current output cell\n",
       "var outputEl = gd.closest('.output');\n",
       "if (outputEl) {{\n",
       "    x.observe(outputEl, {childList: true});\n",
       "}}\n",
       "\n",
       "                        })                };                });            </script>        </div>"
      ]
     },
     "metadata": {},
     "output_type": "display_data"
    }
   ],
   "source": [
    "fig = px.scatter(x=vrpx[\"Date\"], y=vrpx[\"Open\"])\n",
    "fig.show()"
   ]
  },
  {
   "cell_type": "code",
   "execution_count": null,
   "metadata": {},
   "outputs": [],
   "source": []
  }
 ],
 "metadata": {
  "kernelspec": {
   "name": "python383jvsc74a57bd0dca0ade3e726a953b501b15e8e990130d2b7799f14cfd9f4271676035ebe5511",
   "display_name": "Python 3.8.3 64-bit ('base': conda)"
  },
  "language_info": {
   "codemirror_mode": {
    "name": "ipython",
    "version": 3
   },
   "file_extension": ".py",
   "mimetype": "text/x-python",
   "name": "python",
   "nbconvert_exporter": "python",
   "pygments_lexer": "ipython3",
   "version": "3.8.3"
  }
 },
 "nbformat": 4,
 "nbformat_minor": 4
}